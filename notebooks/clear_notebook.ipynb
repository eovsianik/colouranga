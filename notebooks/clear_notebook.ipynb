{
 "cells": [
  {
   "cell_type": "code",
   "execution_count": null,
   "metadata": {},
   "outputs": [],
   "source": [
    "import json"
   ]
  },
  {
   "cell_type": "code",
   "execution_count": null,
   "metadata": {},
   "outputs": [],
   "source": [
    "from matplotlib.ticker import FuncFormatter"
   ]
  },
  {
   "cell_type": "code",
   "execution_count": 3,
   "metadata": {},
   "outputs": [],
   "source": [
    "import matplotlib.pyplot as plt"
   ]
  },
  {
   "cell_type": "code",
   "execution_count": 4,
   "metadata": {},
   "outputs": [],
   "source": [
    "%load_ext autoreload\n",
    "%autoreload 2"
   ]
  },
  {
   "cell_type": "code",
   "execution_count": 5,
   "metadata": {},
   "outputs": [],
   "source": [
    "import networkx as nx\n",
    "import os\n",
    "import time\n",
    "from dataclasses import dataclass\n",
    "from pathlib import Path\n",
    "\n",
    "import matplotlib.pyplot as plt\n",
    "import numpy as np\n",
    "import seaborn as sns\n",
    "import torch\n",
    "from libs.lizi.my_magi import MyMagiModel\n",
    "from libs.lizi.my_magi.config import MagiConfig\n",
    "from libs.lizi.my_magi.utils import UnionFind\n",
    "from libs.lizi.my_magi.utils import read_image_as_np_array as read_image\n",
    "from numpy.typing import NDArray\n",
    "from PIL import Image\n",
    "from rich.pretty import pprint as pp\n",
    "from torchmetrics.functional.pairwise import pairwise_cosine_similarity\n",
    "from transformers.modeling_utils import load_state_dict"
   ]
  },
  {
   "cell_type": "code",
   "execution_count": 14,
   "metadata": {},
   "outputs": [
    {
     "data": {
      "text/plain": [
       "22"
      ]
     },
     "execution_count": 14,
     "metadata": {},
     "output_type": "execute_result"
    }
   ],
   "source": [
    "import gc\n",
    "\n",
    "torch.cuda.empty_cache()\n",
    "gc.collect()"
   ]
  },
  {
   "cell_type": "code",
   "execution_count": 15,
   "metadata": {},
   "outputs": [],
   "source": [
    "from sklearn.cluster import HDBSCAN, AgglomerativeClustering"
   ]
  },
  {
   "cell_type": "code",
   "execution_count": 16,
   "metadata": {},
   "outputs": [
    {
     "data": {
      "text/plain": [
       "True"
      ]
     },
     "execution_count": 16,
     "metadata": {},
     "output_type": "execute_result"
    }
   ],
   "source": [
    "torch.cuda.is_available()"
   ]
  },
  {
   "cell_type": "markdown",
   "metadata": {},
   "source": [
    "### Uploading images"
   ]
  },
  {
   "cell_type": "code",
   "execution_count": null,
   "metadata": {},
   "outputs": [],
   "source": [
    "# Путь к файлу, куда вы хотите сохранить пустой JSON файл\n",
    "file_path_json = 'data/json_files/Bleach/Vol74_Ch685.json'"
   ]
  },
  {
   "cell_type": "code",
   "execution_count": 178,
   "metadata": {},
   "outputs": [],
   "source": [
    "directory_path = \"data/masi_mangas/Oshi no Ko/[Ai's fanclub] Vol. 7 Ch. 65\""
   ]
  },
  {
   "cell_type": "code",
   "execution_count": 179,
   "metadata": {},
   "outputs": [],
   "source": [
    "images_bw = []\n",
    "images_color = []"
   ]
  },
  {
   "cell_type": "code",
   "execution_count": 616,
   "metadata": {},
   "outputs": [],
   "source": [
    "@dataclass\n",
    "class ImageInfo:\n",
    "    image: np.ndarray\n",
    "    full_file_name: str\n",
    "    \n",
    "    def get_image_array(self):\n",
    "        return self.image"
   ]
  },
  {
   "cell_type": "code",
   "execution_count": 180,
   "metadata": {},
   "outputs": [],
   "source": [
    "# Заглушка для чтания файлов из папки с целой главой\n",
    "for filename in os.listdir(directory_path):\n",
    "    if filename.endswith(\"_bw.png\"):\n",
    "        full_path = os.path.join(directory_path, filename)\n",
    "        try:\n",
    "            img = np.asarray(Image.open(full_path).convert(\"RGB\"))\n",
    "            images_bw.append(ImageInfo(image=img, full_file_name=full_path))\n",
    "        except Exception as e:\n",
    "            print(f\"Ошибка при открытии {full_path}: {e}\")\n",
    "    elif filename.endswith(\"_color.png\"):\n",
    "        full_path = os.path.join(directory_path, filename)\n",
    "        try:\n",
    "            img = np.asarray(Image.open(full_path).convert(\"RGB\"))\n",
    "            images_color.append(ImageInfo(image=img, full_file_name=full_path))\n",
    "        except Exception as e:\n",
    "            print(f\"Ошибка при открытии {full_path}: {e}\")"
   ]
  },
  {
   "cell_type": "markdown",
   "metadata": {},
   "source": [
    "### Model initialization"
   ]
  },
  {
   "cell_type": "markdown",
   "metadata": {},
   "source": [
    "Загружаем pre-train веса из файла в dict"
   ]
  },
  {
   "cell_type": "code",
   "execution_count": 625,
   "metadata": {},
   "outputs": [
    {
     "data": {
      "text/plain": [
       "dict_keys(['ocr_model.encoder.embeddings.cls_token', 'ocr_model.encoder.embeddings.position_embeddings', 'ocr_model.encoder.embeddings.patch_embeddings.projection.weight', 'ocr_model.encoder.embeddings.patch_embeddings.projection.bias', 'ocr_model.encoder.encoder.layer.0.attention.attention.query.weight', 'ocr_model.encoder.encoder.layer.0.attention.attention.key.weight', 'ocr_model.encoder.encoder.layer.0.attention.attention.value.weight', 'ocr_model.encoder.encoder.layer.0.attention.output.dense.weight', 'ocr_model.encoder.encoder.layer.0.attention.output.dense.bias', 'ocr_model.encoder.encoder.layer.0.intermediate.dense.weight', 'ocr_model.encoder.encoder.layer.0.intermediate.dense.bias', 'ocr_model.encoder.encoder.layer.0.output.dense.weight', 'ocr_model.encoder.encoder.layer.0.output.dense.bias', 'ocr_model.encoder.encoder.layer.0.layernorm_before.weight', 'ocr_model.encoder.encoder.layer.0.layernorm_before.bias', 'ocr_model.encoder.encoder.layer.0.layernorm_after.weight', 'ocr_model.encoder.encoder.layer.0.layernorm_after.bias', 'ocr_model.encoder.encoder.layer.1.attention.attention.query.weight', 'ocr_model.encoder.encoder.layer.1.attention.attention.key.weight', 'ocr_model.encoder.encoder.layer.1.attention.attention.value.weight', 'ocr_model.encoder.encoder.layer.1.attention.output.dense.weight', 'ocr_model.encoder.encoder.layer.1.attention.output.dense.bias', 'ocr_model.encoder.encoder.layer.1.intermediate.dense.weight', 'ocr_model.encoder.encoder.layer.1.intermediate.dense.bias', 'ocr_model.encoder.encoder.layer.1.output.dense.weight', 'ocr_model.encoder.encoder.layer.1.output.dense.bias', 'ocr_model.encoder.encoder.layer.1.layernorm_before.weight', 'ocr_model.encoder.encoder.layer.1.layernorm_before.bias', 'ocr_model.encoder.encoder.layer.1.layernorm_after.weight', 'ocr_model.encoder.encoder.layer.1.layernorm_after.bias', 'ocr_model.encoder.encoder.layer.2.attention.attention.query.weight', 'ocr_model.encoder.encoder.layer.2.attention.attention.key.weight', 'ocr_model.encoder.encoder.layer.2.attention.attention.value.weight', 'ocr_model.encoder.encoder.layer.2.attention.output.dense.weight', 'ocr_model.encoder.encoder.layer.2.attention.output.dense.bias', 'ocr_model.encoder.encoder.layer.2.intermediate.dense.weight', 'ocr_model.encoder.encoder.layer.2.intermediate.dense.bias', 'ocr_model.encoder.encoder.layer.2.output.dense.weight', 'ocr_model.encoder.encoder.layer.2.output.dense.bias', 'ocr_model.encoder.encoder.layer.2.layernorm_before.weight', 'ocr_model.encoder.encoder.layer.2.layernorm_before.bias', 'ocr_model.encoder.encoder.layer.2.layernorm_after.weight', 'ocr_model.encoder.encoder.layer.2.layernorm_after.bias', 'ocr_model.encoder.encoder.layer.3.attention.attention.query.weight', 'ocr_model.encoder.encoder.layer.3.attention.attention.key.weight', 'ocr_model.encoder.encoder.layer.3.attention.attention.value.weight', 'ocr_model.encoder.encoder.layer.3.attention.output.dense.weight', 'ocr_model.encoder.encoder.layer.3.attention.output.dense.bias', 'ocr_model.encoder.encoder.layer.3.intermediate.dense.weight', 'ocr_model.encoder.encoder.layer.3.intermediate.dense.bias', 'ocr_model.encoder.encoder.layer.3.output.dense.weight', 'ocr_model.encoder.encoder.layer.3.output.dense.bias', 'ocr_model.encoder.encoder.layer.3.layernorm_before.weight', 'ocr_model.encoder.encoder.layer.3.layernorm_before.bias', 'ocr_model.encoder.encoder.layer.3.layernorm_after.weight', 'ocr_model.encoder.encoder.layer.3.layernorm_after.bias', 'ocr_model.encoder.encoder.layer.4.attention.attention.query.weight', 'ocr_model.encoder.encoder.layer.4.attention.attention.key.weight', 'ocr_model.encoder.encoder.layer.4.attention.attention.value.weight', 'ocr_model.encoder.encoder.layer.4.attention.output.dense.weight', 'ocr_model.encoder.encoder.layer.4.attention.output.dense.bias', 'ocr_model.encoder.encoder.layer.4.intermediate.dense.weight', 'ocr_model.encoder.encoder.layer.4.intermediate.dense.bias', 'ocr_model.encoder.encoder.layer.4.output.dense.weight', 'ocr_model.encoder.encoder.layer.4.output.dense.bias', 'ocr_model.encoder.encoder.layer.4.layernorm_before.weight', 'ocr_model.encoder.encoder.layer.4.layernorm_before.bias', 'ocr_model.encoder.encoder.layer.4.layernorm_after.weight', 'ocr_model.encoder.encoder.layer.4.layernorm_after.bias', 'ocr_model.encoder.encoder.layer.5.attention.attention.query.weight', 'ocr_model.encoder.encoder.layer.5.attention.attention.key.weight', 'ocr_model.encoder.encoder.layer.5.attention.attention.value.weight', 'ocr_model.encoder.encoder.layer.5.attention.output.dense.weight', 'ocr_model.encoder.encoder.layer.5.attention.output.dense.bias', 'ocr_model.encoder.encoder.layer.5.intermediate.dense.weight', 'ocr_model.encoder.encoder.layer.5.intermediate.dense.bias', 'ocr_model.encoder.encoder.layer.5.output.dense.weight', 'ocr_model.encoder.encoder.layer.5.output.dense.bias', 'ocr_model.encoder.encoder.layer.5.layernorm_before.weight', 'ocr_model.encoder.encoder.layer.5.layernorm_before.bias', 'ocr_model.encoder.encoder.layer.5.layernorm_after.weight', 'ocr_model.encoder.encoder.layer.5.layernorm_after.bias', 'ocr_model.encoder.encoder.layer.6.attention.attention.query.weight', 'ocr_model.encoder.encoder.layer.6.attention.attention.key.weight', 'ocr_model.encoder.encoder.layer.6.attention.attention.value.weight', 'ocr_model.encoder.encoder.layer.6.attention.output.dense.weight', 'ocr_model.encoder.encoder.layer.6.attention.output.dense.bias', 'ocr_model.encoder.encoder.layer.6.intermediate.dense.weight', 'ocr_model.encoder.encoder.layer.6.intermediate.dense.bias', 'ocr_model.encoder.encoder.layer.6.output.dense.weight', 'ocr_model.encoder.encoder.layer.6.output.dense.bias', 'ocr_model.encoder.encoder.layer.6.layernorm_before.weight', 'ocr_model.encoder.encoder.layer.6.layernorm_before.bias', 'ocr_model.encoder.encoder.layer.6.layernorm_after.weight', 'ocr_model.encoder.encoder.layer.6.layernorm_after.bias', 'ocr_model.encoder.encoder.layer.7.attention.attention.query.weight', 'ocr_model.encoder.encoder.layer.7.attention.attention.key.weight', 'ocr_model.encoder.encoder.layer.7.attention.attention.value.weight', 'ocr_model.encoder.encoder.layer.7.attention.output.dense.weight', 'ocr_model.encoder.encoder.layer.7.attention.output.dense.bias', 'ocr_model.encoder.encoder.layer.7.intermediate.dense.weight', 'ocr_model.encoder.encoder.layer.7.intermediate.dense.bias', 'ocr_model.encoder.encoder.layer.7.output.dense.weight', 'ocr_model.encoder.encoder.layer.7.output.dense.bias', 'ocr_model.encoder.encoder.layer.7.layernorm_before.weight', 'ocr_model.encoder.encoder.layer.7.layernorm_before.bias', 'ocr_model.encoder.encoder.layer.7.layernorm_after.weight', 'ocr_model.encoder.encoder.layer.7.layernorm_after.bias', 'ocr_model.encoder.encoder.layer.8.attention.attention.query.weight', 'ocr_model.encoder.encoder.layer.8.attention.attention.key.weight', 'ocr_model.encoder.encoder.layer.8.attention.attention.value.weight', 'ocr_model.encoder.encoder.layer.8.attention.output.dense.weight', 'ocr_model.encoder.encoder.layer.8.attention.output.dense.bias', 'ocr_model.encoder.encoder.layer.8.intermediate.dense.weight', 'ocr_model.encoder.encoder.layer.8.intermediate.dense.bias', 'ocr_model.encoder.encoder.layer.8.output.dense.weight', 'ocr_model.encoder.encoder.layer.8.output.dense.bias', 'ocr_model.encoder.encoder.layer.8.layernorm_before.weight', 'ocr_model.encoder.encoder.layer.8.layernorm_before.bias', 'ocr_model.encoder.encoder.layer.8.layernorm_after.weight', 'ocr_model.encoder.encoder.layer.8.layernorm_after.bias', 'ocr_model.encoder.encoder.layer.9.attention.attention.query.weight', 'ocr_model.encoder.encoder.layer.9.attention.attention.key.weight', 'ocr_model.encoder.encoder.layer.9.attention.attention.value.weight', 'ocr_model.encoder.encoder.layer.9.attention.output.dense.weight', 'ocr_model.encoder.encoder.layer.9.attention.output.dense.bias', 'ocr_model.encoder.encoder.layer.9.intermediate.dense.weight', 'ocr_model.encoder.encoder.layer.9.intermediate.dense.bias', 'ocr_model.encoder.encoder.layer.9.output.dense.weight', 'ocr_model.encoder.encoder.layer.9.output.dense.bias', 'ocr_model.encoder.encoder.layer.9.layernorm_before.weight', 'ocr_model.encoder.encoder.layer.9.layernorm_before.bias', 'ocr_model.encoder.encoder.layer.9.layernorm_after.weight', 'ocr_model.encoder.encoder.layer.9.layernorm_after.bias', 'ocr_model.encoder.encoder.layer.10.attention.attention.query.weight', 'ocr_model.encoder.encoder.layer.10.attention.attention.key.weight', 'ocr_model.encoder.encoder.layer.10.attention.attention.value.weight', 'ocr_model.encoder.encoder.layer.10.attention.output.dense.weight', 'ocr_model.encoder.encoder.layer.10.attention.output.dense.bias', 'ocr_model.encoder.encoder.layer.10.intermediate.dense.weight', 'ocr_model.encoder.encoder.layer.10.intermediate.dense.bias', 'ocr_model.encoder.encoder.layer.10.output.dense.weight', 'ocr_model.encoder.encoder.layer.10.output.dense.bias', 'ocr_model.encoder.encoder.layer.10.layernorm_before.weight', 'ocr_model.encoder.encoder.layer.10.layernorm_before.bias', 'ocr_model.encoder.encoder.layer.10.layernorm_after.weight', 'ocr_model.encoder.encoder.layer.10.layernorm_after.bias', 'ocr_model.encoder.encoder.layer.11.attention.attention.query.weight', 'ocr_model.encoder.encoder.layer.11.attention.attention.key.weight', 'ocr_model.encoder.encoder.layer.11.attention.attention.value.weight', 'ocr_model.encoder.encoder.layer.11.attention.output.dense.weight', 'ocr_model.encoder.encoder.layer.11.attention.output.dense.bias', 'ocr_model.encoder.encoder.layer.11.intermediate.dense.weight', 'ocr_model.encoder.encoder.layer.11.intermediate.dense.bias', 'ocr_model.encoder.encoder.layer.11.output.dense.weight', 'ocr_model.encoder.encoder.layer.11.output.dense.bias', 'ocr_model.encoder.encoder.layer.11.layernorm_before.weight', 'ocr_model.encoder.encoder.layer.11.layernorm_before.bias', 'ocr_model.encoder.encoder.layer.11.layernorm_after.weight', 'ocr_model.encoder.encoder.layer.11.layernorm_after.bias', 'ocr_model.encoder.layernorm.weight', 'ocr_model.encoder.layernorm.bias', 'ocr_model.encoder.pooler.dense.weight', 'ocr_model.encoder.pooler.dense.bias', 'ocr_model.decoder.model.decoder.embed_tokens.weight', 'ocr_model.decoder.model.decoder.embed_positions.weight', 'ocr_model.decoder.model.decoder.layernorm_embedding.weight', 'ocr_model.decoder.model.decoder.layernorm_embedding.bias', 'ocr_model.decoder.model.decoder.layers.0.self_attn.k_proj.weight', 'ocr_model.decoder.model.decoder.layers.0.self_attn.k_proj.bias', 'ocr_model.decoder.model.decoder.layers.0.self_attn.v_proj.weight', 'ocr_model.decoder.model.decoder.layers.0.self_attn.v_proj.bias', 'ocr_model.decoder.model.decoder.layers.0.self_attn.q_proj.weight', 'ocr_model.decoder.model.decoder.layers.0.self_attn.q_proj.bias', 'ocr_model.decoder.model.decoder.layers.0.self_attn.out_proj.weight', 'ocr_model.decoder.model.decoder.layers.0.self_attn.out_proj.bias', 'ocr_model.decoder.model.decoder.layers.0.self_attn_layer_norm.weight', 'ocr_model.decoder.model.decoder.layers.0.self_attn_layer_norm.bias', 'ocr_model.decoder.model.decoder.layers.0.encoder_attn.k_proj.weight', 'ocr_model.decoder.model.decoder.layers.0.encoder_attn.k_proj.bias', 'ocr_model.decoder.model.decoder.layers.0.encoder_attn.v_proj.weight', 'ocr_model.decoder.model.decoder.layers.0.encoder_attn.v_proj.bias', 'ocr_model.decoder.model.decoder.layers.0.encoder_attn.q_proj.weight', 'ocr_model.decoder.model.decoder.layers.0.encoder_attn.q_proj.bias', 'ocr_model.decoder.model.decoder.layers.0.encoder_attn.out_proj.weight', 'ocr_model.decoder.model.decoder.layers.0.encoder_attn.out_proj.bias', 'ocr_model.decoder.model.decoder.layers.0.encoder_attn_layer_norm.weight', 'ocr_model.decoder.model.decoder.layers.0.encoder_attn_layer_norm.bias', 'ocr_model.decoder.model.decoder.layers.0.fc1.weight', 'ocr_model.decoder.model.decoder.layers.0.fc1.bias', 'ocr_model.decoder.model.decoder.layers.0.fc2.weight', 'ocr_model.decoder.model.decoder.layers.0.fc2.bias', 'ocr_model.decoder.model.decoder.layers.0.final_layer_norm.weight', 'ocr_model.decoder.model.decoder.layers.0.final_layer_norm.bias', 'ocr_model.decoder.model.decoder.layers.1.self_attn.k_proj.weight', 'ocr_model.decoder.model.decoder.layers.1.self_attn.k_proj.bias', 'ocr_model.decoder.model.decoder.layers.1.self_attn.v_proj.weight', 'ocr_model.decoder.model.decoder.layers.1.self_attn.v_proj.bias', 'ocr_model.decoder.model.decoder.layers.1.self_attn.q_proj.weight', 'ocr_model.decoder.model.decoder.layers.1.self_attn.q_proj.bias', 'ocr_model.decoder.model.decoder.layers.1.self_attn.out_proj.weight', 'ocr_model.decoder.model.decoder.layers.1.self_attn.out_proj.bias', 'ocr_model.decoder.model.decoder.layers.1.self_attn_layer_norm.weight', 'ocr_model.decoder.model.decoder.layers.1.self_attn_layer_norm.bias', 'ocr_model.decoder.model.decoder.layers.1.encoder_attn.k_proj.weight', 'ocr_model.decoder.model.decoder.layers.1.encoder_attn.k_proj.bias', 'ocr_model.decoder.model.decoder.layers.1.encoder_attn.v_proj.weight', 'ocr_model.decoder.model.decoder.layers.1.encoder_attn.v_proj.bias', 'ocr_model.decoder.model.decoder.layers.1.encoder_attn.q_proj.weight', 'ocr_model.decoder.model.decoder.layers.1.encoder_attn.q_proj.bias', 'ocr_model.decoder.model.decoder.layers.1.encoder_attn.out_proj.weight', 'ocr_model.decoder.model.decoder.layers.1.encoder_attn.out_proj.bias', 'ocr_model.decoder.model.decoder.layers.1.encoder_attn_layer_norm.weight', 'ocr_model.decoder.model.decoder.layers.1.encoder_attn_layer_norm.bias', 'ocr_model.decoder.model.decoder.layers.1.fc1.weight', 'ocr_model.decoder.model.decoder.layers.1.fc1.bias', 'ocr_model.decoder.model.decoder.layers.1.fc2.weight', 'ocr_model.decoder.model.decoder.layers.1.fc2.bias', 'ocr_model.decoder.model.decoder.layers.1.final_layer_norm.weight', 'ocr_model.decoder.model.decoder.layers.1.final_layer_norm.bias', 'ocr_model.decoder.model.decoder.layers.2.self_attn.k_proj.weight', 'ocr_model.decoder.model.decoder.layers.2.self_attn.k_proj.bias', 'ocr_model.decoder.model.decoder.layers.2.self_attn.v_proj.weight', 'ocr_model.decoder.model.decoder.layers.2.self_attn.v_proj.bias', 'ocr_model.decoder.model.decoder.layers.2.self_attn.q_proj.weight', 'ocr_model.decoder.model.decoder.layers.2.self_attn.q_proj.bias', 'ocr_model.decoder.model.decoder.layers.2.self_attn.out_proj.weight', 'ocr_model.decoder.model.decoder.layers.2.self_attn.out_proj.bias', 'ocr_model.decoder.model.decoder.layers.2.self_attn_layer_norm.weight', 'ocr_model.decoder.model.decoder.layers.2.self_attn_layer_norm.bias', 'ocr_model.decoder.model.decoder.layers.2.encoder_attn.k_proj.weight', 'ocr_model.decoder.model.decoder.layers.2.encoder_attn.k_proj.bias', 'ocr_model.decoder.model.decoder.layers.2.encoder_attn.v_proj.weight', 'ocr_model.decoder.model.decoder.layers.2.encoder_attn.v_proj.bias', 'ocr_model.decoder.model.decoder.layers.2.encoder_attn.q_proj.weight', 'ocr_model.decoder.model.decoder.layers.2.encoder_attn.q_proj.bias', 'ocr_model.decoder.model.decoder.layers.2.encoder_attn.out_proj.weight', 'ocr_model.decoder.model.decoder.layers.2.encoder_attn.out_proj.bias', 'ocr_model.decoder.model.decoder.layers.2.encoder_attn_layer_norm.weight', 'ocr_model.decoder.model.decoder.layers.2.encoder_attn_layer_norm.bias', 'ocr_model.decoder.model.decoder.layers.2.fc1.weight', 'ocr_model.decoder.model.decoder.layers.2.fc1.bias', 'ocr_model.decoder.model.decoder.layers.2.fc2.weight', 'ocr_model.decoder.model.decoder.layers.2.fc2.bias', 'ocr_model.decoder.model.decoder.layers.2.final_layer_norm.weight', 'ocr_model.decoder.model.decoder.layers.2.final_layer_norm.bias', 'ocr_model.decoder.model.decoder.layers.3.self_attn.k_proj.weight', 'ocr_model.decoder.model.decoder.layers.3.self_attn.k_proj.bias', 'ocr_model.decoder.model.decoder.layers.3.self_attn.v_proj.weight', 'ocr_model.decoder.model.decoder.layers.3.self_attn.v_proj.bias', 'ocr_model.decoder.model.decoder.layers.3.self_attn.q_proj.weight', 'ocr_model.decoder.model.decoder.layers.3.self_attn.q_proj.bias', 'ocr_model.decoder.model.decoder.layers.3.self_attn.out_proj.weight', 'ocr_model.decoder.model.decoder.layers.3.self_attn.out_proj.bias', 'ocr_model.decoder.model.decoder.layers.3.self_attn_layer_norm.weight', 'ocr_model.decoder.model.decoder.layers.3.self_attn_layer_norm.bias', 'ocr_model.decoder.model.decoder.layers.3.encoder_attn.k_proj.weight', 'ocr_model.decoder.model.decoder.layers.3.encoder_attn.k_proj.bias', 'ocr_model.decoder.model.decoder.layers.3.encoder_attn.v_proj.weight', 'ocr_model.decoder.model.decoder.layers.3.encoder_attn.v_proj.bias', 'ocr_model.decoder.model.decoder.layers.3.encoder_attn.q_proj.weight', 'ocr_model.decoder.model.decoder.layers.3.encoder_attn.q_proj.bias', 'ocr_model.decoder.model.decoder.layers.3.encoder_attn.out_proj.weight', 'ocr_model.decoder.model.decoder.layers.3.encoder_attn.out_proj.bias', 'ocr_model.decoder.model.decoder.layers.3.encoder_attn_layer_norm.weight', 'ocr_model.decoder.model.decoder.layers.3.encoder_attn_layer_norm.bias', 'ocr_model.decoder.model.decoder.layers.3.fc1.weight', 'ocr_model.decoder.model.decoder.layers.3.fc1.bias', 'ocr_model.decoder.model.decoder.layers.3.fc2.weight', 'ocr_model.decoder.model.decoder.layers.3.fc2.bias', 'ocr_model.decoder.model.decoder.layers.3.final_layer_norm.weight', 'ocr_model.decoder.model.decoder.layers.3.final_layer_norm.bias', 'ocr_model.decoder.model.decoder.layers.4.self_attn.k_proj.weight', 'ocr_model.decoder.model.decoder.layers.4.self_attn.k_proj.bias', 'ocr_model.decoder.model.decoder.layers.4.self_attn.v_proj.weight', 'ocr_model.decoder.model.decoder.layers.4.self_attn.v_proj.bias', 'ocr_model.decoder.model.decoder.layers.4.self_attn.q_proj.weight', 'ocr_model.decoder.model.decoder.layers.4.self_attn.q_proj.bias', 'ocr_model.decoder.model.decoder.layers.4.self_attn.out_proj.weight', 'ocr_model.decoder.model.decoder.layers.4.self_attn.out_proj.bias', 'ocr_model.decoder.model.decoder.layers.4.self_attn_layer_norm.weight', 'ocr_model.decoder.model.decoder.layers.4.self_attn_layer_norm.bias', 'ocr_model.decoder.model.decoder.layers.4.encoder_attn.k_proj.weight', 'ocr_model.decoder.model.decoder.layers.4.encoder_attn.k_proj.bias', 'ocr_model.decoder.model.decoder.layers.4.encoder_attn.v_proj.weight', 'ocr_model.decoder.model.decoder.layers.4.encoder_attn.v_proj.bias', 'ocr_model.decoder.model.decoder.layers.4.encoder_attn.q_proj.weight', 'ocr_model.decoder.model.decoder.layers.4.encoder_attn.q_proj.bias', 'ocr_model.decoder.model.decoder.layers.4.encoder_attn.out_proj.weight', 'ocr_model.decoder.model.decoder.layers.4.encoder_attn.out_proj.bias', 'ocr_model.decoder.model.decoder.layers.4.encoder_attn_layer_norm.weight', 'ocr_model.decoder.model.decoder.layers.4.encoder_attn_layer_norm.bias', 'ocr_model.decoder.model.decoder.layers.4.fc1.weight', 'ocr_model.decoder.model.decoder.layers.4.fc1.bias', 'ocr_model.decoder.model.decoder.layers.4.fc2.weight', 'ocr_model.decoder.model.decoder.layers.4.fc2.bias', 'ocr_model.decoder.model.decoder.layers.4.final_layer_norm.weight', 'ocr_model.decoder.model.decoder.layers.4.final_layer_norm.bias', 'ocr_model.decoder.model.decoder.layers.5.self_attn.k_proj.weight', 'ocr_model.decoder.model.decoder.layers.5.self_attn.k_proj.bias', 'ocr_model.decoder.model.decoder.layers.5.self_attn.v_proj.weight', 'ocr_model.decoder.model.decoder.layers.5.self_attn.v_proj.bias', 'ocr_model.decoder.model.decoder.layers.5.self_attn.q_proj.weight', 'ocr_model.decoder.model.decoder.layers.5.self_attn.q_proj.bias', 'ocr_model.decoder.model.decoder.layers.5.self_attn.out_proj.weight', 'ocr_model.decoder.model.decoder.layers.5.self_attn.out_proj.bias', 'ocr_model.decoder.model.decoder.layers.5.self_attn_layer_norm.weight', 'ocr_model.decoder.model.decoder.layers.5.self_attn_layer_norm.bias', 'ocr_model.decoder.model.decoder.layers.5.encoder_attn.k_proj.weight', 'ocr_model.decoder.model.decoder.layers.5.encoder_attn.k_proj.bias', 'ocr_model.decoder.model.decoder.layers.5.encoder_attn.v_proj.weight', 'ocr_model.decoder.model.decoder.layers.5.encoder_attn.v_proj.bias', 'ocr_model.decoder.model.decoder.layers.5.encoder_attn.q_proj.weight', 'ocr_model.decoder.model.decoder.layers.5.encoder_attn.q_proj.bias', 'ocr_model.decoder.model.decoder.layers.5.encoder_attn.out_proj.weight', 'ocr_model.decoder.model.decoder.layers.5.encoder_attn.out_proj.bias', 'ocr_model.decoder.model.decoder.layers.5.encoder_attn_layer_norm.weight', 'ocr_model.decoder.model.decoder.layers.5.encoder_attn_layer_norm.bias', 'ocr_model.decoder.model.decoder.layers.5.fc1.weight', 'ocr_model.decoder.model.decoder.layers.5.fc1.bias', 'ocr_model.decoder.model.decoder.layers.5.fc2.weight', 'ocr_model.decoder.model.decoder.layers.5.fc2.bias', 'ocr_model.decoder.model.decoder.layers.5.final_layer_norm.weight', 'ocr_model.decoder.model.decoder.layers.5.final_layer_norm.bias', 'ocr_model.decoder.model.decoder.layers.6.self_attn.k_proj.weight', 'ocr_model.decoder.model.decoder.layers.6.self_attn.k_proj.bias', 'ocr_model.decoder.model.decoder.layers.6.self_attn.v_proj.weight', 'ocr_model.decoder.model.decoder.layers.6.self_attn.v_proj.bias', 'ocr_model.decoder.model.decoder.layers.6.self_attn.q_proj.weight', 'ocr_model.decoder.model.decoder.layers.6.self_attn.q_proj.bias', 'ocr_model.decoder.model.decoder.layers.6.self_attn.out_proj.weight', 'ocr_model.decoder.model.decoder.layers.6.self_attn.out_proj.bias', 'ocr_model.decoder.model.decoder.layers.6.self_attn_layer_norm.weight', 'ocr_model.decoder.model.decoder.layers.6.self_attn_layer_norm.bias', 'ocr_model.decoder.model.decoder.layers.6.encoder_attn.k_proj.weight', 'ocr_model.decoder.model.decoder.layers.6.encoder_attn.k_proj.bias', 'ocr_model.decoder.model.decoder.layers.6.encoder_attn.v_proj.weight', 'ocr_model.decoder.model.decoder.layers.6.encoder_attn.v_proj.bias', 'ocr_model.decoder.model.decoder.layers.6.encoder_attn.q_proj.weight', 'ocr_model.decoder.model.decoder.layers.6.encoder_attn.q_proj.bias', 'ocr_model.decoder.model.decoder.layers.6.encoder_attn.out_proj.weight', 'ocr_model.decoder.model.decoder.layers.6.encoder_attn.out_proj.bias', 'ocr_model.decoder.model.decoder.layers.6.encoder_attn_layer_norm.weight', 'ocr_model.decoder.model.decoder.layers.6.encoder_attn_layer_norm.bias', 'ocr_model.decoder.model.decoder.layers.6.fc1.weight', 'ocr_model.decoder.model.decoder.layers.6.fc1.bias', 'ocr_model.decoder.model.decoder.layers.6.fc2.weight', 'ocr_model.decoder.model.decoder.layers.6.fc2.bias', 'ocr_model.decoder.model.decoder.layers.6.final_layer_norm.weight', 'ocr_model.decoder.model.decoder.layers.6.final_layer_norm.bias', 'ocr_model.decoder.model.decoder.layers.7.self_attn.k_proj.weight', 'ocr_model.decoder.model.decoder.layers.7.self_attn.k_proj.bias', 'ocr_model.decoder.model.decoder.layers.7.self_attn.v_proj.weight', 'ocr_model.decoder.model.decoder.layers.7.self_attn.v_proj.bias', 'ocr_model.decoder.model.decoder.layers.7.self_attn.q_proj.weight', 'ocr_model.decoder.model.decoder.layers.7.self_attn.q_proj.bias', 'ocr_model.decoder.model.decoder.layers.7.self_attn.out_proj.weight', 'ocr_model.decoder.model.decoder.layers.7.self_attn.out_proj.bias', 'ocr_model.decoder.model.decoder.layers.7.self_attn_layer_norm.weight', 'ocr_model.decoder.model.decoder.layers.7.self_attn_layer_norm.bias', 'ocr_model.decoder.model.decoder.layers.7.encoder_attn.k_proj.weight', 'ocr_model.decoder.model.decoder.layers.7.encoder_attn.k_proj.bias', 'ocr_model.decoder.model.decoder.layers.7.encoder_attn.v_proj.weight', 'ocr_model.decoder.model.decoder.layers.7.encoder_attn.v_proj.bias', 'ocr_model.decoder.model.decoder.layers.7.encoder_attn.q_proj.weight', 'ocr_model.decoder.model.decoder.layers.7.encoder_attn.q_proj.bias', 'ocr_model.decoder.model.decoder.layers.7.encoder_attn.out_proj.weight', 'ocr_model.decoder.model.decoder.layers.7.encoder_attn.out_proj.bias', 'ocr_model.decoder.model.decoder.layers.7.encoder_attn_layer_norm.weight', 'ocr_model.decoder.model.decoder.layers.7.encoder_attn_layer_norm.bias', 'ocr_model.decoder.model.decoder.layers.7.fc1.weight', 'ocr_model.decoder.model.decoder.layers.7.fc1.bias', 'ocr_model.decoder.model.decoder.layers.7.fc2.weight', 'ocr_model.decoder.model.decoder.layers.7.fc2.bias', 'ocr_model.decoder.model.decoder.layers.7.final_layer_norm.weight', 'ocr_model.decoder.model.decoder.layers.7.final_layer_norm.bias', 'ocr_model.decoder.model.decoder.layers.8.self_attn.k_proj.weight', 'ocr_model.decoder.model.decoder.layers.8.self_attn.k_proj.bias', 'ocr_model.decoder.model.decoder.layers.8.self_attn.v_proj.weight', 'ocr_model.decoder.model.decoder.layers.8.self_attn.v_proj.bias', 'ocr_model.decoder.model.decoder.layers.8.self_attn.q_proj.weight', 'ocr_model.decoder.model.decoder.layers.8.self_attn.q_proj.bias', 'ocr_model.decoder.model.decoder.layers.8.self_attn.out_proj.weight', 'ocr_model.decoder.model.decoder.layers.8.self_attn.out_proj.bias', 'ocr_model.decoder.model.decoder.layers.8.self_attn_layer_norm.weight', 'ocr_model.decoder.model.decoder.layers.8.self_attn_layer_norm.bias', 'ocr_model.decoder.model.decoder.layers.8.encoder_attn.k_proj.weight', 'ocr_model.decoder.model.decoder.layers.8.encoder_attn.k_proj.bias', 'ocr_model.decoder.model.decoder.layers.8.encoder_attn.v_proj.weight', 'ocr_model.decoder.model.decoder.layers.8.encoder_attn.v_proj.bias', 'ocr_model.decoder.model.decoder.layers.8.encoder_attn.q_proj.weight', 'ocr_model.decoder.model.decoder.layers.8.encoder_attn.q_proj.bias', 'ocr_model.decoder.model.decoder.layers.8.encoder_attn.out_proj.weight', 'ocr_model.decoder.model.decoder.layers.8.encoder_attn.out_proj.bias', 'ocr_model.decoder.model.decoder.layers.8.encoder_attn_layer_norm.weight', 'ocr_model.decoder.model.decoder.layers.8.encoder_attn_layer_norm.bias', 'ocr_model.decoder.model.decoder.layers.8.fc1.weight', 'ocr_model.decoder.model.decoder.layers.8.fc1.bias', 'ocr_model.decoder.model.decoder.layers.8.fc2.weight', 'ocr_model.decoder.model.decoder.layers.8.fc2.bias', 'ocr_model.decoder.model.decoder.layers.8.final_layer_norm.weight', 'ocr_model.decoder.model.decoder.layers.8.final_layer_norm.bias', 'ocr_model.decoder.model.decoder.layers.9.self_attn.k_proj.weight', 'ocr_model.decoder.model.decoder.layers.9.self_attn.k_proj.bias', 'ocr_model.decoder.model.decoder.layers.9.self_attn.v_proj.weight', 'ocr_model.decoder.model.decoder.layers.9.self_attn.v_proj.bias', 'ocr_model.decoder.model.decoder.layers.9.self_attn.q_proj.weight', 'ocr_model.decoder.model.decoder.layers.9.self_attn.q_proj.bias', 'ocr_model.decoder.model.decoder.layers.9.self_attn.out_proj.weight', 'ocr_model.decoder.model.decoder.layers.9.self_attn.out_proj.bias', 'ocr_model.decoder.model.decoder.layers.9.self_attn_layer_norm.weight', 'ocr_model.decoder.model.decoder.layers.9.self_attn_layer_norm.bias', 'ocr_model.decoder.model.decoder.layers.9.encoder_attn.k_proj.weight', 'ocr_model.decoder.model.decoder.layers.9.encoder_attn.k_proj.bias', 'ocr_model.decoder.model.decoder.layers.9.encoder_attn.v_proj.weight', 'ocr_model.decoder.model.decoder.layers.9.encoder_attn.v_proj.bias', 'ocr_model.decoder.model.decoder.layers.9.encoder_attn.q_proj.weight', 'ocr_model.decoder.model.decoder.layers.9.encoder_attn.q_proj.bias', 'ocr_model.decoder.model.decoder.layers.9.encoder_attn.out_proj.weight', 'ocr_model.decoder.model.decoder.layers.9.encoder_attn.out_proj.bias', 'ocr_model.decoder.model.decoder.layers.9.encoder_attn_layer_norm.weight', 'ocr_model.decoder.model.decoder.layers.9.encoder_attn_layer_norm.bias', 'ocr_model.decoder.model.decoder.layers.9.fc1.weight', 'ocr_model.decoder.model.decoder.layers.9.fc1.bias', 'ocr_model.decoder.model.decoder.layers.9.fc2.weight', 'ocr_model.decoder.model.decoder.layers.9.fc2.bias', 'ocr_model.decoder.model.decoder.layers.9.final_layer_norm.weight', 'ocr_model.decoder.model.decoder.layers.9.final_layer_norm.bias', 'ocr_model.decoder.model.decoder.layers.10.self_attn.k_proj.weight', 'ocr_model.decoder.model.decoder.layers.10.self_attn.k_proj.bias', 'ocr_model.decoder.model.decoder.layers.10.self_attn.v_proj.weight', 'ocr_model.decoder.model.decoder.layers.10.self_attn.v_proj.bias', 'ocr_model.decoder.model.decoder.layers.10.self_attn.q_proj.weight', 'ocr_model.decoder.model.decoder.layers.10.self_attn.q_proj.bias', 'ocr_model.decoder.model.decoder.layers.10.self_attn.out_proj.weight', 'ocr_model.decoder.model.decoder.layers.10.self_attn.out_proj.bias', 'ocr_model.decoder.model.decoder.layers.10.self_attn_layer_norm.weight', 'ocr_model.decoder.model.decoder.layers.10.self_attn_layer_norm.bias', 'ocr_model.decoder.model.decoder.layers.10.encoder_attn.k_proj.weight', 'ocr_model.decoder.model.decoder.layers.10.encoder_attn.k_proj.bias', 'ocr_model.decoder.model.decoder.layers.10.encoder_attn.v_proj.weight', 'ocr_model.decoder.model.decoder.layers.10.encoder_attn.v_proj.bias', 'ocr_model.decoder.model.decoder.layers.10.encoder_attn.q_proj.weight', 'ocr_model.decoder.model.decoder.layers.10.encoder_attn.q_proj.bias', 'ocr_model.decoder.model.decoder.layers.10.encoder_attn.out_proj.weight', 'ocr_model.decoder.model.decoder.layers.10.encoder_attn.out_proj.bias', 'ocr_model.decoder.model.decoder.layers.10.encoder_attn_layer_norm.weight', 'ocr_model.decoder.model.decoder.layers.10.encoder_attn_layer_norm.bias', 'ocr_model.decoder.model.decoder.layers.10.fc1.weight', 'ocr_model.decoder.model.decoder.layers.10.fc1.bias', 'ocr_model.decoder.model.decoder.layers.10.fc2.weight', 'ocr_model.decoder.model.decoder.layers.10.fc2.bias', 'ocr_model.decoder.model.decoder.layers.10.final_layer_norm.weight', 'ocr_model.decoder.model.decoder.layers.10.final_layer_norm.bias', 'ocr_model.decoder.model.decoder.layers.11.self_attn.k_proj.weight', 'ocr_model.decoder.model.decoder.layers.11.self_attn.k_proj.bias', 'ocr_model.decoder.model.decoder.layers.11.self_attn.v_proj.weight', 'ocr_model.decoder.model.decoder.layers.11.self_attn.v_proj.bias', 'ocr_model.decoder.model.decoder.layers.11.self_attn.q_proj.weight', 'ocr_model.decoder.model.decoder.layers.11.self_attn.q_proj.bias', 'ocr_model.decoder.model.decoder.layers.11.self_attn.out_proj.weight', 'ocr_model.decoder.model.decoder.layers.11.self_attn.out_proj.bias', 'ocr_model.decoder.model.decoder.layers.11.self_attn_layer_norm.weight', 'ocr_model.decoder.model.decoder.layers.11.self_attn_layer_norm.bias', 'ocr_model.decoder.model.decoder.layers.11.encoder_attn.k_proj.weight', 'ocr_model.decoder.model.decoder.layers.11.encoder_attn.k_proj.bias', 'ocr_model.decoder.model.decoder.layers.11.encoder_attn.v_proj.weight', 'ocr_model.decoder.model.decoder.layers.11.encoder_attn.v_proj.bias', 'ocr_model.decoder.model.decoder.layers.11.encoder_attn.q_proj.weight', 'ocr_model.decoder.model.decoder.layers.11.encoder_attn.q_proj.bias', 'ocr_model.decoder.model.decoder.layers.11.encoder_attn.out_proj.weight', 'ocr_model.decoder.model.decoder.layers.11.encoder_attn.out_proj.bias', 'ocr_model.decoder.model.decoder.layers.11.encoder_attn_layer_norm.weight', 'ocr_model.decoder.model.decoder.layers.11.encoder_attn_layer_norm.bias', 'ocr_model.decoder.model.decoder.layers.11.fc1.weight', 'ocr_model.decoder.model.decoder.layers.11.fc1.bias', 'ocr_model.decoder.model.decoder.layers.11.fc2.weight', 'ocr_model.decoder.model.decoder.layers.11.fc2.bias', 'ocr_model.decoder.model.decoder.layers.11.final_layer_norm.weight', 'ocr_model.decoder.model.decoder.layers.11.final_layer_norm.bias', 'ocr_model.decoder.output_projection.weight', 'crop_embedding_model.embeddings.cls_token', 'crop_embedding_model.embeddings.position_embeddings', 'crop_embedding_model.embeddings.patch_embeddings.projection.weight', 'crop_embedding_model.embeddings.patch_embeddings.projection.bias', 'crop_embedding_model.encoder.layer.0.attention.attention.query.weight', 'crop_embedding_model.encoder.layer.0.attention.attention.query.bias', 'crop_embedding_model.encoder.layer.0.attention.attention.key.weight', 'crop_embedding_model.encoder.layer.0.attention.attention.key.bias', 'crop_embedding_model.encoder.layer.0.attention.attention.value.weight', 'crop_embedding_model.encoder.layer.0.attention.attention.value.bias', 'crop_embedding_model.encoder.layer.0.attention.output.dense.weight', 'crop_embedding_model.encoder.layer.0.attention.output.dense.bias', 'crop_embedding_model.encoder.layer.0.intermediate.dense.weight', 'crop_embedding_model.encoder.layer.0.intermediate.dense.bias', 'crop_embedding_model.encoder.layer.0.output.dense.weight', 'crop_embedding_model.encoder.layer.0.output.dense.bias', 'crop_embedding_model.encoder.layer.0.layernorm_before.weight', 'crop_embedding_model.encoder.layer.0.layernorm_before.bias', 'crop_embedding_model.encoder.layer.0.layernorm_after.weight', 'crop_embedding_model.encoder.layer.0.layernorm_after.bias', 'crop_embedding_model.encoder.layer.1.attention.attention.query.weight', 'crop_embedding_model.encoder.layer.1.attention.attention.query.bias', 'crop_embedding_model.encoder.layer.1.attention.attention.key.weight', 'crop_embedding_model.encoder.layer.1.attention.attention.key.bias', 'crop_embedding_model.encoder.layer.1.attention.attention.value.weight', 'crop_embedding_model.encoder.layer.1.attention.attention.value.bias', 'crop_embedding_model.encoder.layer.1.attention.output.dense.weight', 'crop_embedding_model.encoder.layer.1.attention.output.dense.bias', 'crop_embedding_model.encoder.layer.1.intermediate.dense.weight', 'crop_embedding_model.encoder.layer.1.intermediate.dense.bias', 'crop_embedding_model.encoder.layer.1.output.dense.weight', 'crop_embedding_model.encoder.layer.1.output.dense.bias', 'crop_embedding_model.encoder.layer.1.layernorm_before.weight', 'crop_embedding_model.encoder.layer.1.layernorm_before.bias', 'crop_embedding_model.encoder.layer.1.layernorm_after.weight', 'crop_embedding_model.encoder.layer.1.layernorm_after.bias', 'crop_embedding_model.encoder.layer.2.attention.attention.query.weight', 'crop_embedding_model.encoder.layer.2.attention.attention.query.bias', 'crop_embedding_model.encoder.layer.2.attention.attention.key.weight', 'crop_embedding_model.encoder.layer.2.attention.attention.key.bias', 'crop_embedding_model.encoder.layer.2.attention.attention.value.weight', 'crop_embedding_model.encoder.layer.2.attention.attention.value.bias', 'crop_embedding_model.encoder.layer.2.attention.output.dense.weight', 'crop_embedding_model.encoder.layer.2.attention.output.dense.bias', 'crop_embedding_model.encoder.layer.2.intermediate.dense.weight', 'crop_embedding_model.encoder.layer.2.intermediate.dense.bias', 'crop_embedding_model.encoder.layer.2.output.dense.weight', 'crop_embedding_model.encoder.layer.2.output.dense.bias', 'crop_embedding_model.encoder.layer.2.layernorm_before.weight', 'crop_embedding_model.encoder.layer.2.layernorm_before.bias', 'crop_embedding_model.encoder.layer.2.layernorm_after.weight', 'crop_embedding_model.encoder.layer.2.layernorm_after.bias', 'crop_embedding_model.encoder.layer.3.attention.attention.query.weight', 'crop_embedding_model.encoder.layer.3.attention.attention.query.bias', 'crop_embedding_model.encoder.layer.3.attention.attention.key.weight', 'crop_embedding_model.encoder.layer.3.attention.attention.key.bias', 'crop_embedding_model.encoder.layer.3.attention.attention.value.weight', 'crop_embedding_model.encoder.layer.3.attention.attention.value.bias', 'crop_embedding_model.encoder.layer.3.attention.output.dense.weight', 'crop_embedding_model.encoder.layer.3.attention.output.dense.bias', 'crop_embedding_model.encoder.layer.3.intermediate.dense.weight', 'crop_embedding_model.encoder.layer.3.intermediate.dense.bias', 'crop_embedding_model.encoder.layer.3.output.dense.weight', 'crop_embedding_model.encoder.layer.3.output.dense.bias', 'crop_embedding_model.encoder.layer.3.layernorm_before.weight', 'crop_embedding_model.encoder.layer.3.layernorm_before.bias', 'crop_embedding_model.encoder.layer.3.layernorm_after.weight', 'crop_embedding_model.encoder.layer.3.layernorm_after.bias', 'crop_embedding_model.encoder.layer.4.attention.attention.query.weight', 'crop_embedding_model.encoder.layer.4.attention.attention.query.bias', 'crop_embedding_model.encoder.layer.4.attention.attention.key.weight', 'crop_embedding_model.encoder.layer.4.attention.attention.key.bias', 'crop_embedding_model.encoder.layer.4.attention.attention.value.weight', 'crop_embedding_model.encoder.layer.4.attention.attention.value.bias', 'crop_embedding_model.encoder.layer.4.attention.output.dense.weight', 'crop_embedding_model.encoder.layer.4.attention.output.dense.bias', 'crop_embedding_model.encoder.layer.4.intermediate.dense.weight', 'crop_embedding_model.encoder.layer.4.intermediate.dense.bias', 'crop_embedding_model.encoder.layer.4.output.dense.weight', 'crop_embedding_model.encoder.layer.4.output.dense.bias', 'crop_embedding_model.encoder.layer.4.layernorm_before.weight', 'crop_embedding_model.encoder.layer.4.layernorm_before.bias', 'crop_embedding_model.encoder.layer.4.layernorm_after.weight', 'crop_embedding_model.encoder.layer.4.layernorm_after.bias', 'crop_embedding_model.encoder.layer.5.attention.attention.query.weight', 'crop_embedding_model.encoder.layer.5.attention.attention.query.bias', 'crop_embedding_model.encoder.layer.5.attention.attention.key.weight', 'crop_embedding_model.encoder.layer.5.attention.attention.key.bias', 'crop_embedding_model.encoder.layer.5.attention.attention.value.weight', 'crop_embedding_model.encoder.layer.5.attention.attention.value.bias', 'crop_embedding_model.encoder.layer.5.attention.output.dense.weight', 'crop_embedding_model.encoder.layer.5.attention.output.dense.bias', 'crop_embedding_model.encoder.layer.5.intermediate.dense.weight', 'crop_embedding_model.encoder.layer.5.intermediate.dense.bias', 'crop_embedding_model.encoder.layer.5.output.dense.weight', 'crop_embedding_model.encoder.layer.5.output.dense.bias', 'crop_embedding_model.encoder.layer.5.layernorm_before.weight', 'crop_embedding_model.encoder.layer.5.layernorm_before.bias', 'crop_embedding_model.encoder.layer.5.layernorm_after.weight', 'crop_embedding_model.encoder.layer.5.layernorm_after.bias', 'crop_embedding_model.encoder.layer.6.attention.attention.query.weight', 'crop_embedding_model.encoder.layer.6.attention.attention.query.bias', 'crop_embedding_model.encoder.layer.6.attention.attention.key.weight', 'crop_embedding_model.encoder.layer.6.attention.attention.key.bias', 'crop_embedding_model.encoder.layer.6.attention.attention.value.weight', 'crop_embedding_model.encoder.layer.6.attention.attention.value.bias', 'crop_embedding_model.encoder.layer.6.attention.output.dense.weight', 'crop_embedding_model.encoder.layer.6.attention.output.dense.bias', 'crop_embedding_model.encoder.layer.6.intermediate.dense.weight', 'crop_embedding_model.encoder.layer.6.intermediate.dense.bias', 'crop_embedding_model.encoder.layer.6.output.dense.weight', 'crop_embedding_model.encoder.layer.6.output.dense.bias', 'crop_embedding_model.encoder.layer.6.layernorm_before.weight', 'crop_embedding_model.encoder.layer.6.layernorm_before.bias', 'crop_embedding_model.encoder.layer.6.layernorm_after.weight', 'crop_embedding_model.encoder.layer.6.layernorm_after.bias', 'crop_embedding_model.encoder.layer.7.attention.attention.query.weight', 'crop_embedding_model.encoder.layer.7.attention.attention.query.bias', 'crop_embedding_model.encoder.layer.7.attention.attention.key.weight', 'crop_embedding_model.encoder.layer.7.attention.attention.key.bias', 'crop_embedding_model.encoder.layer.7.attention.attention.value.weight', 'crop_embedding_model.encoder.layer.7.attention.attention.value.bias', 'crop_embedding_model.encoder.layer.7.attention.output.dense.weight', 'crop_embedding_model.encoder.layer.7.attention.output.dense.bias', 'crop_embedding_model.encoder.layer.7.intermediate.dense.weight', 'crop_embedding_model.encoder.layer.7.intermediate.dense.bias', 'crop_embedding_model.encoder.layer.7.output.dense.weight', 'crop_embedding_model.encoder.layer.7.output.dense.bias', 'crop_embedding_model.encoder.layer.7.layernorm_before.weight', 'crop_embedding_model.encoder.layer.7.layernorm_before.bias', 'crop_embedding_model.encoder.layer.7.layernorm_after.weight', 'crop_embedding_model.encoder.layer.7.layernorm_after.bias', 'crop_embedding_model.encoder.layer.8.attention.attention.query.weight', 'crop_embedding_model.encoder.layer.8.attention.attention.query.bias', 'crop_embedding_model.encoder.layer.8.attention.attention.key.weight', 'crop_embedding_model.encoder.layer.8.attention.attention.key.bias', 'crop_embedding_model.encoder.layer.8.attention.attention.value.weight', 'crop_embedding_model.encoder.layer.8.attention.attention.value.bias', 'crop_embedding_model.encoder.layer.8.attention.output.dense.weight', 'crop_embedding_model.encoder.layer.8.attention.output.dense.bias', 'crop_embedding_model.encoder.layer.8.intermediate.dense.weight', 'crop_embedding_model.encoder.layer.8.intermediate.dense.bias', 'crop_embedding_model.encoder.layer.8.output.dense.weight', 'crop_embedding_model.encoder.layer.8.output.dense.bias', 'crop_embedding_model.encoder.layer.8.layernorm_before.weight', 'crop_embedding_model.encoder.layer.8.layernorm_before.bias', 'crop_embedding_model.encoder.layer.8.layernorm_after.weight', 'crop_embedding_model.encoder.layer.8.layernorm_after.bias', 'crop_embedding_model.encoder.layer.9.attention.attention.query.weight', 'crop_embedding_model.encoder.layer.9.attention.attention.query.bias', 'crop_embedding_model.encoder.layer.9.attention.attention.key.weight', 'crop_embedding_model.encoder.layer.9.attention.attention.key.bias', 'crop_embedding_model.encoder.layer.9.attention.attention.value.weight', 'crop_embedding_model.encoder.layer.9.attention.attention.value.bias', 'crop_embedding_model.encoder.layer.9.attention.output.dense.weight', 'crop_embedding_model.encoder.layer.9.attention.output.dense.bias', 'crop_embedding_model.encoder.layer.9.intermediate.dense.weight', 'crop_embedding_model.encoder.layer.9.intermediate.dense.bias', 'crop_embedding_model.encoder.layer.9.output.dense.weight', 'crop_embedding_model.encoder.layer.9.output.dense.bias', 'crop_embedding_model.encoder.layer.9.layernorm_before.weight', 'crop_embedding_model.encoder.layer.9.layernorm_before.bias', 'crop_embedding_model.encoder.layer.9.layernorm_after.weight', 'crop_embedding_model.encoder.layer.9.layernorm_after.bias', 'crop_embedding_model.encoder.layer.10.attention.attention.query.weight', 'crop_embedding_model.encoder.layer.10.attention.attention.query.bias', 'crop_embedding_model.encoder.layer.10.attention.attention.key.weight', 'crop_embedding_model.encoder.layer.10.attention.attention.key.bias', 'crop_embedding_model.encoder.layer.10.attention.attention.value.weight', 'crop_embedding_model.encoder.layer.10.attention.attention.value.bias', 'crop_embedding_model.encoder.layer.10.attention.output.dense.weight', 'crop_embedding_model.encoder.layer.10.attention.output.dense.bias', 'crop_embedding_model.encoder.layer.10.intermediate.dense.weight', 'crop_embedding_model.encoder.layer.10.intermediate.dense.bias', 'crop_embedding_model.encoder.layer.10.output.dense.weight', 'crop_embedding_model.encoder.layer.10.output.dense.bias', 'crop_embedding_model.encoder.layer.10.layernorm_before.weight', 'crop_embedding_model.encoder.layer.10.layernorm_before.bias', 'crop_embedding_model.encoder.layer.10.layernorm_after.weight', 'crop_embedding_model.encoder.layer.10.layernorm_after.bias', 'crop_embedding_model.encoder.layer.11.attention.attention.query.weight', 'crop_embedding_model.encoder.layer.11.attention.attention.query.bias', 'crop_embedding_model.encoder.layer.11.attention.attention.key.weight', 'crop_embedding_model.encoder.layer.11.attention.attention.key.bias', 'crop_embedding_model.encoder.layer.11.attention.attention.value.weight', 'crop_embedding_model.encoder.layer.11.attention.attention.value.bias', 'crop_embedding_model.encoder.layer.11.attention.output.dense.weight', 'crop_embedding_model.encoder.layer.11.attention.output.dense.bias', 'crop_embedding_model.encoder.layer.11.intermediate.dense.weight', 'crop_embedding_model.encoder.layer.11.intermediate.dense.bias', 'crop_embedding_model.encoder.layer.11.output.dense.weight', 'crop_embedding_model.encoder.layer.11.output.dense.bias', 'crop_embedding_model.encoder.layer.11.layernorm_before.weight', 'crop_embedding_model.encoder.layer.11.layernorm_before.bias', 'crop_embedding_model.encoder.layer.11.layernorm_after.weight', 'crop_embedding_model.encoder.layer.11.layernorm_after.bias', 'crop_embedding_model.layernorm.weight', 'crop_embedding_model.layernorm.bias', 'detection_transformer.backbone.conv_encoder.model.conv1.weight', 'detection_transformer.backbone.conv_encoder.model.bn1.weight', 'detection_transformer.backbone.conv_encoder.model.bn1.bias', 'detection_transformer.backbone.conv_encoder.model.bn1.running_mean', 'detection_transformer.backbone.conv_encoder.model.bn1.running_var', 'detection_transformer.backbone.conv_encoder.model.layer1.0.conv1.weight', 'detection_transformer.backbone.conv_encoder.model.layer1.0.bn1.weight', 'detection_transformer.backbone.conv_encoder.model.layer1.0.bn1.bias', 'detection_transformer.backbone.conv_encoder.model.layer1.0.bn1.running_mean', 'detection_transformer.backbone.conv_encoder.model.layer1.0.bn1.running_var', 'detection_transformer.backbone.conv_encoder.model.layer1.0.conv2.weight', 'detection_transformer.backbone.conv_encoder.model.layer1.0.bn2.weight', 'detection_transformer.backbone.conv_encoder.model.layer1.0.bn2.bias', 'detection_transformer.backbone.conv_encoder.model.layer1.0.bn2.running_mean', 'detection_transformer.backbone.conv_encoder.model.layer1.0.bn2.running_var', 'detection_transformer.backbone.conv_encoder.model.layer1.0.conv3.weight', 'detection_transformer.backbone.conv_encoder.model.layer1.0.bn3.weight', 'detection_transformer.backbone.conv_encoder.model.layer1.0.bn3.bias', 'detection_transformer.backbone.conv_encoder.model.layer1.0.bn3.running_mean', 'detection_transformer.backbone.conv_encoder.model.layer1.0.bn3.running_var', 'detection_transformer.backbone.conv_encoder.model.layer1.0.downsample.0.weight', 'detection_transformer.backbone.conv_encoder.model.layer1.0.downsample.1.weight', 'detection_transformer.backbone.conv_encoder.model.layer1.0.downsample.1.bias', 'detection_transformer.backbone.conv_encoder.model.layer1.0.downsample.1.running_mean', 'detection_transformer.backbone.conv_encoder.model.layer1.0.downsample.1.running_var', 'detection_transformer.backbone.conv_encoder.model.layer1.1.conv1.weight', 'detection_transformer.backbone.conv_encoder.model.layer1.1.bn1.weight', 'detection_transformer.backbone.conv_encoder.model.layer1.1.bn1.bias', 'detection_transformer.backbone.conv_encoder.model.layer1.1.bn1.running_mean', 'detection_transformer.backbone.conv_encoder.model.layer1.1.bn1.running_var', 'detection_transformer.backbone.conv_encoder.model.layer1.1.conv2.weight', 'detection_transformer.backbone.conv_encoder.model.layer1.1.bn2.weight', 'detection_transformer.backbone.conv_encoder.model.layer1.1.bn2.bias', 'detection_transformer.backbone.conv_encoder.model.layer1.1.bn2.running_mean', 'detection_transformer.backbone.conv_encoder.model.layer1.1.bn2.running_var', 'detection_transformer.backbone.conv_encoder.model.layer1.1.conv3.weight', 'detection_transformer.backbone.conv_encoder.model.layer1.1.bn3.weight', 'detection_transformer.backbone.conv_encoder.model.layer1.1.bn3.bias', 'detection_transformer.backbone.conv_encoder.model.layer1.1.bn3.running_mean', 'detection_transformer.backbone.conv_encoder.model.layer1.1.bn3.running_var', 'detection_transformer.backbone.conv_encoder.model.layer1.2.conv1.weight', 'detection_transformer.backbone.conv_encoder.model.layer1.2.bn1.weight', 'detection_transformer.backbone.conv_encoder.model.layer1.2.bn1.bias', 'detection_transformer.backbone.conv_encoder.model.layer1.2.bn1.running_mean', 'detection_transformer.backbone.conv_encoder.model.layer1.2.bn1.running_var', 'detection_transformer.backbone.conv_encoder.model.layer1.2.conv2.weight', 'detection_transformer.backbone.conv_encoder.model.layer1.2.bn2.weight', 'detection_transformer.backbone.conv_encoder.model.layer1.2.bn2.bias', 'detection_transformer.backbone.conv_encoder.model.layer1.2.bn2.running_mean', 'detection_transformer.backbone.conv_encoder.model.layer1.2.bn2.running_var', 'detection_transformer.backbone.conv_encoder.model.layer1.2.conv3.weight', 'detection_transformer.backbone.conv_encoder.model.layer1.2.bn3.weight', 'detection_transformer.backbone.conv_encoder.model.layer1.2.bn3.bias', 'detection_transformer.backbone.conv_encoder.model.layer1.2.bn3.running_mean', 'detection_transformer.backbone.conv_encoder.model.layer1.2.bn3.running_var', 'detection_transformer.backbone.conv_encoder.model.layer2.0.conv1.weight', 'detection_transformer.backbone.conv_encoder.model.layer2.0.bn1.weight', 'detection_transformer.backbone.conv_encoder.model.layer2.0.bn1.bias', 'detection_transformer.backbone.conv_encoder.model.layer2.0.bn1.running_mean', 'detection_transformer.backbone.conv_encoder.model.layer2.0.bn1.running_var', 'detection_transformer.backbone.conv_encoder.model.layer2.0.conv2.weight', 'detection_transformer.backbone.conv_encoder.model.layer2.0.bn2.weight', 'detection_transformer.backbone.conv_encoder.model.layer2.0.bn2.bias', 'detection_transformer.backbone.conv_encoder.model.layer2.0.bn2.running_mean', 'detection_transformer.backbone.conv_encoder.model.layer2.0.bn2.running_var', 'detection_transformer.backbone.conv_encoder.model.layer2.0.conv3.weight', 'detection_transformer.backbone.conv_encoder.model.layer2.0.bn3.weight', 'detection_transformer.backbone.conv_encoder.model.layer2.0.bn3.bias', 'detection_transformer.backbone.conv_encoder.model.layer2.0.bn3.running_mean', 'detection_transformer.backbone.conv_encoder.model.layer2.0.bn3.running_var', 'detection_transformer.backbone.conv_encoder.model.layer2.0.downsample.0.weight', 'detection_transformer.backbone.conv_encoder.model.layer2.0.downsample.1.weight', 'detection_transformer.backbone.conv_encoder.model.layer2.0.downsample.1.bias', 'detection_transformer.backbone.conv_encoder.model.layer2.0.downsample.1.running_mean', 'detection_transformer.backbone.conv_encoder.model.layer2.0.downsample.1.running_var', 'detection_transformer.backbone.conv_encoder.model.layer2.1.conv1.weight', 'detection_transformer.backbone.conv_encoder.model.layer2.1.bn1.weight', 'detection_transformer.backbone.conv_encoder.model.layer2.1.bn1.bias', 'detection_transformer.backbone.conv_encoder.model.layer2.1.bn1.running_mean', 'detection_transformer.backbone.conv_encoder.model.layer2.1.bn1.running_var', 'detection_transformer.backbone.conv_encoder.model.layer2.1.conv2.weight', 'detection_transformer.backbone.conv_encoder.model.layer2.1.bn2.weight', 'detection_transformer.backbone.conv_encoder.model.layer2.1.bn2.bias', 'detection_transformer.backbone.conv_encoder.model.layer2.1.bn2.running_mean', 'detection_transformer.backbone.conv_encoder.model.layer2.1.bn2.running_var', 'detection_transformer.backbone.conv_encoder.model.layer2.1.conv3.weight', 'detection_transformer.backbone.conv_encoder.model.layer2.1.bn3.weight', 'detection_transformer.backbone.conv_encoder.model.layer2.1.bn3.bias', 'detection_transformer.backbone.conv_encoder.model.layer2.1.bn3.running_mean', 'detection_transformer.backbone.conv_encoder.model.layer2.1.bn3.running_var', 'detection_transformer.backbone.conv_encoder.model.layer2.2.conv1.weight', 'detection_transformer.backbone.conv_encoder.model.layer2.2.bn1.weight', 'detection_transformer.backbone.conv_encoder.model.layer2.2.bn1.bias', 'detection_transformer.backbone.conv_encoder.model.layer2.2.bn1.running_mean', 'detection_transformer.backbone.conv_encoder.model.layer2.2.bn1.running_var', 'detection_transformer.backbone.conv_encoder.model.layer2.2.conv2.weight', 'detection_transformer.backbone.conv_encoder.model.layer2.2.bn2.weight', 'detection_transformer.backbone.conv_encoder.model.layer2.2.bn2.bias', 'detection_transformer.backbone.conv_encoder.model.layer2.2.bn2.running_mean', 'detection_transformer.backbone.conv_encoder.model.layer2.2.bn2.running_var', 'detection_transformer.backbone.conv_encoder.model.layer2.2.conv3.weight', 'detection_transformer.backbone.conv_encoder.model.layer2.2.bn3.weight', 'detection_transformer.backbone.conv_encoder.model.layer2.2.bn3.bias', 'detection_transformer.backbone.conv_encoder.model.layer2.2.bn3.running_mean', 'detection_transformer.backbone.conv_encoder.model.layer2.2.bn3.running_var', 'detection_transformer.backbone.conv_encoder.model.layer2.3.conv1.weight', 'detection_transformer.backbone.conv_encoder.model.layer2.3.bn1.weight', 'detection_transformer.backbone.conv_encoder.model.layer2.3.bn1.bias', 'detection_transformer.backbone.conv_encoder.model.layer2.3.bn1.running_mean', 'detection_transformer.backbone.conv_encoder.model.layer2.3.bn1.running_var', 'detection_transformer.backbone.conv_encoder.model.layer2.3.conv2.weight', 'detection_transformer.backbone.conv_encoder.model.layer2.3.bn2.weight', 'detection_transformer.backbone.conv_encoder.model.layer2.3.bn2.bias', 'detection_transformer.backbone.conv_encoder.model.layer2.3.bn2.running_mean', 'detection_transformer.backbone.conv_encoder.model.layer2.3.bn2.running_var', 'detection_transformer.backbone.conv_encoder.model.layer2.3.conv3.weight', 'detection_transformer.backbone.conv_encoder.model.layer2.3.bn3.weight', 'detection_transformer.backbone.conv_encoder.model.layer2.3.bn3.bias', 'detection_transformer.backbone.conv_encoder.model.layer2.3.bn3.running_mean', 'detection_transformer.backbone.conv_encoder.model.layer2.3.bn3.running_var', 'detection_transformer.backbone.conv_encoder.model.layer3.0.conv1.weight', 'detection_transformer.backbone.conv_encoder.model.layer3.0.bn1.weight', 'detection_transformer.backbone.conv_encoder.model.layer3.0.bn1.bias', 'detection_transformer.backbone.conv_encoder.model.layer3.0.bn1.running_mean', 'detection_transformer.backbone.conv_encoder.model.layer3.0.bn1.running_var', 'detection_transformer.backbone.conv_encoder.model.layer3.0.conv2.weight', 'detection_transformer.backbone.conv_encoder.model.layer3.0.bn2.weight', 'detection_transformer.backbone.conv_encoder.model.layer3.0.bn2.bias', 'detection_transformer.backbone.conv_encoder.model.layer3.0.bn2.running_mean', 'detection_transformer.backbone.conv_encoder.model.layer3.0.bn2.running_var', 'detection_transformer.backbone.conv_encoder.model.layer3.0.conv3.weight', 'detection_transformer.backbone.conv_encoder.model.layer3.0.bn3.weight', 'detection_transformer.backbone.conv_encoder.model.layer3.0.bn3.bias', 'detection_transformer.backbone.conv_encoder.model.layer3.0.bn3.running_mean', 'detection_transformer.backbone.conv_encoder.model.layer3.0.bn3.running_var', 'detection_transformer.backbone.conv_encoder.model.layer3.0.downsample.0.weight', 'detection_transformer.backbone.conv_encoder.model.layer3.0.downsample.1.weight', 'detection_transformer.backbone.conv_encoder.model.layer3.0.downsample.1.bias', 'detection_transformer.backbone.conv_encoder.model.layer3.0.downsample.1.running_mean', 'detection_transformer.backbone.conv_encoder.model.layer3.0.downsample.1.running_var', 'detection_transformer.backbone.conv_encoder.model.layer3.1.conv1.weight', 'detection_transformer.backbone.conv_encoder.model.layer3.1.bn1.weight', 'detection_transformer.backbone.conv_encoder.model.layer3.1.bn1.bias', 'detection_transformer.backbone.conv_encoder.model.layer3.1.bn1.running_mean', 'detection_transformer.backbone.conv_encoder.model.layer3.1.bn1.running_var', 'detection_transformer.backbone.conv_encoder.model.layer3.1.conv2.weight', 'detection_transformer.backbone.conv_encoder.model.layer3.1.bn2.weight', 'detection_transformer.backbone.conv_encoder.model.layer3.1.bn2.bias', 'detection_transformer.backbone.conv_encoder.model.layer3.1.bn2.running_mean', 'detection_transformer.backbone.conv_encoder.model.layer3.1.bn2.running_var', 'detection_transformer.backbone.conv_encoder.model.layer3.1.conv3.weight', 'detection_transformer.backbone.conv_encoder.model.layer3.1.bn3.weight', 'detection_transformer.backbone.conv_encoder.model.layer3.1.bn3.bias', 'detection_transformer.backbone.conv_encoder.model.layer3.1.bn3.running_mean', 'detection_transformer.backbone.conv_encoder.model.layer3.1.bn3.running_var', 'detection_transformer.backbone.conv_encoder.model.layer3.2.conv1.weight', 'detection_transformer.backbone.conv_encoder.model.layer3.2.bn1.weight', 'detection_transformer.backbone.conv_encoder.model.layer3.2.bn1.bias', 'detection_transformer.backbone.conv_encoder.model.layer3.2.bn1.running_mean', 'detection_transformer.backbone.conv_encoder.model.layer3.2.bn1.running_var', 'detection_transformer.backbone.conv_encoder.model.layer3.2.conv2.weight', 'detection_transformer.backbone.conv_encoder.model.layer3.2.bn2.weight', 'detection_transformer.backbone.conv_encoder.model.layer3.2.bn2.bias', 'detection_transformer.backbone.conv_encoder.model.layer3.2.bn2.running_mean', 'detection_transformer.backbone.conv_encoder.model.layer3.2.bn2.running_var', 'detection_transformer.backbone.conv_encoder.model.layer3.2.conv3.weight', 'detection_transformer.backbone.conv_encoder.model.layer3.2.bn3.weight', 'detection_transformer.backbone.conv_encoder.model.layer3.2.bn3.bias', 'detection_transformer.backbone.conv_encoder.model.layer3.2.bn3.running_mean', 'detection_transformer.backbone.conv_encoder.model.layer3.2.bn3.running_var', 'detection_transformer.backbone.conv_encoder.model.layer3.3.conv1.weight', 'detection_transformer.backbone.conv_encoder.model.layer3.3.bn1.weight', 'detection_transformer.backbone.conv_encoder.model.layer3.3.bn1.bias', 'detection_transformer.backbone.conv_encoder.model.layer3.3.bn1.running_mean', 'detection_transformer.backbone.conv_encoder.model.layer3.3.bn1.running_var', 'detection_transformer.backbone.conv_encoder.model.layer3.3.conv2.weight', 'detection_transformer.backbone.conv_encoder.model.layer3.3.bn2.weight', 'detection_transformer.backbone.conv_encoder.model.layer3.3.bn2.bias', 'detection_transformer.backbone.conv_encoder.model.layer3.3.bn2.running_mean', 'detection_transformer.backbone.conv_encoder.model.layer3.3.bn2.running_var', 'detection_transformer.backbone.conv_encoder.model.layer3.3.conv3.weight', 'detection_transformer.backbone.conv_encoder.model.layer3.3.bn3.weight', 'detection_transformer.backbone.conv_encoder.model.layer3.3.bn3.bias', 'detection_transformer.backbone.conv_encoder.model.layer3.3.bn3.running_mean', 'detection_transformer.backbone.conv_encoder.model.layer3.3.bn3.running_var', 'detection_transformer.backbone.conv_encoder.model.layer3.4.conv1.weight', 'detection_transformer.backbone.conv_encoder.model.layer3.4.bn1.weight', 'detection_transformer.backbone.conv_encoder.model.layer3.4.bn1.bias', 'detection_transformer.backbone.conv_encoder.model.layer3.4.bn1.running_mean', 'detection_transformer.backbone.conv_encoder.model.layer3.4.bn1.running_var', 'detection_transformer.backbone.conv_encoder.model.layer3.4.conv2.weight', 'detection_transformer.backbone.conv_encoder.model.layer3.4.bn2.weight', 'detection_transformer.backbone.conv_encoder.model.layer3.4.bn2.bias', 'detection_transformer.backbone.conv_encoder.model.layer3.4.bn2.running_mean', 'detection_transformer.backbone.conv_encoder.model.layer3.4.bn2.running_var', 'detection_transformer.backbone.conv_encoder.model.layer3.4.conv3.weight', 'detection_transformer.backbone.conv_encoder.model.layer3.4.bn3.weight', 'detection_transformer.backbone.conv_encoder.model.layer3.4.bn3.bias', 'detection_transformer.backbone.conv_encoder.model.layer3.4.bn3.running_mean', 'detection_transformer.backbone.conv_encoder.model.layer3.4.bn3.running_var', 'detection_transformer.backbone.conv_encoder.model.layer3.5.conv1.weight', 'detection_transformer.backbone.conv_encoder.model.layer3.5.bn1.weight', 'detection_transformer.backbone.conv_encoder.model.layer3.5.bn1.bias', 'detection_transformer.backbone.conv_encoder.model.layer3.5.bn1.running_mean', 'detection_transformer.backbone.conv_encoder.model.layer3.5.bn1.running_var', 'detection_transformer.backbone.conv_encoder.model.layer3.5.conv2.weight', 'detection_transformer.backbone.conv_encoder.model.layer3.5.bn2.weight', 'detection_transformer.backbone.conv_encoder.model.layer3.5.bn2.bias', 'detection_transformer.backbone.conv_encoder.model.layer3.5.bn2.running_mean', 'detection_transformer.backbone.conv_encoder.model.layer3.5.bn2.running_var', 'detection_transformer.backbone.conv_encoder.model.layer3.5.conv3.weight', 'detection_transformer.backbone.conv_encoder.model.layer3.5.bn3.weight', 'detection_transformer.backbone.conv_encoder.model.layer3.5.bn3.bias', 'detection_transformer.backbone.conv_encoder.model.layer3.5.bn3.running_mean', 'detection_transformer.backbone.conv_encoder.model.layer3.5.bn3.running_var', 'detection_transformer.backbone.conv_encoder.model.layer4.0.conv1.weight', 'detection_transformer.backbone.conv_encoder.model.layer4.0.bn1.weight', 'detection_transformer.backbone.conv_encoder.model.layer4.0.bn1.bias', 'detection_transformer.backbone.conv_encoder.model.layer4.0.bn1.running_mean', 'detection_transformer.backbone.conv_encoder.model.layer4.0.bn1.running_var', 'detection_transformer.backbone.conv_encoder.model.layer4.0.conv2.weight', 'detection_transformer.backbone.conv_encoder.model.layer4.0.bn2.weight', 'detection_transformer.backbone.conv_encoder.model.layer4.0.bn2.bias', 'detection_transformer.backbone.conv_encoder.model.layer4.0.bn2.running_mean', 'detection_transformer.backbone.conv_encoder.model.layer4.0.bn2.running_var', 'detection_transformer.backbone.conv_encoder.model.layer4.0.conv3.weight', 'detection_transformer.backbone.conv_encoder.model.layer4.0.bn3.weight', 'detection_transformer.backbone.conv_encoder.model.layer4.0.bn3.bias', 'detection_transformer.backbone.conv_encoder.model.layer4.0.bn3.running_mean', 'detection_transformer.backbone.conv_encoder.model.layer4.0.bn3.running_var', 'detection_transformer.backbone.conv_encoder.model.layer4.0.downsample.0.weight', 'detection_transformer.backbone.conv_encoder.model.layer4.0.downsample.1.weight', 'detection_transformer.backbone.conv_encoder.model.layer4.0.downsample.1.bias', 'detection_transformer.backbone.conv_encoder.model.layer4.0.downsample.1.running_mean', 'detection_transformer.backbone.conv_encoder.model.layer4.0.downsample.1.running_var', 'detection_transformer.backbone.conv_encoder.model.layer4.1.conv1.weight', 'detection_transformer.backbone.conv_encoder.model.layer4.1.bn1.weight', 'detection_transformer.backbone.conv_encoder.model.layer4.1.bn1.bias', 'detection_transformer.backbone.conv_encoder.model.layer4.1.bn1.running_mean', 'detection_transformer.backbone.conv_encoder.model.layer4.1.bn1.running_var', 'detection_transformer.backbone.conv_encoder.model.layer4.1.conv2.weight', 'detection_transformer.backbone.conv_encoder.model.layer4.1.bn2.weight', 'detection_transformer.backbone.conv_encoder.model.layer4.1.bn2.bias', 'detection_transformer.backbone.conv_encoder.model.layer4.1.bn2.running_mean', 'detection_transformer.backbone.conv_encoder.model.layer4.1.bn2.running_var', 'detection_transformer.backbone.conv_encoder.model.layer4.1.conv3.weight', 'detection_transformer.backbone.conv_encoder.model.layer4.1.bn3.weight', 'detection_transformer.backbone.conv_encoder.model.layer4.1.bn3.bias', 'detection_transformer.backbone.conv_encoder.model.layer4.1.bn3.running_mean', 'detection_transformer.backbone.conv_encoder.model.layer4.1.bn3.running_var', 'detection_transformer.backbone.conv_encoder.model.layer4.2.conv1.weight', 'detection_transformer.backbone.conv_encoder.model.layer4.2.bn1.weight', 'detection_transformer.backbone.conv_encoder.model.layer4.2.bn1.bias', 'detection_transformer.backbone.conv_encoder.model.layer4.2.bn1.running_mean', 'detection_transformer.backbone.conv_encoder.model.layer4.2.bn1.running_var', 'detection_transformer.backbone.conv_encoder.model.layer4.2.conv2.weight', 'detection_transformer.backbone.conv_encoder.model.layer4.2.bn2.weight', 'detection_transformer.backbone.conv_encoder.model.layer4.2.bn2.bias', 'detection_transformer.backbone.conv_encoder.model.layer4.2.bn2.running_mean', 'detection_transformer.backbone.conv_encoder.model.layer4.2.bn2.running_var', 'detection_transformer.backbone.conv_encoder.model.layer4.2.conv3.weight', 'detection_transformer.backbone.conv_encoder.model.layer4.2.bn3.weight', 'detection_transformer.backbone.conv_encoder.model.layer4.2.bn3.bias', 'detection_transformer.backbone.conv_encoder.model.layer4.2.bn3.running_mean', 'detection_transformer.backbone.conv_encoder.model.layer4.2.bn3.running_var', 'detection_transformer.input_projection.weight', 'detection_transformer.input_projection.bias', 'detection_transformer.query_position_embeddings.weight', 'detection_transformer.encoder.layers.0.self_attn.k_proj.weight', 'detection_transformer.encoder.layers.0.self_attn.k_proj.bias', 'detection_transformer.encoder.layers.0.self_attn.v_proj.weight', 'detection_transformer.encoder.layers.0.self_attn.v_proj.bias', 'detection_transformer.encoder.layers.0.self_attn.q_proj.weight', 'detection_transformer.encoder.layers.0.self_attn.q_proj.bias', 'detection_transformer.encoder.layers.0.self_attn.out_proj.weight', 'detection_transformer.encoder.layers.0.self_attn.out_proj.bias', 'detection_transformer.encoder.layers.0.self_attn_layer_norm.weight', 'detection_transformer.encoder.layers.0.self_attn_layer_norm.bias', 'detection_transformer.encoder.layers.0.fc1.weight', 'detection_transformer.encoder.layers.0.fc1.bias', 'detection_transformer.encoder.layers.0.fc2.weight', 'detection_transformer.encoder.layers.0.fc2.bias', 'detection_transformer.encoder.layers.0.final_layer_norm.weight', 'detection_transformer.encoder.layers.0.final_layer_norm.bias', 'detection_transformer.encoder.layers.1.self_attn.k_proj.weight', 'detection_transformer.encoder.layers.1.self_attn.k_proj.bias', 'detection_transformer.encoder.layers.1.self_attn.v_proj.weight', 'detection_transformer.encoder.layers.1.self_attn.v_proj.bias', 'detection_transformer.encoder.layers.1.self_attn.q_proj.weight', 'detection_transformer.encoder.layers.1.self_attn.q_proj.bias', 'detection_transformer.encoder.layers.1.self_attn.out_proj.weight', 'detection_transformer.encoder.layers.1.self_attn.out_proj.bias', 'detection_transformer.encoder.layers.1.self_attn_layer_norm.weight', 'detection_transformer.encoder.layers.1.self_attn_layer_norm.bias', 'detection_transformer.encoder.layers.1.fc1.weight', 'detection_transformer.encoder.layers.1.fc1.bias', 'detection_transformer.encoder.layers.1.fc2.weight', 'detection_transformer.encoder.layers.1.fc2.bias', 'detection_transformer.encoder.layers.1.final_layer_norm.weight', 'detection_transformer.encoder.layers.1.final_layer_norm.bias', 'detection_transformer.encoder.layers.2.self_attn.k_proj.weight', 'detection_transformer.encoder.layers.2.self_attn.k_proj.bias', 'detection_transformer.encoder.layers.2.self_attn.v_proj.weight', 'detection_transformer.encoder.layers.2.self_attn.v_proj.bias', 'detection_transformer.encoder.layers.2.self_attn.q_proj.weight', 'detection_transformer.encoder.layers.2.self_attn.q_proj.bias', 'detection_transformer.encoder.layers.2.self_attn.out_proj.weight', 'detection_transformer.encoder.layers.2.self_attn.out_proj.bias', 'detection_transformer.encoder.layers.2.self_attn_layer_norm.weight', 'detection_transformer.encoder.layers.2.self_attn_layer_norm.bias', 'detection_transformer.encoder.layers.2.fc1.weight', 'detection_transformer.encoder.layers.2.fc1.bias', 'detection_transformer.encoder.layers.2.fc2.weight', 'detection_transformer.encoder.layers.2.fc2.bias', 'detection_transformer.encoder.layers.2.final_layer_norm.weight', 'detection_transformer.encoder.layers.2.final_layer_norm.bias', 'detection_transformer.encoder.layers.3.self_attn.k_proj.weight', 'detection_transformer.encoder.layers.3.self_attn.k_proj.bias', 'detection_transformer.encoder.layers.3.self_attn.v_proj.weight', 'detection_transformer.encoder.layers.3.self_attn.v_proj.bias', 'detection_transformer.encoder.layers.3.self_attn.q_proj.weight', 'detection_transformer.encoder.layers.3.self_attn.q_proj.bias', 'detection_transformer.encoder.layers.3.self_attn.out_proj.weight', 'detection_transformer.encoder.layers.3.self_attn.out_proj.bias', 'detection_transformer.encoder.layers.3.self_attn_layer_norm.weight', 'detection_transformer.encoder.layers.3.self_attn_layer_norm.bias', 'detection_transformer.encoder.layers.3.fc1.weight', 'detection_transformer.encoder.layers.3.fc1.bias', 'detection_transformer.encoder.layers.3.fc2.weight', 'detection_transformer.encoder.layers.3.fc2.bias', 'detection_transformer.encoder.layers.3.final_layer_norm.weight', 'detection_transformer.encoder.layers.3.final_layer_norm.bias', 'detection_transformer.encoder.layers.4.self_attn.k_proj.weight', 'detection_transformer.encoder.layers.4.self_attn.k_proj.bias', 'detection_transformer.encoder.layers.4.self_attn.v_proj.weight', 'detection_transformer.encoder.layers.4.self_attn.v_proj.bias', 'detection_transformer.encoder.layers.4.self_attn.q_proj.weight', 'detection_transformer.encoder.layers.4.self_attn.q_proj.bias', 'detection_transformer.encoder.layers.4.self_attn.out_proj.weight', 'detection_transformer.encoder.layers.4.self_attn.out_proj.bias', 'detection_transformer.encoder.layers.4.self_attn_layer_norm.weight', 'detection_transformer.encoder.layers.4.self_attn_layer_norm.bias', 'detection_transformer.encoder.layers.4.fc1.weight', 'detection_transformer.encoder.layers.4.fc1.bias', 'detection_transformer.encoder.layers.4.fc2.weight', 'detection_transformer.encoder.layers.4.fc2.bias', 'detection_transformer.encoder.layers.4.final_layer_norm.weight', 'detection_transformer.encoder.layers.4.final_layer_norm.bias', 'detection_transformer.encoder.layers.5.self_attn.k_proj.weight', 'detection_transformer.encoder.layers.5.self_attn.k_proj.bias', 'detection_transformer.encoder.layers.5.self_attn.v_proj.weight', 'detection_transformer.encoder.layers.5.self_attn.v_proj.bias', 'detection_transformer.encoder.layers.5.self_attn.q_proj.weight', 'detection_transformer.encoder.layers.5.self_attn.q_proj.bias', 'detection_transformer.encoder.layers.5.self_attn.out_proj.weight', 'detection_transformer.encoder.layers.5.self_attn.out_proj.bias', 'detection_transformer.encoder.layers.5.self_attn_layer_norm.weight', 'detection_transformer.encoder.layers.5.self_attn_layer_norm.bias', 'detection_transformer.encoder.layers.5.fc1.weight', 'detection_transformer.encoder.layers.5.fc1.bias', 'detection_transformer.encoder.layers.5.fc2.weight', 'detection_transformer.encoder.layers.5.fc2.bias', 'detection_transformer.encoder.layers.5.final_layer_norm.weight', 'detection_transformer.encoder.layers.5.final_layer_norm.bias', 'detection_transformer.decoder.layers.0.sa_qcontent_proj.weight', 'detection_transformer.decoder.layers.0.sa_qcontent_proj.bias', 'detection_transformer.decoder.layers.0.sa_qpos_proj.weight', 'detection_transformer.decoder.layers.0.sa_qpos_proj.bias', 'detection_transformer.decoder.layers.0.sa_kcontent_proj.weight', 'detection_transformer.decoder.layers.0.sa_kcontent_proj.bias', 'detection_transformer.decoder.layers.0.sa_kpos_proj.weight', 'detection_transformer.decoder.layers.0.sa_kpos_proj.bias', 'detection_transformer.decoder.layers.0.sa_v_proj.weight', 'detection_transformer.decoder.layers.0.sa_v_proj.bias', 'detection_transformer.decoder.layers.0.self_attn.out_proj.weight', 'detection_transformer.decoder.layers.0.self_attn.out_proj.bias', 'detection_transformer.decoder.layers.0.self_attn_layer_norm.weight', 'detection_transformer.decoder.layers.0.self_attn_layer_norm.bias', 'detection_transformer.decoder.layers.0.ca_qcontent_proj.weight', 'detection_transformer.decoder.layers.0.ca_qcontent_proj.bias', 'detection_transformer.decoder.layers.0.ca_qpos_proj.weight', 'detection_transformer.decoder.layers.0.ca_qpos_proj.bias', 'detection_transformer.decoder.layers.0.ca_kcontent_proj.weight', 'detection_transformer.decoder.layers.0.ca_kcontent_proj.bias', 'detection_transformer.decoder.layers.0.ca_kpos_proj.weight', 'detection_transformer.decoder.layers.0.ca_kpos_proj.bias', 'detection_transformer.decoder.layers.0.ca_v_proj.weight', 'detection_transformer.decoder.layers.0.ca_v_proj.bias', 'detection_transformer.decoder.layers.0.ca_qpos_sine_proj.weight', 'detection_transformer.decoder.layers.0.ca_qpos_sine_proj.bias', 'detection_transformer.decoder.layers.0.encoder_attn.out_proj.weight', 'detection_transformer.decoder.layers.0.encoder_attn.out_proj.bias', 'detection_transformer.decoder.layers.0.encoder_attn_layer_norm.weight', 'detection_transformer.decoder.layers.0.encoder_attn_layer_norm.bias', 'detection_transformer.decoder.layers.0.fc1.weight', 'detection_transformer.decoder.layers.0.fc1.bias', 'detection_transformer.decoder.layers.0.fc2.weight', 'detection_transformer.decoder.layers.0.fc2.bias', 'detection_transformer.decoder.layers.0.final_layer_norm.weight', 'detection_transformer.decoder.layers.0.final_layer_norm.bias', 'detection_transformer.decoder.layers.1.sa_qcontent_proj.weight', 'detection_transformer.decoder.layers.1.sa_qcontent_proj.bias', 'detection_transformer.decoder.layers.1.sa_qpos_proj.weight', 'detection_transformer.decoder.layers.1.sa_qpos_proj.bias', 'detection_transformer.decoder.layers.1.sa_kcontent_proj.weight', 'detection_transformer.decoder.layers.1.sa_kcontent_proj.bias', 'detection_transformer.decoder.layers.1.sa_kpos_proj.weight', 'detection_transformer.decoder.layers.1.sa_kpos_proj.bias', 'detection_transformer.decoder.layers.1.sa_v_proj.weight', 'detection_transformer.decoder.layers.1.sa_v_proj.bias', 'detection_transformer.decoder.layers.1.self_attn.out_proj.weight', 'detection_transformer.decoder.layers.1.self_attn.out_proj.bias', 'detection_transformer.decoder.layers.1.self_attn_layer_norm.weight', 'detection_transformer.decoder.layers.1.self_attn_layer_norm.bias', 'detection_transformer.decoder.layers.1.ca_qcontent_proj.weight', 'detection_transformer.decoder.layers.1.ca_qcontent_proj.bias', 'detection_transformer.decoder.layers.1.ca_kcontent_proj.weight', 'detection_transformer.decoder.layers.1.ca_kcontent_proj.bias', 'detection_transformer.decoder.layers.1.ca_kpos_proj.weight', 'detection_transformer.decoder.layers.1.ca_kpos_proj.bias', 'detection_transformer.decoder.layers.1.ca_v_proj.weight', 'detection_transformer.decoder.layers.1.ca_v_proj.bias', 'detection_transformer.decoder.layers.1.ca_qpos_sine_proj.weight', 'detection_transformer.decoder.layers.1.ca_qpos_sine_proj.bias', 'detection_transformer.decoder.layers.1.encoder_attn.out_proj.weight', 'detection_transformer.decoder.layers.1.encoder_attn.out_proj.bias', 'detection_transformer.decoder.layers.1.encoder_attn_layer_norm.weight', 'detection_transformer.decoder.layers.1.encoder_attn_layer_norm.bias', 'detection_transformer.decoder.layers.1.fc1.weight', 'detection_transformer.decoder.layers.1.fc1.bias', 'detection_transformer.decoder.layers.1.fc2.weight', 'detection_transformer.decoder.layers.1.fc2.bias', 'detection_transformer.decoder.layers.1.final_layer_norm.weight', 'detection_transformer.decoder.layers.1.final_layer_norm.bias', 'detection_transformer.decoder.layers.2.sa_qcontent_proj.weight', 'detection_transformer.decoder.layers.2.sa_qcontent_proj.bias', 'detection_transformer.decoder.layers.2.sa_qpos_proj.weight', 'detection_transformer.decoder.layers.2.sa_qpos_proj.bias', 'detection_transformer.decoder.layers.2.sa_kcontent_proj.weight', 'detection_transformer.decoder.layers.2.sa_kcontent_proj.bias', 'detection_transformer.decoder.layers.2.sa_kpos_proj.weight', 'detection_transformer.decoder.layers.2.sa_kpos_proj.bias', 'detection_transformer.decoder.layers.2.sa_v_proj.weight', 'detection_transformer.decoder.layers.2.sa_v_proj.bias', 'detection_transformer.decoder.layers.2.self_attn.out_proj.weight', 'detection_transformer.decoder.layers.2.self_attn.out_proj.bias', 'detection_transformer.decoder.layers.2.self_attn_layer_norm.weight', 'detection_transformer.decoder.layers.2.self_attn_layer_norm.bias', 'detection_transformer.decoder.layers.2.ca_qcontent_proj.weight', 'detection_transformer.decoder.layers.2.ca_qcontent_proj.bias', 'detection_transformer.decoder.layers.2.ca_kcontent_proj.weight', 'detection_transformer.decoder.layers.2.ca_kcontent_proj.bias', 'detection_transformer.decoder.layers.2.ca_kpos_proj.weight', 'detection_transformer.decoder.layers.2.ca_kpos_proj.bias', 'detection_transformer.decoder.layers.2.ca_v_proj.weight', 'detection_transformer.decoder.layers.2.ca_v_proj.bias', 'detection_transformer.decoder.layers.2.ca_qpos_sine_proj.weight', 'detection_transformer.decoder.layers.2.ca_qpos_sine_proj.bias', 'detection_transformer.decoder.layers.2.encoder_attn.out_proj.weight', 'detection_transformer.decoder.layers.2.encoder_attn.out_proj.bias', 'detection_transformer.decoder.layers.2.encoder_attn_layer_norm.weight', 'detection_transformer.decoder.layers.2.encoder_attn_layer_norm.bias', 'detection_transformer.decoder.layers.2.fc1.weight', 'detection_transformer.decoder.layers.2.fc1.bias', 'detection_transformer.decoder.layers.2.fc2.weight', 'detection_transformer.decoder.layers.2.fc2.bias', 'detection_transformer.decoder.layers.2.final_layer_norm.weight', 'detection_transformer.decoder.layers.2.final_layer_norm.bias', 'detection_transformer.decoder.layers.3.sa_qcontent_proj.weight', 'detection_transformer.decoder.layers.3.sa_qcontent_proj.bias', 'detection_transformer.decoder.layers.3.sa_qpos_proj.weight', 'detection_transformer.decoder.layers.3.sa_qpos_proj.bias', 'detection_transformer.decoder.layers.3.sa_kcontent_proj.weight', 'detection_transformer.decoder.layers.3.sa_kcontent_proj.bias', 'detection_transformer.decoder.layers.3.sa_kpos_proj.weight', 'detection_transformer.decoder.layers.3.sa_kpos_proj.bias', 'detection_transformer.decoder.layers.3.sa_v_proj.weight', 'detection_transformer.decoder.layers.3.sa_v_proj.bias', 'detection_transformer.decoder.layers.3.self_attn.out_proj.weight', 'detection_transformer.decoder.layers.3.self_attn.out_proj.bias', 'detection_transformer.decoder.layers.3.self_attn_layer_norm.weight', 'detection_transformer.decoder.layers.3.self_attn_layer_norm.bias', 'detection_transformer.decoder.layers.3.ca_qcontent_proj.weight', 'detection_transformer.decoder.layers.3.ca_qcontent_proj.bias', 'detection_transformer.decoder.layers.3.ca_kcontent_proj.weight', 'detection_transformer.decoder.layers.3.ca_kcontent_proj.bias', 'detection_transformer.decoder.layers.3.ca_kpos_proj.weight', 'detection_transformer.decoder.layers.3.ca_kpos_proj.bias', 'detection_transformer.decoder.layers.3.ca_v_proj.weight', 'detection_transformer.decoder.layers.3.ca_v_proj.bias', 'detection_transformer.decoder.layers.3.ca_qpos_sine_proj.weight', 'detection_transformer.decoder.layers.3.ca_qpos_sine_proj.bias', 'detection_transformer.decoder.layers.3.encoder_attn.out_proj.weight', 'detection_transformer.decoder.layers.3.encoder_attn.out_proj.bias', 'detection_transformer.decoder.layers.3.encoder_attn_layer_norm.weight', 'detection_transformer.decoder.layers.3.encoder_attn_layer_norm.bias', 'detection_transformer.decoder.layers.3.fc1.weight', 'detection_transformer.decoder.layers.3.fc1.bias', 'detection_transformer.decoder.layers.3.fc2.weight', 'detection_transformer.decoder.layers.3.fc2.bias', 'detection_transformer.decoder.layers.3.final_layer_norm.weight', 'detection_transformer.decoder.layers.3.final_layer_norm.bias', 'detection_transformer.decoder.layers.4.sa_qcontent_proj.weight', 'detection_transformer.decoder.layers.4.sa_qcontent_proj.bias', 'detection_transformer.decoder.layers.4.sa_qpos_proj.weight', 'detection_transformer.decoder.layers.4.sa_qpos_proj.bias', 'detection_transformer.decoder.layers.4.sa_kcontent_proj.weight', 'detection_transformer.decoder.layers.4.sa_kcontent_proj.bias', 'detection_transformer.decoder.layers.4.sa_kpos_proj.weight', 'detection_transformer.decoder.layers.4.sa_kpos_proj.bias', 'detection_transformer.decoder.layers.4.sa_v_proj.weight', 'detection_transformer.decoder.layers.4.sa_v_proj.bias', 'detection_transformer.decoder.layers.4.self_attn.out_proj.weight', 'detection_transformer.decoder.layers.4.self_attn.out_proj.bias', 'detection_transformer.decoder.layers.4.self_attn_layer_norm.weight', 'detection_transformer.decoder.layers.4.self_attn_layer_norm.bias', 'detection_transformer.decoder.layers.4.ca_qcontent_proj.weight', 'detection_transformer.decoder.layers.4.ca_qcontent_proj.bias', 'detection_transformer.decoder.layers.4.ca_kcontent_proj.weight', 'detection_transformer.decoder.layers.4.ca_kcontent_proj.bias', 'detection_transformer.decoder.layers.4.ca_kpos_proj.weight', 'detection_transformer.decoder.layers.4.ca_kpos_proj.bias', 'detection_transformer.decoder.layers.4.ca_v_proj.weight', 'detection_transformer.decoder.layers.4.ca_v_proj.bias', 'detection_transformer.decoder.layers.4.ca_qpos_sine_proj.weight', 'detection_transformer.decoder.layers.4.ca_qpos_sine_proj.bias', 'detection_transformer.decoder.layers.4.encoder_attn.out_proj.weight', 'detection_transformer.decoder.layers.4.encoder_attn.out_proj.bias', 'detection_transformer.decoder.layers.4.encoder_attn_layer_norm.weight', 'detection_transformer.decoder.layers.4.encoder_attn_layer_norm.bias', 'detection_transformer.decoder.layers.4.fc1.weight', 'detection_transformer.decoder.layers.4.fc1.bias', 'detection_transformer.decoder.layers.4.fc2.weight', 'detection_transformer.decoder.layers.4.fc2.bias', 'detection_transformer.decoder.layers.4.final_layer_norm.weight', 'detection_transformer.decoder.layers.4.final_layer_norm.bias', 'detection_transformer.decoder.layers.5.sa_qcontent_proj.weight', 'detection_transformer.decoder.layers.5.sa_qcontent_proj.bias', 'detection_transformer.decoder.layers.5.sa_qpos_proj.weight', 'detection_transformer.decoder.layers.5.sa_qpos_proj.bias', 'detection_transformer.decoder.layers.5.sa_kcontent_proj.weight', 'detection_transformer.decoder.layers.5.sa_kcontent_proj.bias', 'detection_transformer.decoder.layers.5.sa_kpos_proj.weight', 'detection_transformer.decoder.layers.5.sa_kpos_proj.bias', 'detection_transformer.decoder.layers.5.sa_v_proj.weight', 'detection_transformer.decoder.layers.5.sa_v_proj.bias', 'detection_transformer.decoder.layers.5.self_attn.out_proj.weight', 'detection_transformer.decoder.layers.5.self_attn.out_proj.bias', 'detection_transformer.decoder.layers.5.self_attn_layer_norm.weight', 'detection_transformer.decoder.layers.5.self_attn_layer_norm.bias', 'detection_transformer.decoder.layers.5.ca_qcontent_proj.weight', 'detection_transformer.decoder.layers.5.ca_qcontent_proj.bias', 'detection_transformer.decoder.layers.5.ca_kcontent_proj.weight', 'detection_transformer.decoder.layers.5.ca_kcontent_proj.bias', 'detection_transformer.decoder.layers.5.ca_kpos_proj.weight', 'detection_transformer.decoder.layers.5.ca_kpos_proj.bias', 'detection_transformer.decoder.layers.5.ca_v_proj.weight', 'detection_transformer.decoder.layers.5.ca_v_proj.bias', 'detection_transformer.decoder.layers.5.ca_qpos_sine_proj.weight', 'detection_transformer.decoder.layers.5.ca_qpos_sine_proj.bias', 'detection_transformer.decoder.layers.5.encoder_attn.out_proj.weight', 'detection_transformer.decoder.layers.5.encoder_attn.out_proj.bias', 'detection_transformer.decoder.layers.5.encoder_attn_layer_norm.weight', 'detection_transformer.decoder.layers.5.encoder_attn_layer_norm.bias', 'detection_transformer.decoder.layers.5.fc1.weight', 'detection_transformer.decoder.layers.5.fc1.bias', 'detection_transformer.decoder.layers.5.fc2.weight', 'detection_transformer.decoder.layers.5.fc2.bias', 'detection_transformer.decoder.layers.5.final_layer_norm.weight', 'detection_transformer.decoder.layers.5.final_layer_norm.bias', 'detection_transformer.decoder.layernorm.weight', 'detection_transformer.decoder.layernorm.bias', 'detection_transformer.decoder.query_scale.layers.0.weight', 'detection_transformer.decoder.query_scale.layers.0.bias', 'detection_transformer.decoder.query_scale.layers.1.weight', 'detection_transformer.decoder.query_scale.layers.1.bias', 'detection_transformer.decoder.ref_point_head.layers.0.weight', 'detection_transformer.decoder.ref_point_head.layers.0.bias', 'detection_transformer.decoder.ref_point_head.layers.1.weight', 'detection_transformer.decoder.ref_point_head.layers.1.bias', 'bbox_predictor.layers.0.weight', 'bbox_predictor.layers.0.bias', 'bbox_predictor.layers.1.weight', 'bbox_predictor.layers.1.bias', 'bbox_predictor.layers.2.weight', 'bbox_predictor.layers.2.bias', 'is_this_text_a_dialogue.layers.0.weight', 'is_this_text_a_dialogue.layers.0.bias', 'is_this_text_a_dialogue.layers.1.weight', 'is_this_text_a_dialogue.layers.1.bias', 'is_this_text_a_dialogue.layers.2.weight', 'is_this_text_a_dialogue.layers.2.bias', 'character_character_matching_head.layers.0.weight', 'character_character_matching_head.layers.0.bias', 'character_character_matching_head.layers.1.weight', 'character_character_matching_head.layers.1.bias', 'character_character_matching_head.layers.2.weight', 'character_character_matching_head.layers.2.bias', 'text_character_matching_head.layers.0.weight', 'text_character_matching_head.layers.0.bias', 'text_character_matching_head.layers.1.weight', 'text_character_matching_head.layers.1.bias', 'text_character_matching_head.layers.2.weight', 'text_character_matching_head.layers.2.bias', 'class_labels_classifier.weight', 'class_labels_classifier.bias'])"
      ]
     },
     "execution_count": 625,
     "metadata": {},
     "output_type": "execute_result"
    }
   ],
   "source": [
    "state_dict = load_state_dict(str(Path(\"models/magi/pytorch_model.bin\").resolve()))\n",
    "state_dict.keys()"
   ]
  },
  {
   "cell_type": "markdown",
   "metadata": {},
   "source": [
    "Считываем конфиг из локальной директории и инициализируем нашу модель с ним"
   ]
  },
  {
   "cell_type": "code",
   "execution_count": 626,
   "metadata": {},
   "outputs": [],
   "source": [
    "config: MagiConfig = MagiConfig.from_json_file(Path(\"libs/lizi/my_magi/config.json\").resolve())  # type: ignore\n",
    "model = MyMagiModel(config)"
   ]
  },
  {
   "cell_type": "markdown",
   "metadata": {},
   "source": [
    "Загружаем pre-train веса в модель"
   ]
  },
  {
   "cell_type": "code",
   "execution_count": 627,
   "metadata": {},
   "outputs": [
    {
     "data": {
      "text/plain": [
       "_IncompatibleKeys(missing_keys=[], unexpected_keys=['ocr_model.encoder.embeddings.cls_token', 'ocr_model.encoder.embeddings.position_embeddings', 'ocr_model.encoder.embeddings.patch_embeddings.projection.weight', 'ocr_model.encoder.embeddings.patch_embeddings.projection.bias', 'ocr_model.encoder.encoder.layer.0.attention.attention.query.weight', 'ocr_model.encoder.encoder.layer.0.attention.attention.key.weight', 'ocr_model.encoder.encoder.layer.0.attention.attention.value.weight', 'ocr_model.encoder.encoder.layer.0.attention.output.dense.weight', 'ocr_model.encoder.encoder.layer.0.attention.output.dense.bias', 'ocr_model.encoder.encoder.layer.0.intermediate.dense.weight', 'ocr_model.encoder.encoder.layer.0.intermediate.dense.bias', 'ocr_model.encoder.encoder.layer.0.output.dense.weight', 'ocr_model.encoder.encoder.layer.0.output.dense.bias', 'ocr_model.encoder.encoder.layer.0.layernorm_before.weight', 'ocr_model.encoder.encoder.layer.0.layernorm_before.bias', 'ocr_model.encoder.encoder.layer.0.layernorm_after.weight', 'ocr_model.encoder.encoder.layer.0.layernorm_after.bias', 'ocr_model.encoder.encoder.layer.1.attention.attention.query.weight', 'ocr_model.encoder.encoder.layer.1.attention.attention.key.weight', 'ocr_model.encoder.encoder.layer.1.attention.attention.value.weight', 'ocr_model.encoder.encoder.layer.1.attention.output.dense.weight', 'ocr_model.encoder.encoder.layer.1.attention.output.dense.bias', 'ocr_model.encoder.encoder.layer.1.intermediate.dense.weight', 'ocr_model.encoder.encoder.layer.1.intermediate.dense.bias', 'ocr_model.encoder.encoder.layer.1.output.dense.weight', 'ocr_model.encoder.encoder.layer.1.output.dense.bias', 'ocr_model.encoder.encoder.layer.1.layernorm_before.weight', 'ocr_model.encoder.encoder.layer.1.layernorm_before.bias', 'ocr_model.encoder.encoder.layer.1.layernorm_after.weight', 'ocr_model.encoder.encoder.layer.1.layernorm_after.bias', 'ocr_model.encoder.encoder.layer.2.attention.attention.query.weight', 'ocr_model.encoder.encoder.layer.2.attention.attention.key.weight', 'ocr_model.encoder.encoder.layer.2.attention.attention.value.weight', 'ocr_model.encoder.encoder.layer.2.attention.output.dense.weight', 'ocr_model.encoder.encoder.layer.2.attention.output.dense.bias', 'ocr_model.encoder.encoder.layer.2.intermediate.dense.weight', 'ocr_model.encoder.encoder.layer.2.intermediate.dense.bias', 'ocr_model.encoder.encoder.layer.2.output.dense.weight', 'ocr_model.encoder.encoder.layer.2.output.dense.bias', 'ocr_model.encoder.encoder.layer.2.layernorm_before.weight', 'ocr_model.encoder.encoder.layer.2.layernorm_before.bias', 'ocr_model.encoder.encoder.layer.2.layernorm_after.weight', 'ocr_model.encoder.encoder.layer.2.layernorm_after.bias', 'ocr_model.encoder.encoder.layer.3.attention.attention.query.weight', 'ocr_model.encoder.encoder.layer.3.attention.attention.key.weight', 'ocr_model.encoder.encoder.layer.3.attention.attention.value.weight', 'ocr_model.encoder.encoder.layer.3.attention.output.dense.weight', 'ocr_model.encoder.encoder.layer.3.attention.output.dense.bias', 'ocr_model.encoder.encoder.layer.3.intermediate.dense.weight', 'ocr_model.encoder.encoder.layer.3.intermediate.dense.bias', 'ocr_model.encoder.encoder.layer.3.output.dense.weight', 'ocr_model.encoder.encoder.layer.3.output.dense.bias', 'ocr_model.encoder.encoder.layer.3.layernorm_before.weight', 'ocr_model.encoder.encoder.layer.3.layernorm_before.bias', 'ocr_model.encoder.encoder.layer.3.layernorm_after.weight', 'ocr_model.encoder.encoder.layer.3.layernorm_after.bias', 'ocr_model.encoder.encoder.layer.4.attention.attention.query.weight', 'ocr_model.encoder.encoder.layer.4.attention.attention.key.weight', 'ocr_model.encoder.encoder.layer.4.attention.attention.value.weight', 'ocr_model.encoder.encoder.layer.4.attention.output.dense.weight', 'ocr_model.encoder.encoder.layer.4.attention.output.dense.bias', 'ocr_model.encoder.encoder.layer.4.intermediate.dense.weight', 'ocr_model.encoder.encoder.layer.4.intermediate.dense.bias', 'ocr_model.encoder.encoder.layer.4.output.dense.weight', 'ocr_model.encoder.encoder.layer.4.output.dense.bias', 'ocr_model.encoder.encoder.layer.4.layernorm_before.weight', 'ocr_model.encoder.encoder.layer.4.layernorm_before.bias', 'ocr_model.encoder.encoder.layer.4.layernorm_after.weight', 'ocr_model.encoder.encoder.layer.4.layernorm_after.bias', 'ocr_model.encoder.encoder.layer.5.attention.attention.query.weight', 'ocr_model.encoder.encoder.layer.5.attention.attention.key.weight', 'ocr_model.encoder.encoder.layer.5.attention.attention.value.weight', 'ocr_model.encoder.encoder.layer.5.attention.output.dense.weight', 'ocr_model.encoder.encoder.layer.5.attention.output.dense.bias', 'ocr_model.encoder.encoder.layer.5.intermediate.dense.weight', 'ocr_model.encoder.encoder.layer.5.intermediate.dense.bias', 'ocr_model.encoder.encoder.layer.5.output.dense.weight', 'ocr_model.encoder.encoder.layer.5.output.dense.bias', 'ocr_model.encoder.encoder.layer.5.layernorm_before.weight', 'ocr_model.encoder.encoder.layer.5.layernorm_before.bias', 'ocr_model.encoder.encoder.layer.5.layernorm_after.weight', 'ocr_model.encoder.encoder.layer.5.layernorm_after.bias', 'ocr_model.encoder.encoder.layer.6.attention.attention.query.weight', 'ocr_model.encoder.encoder.layer.6.attention.attention.key.weight', 'ocr_model.encoder.encoder.layer.6.attention.attention.value.weight', 'ocr_model.encoder.encoder.layer.6.attention.output.dense.weight', 'ocr_model.encoder.encoder.layer.6.attention.output.dense.bias', 'ocr_model.encoder.encoder.layer.6.intermediate.dense.weight', 'ocr_model.encoder.encoder.layer.6.intermediate.dense.bias', 'ocr_model.encoder.encoder.layer.6.output.dense.weight', 'ocr_model.encoder.encoder.layer.6.output.dense.bias', 'ocr_model.encoder.encoder.layer.6.layernorm_before.weight', 'ocr_model.encoder.encoder.layer.6.layernorm_before.bias', 'ocr_model.encoder.encoder.layer.6.layernorm_after.weight', 'ocr_model.encoder.encoder.layer.6.layernorm_after.bias', 'ocr_model.encoder.encoder.layer.7.attention.attention.query.weight', 'ocr_model.encoder.encoder.layer.7.attention.attention.key.weight', 'ocr_model.encoder.encoder.layer.7.attention.attention.value.weight', 'ocr_model.encoder.encoder.layer.7.attention.output.dense.weight', 'ocr_model.encoder.encoder.layer.7.attention.output.dense.bias', 'ocr_model.encoder.encoder.layer.7.intermediate.dense.weight', 'ocr_model.encoder.encoder.layer.7.intermediate.dense.bias', 'ocr_model.encoder.encoder.layer.7.output.dense.weight', 'ocr_model.encoder.encoder.layer.7.output.dense.bias', 'ocr_model.encoder.encoder.layer.7.layernorm_before.weight', 'ocr_model.encoder.encoder.layer.7.layernorm_before.bias', 'ocr_model.encoder.encoder.layer.7.layernorm_after.weight', 'ocr_model.encoder.encoder.layer.7.layernorm_after.bias', 'ocr_model.encoder.encoder.layer.8.attention.attention.query.weight', 'ocr_model.encoder.encoder.layer.8.attention.attention.key.weight', 'ocr_model.encoder.encoder.layer.8.attention.attention.value.weight', 'ocr_model.encoder.encoder.layer.8.attention.output.dense.weight', 'ocr_model.encoder.encoder.layer.8.attention.output.dense.bias', 'ocr_model.encoder.encoder.layer.8.intermediate.dense.weight', 'ocr_model.encoder.encoder.layer.8.intermediate.dense.bias', 'ocr_model.encoder.encoder.layer.8.output.dense.weight', 'ocr_model.encoder.encoder.layer.8.output.dense.bias', 'ocr_model.encoder.encoder.layer.8.layernorm_before.weight', 'ocr_model.encoder.encoder.layer.8.layernorm_before.bias', 'ocr_model.encoder.encoder.layer.8.layernorm_after.weight', 'ocr_model.encoder.encoder.layer.8.layernorm_after.bias', 'ocr_model.encoder.encoder.layer.9.attention.attention.query.weight', 'ocr_model.encoder.encoder.layer.9.attention.attention.key.weight', 'ocr_model.encoder.encoder.layer.9.attention.attention.value.weight', 'ocr_model.encoder.encoder.layer.9.attention.output.dense.weight', 'ocr_model.encoder.encoder.layer.9.attention.output.dense.bias', 'ocr_model.encoder.encoder.layer.9.intermediate.dense.weight', 'ocr_model.encoder.encoder.layer.9.intermediate.dense.bias', 'ocr_model.encoder.encoder.layer.9.output.dense.weight', 'ocr_model.encoder.encoder.layer.9.output.dense.bias', 'ocr_model.encoder.encoder.layer.9.layernorm_before.weight', 'ocr_model.encoder.encoder.layer.9.layernorm_before.bias', 'ocr_model.encoder.encoder.layer.9.layernorm_after.weight', 'ocr_model.encoder.encoder.layer.9.layernorm_after.bias', 'ocr_model.encoder.encoder.layer.10.attention.attention.query.weight', 'ocr_model.encoder.encoder.layer.10.attention.attention.key.weight', 'ocr_model.encoder.encoder.layer.10.attention.attention.value.weight', 'ocr_model.encoder.encoder.layer.10.attention.output.dense.weight', 'ocr_model.encoder.encoder.layer.10.attention.output.dense.bias', 'ocr_model.encoder.encoder.layer.10.intermediate.dense.weight', 'ocr_model.encoder.encoder.layer.10.intermediate.dense.bias', 'ocr_model.encoder.encoder.layer.10.output.dense.weight', 'ocr_model.encoder.encoder.layer.10.output.dense.bias', 'ocr_model.encoder.encoder.layer.10.layernorm_before.weight', 'ocr_model.encoder.encoder.layer.10.layernorm_before.bias', 'ocr_model.encoder.encoder.layer.10.layernorm_after.weight', 'ocr_model.encoder.encoder.layer.10.layernorm_after.bias', 'ocr_model.encoder.encoder.layer.11.attention.attention.query.weight', 'ocr_model.encoder.encoder.layer.11.attention.attention.key.weight', 'ocr_model.encoder.encoder.layer.11.attention.attention.value.weight', 'ocr_model.encoder.encoder.layer.11.attention.output.dense.weight', 'ocr_model.encoder.encoder.layer.11.attention.output.dense.bias', 'ocr_model.encoder.encoder.layer.11.intermediate.dense.weight', 'ocr_model.encoder.encoder.layer.11.intermediate.dense.bias', 'ocr_model.encoder.encoder.layer.11.output.dense.weight', 'ocr_model.encoder.encoder.layer.11.output.dense.bias', 'ocr_model.encoder.encoder.layer.11.layernorm_before.weight', 'ocr_model.encoder.encoder.layer.11.layernorm_before.bias', 'ocr_model.encoder.encoder.layer.11.layernorm_after.weight', 'ocr_model.encoder.encoder.layer.11.layernorm_after.bias', 'ocr_model.encoder.layernorm.weight', 'ocr_model.encoder.layernorm.bias', 'ocr_model.encoder.pooler.dense.weight', 'ocr_model.encoder.pooler.dense.bias', 'ocr_model.decoder.model.decoder.embed_tokens.weight', 'ocr_model.decoder.model.decoder.embed_positions.weight', 'ocr_model.decoder.model.decoder.layernorm_embedding.weight', 'ocr_model.decoder.model.decoder.layernorm_embedding.bias', 'ocr_model.decoder.model.decoder.layers.0.self_attn.k_proj.weight', 'ocr_model.decoder.model.decoder.layers.0.self_attn.k_proj.bias', 'ocr_model.decoder.model.decoder.layers.0.self_attn.v_proj.weight', 'ocr_model.decoder.model.decoder.layers.0.self_attn.v_proj.bias', 'ocr_model.decoder.model.decoder.layers.0.self_attn.q_proj.weight', 'ocr_model.decoder.model.decoder.layers.0.self_attn.q_proj.bias', 'ocr_model.decoder.model.decoder.layers.0.self_attn.out_proj.weight', 'ocr_model.decoder.model.decoder.layers.0.self_attn.out_proj.bias', 'ocr_model.decoder.model.decoder.layers.0.self_attn_layer_norm.weight', 'ocr_model.decoder.model.decoder.layers.0.self_attn_layer_norm.bias', 'ocr_model.decoder.model.decoder.layers.0.encoder_attn.k_proj.weight', 'ocr_model.decoder.model.decoder.layers.0.encoder_attn.k_proj.bias', 'ocr_model.decoder.model.decoder.layers.0.encoder_attn.v_proj.weight', 'ocr_model.decoder.model.decoder.layers.0.encoder_attn.v_proj.bias', 'ocr_model.decoder.model.decoder.layers.0.encoder_attn.q_proj.weight', 'ocr_model.decoder.model.decoder.layers.0.encoder_attn.q_proj.bias', 'ocr_model.decoder.model.decoder.layers.0.encoder_attn.out_proj.weight', 'ocr_model.decoder.model.decoder.layers.0.encoder_attn.out_proj.bias', 'ocr_model.decoder.model.decoder.layers.0.encoder_attn_layer_norm.weight', 'ocr_model.decoder.model.decoder.layers.0.encoder_attn_layer_norm.bias', 'ocr_model.decoder.model.decoder.layers.0.fc1.weight', 'ocr_model.decoder.model.decoder.layers.0.fc1.bias', 'ocr_model.decoder.model.decoder.layers.0.fc2.weight', 'ocr_model.decoder.model.decoder.layers.0.fc2.bias', 'ocr_model.decoder.model.decoder.layers.0.final_layer_norm.weight', 'ocr_model.decoder.model.decoder.layers.0.final_layer_norm.bias', 'ocr_model.decoder.model.decoder.layers.1.self_attn.k_proj.weight', 'ocr_model.decoder.model.decoder.layers.1.self_attn.k_proj.bias', 'ocr_model.decoder.model.decoder.layers.1.self_attn.v_proj.weight', 'ocr_model.decoder.model.decoder.layers.1.self_attn.v_proj.bias', 'ocr_model.decoder.model.decoder.layers.1.self_attn.q_proj.weight', 'ocr_model.decoder.model.decoder.layers.1.self_attn.q_proj.bias', 'ocr_model.decoder.model.decoder.layers.1.self_attn.out_proj.weight', 'ocr_model.decoder.model.decoder.layers.1.self_attn.out_proj.bias', 'ocr_model.decoder.model.decoder.layers.1.self_attn_layer_norm.weight', 'ocr_model.decoder.model.decoder.layers.1.self_attn_layer_norm.bias', 'ocr_model.decoder.model.decoder.layers.1.encoder_attn.k_proj.weight', 'ocr_model.decoder.model.decoder.layers.1.encoder_attn.k_proj.bias', 'ocr_model.decoder.model.decoder.layers.1.encoder_attn.v_proj.weight', 'ocr_model.decoder.model.decoder.layers.1.encoder_attn.v_proj.bias', 'ocr_model.decoder.model.decoder.layers.1.encoder_attn.q_proj.weight', 'ocr_model.decoder.model.decoder.layers.1.encoder_attn.q_proj.bias', 'ocr_model.decoder.model.decoder.layers.1.encoder_attn.out_proj.weight', 'ocr_model.decoder.model.decoder.layers.1.encoder_attn.out_proj.bias', 'ocr_model.decoder.model.decoder.layers.1.encoder_attn_layer_norm.weight', 'ocr_model.decoder.model.decoder.layers.1.encoder_attn_layer_norm.bias', 'ocr_model.decoder.model.decoder.layers.1.fc1.weight', 'ocr_model.decoder.model.decoder.layers.1.fc1.bias', 'ocr_model.decoder.model.decoder.layers.1.fc2.weight', 'ocr_model.decoder.model.decoder.layers.1.fc2.bias', 'ocr_model.decoder.model.decoder.layers.1.final_layer_norm.weight', 'ocr_model.decoder.model.decoder.layers.1.final_layer_norm.bias', 'ocr_model.decoder.model.decoder.layers.2.self_attn.k_proj.weight', 'ocr_model.decoder.model.decoder.layers.2.self_attn.k_proj.bias', 'ocr_model.decoder.model.decoder.layers.2.self_attn.v_proj.weight', 'ocr_model.decoder.model.decoder.layers.2.self_attn.v_proj.bias', 'ocr_model.decoder.model.decoder.layers.2.self_attn.q_proj.weight', 'ocr_model.decoder.model.decoder.layers.2.self_attn.q_proj.bias', 'ocr_model.decoder.model.decoder.layers.2.self_attn.out_proj.weight', 'ocr_model.decoder.model.decoder.layers.2.self_attn.out_proj.bias', 'ocr_model.decoder.model.decoder.layers.2.self_attn_layer_norm.weight', 'ocr_model.decoder.model.decoder.layers.2.self_attn_layer_norm.bias', 'ocr_model.decoder.model.decoder.layers.2.encoder_attn.k_proj.weight', 'ocr_model.decoder.model.decoder.layers.2.encoder_attn.k_proj.bias', 'ocr_model.decoder.model.decoder.layers.2.encoder_attn.v_proj.weight', 'ocr_model.decoder.model.decoder.layers.2.encoder_attn.v_proj.bias', 'ocr_model.decoder.model.decoder.layers.2.encoder_attn.q_proj.weight', 'ocr_model.decoder.model.decoder.layers.2.encoder_attn.q_proj.bias', 'ocr_model.decoder.model.decoder.layers.2.encoder_attn.out_proj.weight', 'ocr_model.decoder.model.decoder.layers.2.encoder_attn.out_proj.bias', 'ocr_model.decoder.model.decoder.layers.2.encoder_attn_layer_norm.weight', 'ocr_model.decoder.model.decoder.layers.2.encoder_attn_layer_norm.bias', 'ocr_model.decoder.model.decoder.layers.2.fc1.weight', 'ocr_model.decoder.model.decoder.layers.2.fc1.bias', 'ocr_model.decoder.model.decoder.layers.2.fc2.weight', 'ocr_model.decoder.model.decoder.layers.2.fc2.bias', 'ocr_model.decoder.model.decoder.layers.2.final_layer_norm.weight', 'ocr_model.decoder.model.decoder.layers.2.final_layer_norm.bias', 'ocr_model.decoder.model.decoder.layers.3.self_attn.k_proj.weight', 'ocr_model.decoder.model.decoder.layers.3.self_attn.k_proj.bias', 'ocr_model.decoder.model.decoder.layers.3.self_attn.v_proj.weight', 'ocr_model.decoder.model.decoder.layers.3.self_attn.v_proj.bias', 'ocr_model.decoder.model.decoder.layers.3.self_attn.q_proj.weight', 'ocr_model.decoder.model.decoder.layers.3.self_attn.q_proj.bias', 'ocr_model.decoder.model.decoder.layers.3.self_attn.out_proj.weight', 'ocr_model.decoder.model.decoder.layers.3.self_attn.out_proj.bias', 'ocr_model.decoder.model.decoder.layers.3.self_attn_layer_norm.weight', 'ocr_model.decoder.model.decoder.layers.3.self_attn_layer_norm.bias', 'ocr_model.decoder.model.decoder.layers.3.encoder_attn.k_proj.weight', 'ocr_model.decoder.model.decoder.layers.3.encoder_attn.k_proj.bias', 'ocr_model.decoder.model.decoder.layers.3.encoder_attn.v_proj.weight', 'ocr_model.decoder.model.decoder.layers.3.encoder_attn.v_proj.bias', 'ocr_model.decoder.model.decoder.layers.3.encoder_attn.q_proj.weight', 'ocr_model.decoder.model.decoder.layers.3.encoder_attn.q_proj.bias', 'ocr_model.decoder.model.decoder.layers.3.encoder_attn.out_proj.weight', 'ocr_model.decoder.model.decoder.layers.3.encoder_attn.out_proj.bias', 'ocr_model.decoder.model.decoder.layers.3.encoder_attn_layer_norm.weight', 'ocr_model.decoder.model.decoder.layers.3.encoder_attn_layer_norm.bias', 'ocr_model.decoder.model.decoder.layers.3.fc1.weight', 'ocr_model.decoder.model.decoder.layers.3.fc1.bias', 'ocr_model.decoder.model.decoder.layers.3.fc2.weight', 'ocr_model.decoder.model.decoder.layers.3.fc2.bias', 'ocr_model.decoder.model.decoder.layers.3.final_layer_norm.weight', 'ocr_model.decoder.model.decoder.layers.3.final_layer_norm.bias', 'ocr_model.decoder.model.decoder.layers.4.self_attn.k_proj.weight', 'ocr_model.decoder.model.decoder.layers.4.self_attn.k_proj.bias', 'ocr_model.decoder.model.decoder.layers.4.self_attn.v_proj.weight', 'ocr_model.decoder.model.decoder.layers.4.self_attn.v_proj.bias', 'ocr_model.decoder.model.decoder.layers.4.self_attn.q_proj.weight', 'ocr_model.decoder.model.decoder.layers.4.self_attn.q_proj.bias', 'ocr_model.decoder.model.decoder.layers.4.self_attn.out_proj.weight', 'ocr_model.decoder.model.decoder.layers.4.self_attn.out_proj.bias', 'ocr_model.decoder.model.decoder.layers.4.self_attn_layer_norm.weight', 'ocr_model.decoder.model.decoder.layers.4.self_attn_layer_norm.bias', 'ocr_model.decoder.model.decoder.layers.4.encoder_attn.k_proj.weight', 'ocr_model.decoder.model.decoder.layers.4.encoder_attn.k_proj.bias', 'ocr_model.decoder.model.decoder.layers.4.encoder_attn.v_proj.weight', 'ocr_model.decoder.model.decoder.layers.4.encoder_attn.v_proj.bias', 'ocr_model.decoder.model.decoder.layers.4.encoder_attn.q_proj.weight', 'ocr_model.decoder.model.decoder.layers.4.encoder_attn.q_proj.bias', 'ocr_model.decoder.model.decoder.layers.4.encoder_attn.out_proj.weight', 'ocr_model.decoder.model.decoder.layers.4.encoder_attn.out_proj.bias', 'ocr_model.decoder.model.decoder.layers.4.encoder_attn_layer_norm.weight', 'ocr_model.decoder.model.decoder.layers.4.encoder_attn_layer_norm.bias', 'ocr_model.decoder.model.decoder.layers.4.fc1.weight', 'ocr_model.decoder.model.decoder.layers.4.fc1.bias', 'ocr_model.decoder.model.decoder.layers.4.fc2.weight', 'ocr_model.decoder.model.decoder.layers.4.fc2.bias', 'ocr_model.decoder.model.decoder.layers.4.final_layer_norm.weight', 'ocr_model.decoder.model.decoder.layers.4.final_layer_norm.bias', 'ocr_model.decoder.model.decoder.layers.5.self_attn.k_proj.weight', 'ocr_model.decoder.model.decoder.layers.5.self_attn.k_proj.bias', 'ocr_model.decoder.model.decoder.layers.5.self_attn.v_proj.weight', 'ocr_model.decoder.model.decoder.layers.5.self_attn.v_proj.bias', 'ocr_model.decoder.model.decoder.layers.5.self_attn.q_proj.weight', 'ocr_model.decoder.model.decoder.layers.5.self_attn.q_proj.bias', 'ocr_model.decoder.model.decoder.layers.5.self_attn.out_proj.weight', 'ocr_model.decoder.model.decoder.layers.5.self_attn.out_proj.bias', 'ocr_model.decoder.model.decoder.layers.5.self_attn_layer_norm.weight', 'ocr_model.decoder.model.decoder.layers.5.self_attn_layer_norm.bias', 'ocr_model.decoder.model.decoder.layers.5.encoder_attn.k_proj.weight', 'ocr_model.decoder.model.decoder.layers.5.encoder_attn.k_proj.bias', 'ocr_model.decoder.model.decoder.layers.5.encoder_attn.v_proj.weight', 'ocr_model.decoder.model.decoder.layers.5.encoder_attn.v_proj.bias', 'ocr_model.decoder.model.decoder.layers.5.encoder_attn.q_proj.weight', 'ocr_model.decoder.model.decoder.layers.5.encoder_attn.q_proj.bias', 'ocr_model.decoder.model.decoder.layers.5.encoder_attn.out_proj.weight', 'ocr_model.decoder.model.decoder.layers.5.encoder_attn.out_proj.bias', 'ocr_model.decoder.model.decoder.layers.5.encoder_attn_layer_norm.weight', 'ocr_model.decoder.model.decoder.layers.5.encoder_attn_layer_norm.bias', 'ocr_model.decoder.model.decoder.layers.5.fc1.weight', 'ocr_model.decoder.model.decoder.layers.5.fc1.bias', 'ocr_model.decoder.model.decoder.layers.5.fc2.weight', 'ocr_model.decoder.model.decoder.layers.5.fc2.bias', 'ocr_model.decoder.model.decoder.layers.5.final_layer_norm.weight', 'ocr_model.decoder.model.decoder.layers.5.final_layer_norm.bias', 'ocr_model.decoder.model.decoder.layers.6.self_attn.k_proj.weight', 'ocr_model.decoder.model.decoder.layers.6.self_attn.k_proj.bias', 'ocr_model.decoder.model.decoder.layers.6.self_attn.v_proj.weight', 'ocr_model.decoder.model.decoder.layers.6.self_attn.v_proj.bias', 'ocr_model.decoder.model.decoder.layers.6.self_attn.q_proj.weight', 'ocr_model.decoder.model.decoder.layers.6.self_attn.q_proj.bias', 'ocr_model.decoder.model.decoder.layers.6.self_attn.out_proj.weight', 'ocr_model.decoder.model.decoder.layers.6.self_attn.out_proj.bias', 'ocr_model.decoder.model.decoder.layers.6.self_attn_layer_norm.weight', 'ocr_model.decoder.model.decoder.layers.6.self_attn_layer_norm.bias', 'ocr_model.decoder.model.decoder.layers.6.encoder_attn.k_proj.weight', 'ocr_model.decoder.model.decoder.layers.6.encoder_attn.k_proj.bias', 'ocr_model.decoder.model.decoder.layers.6.encoder_attn.v_proj.weight', 'ocr_model.decoder.model.decoder.layers.6.encoder_attn.v_proj.bias', 'ocr_model.decoder.model.decoder.layers.6.encoder_attn.q_proj.weight', 'ocr_model.decoder.model.decoder.layers.6.encoder_attn.q_proj.bias', 'ocr_model.decoder.model.decoder.layers.6.encoder_attn.out_proj.weight', 'ocr_model.decoder.model.decoder.layers.6.encoder_attn.out_proj.bias', 'ocr_model.decoder.model.decoder.layers.6.encoder_attn_layer_norm.weight', 'ocr_model.decoder.model.decoder.layers.6.encoder_attn_layer_norm.bias', 'ocr_model.decoder.model.decoder.layers.6.fc1.weight', 'ocr_model.decoder.model.decoder.layers.6.fc1.bias', 'ocr_model.decoder.model.decoder.layers.6.fc2.weight', 'ocr_model.decoder.model.decoder.layers.6.fc2.bias', 'ocr_model.decoder.model.decoder.layers.6.final_layer_norm.weight', 'ocr_model.decoder.model.decoder.layers.6.final_layer_norm.bias', 'ocr_model.decoder.model.decoder.layers.7.self_attn.k_proj.weight', 'ocr_model.decoder.model.decoder.layers.7.self_attn.k_proj.bias', 'ocr_model.decoder.model.decoder.layers.7.self_attn.v_proj.weight', 'ocr_model.decoder.model.decoder.layers.7.self_attn.v_proj.bias', 'ocr_model.decoder.model.decoder.layers.7.self_attn.q_proj.weight', 'ocr_model.decoder.model.decoder.layers.7.self_attn.q_proj.bias', 'ocr_model.decoder.model.decoder.layers.7.self_attn.out_proj.weight', 'ocr_model.decoder.model.decoder.layers.7.self_attn.out_proj.bias', 'ocr_model.decoder.model.decoder.layers.7.self_attn_layer_norm.weight', 'ocr_model.decoder.model.decoder.layers.7.self_attn_layer_norm.bias', 'ocr_model.decoder.model.decoder.layers.7.encoder_attn.k_proj.weight', 'ocr_model.decoder.model.decoder.layers.7.encoder_attn.k_proj.bias', 'ocr_model.decoder.model.decoder.layers.7.encoder_attn.v_proj.weight', 'ocr_model.decoder.model.decoder.layers.7.encoder_attn.v_proj.bias', 'ocr_model.decoder.model.decoder.layers.7.encoder_attn.q_proj.weight', 'ocr_model.decoder.model.decoder.layers.7.encoder_attn.q_proj.bias', 'ocr_model.decoder.model.decoder.layers.7.encoder_attn.out_proj.weight', 'ocr_model.decoder.model.decoder.layers.7.encoder_attn.out_proj.bias', 'ocr_model.decoder.model.decoder.layers.7.encoder_attn_layer_norm.weight', 'ocr_model.decoder.model.decoder.layers.7.encoder_attn_layer_norm.bias', 'ocr_model.decoder.model.decoder.layers.7.fc1.weight', 'ocr_model.decoder.model.decoder.layers.7.fc1.bias', 'ocr_model.decoder.model.decoder.layers.7.fc2.weight', 'ocr_model.decoder.model.decoder.layers.7.fc2.bias', 'ocr_model.decoder.model.decoder.layers.7.final_layer_norm.weight', 'ocr_model.decoder.model.decoder.layers.7.final_layer_norm.bias', 'ocr_model.decoder.model.decoder.layers.8.self_attn.k_proj.weight', 'ocr_model.decoder.model.decoder.layers.8.self_attn.k_proj.bias', 'ocr_model.decoder.model.decoder.layers.8.self_attn.v_proj.weight', 'ocr_model.decoder.model.decoder.layers.8.self_attn.v_proj.bias', 'ocr_model.decoder.model.decoder.layers.8.self_attn.q_proj.weight', 'ocr_model.decoder.model.decoder.layers.8.self_attn.q_proj.bias', 'ocr_model.decoder.model.decoder.layers.8.self_attn.out_proj.weight', 'ocr_model.decoder.model.decoder.layers.8.self_attn.out_proj.bias', 'ocr_model.decoder.model.decoder.layers.8.self_attn_layer_norm.weight', 'ocr_model.decoder.model.decoder.layers.8.self_attn_layer_norm.bias', 'ocr_model.decoder.model.decoder.layers.8.encoder_attn.k_proj.weight', 'ocr_model.decoder.model.decoder.layers.8.encoder_attn.k_proj.bias', 'ocr_model.decoder.model.decoder.layers.8.encoder_attn.v_proj.weight', 'ocr_model.decoder.model.decoder.layers.8.encoder_attn.v_proj.bias', 'ocr_model.decoder.model.decoder.layers.8.encoder_attn.q_proj.weight', 'ocr_model.decoder.model.decoder.layers.8.encoder_attn.q_proj.bias', 'ocr_model.decoder.model.decoder.layers.8.encoder_attn.out_proj.weight', 'ocr_model.decoder.model.decoder.layers.8.encoder_attn.out_proj.bias', 'ocr_model.decoder.model.decoder.layers.8.encoder_attn_layer_norm.weight', 'ocr_model.decoder.model.decoder.layers.8.encoder_attn_layer_norm.bias', 'ocr_model.decoder.model.decoder.layers.8.fc1.weight', 'ocr_model.decoder.model.decoder.layers.8.fc1.bias', 'ocr_model.decoder.model.decoder.layers.8.fc2.weight', 'ocr_model.decoder.model.decoder.layers.8.fc2.bias', 'ocr_model.decoder.model.decoder.layers.8.final_layer_norm.weight', 'ocr_model.decoder.model.decoder.layers.8.final_layer_norm.bias', 'ocr_model.decoder.model.decoder.layers.9.self_attn.k_proj.weight', 'ocr_model.decoder.model.decoder.layers.9.self_attn.k_proj.bias', 'ocr_model.decoder.model.decoder.layers.9.self_attn.v_proj.weight', 'ocr_model.decoder.model.decoder.layers.9.self_attn.v_proj.bias', 'ocr_model.decoder.model.decoder.layers.9.self_attn.q_proj.weight', 'ocr_model.decoder.model.decoder.layers.9.self_attn.q_proj.bias', 'ocr_model.decoder.model.decoder.layers.9.self_attn.out_proj.weight', 'ocr_model.decoder.model.decoder.layers.9.self_attn.out_proj.bias', 'ocr_model.decoder.model.decoder.layers.9.self_attn_layer_norm.weight', 'ocr_model.decoder.model.decoder.layers.9.self_attn_layer_norm.bias', 'ocr_model.decoder.model.decoder.layers.9.encoder_attn.k_proj.weight', 'ocr_model.decoder.model.decoder.layers.9.encoder_attn.k_proj.bias', 'ocr_model.decoder.model.decoder.layers.9.encoder_attn.v_proj.weight', 'ocr_model.decoder.model.decoder.layers.9.encoder_attn.v_proj.bias', 'ocr_model.decoder.model.decoder.layers.9.encoder_attn.q_proj.weight', 'ocr_model.decoder.model.decoder.layers.9.encoder_attn.q_proj.bias', 'ocr_model.decoder.model.decoder.layers.9.encoder_attn.out_proj.weight', 'ocr_model.decoder.model.decoder.layers.9.encoder_attn.out_proj.bias', 'ocr_model.decoder.model.decoder.layers.9.encoder_attn_layer_norm.weight', 'ocr_model.decoder.model.decoder.layers.9.encoder_attn_layer_norm.bias', 'ocr_model.decoder.model.decoder.layers.9.fc1.weight', 'ocr_model.decoder.model.decoder.layers.9.fc1.bias', 'ocr_model.decoder.model.decoder.layers.9.fc2.weight', 'ocr_model.decoder.model.decoder.layers.9.fc2.bias', 'ocr_model.decoder.model.decoder.layers.9.final_layer_norm.weight', 'ocr_model.decoder.model.decoder.layers.9.final_layer_norm.bias', 'ocr_model.decoder.model.decoder.layers.10.self_attn.k_proj.weight', 'ocr_model.decoder.model.decoder.layers.10.self_attn.k_proj.bias', 'ocr_model.decoder.model.decoder.layers.10.self_attn.v_proj.weight', 'ocr_model.decoder.model.decoder.layers.10.self_attn.v_proj.bias', 'ocr_model.decoder.model.decoder.layers.10.self_attn.q_proj.weight', 'ocr_model.decoder.model.decoder.layers.10.self_attn.q_proj.bias', 'ocr_model.decoder.model.decoder.layers.10.self_attn.out_proj.weight', 'ocr_model.decoder.model.decoder.layers.10.self_attn.out_proj.bias', 'ocr_model.decoder.model.decoder.layers.10.self_attn_layer_norm.weight', 'ocr_model.decoder.model.decoder.layers.10.self_attn_layer_norm.bias', 'ocr_model.decoder.model.decoder.layers.10.encoder_attn.k_proj.weight', 'ocr_model.decoder.model.decoder.layers.10.encoder_attn.k_proj.bias', 'ocr_model.decoder.model.decoder.layers.10.encoder_attn.v_proj.weight', 'ocr_model.decoder.model.decoder.layers.10.encoder_attn.v_proj.bias', 'ocr_model.decoder.model.decoder.layers.10.encoder_attn.q_proj.weight', 'ocr_model.decoder.model.decoder.layers.10.encoder_attn.q_proj.bias', 'ocr_model.decoder.model.decoder.layers.10.encoder_attn.out_proj.weight', 'ocr_model.decoder.model.decoder.layers.10.encoder_attn.out_proj.bias', 'ocr_model.decoder.model.decoder.layers.10.encoder_attn_layer_norm.weight', 'ocr_model.decoder.model.decoder.layers.10.encoder_attn_layer_norm.bias', 'ocr_model.decoder.model.decoder.layers.10.fc1.weight', 'ocr_model.decoder.model.decoder.layers.10.fc1.bias', 'ocr_model.decoder.model.decoder.layers.10.fc2.weight', 'ocr_model.decoder.model.decoder.layers.10.fc2.bias', 'ocr_model.decoder.model.decoder.layers.10.final_layer_norm.weight', 'ocr_model.decoder.model.decoder.layers.10.final_layer_norm.bias', 'ocr_model.decoder.model.decoder.layers.11.self_attn.k_proj.weight', 'ocr_model.decoder.model.decoder.layers.11.self_attn.k_proj.bias', 'ocr_model.decoder.model.decoder.layers.11.self_attn.v_proj.weight', 'ocr_model.decoder.model.decoder.layers.11.self_attn.v_proj.bias', 'ocr_model.decoder.model.decoder.layers.11.self_attn.q_proj.weight', 'ocr_model.decoder.model.decoder.layers.11.self_attn.q_proj.bias', 'ocr_model.decoder.model.decoder.layers.11.self_attn.out_proj.weight', 'ocr_model.decoder.model.decoder.layers.11.self_attn.out_proj.bias', 'ocr_model.decoder.model.decoder.layers.11.self_attn_layer_norm.weight', 'ocr_model.decoder.model.decoder.layers.11.self_attn_layer_norm.bias', 'ocr_model.decoder.model.decoder.layers.11.encoder_attn.k_proj.weight', 'ocr_model.decoder.model.decoder.layers.11.encoder_attn.k_proj.bias', 'ocr_model.decoder.model.decoder.layers.11.encoder_attn.v_proj.weight', 'ocr_model.decoder.model.decoder.layers.11.encoder_attn.v_proj.bias', 'ocr_model.decoder.model.decoder.layers.11.encoder_attn.q_proj.weight', 'ocr_model.decoder.model.decoder.layers.11.encoder_attn.q_proj.bias', 'ocr_model.decoder.model.decoder.layers.11.encoder_attn.out_proj.weight', 'ocr_model.decoder.model.decoder.layers.11.encoder_attn.out_proj.bias', 'ocr_model.decoder.model.decoder.layers.11.encoder_attn_layer_norm.weight', 'ocr_model.decoder.model.decoder.layers.11.encoder_attn_layer_norm.bias', 'ocr_model.decoder.model.decoder.layers.11.fc1.weight', 'ocr_model.decoder.model.decoder.layers.11.fc1.bias', 'ocr_model.decoder.model.decoder.layers.11.fc2.weight', 'ocr_model.decoder.model.decoder.layers.11.fc2.bias', 'ocr_model.decoder.model.decoder.layers.11.final_layer_norm.weight', 'ocr_model.decoder.model.decoder.layers.11.final_layer_norm.bias', 'ocr_model.decoder.output_projection.weight', 'is_this_text_a_dialogue.layers.0.weight', 'is_this_text_a_dialogue.layers.0.bias', 'is_this_text_a_dialogue.layers.1.weight', 'is_this_text_a_dialogue.layers.1.bias', 'is_this_text_a_dialogue.layers.2.weight', 'is_this_text_a_dialogue.layers.2.bias', 'text_character_matching_head.layers.0.weight', 'text_character_matching_head.layers.0.bias', 'text_character_matching_head.layers.1.weight', 'text_character_matching_head.layers.1.bias', 'text_character_matching_head.layers.2.weight', 'text_character_matching_head.layers.2.bias'])"
      ]
     },
     "execution_count": 627,
     "metadata": {},
     "output_type": "execute_result"
    }
   ],
   "source": [
    "model.load_state_dict(state_dict, strict=False)"
   ]
  },
  {
   "cell_type": "code",
   "execution_count": 628,
   "metadata": {},
   "outputs": [
    {
     "data": {
      "text/plain": [
       "MyMagiModel(\n",
       "  (crop_embedding_model): ViTMAEModel(\n",
       "    (embeddings): ViTMAEEmbeddings(\n",
       "      (patch_embeddings): ViTMAEPatchEmbeddings(\n",
       "        (projection): Conv2d(3, 768, kernel_size=(16, 16), stride=(16, 16))\n",
       "      )\n",
       "    )\n",
       "    (encoder): ViTMAEEncoder(\n",
       "      (layer): ModuleList(\n",
       "        (0-11): 12 x ViTMAELayer(\n",
       "          (attention): ViTMAESdpaAttention(\n",
       "            (attention): ViTMAESdpaSelfAttention(\n",
       "              (query): Linear(in_features=768, out_features=768, bias=True)\n",
       "              (key): Linear(in_features=768, out_features=768, bias=True)\n",
       "              (value): Linear(in_features=768, out_features=768, bias=True)\n",
       "              (dropout): Dropout(p=0.0, inplace=False)\n",
       "            )\n",
       "            (output): ViTMAESelfOutput(\n",
       "              (dense): Linear(in_features=768, out_features=768, bias=True)\n",
       "              (dropout): Dropout(p=0.0, inplace=False)\n",
       "            )\n",
       "          )\n",
       "          (intermediate): ViTMAEIntermediate(\n",
       "            (dense): Linear(in_features=768, out_features=3072, bias=True)\n",
       "            (intermediate_act_fn): GELUActivation()\n",
       "          )\n",
       "          (output): ViTMAEOutput(\n",
       "            (dense): Linear(in_features=3072, out_features=768, bias=True)\n",
       "            (dropout): Dropout(p=0.0, inplace=False)\n",
       "          )\n",
       "          (layernorm_before): LayerNorm((768,), eps=1e-12, elementwise_affine=True)\n",
       "          (layernorm_after): LayerNorm((768,), eps=1e-12, elementwise_affine=True)\n",
       "        )\n",
       "      )\n",
       "    )\n",
       "    (layernorm): LayerNorm((768,), eps=1e-12, elementwise_affine=True)\n",
       "  )\n",
       "  (detection_transformer): ConditionalDetrModel(\n",
       "    (backbone): ConditionalDetrConvModel(\n",
       "      (conv_encoder): ConditionalDetrConvEncoder(\n",
       "        (model): FeatureListNet(\n",
       "          (conv1): Conv2d(3, 64, kernel_size=(7, 7), stride=(2, 2), padding=(3, 3), bias=False)\n",
       "          (bn1): ConditionalDetrFrozenBatchNorm2d()\n",
       "          (act1): ReLU(inplace=True)\n",
       "          (maxpool): MaxPool2d(kernel_size=3, stride=2, padding=1, dilation=1, ceil_mode=False)\n",
       "          (layer1): Sequential(\n",
       "            (0): Bottleneck(\n",
       "              (conv1): Conv2d(64, 64, kernel_size=(1, 1), stride=(1, 1), bias=False)\n",
       "              (bn1): ConditionalDetrFrozenBatchNorm2d()\n",
       "              (act1): ReLU(inplace=True)\n",
       "              (conv2): Conv2d(64, 64, kernel_size=(3, 3), stride=(1, 1), padding=(1, 1), bias=False)\n",
       "              (bn2): ConditionalDetrFrozenBatchNorm2d()\n",
       "              (drop_block): Identity()\n",
       "              (act2): ReLU(inplace=True)\n",
       "              (aa): Identity()\n",
       "              (conv3): Conv2d(64, 256, kernel_size=(1, 1), stride=(1, 1), bias=False)\n",
       "              (bn3): ConditionalDetrFrozenBatchNorm2d()\n",
       "              (act3): ReLU(inplace=True)\n",
       "              (downsample): Sequential(\n",
       "                (0): Conv2d(64, 256, kernel_size=(1, 1), stride=(1, 1), bias=False)\n",
       "                (1): ConditionalDetrFrozenBatchNorm2d()\n",
       "              )\n",
       "            )\n",
       "            (1): Bottleneck(\n",
       "              (conv1): Conv2d(256, 64, kernel_size=(1, 1), stride=(1, 1), bias=False)\n",
       "              (bn1): ConditionalDetrFrozenBatchNorm2d()\n",
       "              (act1): ReLU(inplace=True)\n",
       "              (conv2): Conv2d(64, 64, kernel_size=(3, 3), stride=(1, 1), padding=(1, 1), bias=False)\n",
       "              (bn2): ConditionalDetrFrozenBatchNorm2d()\n",
       "              (drop_block): Identity()\n",
       "              (act2): ReLU(inplace=True)\n",
       "              (aa): Identity()\n",
       "              (conv3): Conv2d(64, 256, kernel_size=(1, 1), stride=(1, 1), bias=False)\n",
       "              (bn3): ConditionalDetrFrozenBatchNorm2d()\n",
       "              (act3): ReLU(inplace=True)\n",
       "            )\n",
       "            (2): Bottleneck(\n",
       "              (conv1): Conv2d(256, 64, kernel_size=(1, 1), stride=(1, 1), bias=False)\n",
       "              (bn1): ConditionalDetrFrozenBatchNorm2d()\n",
       "              (act1): ReLU(inplace=True)\n",
       "              (conv2): Conv2d(64, 64, kernel_size=(3, 3), stride=(1, 1), padding=(1, 1), bias=False)\n",
       "              (bn2): ConditionalDetrFrozenBatchNorm2d()\n",
       "              (drop_block): Identity()\n",
       "              (act2): ReLU(inplace=True)\n",
       "              (aa): Identity()\n",
       "              (conv3): Conv2d(64, 256, kernel_size=(1, 1), stride=(1, 1), bias=False)\n",
       "              (bn3): ConditionalDetrFrozenBatchNorm2d()\n",
       "              (act3): ReLU(inplace=True)\n",
       "            )\n",
       "          )\n",
       "          (layer2): Sequential(\n",
       "            (0): Bottleneck(\n",
       "              (conv1): Conv2d(256, 128, kernel_size=(1, 1), stride=(1, 1), bias=False)\n",
       "              (bn1): ConditionalDetrFrozenBatchNorm2d()\n",
       "              (act1): ReLU(inplace=True)\n",
       "              (conv2): Conv2d(128, 128, kernel_size=(3, 3), stride=(2, 2), padding=(1, 1), bias=False)\n",
       "              (bn2): ConditionalDetrFrozenBatchNorm2d()\n",
       "              (drop_block): Identity()\n",
       "              (act2): ReLU(inplace=True)\n",
       "              (aa): Identity()\n",
       "              (conv3): Conv2d(128, 512, kernel_size=(1, 1), stride=(1, 1), bias=False)\n",
       "              (bn3): ConditionalDetrFrozenBatchNorm2d()\n",
       "              (act3): ReLU(inplace=True)\n",
       "              (downsample): Sequential(\n",
       "                (0): Conv2d(256, 512, kernel_size=(1, 1), stride=(2, 2), bias=False)\n",
       "                (1): ConditionalDetrFrozenBatchNorm2d()\n",
       "              )\n",
       "            )\n",
       "            (1): Bottleneck(\n",
       "              (conv1): Conv2d(512, 128, kernel_size=(1, 1), stride=(1, 1), bias=False)\n",
       "              (bn1): ConditionalDetrFrozenBatchNorm2d()\n",
       "              (act1): ReLU(inplace=True)\n",
       "              (conv2): Conv2d(128, 128, kernel_size=(3, 3), stride=(1, 1), padding=(1, 1), bias=False)\n",
       "              (bn2): ConditionalDetrFrozenBatchNorm2d()\n",
       "              (drop_block): Identity()\n",
       "              (act2): ReLU(inplace=True)\n",
       "              (aa): Identity()\n",
       "              (conv3): Conv2d(128, 512, kernel_size=(1, 1), stride=(1, 1), bias=False)\n",
       "              (bn3): ConditionalDetrFrozenBatchNorm2d()\n",
       "              (act3): ReLU(inplace=True)\n",
       "            )\n",
       "            (2): Bottleneck(\n",
       "              (conv1): Conv2d(512, 128, kernel_size=(1, 1), stride=(1, 1), bias=False)\n",
       "              (bn1): ConditionalDetrFrozenBatchNorm2d()\n",
       "              (act1): ReLU(inplace=True)\n",
       "              (conv2): Conv2d(128, 128, kernel_size=(3, 3), stride=(1, 1), padding=(1, 1), bias=False)\n",
       "              (bn2): ConditionalDetrFrozenBatchNorm2d()\n",
       "              (drop_block): Identity()\n",
       "              (act2): ReLU(inplace=True)\n",
       "              (aa): Identity()\n",
       "              (conv3): Conv2d(128, 512, kernel_size=(1, 1), stride=(1, 1), bias=False)\n",
       "              (bn3): ConditionalDetrFrozenBatchNorm2d()\n",
       "              (act3): ReLU(inplace=True)\n",
       "            )\n",
       "            (3): Bottleneck(\n",
       "              (conv1): Conv2d(512, 128, kernel_size=(1, 1), stride=(1, 1), bias=False)\n",
       "              (bn1): ConditionalDetrFrozenBatchNorm2d()\n",
       "              (act1): ReLU(inplace=True)\n",
       "              (conv2): Conv2d(128, 128, kernel_size=(3, 3), stride=(1, 1), padding=(1, 1), bias=False)\n",
       "              (bn2): ConditionalDetrFrozenBatchNorm2d()\n",
       "              (drop_block): Identity()\n",
       "              (act2): ReLU(inplace=True)\n",
       "              (aa): Identity()\n",
       "              (conv3): Conv2d(128, 512, kernel_size=(1, 1), stride=(1, 1), bias=False)\n",
       "              (bn3): ConditionalDetrFrozenBatchNorm2d()\n",
       "              (act3): ReLU(inplace=True)\n",
       "            )\n",
       "          )\n",
       "          (layer3): Sequential(\n",
       "            (0): Bottleneck(\n",
       "              (conv1): Conv2d(512, 256, kernel_size=(1, 1), stride=(1, 1), bias=False)\n",
       "              (bn1): ConditionalDetrFrozenBatchNorm2d()\n",
       "              (act1): ReLU(inplace=True)\n",
       "              (conv2): Conv2d(256, 256, kernel_size=(3, 3), stride=(2, 2), padding=(1, 1), bias=False)\n",
       "              (bn2): ConditionalDetrFrozenBatchNorm2d()\n",
       "              (drop_block): Identity()\n",
       "              (act2): ReLU(inplace=True)\n",
       "              (aa): Identity()\n",
       "              (conv3): Conv2d(256, 1024, kernel_size=(1, 1), stride=(1, 1), bias=False)\n",
       "              (bn3): ConditionalDetrFrozenBatchNorm2d()\n",
       "              (act3): ReLU(inplace=True)\n",
       "              (downsample): Sequential(\n",
       "                (0): Conv2d(512, 1024, kernel_size=(1, 1), stride=(2, 2), bias=False)\n",
       "                (1): ConditionalDetrFrozenBatchNorm2d()\n",
       "              )\n",
       "            )\n",
       "            (1): Bottleneck(\n",
       "              (conv1): Conv2d(1024, 256, kernel_size=(1, 1), stride=(1, 1), bias=False)\n",
       "              (bn1): ConditionalDetrFrozenBatchNorm2d()\n",
       "              (act1): ReLU(inplace=True)\n",
       "              (conv2): Conv2d(256, 256, kernel_size=(3, 3), stride=(1, 1), padding=(1, 1), bias=False)\n",
       "              (bn2): ConditionalDetrFrozenBatchNorm2d()\n",
       "              (drop_block): Identity()\n",
       "              (act2): ReLU(inplace=True)\n",
       "              (aa): Identity()\n",
       "              (conv3): Conv2d(256, 1024, kernel_size=(1, 1), stride=(1, 1), bias=False)\n",
       "              (bn3): ConditionalDetrFrozenBatchNorm2d()\n",
       "              (act3): ReLU(inplace=True)\n",
       "            )\n",
       "            (2): Bottleneck(\n",
       "              (conv1): Conv2d(1024, 256, kernel_size=(1, 1), stride=(1, 1), bias=False)\n",
       "              (bn1): ConditionalDetrFrozenBatchNorm2d()\n",
       "              (act1): ReLU(inplace=True)\n",
       "              (conv2): Conv2d(256, 256, kernel_size=(3, 3), stride=(1, 1), padding=(1, 1), bias=False)\n",
       "              (bn2): ConditionalDetrFrozenBatchNorm2d()\n",
       "              (drop_block): Identity()\n",
       "              (act2): ReLU(inplace=True)\n",
       "              (aa): Identity()\n",
       "              (conv3): Conv2d(256, 1024, kernel_size=(1, 1), stride=(1, 1), bias=False)\n",
       "              (bn3): ConditionalDetrFrozenBatchNorm2d()\n",
       "              (act3): ReLU(inplace=True)\n",
       "            )\n",
       "            (3): Bottleneck(\n",
       "              (conv1): Conv2d(1024, 256, kernel_size=(1, 1), stride=(1, 1), bias=False)\n",
       "              (bn1): ConditionalDetrFrozenBatchNorm2d()\n",
       "              (act1): ReLU(inplace=True)\n",
       "              (conv2): Conv2d(256, 256, kernel_size=(3, 3), stride=(1, 1), padding=(1, 1), bias=False)\n",
       "              (bn2): ConditionalDetrFrozenBatchNorm2d()\n",
       "              (drop_block): Identity()\n",
       "              (act2): ReLU(inplace=True)\n",
       "              (aa): Identity()\n",
       "              (conv3): Conv2d(256, 1024, kernel_size=(1, 1), stride=(1, 1), bias=False)\n",
       "              (bn3): ConditionalDetrFrozenBatchNorm2d()\n",
       "              (act3): ReLU(inplace=True)\n",
       "            )\n",
       "            (4): Bottleneck(\n",
       "              (conv1): Conv2d(1024, 256, kernel_size=(1, 1), stride=(1, 1), bias=False)\n",
       "              (bn1): ConditionalDetrFrozenBatchNorm2d()\n",
       "              (act1): ReLU(inplace=True)\n",
       "              (conv2): Conv2d(256, 256, kernel_size=(3, 3), stride=(1, 1), padding=(1, 1), bias=False)\n",
       "              (bn2): ConditionalDetrFrozenBatchNorm2d()\n",
       "              (drop_block): Identity()\n",
       "              (act2): ReLU(inplace=True)\n",
       "              (aa): Identity()\n",
       "              (conv3): Conv2d(256, 1024, kernel_size=(1, 1), stride=(1, 1), bias=False)\n",
       "              (bn3): ConditionalDetrFrozenBatchNorm2d()\n",
       "              (act3): ReLU(inplace=True)\n",
       "            )\n",
       "            (5): Bottleneck(\n",
       "              (conv1): Conv2d(1024, 256, kernel_size=(1, 1), stride=(1, 1), bias=False)\n",
       "              (bn1): ConditionalDetrFrozenBatchNorm2d()\n",
       "              (act1): ReLU(inplace=True)\n",
       "              (conv2): Conv2d(256, 256, kernel_size=(3, 3), stride=(1, 1), padding=(1, 1), bias=False)\n",
       "              (bn2): ConditionalDetrFrozenBatchNorm2d()\n",
       "              (drop_block): Identity()\n",
       "              (act2): ReLU(inplace=True)\n",
       "              (aa): Identity()\n",
       "              (conv3): Conv2d(256, 1024, kernel_size=(1, 1), stride=(1, 1), bias=False)\n",
       "              (bn3): ConditionalDetrFrozenBatchNorm2d()\n",
       "              (act3): ReLU(inplace=True)\n",
       "            )\n",
       "          )\n",
       "          (layer4): Sequential(\n",
       "            (0): Bottleneck(\n",
       "              (conv1): Conv2d(1024, 512, kernel_size=(1, 1), stride=(1, 1), bias=False)\n",
       "              (bn1): ConditionalDetrFrozenBatchNorm2d()\n",
       "              (act1): ReLU(inplace=True)\n",
       "              (conv2): Conv2d(512, 512, kernel_size=(3, 3), stride=(2, 2), padding=(1, 1), bias=False)\n",
       "              (bn2): ConditionalDetrFrozenBatchNorm2d()\n",
       "              (drop_block): Identity()\n",
       "              (act2): ReLU(inplace=True)\n",
       "              (aa): Identity()\n",
       "              (conv3): Conv2d(512, 2048, kernel_size=(1, 1), stride=(1, 1), bias=False)\n",
       "              (bn3): ConditionalDetrFrozenBatchNorm2d()\n",
       "              (act3): ReLU(inplace=True)\n",
       "              (downsample): Sequential(\n",
       "                (0): Conv2d(1024, 2048, kernel_size=(1, 1), stride=(2, 2), bias=False)\n",
       "                (1): ConditionalDetrFrozenBatchNorm2d()\n",
       "              )\n",
       "            )\n",
       "            (1): Bottleneck(\n",
       "              (conv1): Conv2d(2048, 512, kernel_size=(1, 1), stride=(1, 1), bias=False)\n",
       "              (bn1): ConditionalDetrFrozenBatchNorm2d()\n",
       "              (act1): ReLU(inplace=True)\n",
       "              (conv2): Conv2d(512, 512, kernel_size=(3, 3), stride=(1, 1), padding=(1, 1), bias=False)\n",
       "              (bn2): ConditionalDetrFrozenBatchNorm2d()\n",
       "              (drop_block): Identity()\n",
       "              (act2): ReLU(inplace=True)\n",
       "              (aa): Identity()\n",
       "              (conv3): Conv2d(512, 2048, kernel_size=(1, 1), stride=(1, 1), bias=False)\n",
       "              (bn3): ConditionalDetrFrozenBatchNorm2d()\n",
       "              (act3): ReLU(inplace=True)\n",
       "            )\n",
       "            (2): Bottleneck(\n",
       "              (conv1): Conv2d(2048, 512, kernel_size=(1, 1), stride=(1, 1), bias=False)\n",
       "              (bn1): ConditionalDetrFrozenBatchNorm2d()\n",
       "              (act1): ReLU(inplace=True)\n",
       "              (conv2): Conv2d(512, 512, kernel_size=(3, 3), stride=(1, 1), padding=(1, 1), bias=False)\n",
       "              (bn2): ConditionalDetrFrozenBatchNorm2d()\n",
       "              (drop_block): Identity()\n",
       "              (act2): ReLU(inplace=True)\n",
       "              (aa): Identity()\n",
       "              (conv3): Conv2d(512, 2048, kernel_size=(1, 1), stride=(1, 1), bias=False)\n",
       "              (bn3): ConditionalDetrFrozenBatchNorm2d()\n",
       "              (act3): ReLU(inplace=True)\n",
       "            )\n",
       "          )\n",
       "        )\n",
       "      )\n",
       "      (position_embedding): ConditionalDetrSinePositionEmbedding()\n",
       "    )\n",
       "    (input_projection): Conv2d(2048, 256, kernel_size=(1, 1), stride=(1, 1))\n",
       "    (query_position_embeddings): Embedding(305, 256)\n",
       "    (encoder): ConditionalDetrEncoder(\n",
       "      (layers): ModuleList(\n",
       "        (0-5): 6 x ConditionalDetrEncoderLayer(\n",
       "          (self_attn): DetrAttention(\n",
       "            (k_proj): Linear(in_features=256, out_features=256, bias=True)\n",
       "            (v_proj): Linear(in_features=256, out_features=256, bias=True)\n",
       "            (q_proj): Linear(in_features=256, out_features=256, bias=True)\n",
       "            (out_proj): Linear(in_features=256, out_features=256, bias=True)\n",
       "          )\n",
       "          (self_attn_layer_norm): LayerNorm((256,), eps=1e-05, elementwise_affine=True)\n",
       "          (activation_fn): ReLU()\n",
       "          (fc1): Linear(in_features=256, out_features=2048, bias=True)\n",
       "          (fc2): Linear(in_features=2048, out_features=256, bias=True)\n",
       "          (final_layer_norm): LayerNorm((256,), eps=1e-05, elementwise_affine=True)\n",
       "        )\n",
       "      )\n",
       "    )\n",
       "    (decoder): ConditionalDetrDecoder(\n",
       "      (layers): ModuleList(\n",
       "        (0): ConditionalDetrDecoderLayer(\n",
       "          (sa_qcontent_proj): Linear(in_features=256, out_features=256, bias=True)\n",
       "          (sa_qpos_proj): Linear(in_features=256, out_features=256, bias=True)\n",
       "          (sa_kcontent_proj): Linear(in_features=256, out_features=256, bias=True)\n",
       "          (sa_kpos_proj): Linear(in_features=256, out_features=256, bias=True)\n",
       "          (sa_v_proj): Linear(in_features=256, out_features=256, bias=True)\n",
       "          (self_attn): ConditionalDetrAttention(\n",
       "            (out_proj): Linear(in_features=256, out_features=256, bias=True)\n",
       "          )\n",
       "          (activation_fn): ReLU()\n",
       "          (self_attn_layer_norm): LayerNorm((256,), eps=1e-05, elementwise_affine=True)\n",
       "          (ca_qcontent_proj): Linear(in_features=256, out_features=256, bias=True)\n",
       "          (ca_qpos_proj): Linear(in_features=256, out_features=256, bias=True)\n",
       "          (ca_kcontent_proj): Linear(in_features=256, out_features=256, bias=True)\n",
       "          (ca_kpos_proj): Linear(in_features=256, out_features=256, bias=True)\n",
       "          (ca_v_proj): Linear(in_features=256, out_features=256, bias=True)\n",
       "          (ca_qpos_sine_proj): Linear(in_features=256, out_features=256, bias=True)\n",
       "          (encoder_attn): ConditionalDetrAttention(\n",
       "            (out_proj): Linear(in_features=256, out_features=256, bias=True)\n",
       "          )\n",
       "          (encoder_attn_layer_norm): LayerNorm((256,), eps=1e-05, elementwise_affine=True)\n",
       "          (fc1): Linear(in_features=256, out_features=2048, bias=True)\n",
       "          (fc2): Linear(in_features=2048, out_features=256, bias=True)\n",
       "          (final_layer_norm): LayerNorm((256,), eps=1e-05, elementwise_affine=True)\n",
       "        )\n",
       "        (1-5): 5 x ConditionalDetrDecoderLayer(\n",
       "          (sa_qcontent_proj): Linear(in_features=256, out_features=256, bias=True)\n",
       "          (sa_qpos_proj): Linear(in_features=256, out_features=256, bias=True)\n",
       "          (sa_kcontent_proj): Linear(in_features=256, out_features=256, bias=True)\n",
       "          (sa_kpos_proj): Linear(in_features=256, out_features=256, bias=True)\n",
       "          (sa_v_proj): Linear(in_features=256, out_features=256, bias=True)\n",
       "          (self_attn): ConditionalDetrAttention(\n",
       "            (out_proj): Linear(in_features=256, out_features=256, bias=True)\n",
       "          )\n",
       "          (activation_fn): ReLU()\n",
       "          (self_attn_layer_norm): LayerNorm((256,), eps=1e-05, elementwise_affine=True)\n",
       "          (ca_qcontent_proj): Linear(in_features=256, out_features=256, bias=True)\n",
       "          (ca_qpos_proj): None\n",
       "          (ca_kcontent_proj): Linear(in_features=256, out_features=256, bias=True)\n",
       "          (ca_kpos_proj): Linear(in_features=256, out_features=256, bias=True)\n",
       "          (ca_v_proj): Linear(in_features=256, out_features=256, bias=True)\n",
       "          (ca_qpos_sine_proj): Linear(in_features=256, out_features=256, bias=True)\n",
       "          (encoder_attn): ConditionalDetrAttention(\n",
       "            (out_proj): Linear(in_features=256, out_features=256, bias=True)\n",
       "          )\n",
       "          (encoder_attn_layer_norm): LayerNorm((256,), eps=1e-05, elementwise_affine=True)\n",
       "          (fc1): Linear(in_features=256, out_features=2048, bias=True)\n",
       "          (fc2): Linear(in_features=2048, out_features=256, bias=True)\n",
       "          (final_layer_norm): LayerNorm((256,), eps=1e-05, elementwise_affine=True)\n",
       "        )\n",
       "      )\n",
       "      (layernorm): LayerNorm((256,), eps=1e-05, elementwise_affine=True)\n",
       "      (query_scale): MLP(\n",
       "        (layers): ModuleList(\n",
       "          (0-1): 2 x Linear(in_features=256, out_features=256, bias=True)\n",
       "        )\n",
       "      )\n",
       "      (ref_point_head): MLP(\n",
       "        (layers): ModuleList(\n",
       "          (0): Linear(in_features=256, out_features=256, bias=True)\n",
       "          (1): Linear(in_features=256, out_features=2, bias=True)\n",
       "        )\n",
       "      )\n",
       "    )\n",
       "  )\n",
       "  (bbox_predictor): ConditionalDetrMLPPredictionHead(\n",
       "    (layers): ModuleList(\n",
       "      (0-1): 2 x Linear(in_features=256, out_features=256, bias=True)\n",
       "      (2): Linear(in_features=256, out_features=4, bias=True)\n",
       "    )\n",
       "  )\n",
       "  (character_character_matching_head): ConditionalDetrMLPPredictionHead(\n",
       "    (layers): ModuleList(\n",
       "      (0): Linear(in_features=2304, out_features=256, bias=True)\n",
       "      (1): Linear(in_features=256, out_features=256, bias=True)\n",
       "      (2): Linear(in_features=256, out_features=1, bias=True)\n",
       "    )\n",
       "  )\n",
       "  (class_labels_classifier): Linear(in_features=256, out_features=3, bias=True)\n",
       "  (matcher): ConditionalDetrHungarianMatcher()\n",
       ")"
      ]
     },
     "execution_count": 628,
     "metadata": {},
     "output_type": "execute_result"
    }
   ],
   "source": [
    "model.cuda() # type: ignore"
   ]
  },
  {
   "cell_type": "markdown",
   "metadata": {},
   "source": [
    "### Get embeddings"
   ]
  },
  {
   "cell_type": "markdown",
   "metadata": {},
   "source": [
    "**image_bboxes** - list со вложенными lists, вложенный список - одна страница, где каждый элемент - np.array\n",
    "**character_scores** - list с тензорами, тензор - одна страница, каждый элемент - для каждого bbox score\n",
    "**crop_embeddings_for_batch** - list с тензорами, где каждый тензор - страница, а строка - для каждого bbox\n",
    "**crop_bboxes** - list c тензорами, где каждый тензор - страница, а строка - для каждого bbox"
   ]
  },
  {
   "cell_type": "code",
   "execution_count": 181,
   "metadata": {},
   "outputs": [],
   "source": [
    "crop_bboxes_bw = []\n",
    "crop_embeddings_for_batch_bw = []\n",
    "image_bboxes_bw = []\n",
    "character_scores_bw = []\n",
    "# crop_bboxes_color = []\n",
    "# crop_embeddings_for_batch_color = []\n",
    "# image_bboxes_color = []\n",
    "# character_scores_color = []\n",
    "images_bw_for_everything_765 = []"
   ]
  },
  {
   "cell_type": "code",
   "execution_count": 617,
   "metadata": {},
   "outputs": [],
   "source": [
    "@dataclass\n",
    "class CropBbox:\n",
    "    id_crop_bbox: int\n",
    "    image_bbox: np.ndarray # картиночка самого bboxa\n",
    "    character_score: float # не нужен, но есть\n",
    "    embeddings_for_batch: torch.Tensor # эмбеддинг для сравнения\n",
    "    crop_bboxes_for: torch.Tensor # 4 координаты\n",
    "    file_name: str # имя страницы исходной, иначе хрен сравним с раскраской"
   ]
  },
  {
   "cell_type": "code",
   "execution_count": 182,
   "metadata": {},
   "outputs": [],
   "source": [
    "list_of_embedddings_765 = []"
   ]
  },
  {
   "cell_type": "code",
   "execution_count": 183,
   "metadata": {},
   "outputs": [],
   "source": [
    "id_number = 0"
   ]
  },
  {
   "cell_type": "code",
   "execution_count": 184,
   "metadata": {},
   "outputs": [],
   "source": [
    "for batch in images_bw:\n",
    "    with torch.no_grad():\n",
    "        page_image = [batch.image]\n",
    "        page_name = batch.full_file_name\n",
    "\n",
    "        (\n",
    "            batch_crop_bboxes,\n",
    "            batch_crop_embeddings_for_batch,\n",
    "            batch_image_bboxes,\n",
    "            batch_character_scores,\n",
    "        ) = model.get_crops_and_embeddings(page_image)\n",
    "\n",
    "    num_rows = len(batch_crop_embeddings_for_batch[0])\n",
    "\n",
    "    for i in range(num_rows):\n",
    "        images_bw_for_everything_765.append(\n",
    "            CropBbox(\n",
    "                id_crop_bbox=i+id_number,\n",
    "                image_bbox=batch_image_bboxes[0][i],\n",
    "                character_score=batch_character_scores[0][i],\n",
    "                embeddings_for_batch=batch_crop_embeddings_for_batch[0][i],\n",
    "                crop_bboxes_for=batch_crop_bboxes[0][i],\n",
    "                file_name=page_name,\n",
    "            )\n",
    "        )\n",
    "        list_of_embedddings_765.append(batch_crop_embeddings_for_batch[0][i])\n",
    "    \n",
    "    id_number = id_number + num_rows"
   ]
  },
  {
   "cell_type": "markdown",
   "metadata": {},
   "source": [
    "---"
   ]
  },
  {
   "cell_type": "markdown",
   "metadata": {},
   "source": [
    "### Разделим по 100 bboxes"
   ]
  },
  {
   "cell_type": "code",
   "execution_count": null,
   "metadata": {},
   "outputs": [],
   "source": [
    "# Тут подсписки длиной в 100 экземпляров BBox\n",
    "# sublists_for_clasterization = []\n",
    "# Тут подсписки длиной в 100 тензоров каждый - тензоры для cosine_simularity\n",
    "sublists_for_embedddings = []"
   ]
  },
  {
   "cell_type": "code",
   "execution_count": null,
   "metadata": {},
   "outputs": [],
   "source": [
    "for i in range(0, len(list_of_embedddings), 100):\n",
    "    #sublist_for_bbox = images_bw_for_everything[i:i+100]\n",
    "    sublist_for_embedddings = list_of_embedddings[i:i+100]\n",
    "    #sublists_for_clasterization.append(sublist_for_bbox)\n",
    "    sublists_for_embedddings.append(sublist_for_embedddings)"
   ]
  },
  {
   "cell_type": "code",
   "execution_count": null,
   "metadata": {},
   "outputs": [],
   "source": [
    "# Тут просто в тензоры объединим\n",
    "list_for_analysis = []"
   ]
  },
  {
   "cell_type": "code",
   "execution_count": null,
   "metadata": {},
   "outputs": [],
   "source": [
    "for one_list in sublists_for_embedddings:\n",
    "    crop_embedddings_bw = None\n",
    "    \n",
    "    # Проходим по каждому элементу в подмножестве\n",
    "    for i in range(len(one_list)):\n",
    "        # Извлекаем эмбеддинги из текущего элемента\n",
    "        current_embeddings = one_list[i].unsqueeze(dim=0)\n",
    "        \n",
    "        # Если crop_embeds_bw еще не инициализирована, инициализируем ее текущими эмбеддингами\n",
    "        if crop_embedddings_bw is None:\n",
    "            crop_embedddings_bw = current_embeddings\n",
    "        else:\n",
    "            # Иначе объединяем текущие эмбеддинги с предыдущими\n",
    "            crop_embedddings_bw = torch.cat((crop_embedddings_bw, current_embeddings), dim=0)\n",
    "    \n",
    "    list_for_analysis.append(crop_embedddings_bw)"
   ]
  },
  {
   "cell_type": "markdown",
   "metadata": {},
   "source": [
    "### Проба с максимумом по главе"
   ]
  },
  {
   "cell_type": "code",
   "execution_count": null,
   "metadata": {},
   "outputs": [],
   "source": [
    "# Список для поиска совпадений с раскрашенными персами\n",
    "compare_list = []"
   ]
  },
  {
   "cell_type": "code",
   "execution_count": null,
   "metadata": {},
   "outputs": [],
   "source": [
    "# Перебираем все подмножества в sublists_for_embedddings\n",
    "for one_pack_for_analysis in list_for_analysis:\n",
    "\n",
    "    # Матрица с косинусными совпадениями все-на-все\n",
    "    pcs = pairwise_cosine_similarity(one_pack_for_analysis, one_pack_for_analysis)\n",
    "    # Меняем единицы в главной диагонали на нули\n",
    "    pcs = pcs.fill_diagonal_(0.0)\n",
    "    # Получаем индексы всех максимумов - лучшие совпадения\n",
    "    new_var = torch.argmax(pcs, dim=1)\n",
    "    # Объединяем индексы лучших совпадений друг с другом попарно\n",
    "    char_to = torch.cat(\n",
    "        (new_var.unsqueeze(1), torch.arange(len(new_var)).cuda().unsqueeze(1)), dim=1\n",
    "    )\n",
    "    # Делаем граф из совпадающих вершин\n",
    "    graphs_chapter_one_max = nx.Graph(char_to.tolist())\n",
    "    # Объединяем все совпавшие вершины друг с другом  \n",
    "    indixes_per_chapter = [\n",
    "        list(c_) for c_ in nx.connected_components(graphs_chapter_one_max)\n",
    "    ]\n",
    "    # Создаём список compare_list и добавляем внутри него тензоры\n",
    "    for c_k in indixes_per_chapter:\n",
    "        for character_index in range(len(c_k)):\n",
    "            num = int(c_k[character_index])\n",
    "            if character_index == 0:\n",
    "                first_compare_batch = one_pack_for_analysis[num].unsqueeze(dim=0)\n",
    "            else:\n",
    "                first_compare_batch = torch.cat(\n",
    "                    (first_compare_batch, one_pack_for_analysis[num].unsqueeze(dim=0)), dim=0\n",
    "                )\n",
    "        compare_list.append(first_compare_batch)\n"
   ]
  },
  {
   "cell_type": "markdown",
   "metadata": {},
   "source": [
    "---"
   ]
  },
  {
   "cell_type": "markdown",
   "metadata": {},
   "source": [
    "### Поиск samples"
   ]
  },
  {
   "cell_type": "code",
   "execution_count": null,
   "metadata": {},
   "outputs": [],
   "source": [
    "directory_path_samples = \"data/samples/Bleach\"\n"
   ]
  },
  {
   "cell_type": "code",
   "execution_count": 618,
   "metadata": {},
   "outputs": [],
   "source": [
    "@dataclass\n",
    "class SampleImage:\n",
    "    # sample_image: int\n",
    "    sample_image: np.ndarray # картиночка \n",
    "    # character_score: float # не нужен, но есть\n",
    "    # embeddings_for_batch: torch.Tensor # эмбеддинг для сравнения\n",
    "    # crop_bboxes_for: torch.Tensor # 4 координаты\n",
    "    full_file_name: str # имя страницы исходной для подачи потом в раскраску"
   ]
  },
  {
   "cell_type": "markdown",
   "metadata": {},
   "source": [
    "images_samples - список, содержащий в себе примеры для окраски в виде numpy arrays"
   ]
  },
  {
   "cell_type": "code",
   "execution_count": null,
   "metadata": {},
   "outputs": [],
   "source": [
    "images_samples = []"
   ]
  },
  {
   "cell_type": "code",
   "execution_count": null,
   "metadata": {},
   "outputs": [],
   "source": [
    "# Заглушка для чтения файлов из папки с примерами раскраски\n",
    "for filename in os.listdir(directory_path_samples):\n",
    "    full_path = os.path.join(directory_path_samples, filename)\n",
    "    try:\n",
    "        img = np.asarray(Image.open(full_path).convert(\"RGB\"))\n",
    "        images_samples.append(SampleImage(sample_image=img, full_file_name=full_path))\n",
    "    except Exception as e:\n",
    "        print(f\"Ошибка при открытии {full_path}: {e}\")\n"
   ]
  },
  {
   "cell_type": "code",
   "execution_count": null,
   "metadata": {},
   "outputs": [],
   "source": [
    "type(images_samples)"
   ]
  },
  {
   "cell_type": "code",
   "execution_count": null,
   "metadata": {},
   "outputs": [],
   "source": [
    "images_color_for_analysis = []"
   ]
  },
  {
   "cell_type": "code",
   "execution_count": null,
   "metadata": {},
   "outputs": [],
   "source": [
    "list_of_compare_embeddings = []"
   ]
  },
  {
   "cell_type": "code",
   "execution_count": 619,
   "metadata": {},
   "outputs": [],
   "source": [
    "@dataclass\n",
    "class AnalisysSampleImage:\n",
    "    id_sample_image: int\n",
    "    sample_image: np.ndarray # картиночка \n",
    "    # character_score: float # не нужен, но есть\n",
    "    embeddings_for_batch: torch.Tensor # эмбеддинг для сравнения\n",
    "    # crop_bboxes_for: torch.Tensor # 4 координаты\n",
    "    full_file_name: str # имя страницы исходной для подачи потом в раскраску"
   ]
  },
  {
   "cell_type": "markdown",
   "metadata": {},
   "source": [
    "записываем все картинки для раскраски в такую же структуру, что и bboxes"
   ]
  },
  {
   "cell_type": "code",
   "execution_count": null,
   "metadata": {},
   "outputs": [],
   "source": [
    "for batch in images_samples:\n",
    "    with torch.no_grad():\n",
    "        page_image = [batch.sample_image]\n",
    "        page_name = batch.full_file_name\n",
    "\n",
    "        (\n",
    "            batch_crop_bboxes,\n",
    "            batch_crop_embeddings_for_batch,\n",
    "            batch_image_bboxes,\n",
    "            batch_character_scores,\n",
    "        ) = model.get_crops_and_embeddings(page_image)\n",
    "\n",
    "    num_rows = len(batch_crop_embeddings_for_batch[0])\n",
    "\n",
    "    for i in range(num_rows):\n",
    "        images_color_for_analysis.append(\n",
    "            AnalisysSampleImage(\n",
    "                id_sample_image=i+id_number,\n",
    "                sample_image=batch_image_bboxes[0][i],\n",
    "                embeddings_for_batch=batch_crop_embeddings_for_batch[0][i],\n",
    "                full_file_name=page_name,\n",
    "            )\n",
    "        )\n",
    "        list_of_compare_embeddings.append(batch_crop_embeddings_for_batch[0][i])\n",
    "    \n",
    "    id_number = id_number + num_rows\n"
   ]
  },
  {
   "cell_type": "code",
   "execution_count": null,
   "metadata": {},
   "outputs": [],
   "source": [
    "images_color_for_analysis[0].embeddings_for_batch.shape"
   ]
  },
  {
   "cell_type": "markdown",
   "metadata": {},
   "source": [
    "Обрабатываем список с эмбеддингами - делаем из них единый тензор"
   ]
  },
  {
   "cell_type": "code",
   "execution_count": null,
   "metadata": {},
   "outputs": [],
   "source": [
    "crop_embedddings_sample = None"
   ]
  },
  {
   "cell_type": "code",
   "execution_count": null,
   "metadata": {},
   "outputs": [],
   "source": [
    "# Проходим по каждому элементу в подмножестве\n",
    "for i in range(len(list_of_compare_embeddings)):\n",
    "    # Извлекаем эмбеддинги из текущего элемента\n",
    "    current_embeddings = list_of_compare_embeddings[i].unsqueeze(dim=0)\n",
    "    \n",
    "    # Если crop_embeds_bw еще не инициализирована, инициализируем ее текущими эмбеддингами\n",
    "    if crop_embedddings_sample is None:\n",
    "        crop_embedddings_sample = current_embeddings\n",
    "    else:\n",
    "        # Иначе объединяем текущие эмбеддинги с предыдущими\n",
    "        crop_embedddings_sample = torch.cat((crop_embedddings_sample, current_embeddings), dim=0)\n",
    "    "
   ]
  },
  {
   "cell_type": "code",
   "execution_count": null,
   "metadata": {},
   "outputs": [],
   "source": [
    "crop_embedddings_sample.shape"
   ]
  },
  {
   "cell_type": "markdown",
   "metadata": {},
   "source": [
    "### Сопоставляем эмбеддинги цветных примеров и эмбеддинги bboxes"
   ]
  },
  {
   "cell_type": "code",
   "execution_count": null,
   "metadata": {},
   "outputs": [],
   "source": [
    "compare_list[1].shape"
   ]
  },
  {
   "cell_type": "markdown",
   "metadata": {},
   "source": [
    "result_dict - тут будет цифра, которая привязана только к sample_dict и подходящие эмбеддинги среди нераскрашенных кропов"
   ]
  },
  {
   "cell_type": "code",
   "execution_count": null,
   "metadata": {},
   "outputs": [],
   "source": [
    "result_dict = {}"
   ]
  },
  {
   "cell_type": "markdown",
   "metadata": {},
   "source": [
    "sample_dict - тут будет цифра, которая привязана связана с result_dict и эмбеддинг раскраски"
   ]
  },
  {
   "cell_type": "code",
   "execution_count": null,
   "metadata": {},
   "outputs": [],
   "source": [
    "sample_dict = {}"
   ]
  },
  {
   "cell_type": "code",
   "execution_count": null,
   "metadata": {},
   "outputs": [],
   "source": [
    "crop_embedddings_sample.shape"
   ]
  },
  {
   "cell_type": "code",
   "execution_count": null,
   "metadata": {},
   "outputs": [],
   "source": [
    "for one_tensor in compare_list:\n",
    "    # Составляем матрицу и сравниваем с самплами\n",
    "    pcs_samples = pairwise_cosine_similarity(one_tensor, crop_embedddings_sample)\n",
    "    # Ищем сумму по всем значениям\n",
    "    comp = torch.sum(pcs_samples, dim=0)\n",
    "    # Ищем индекс максимального совпадения\n",
    "    max_coincidence = int(torch.argmax(comp))\n",
    "    if result_dict.get(max_coincidence) is not None:\n",
    "        inter_res = torch.cat(\n",
    "                (result_dict[max_coincidence], one_tensor), dim=0)\n",
    "        result_dict[max_coincidence] = inter_res\n",
    "    else:\n",
    "        result_dict[max_coincidence] = one_tensor\n",
    "        # Запись под аналогичным номером эмбеддинга с примером раскраски\n",
    "        sample_dict[max_coincidence] = crop_embedddings_sample[max_coincidence]\n",
    "    "
   ]
  },
  {
   "cell_type": "markdown",
   "metadata": {},
   "source": [
    "---"
   ]
  },
  {
   "cell_type": "markdown",
   "metadata": {},
   "source": [
    "### Подача всех необходимых материалов для раскраски"
   ]
  },
  {
   "cell_type": "markdown",
   "metadata": {},
   "source": [
    "---"
   ]
  },
  {
   "cell_type": "markdown",
   "metadata": {},
   "source": [
    "### Для подачи картинок для раскраски находим по эмбеддингу пример и bbox"
   ]
  },
  {
   "cell_type": "code",
   "execution_count": null,
   "metadata": {},
   "outputs": [],
   "source": [
    "images_color_for_analysis[0].__dict__.keys()"
   ]
  },
  {
   "cell_type": "code",
   "execution_count": null,
   "metadata": {},
   "outputs": [],
   "source": [
    "images_bw_for_everything[0].__dict__.keys()"
   ]
  },
  {
   "cell_type": "code",
   "execution_count": null,
   "metadata": {},
   "outputs": [],
   "source": [
    "len(result_dict)"
   ]
  },
  {
   "cell_type": "markdown",
   "metadata": {},
   "source": [
    "Создадим пустой файл json"
   ]
  },
  {
   "cell_type": "code",
   "execution_count": null,
   "metadata": {},
   "outputs": [],
   "source": [
    "directory_path_samples = \"data/samples/Bleach\"\n"
   ]
  },
  {
   "cell_type": "code",
   "execution_count": null,
   "metadata": {},
   "outputs": [],
   "source": [
    "\n",
    "\n",
    "# Создание пустого словаря для записи в JSON\n",
    "empty_data = {}\n",
    "\n",
    "# Запись пустого словаря в файл JSON\n",
    "with open(file_path_json, 'w') as f:\n",
    "    json.dump(empty_data, f, ensure_ascii=False, indent=4)\n"
   ]
  },
  {
   "cell_type": "code",
   "execution_count": null,
   "metadata": {},
   "outputs": [],
   "source": [
    "existing_data = []"
   ]
  },
  {
   "cell_type": "code",
   "execution_count": null,
   "metadata": {},
   "outputs": [],
   "source": [
    "images_bw_for_everything[0].__dict__.keys()"
   ]
  },
  {
   "cell_type": "code",
   "execution_count": null,
   "metadata": {},
   "outputs": [],
   "source": [
    "images_bw_for_everything[35].image_bbox.shape"
   ]
  },
  {
   "cell_type": "code",
   "execution_count": null,
   "metadata": {},
   "outputs": [],
   "source": [
    "for chosen_key, embedding_color in sample_dict.items():\n",
    "    corresponding_tensor_in_result_dict = result_dict[chosen_key]\n",
    "\n",
    "    # тут перебираем среди всех экземпляров класса и находим название картинки с образцом раскраски,у которого совпадает эмбеддинг\n",
    "    for image in images_color_for_analysis:\n",
    "        if torch.equal(image.embeddings_for_batch, embedding_color):\n",
    "            blue_print_img = image.full_file_name\n",
    "\n",
    "    for i in range(corresponding_tensor_in_result_dict.shape[0]):\n",
    "        # Извлекаем строку как одномерный тензор размером [768]\n",
    "        row_as_1d = corresponding_tensor_in_result_dict[i].view(-1)\n",
    "\n",
    "        for image in images_bw_for_everything:\n",
    "            if torch.equal(image.embeddings_for_batch, row_as_1d):\n",
    "                for_coloring = image.file_name\n",
    "                coordinates = image.crop_bboxes_for\n",
    "                index_for_name = image.id_crop_bbox\n",
    "                # ищем аналогичный цветной файл\n",
    "                new_file_path = for_coloring.replace(\"_bw.png\", \"_color.png\")\n",
    "                # вырезаем нужную цветную картинку\n",
    "                # fid_array = np.array(Image.open(new_file_path))\n",
    "                fid_array = Image.open(new_file_path)\n",
    "                # Вырезаем область из изображения\n",
    "                x1 = int(coordinates[1])\n",
    "                y1 = int(coordinates[0])\n",
    "                x2 = int(coordinates[3])\n",
    "                y2 = int(coordinates[2])\n",
    "                # width = int(coordinates[3]) - int(coordinates[1])\n",
    "                # height = int(coordinates[2]) - int(coordinates[0])\n",
    "                # cropped_color_image = fid_array[\n",
    "                #    int(coordinates[1]) : int(coordinates[3]),\n",
    "                #    int(coordinates[0]) : int(coordinates[2]),\n",
    "                # ]\n",
    "                cropped_color_image = fid_array.crop((y1, x1, y2, x2))\n",
    "                filename_color = f\"{index_for_name}_output_image_color.png\"\n",
    "\n",
    "                # Image.fromarray(cropped_color_image).save(\n",
    "                #     f\"data/for_diffusion_model/Oshi no Ko/Vol3 Ch28/{filename_color}\"\n",
    "                # )\n",
    "                cropped_color_image.save(\n",
    "                     f\"data/for_diffusion_model/Bleach/Vol74_Ch685/{filename_color}\"\n",
    "                )\n",
    "                # Image.fromarray(np.uint8(cropped_color_image)).save(\n",
    "                #     f\"data/for_diffusion_model/Oshi no Ko/Vol3 Ch28/{filename_color}\"\n",
    "                # )\n",
    "\n",
    "                cropped_black_image = image.image_bbox\n",
    "                filename_black = f\"{index_for_name}_output_black_color.png\"\n",
    "\n",
    "                Image.fromarray(np.uint8(cropped_black_image)).save(\n",
    "                    f\"data/for_diffusion_model/Bleach/Vol74_Ch685/{filename_black}\"\n",
    "                )\n",
    "\n",
    "                data_to_save = {\n",
    "                    \"File sample name\": str(blue_print_img),\n",
    "                    \"Crop bbox\": str(filename_black),\n",
    "                    \"For compering\": str(filename_color),\n",
    "                }\n",
    "                existing_data.append(data_to_save)\n",
    "                torch.cuda.empty_cache()\n",
    "        # тут раскраска\n",
    "        # и сравнение тут же"
   ]
  },
  {
   "cell_type": "markdown",
   "metadata": {},
   "source": [
    "Запись информации в файл json"
   ]
  },
  {
   "cell_type": "code",
   "execution_count": null,
   "metadata": {},
   "outputs": [],
   "source": [
    "with open(file_path_json, 'w', encoding='utf-8') as f:\n",
    "    json.dump(existing_data, f, ensure_ascii=False, indent=4)"
   ]
  },
  {
   "cell_type": "markdown",
   "metadata": {},
   "source": [
    "---"
   ]
  },
  {
   "cell_type": "code",
   "execution_count": null,
   "metadata": {},
   "outputs": [],
   "source": []
  },
  {
   "cell_type": "markdown",
   "metadata": {},
   "source": [
    "### Метрики"
   ]
  },
  {
   "cell_type": "code",
   "execution_count": null,
   "metadata": {},
   "outputs": [],
   "source": [
    "spisok_of_name = []"
   ]
  },
  {
   "cell_type": "code",
   "execution_count": null,
   "metadata": {},
   "outputs": [],
   "source": [
    "with open('data/json_files/Oshi no Ko/Vol3_Ch28.json', 'r') as file:\n",
    "    data = json.load(file)"
   ]
  },
  {
   "cell_type": "code",
   "execution_count": null,
   "metadata": {},
   "outputs": [],
   "source": [
    "for i in range(144):\n",
    "    crop_bbox = str(data[i]['Crop bbox'])\n",
    "    name = \"data/for_diffusion_model/Oshi no Ko/Vol3 Ch28/\" + crop_bbox\n",
    "    spisok_of_name.append(name)"
   ]
  },
  {
   "cell_type": "code",
   "execution_count": null,
   "metadata": {},
   "outputs": [],
   "source": [
    "pp(spisok_of_name)"
   ]
  },
  {
   "cell_type": "markdown",
   "metadata": {},
   "source": [
    "---"
   ]
  },
  {
   "cell_type": "code",
   "execution_count": null,
   "metadata": {},
   "outputs": [],
   "source": [
    "from PIL import Image\n",
    "import numpy as np\n",
    "\n",
    "# Путь к вашему изображению\n",
    "image_path = 'путь_к_вашему_изображению.png'\n",
    "\n",
    "# Открытие изображения с помощью PIL\n",
    "image = Image.open(image_path)\n",
    "\n",
    "# Преобразование изображения в NumPy массив\n",
    "numpy_array = np.array(image)\n",
    "\n",
    "# Теперь вы можете работать с numpy_array как с обычным массивом NumPy\n",
    "print(numpy_array.shape)  # Выводит размерность массива\n",
    "print(numpy_array.dtype)  # Выводит тип данных элементов массива"
   ]
  },
  {
   "cell_type": "markdown",
   "metadata": {},
   "source": [
    "---"
   ]
  },
  {
   "cell_type": "code",
   "execution_count": null,
   "metadata": {},
   "outputs": [],
   "source": []
  },
  {
   "cell_type": "code",
   "execution_count": null,
   "metadata": {},
   "outputs": [],
   "source": [
    "images_bw_for_everything[0].embeddings_for_batch == list_of_embedddings[0]"
   ]
  },
  {
   "cell_type": "code",
   "execution_count": null,
   "metadata": {},
   "outputs": [],
   "source": [
    "pp(list_of_embedddings[0])"
   ]
  },
  {
   "cell_type": "code",
   "execution_count": 304,
   "metadata": {},
   "outputs": [
    {
     "data": {
      "text/plain": [
       "146"
      ]
     },
     "execution_count": 304,
     "metadata": {},
     "output_type": "execute_result"
    }
   ],
   "source": [
    "len(list_of_embedddings_3_28)"
   ]
  },
  {
   "cell_type": "code",
   "execution_count": null,
   "metadata": {},
   "outputs": [],
   "source": [
    "list_of_embedddings_765"
   ]
  },
  {
   "cell_type": "code",
   "execution_count": null,
   "metadata": {},
   "outputs": [],
   "source": [
    "images_bw_for_everything_765"
   ]
  },
  {
   "cell_type": "code",
   "execution_count": null,
   "metadata": {},
   "outputs": [],
   "source": [
    "list_of_embedddings_3_28"
   ]
  },
  {
   "cell_type": "code",
   "execution_count": 557,
   "metadata": {},
   "outputs": [
    {
     "ename": "IndexError",
     "evalue": "list index out of range",
     "output_type": "error",
     "traceback": [
      "\u001b[0;31m---------------------------------------------------------------------------\u001b[0m",
      "\u001b[0;31mIndexError\u001b[0m                                Traceback (most recent call last)",
      "Cell \u001b[0;32mIn[557], line 1\u001b[0m\n\u001b[0;32m----> 1\u001b[0m Image\u001b[38;5;241m.\u001b[39mfromarray(\u001b[43mimages_bw_for_everything_765\u001b[49m\u001b[43m[\u001b[49m\u001b[38;5;241;43m97\u001b[39;49m\u001b[43m]\u001b[49m\u001b[38;5;241m.\u001b[39mimage_bbox)\n",
      "\u001b[0;31mIndexError\u001b[0m: list index out of range"
     ]
    }
   ],
   "source": [
    "Image.fromarray(images_bw_for_everything_765[97].image_bbox)"
   ]
  },
  {
   "cell_type": "code",
   "execution_count": 19,
   "metadata": {},
   "outputs": [],
   "source": [
    "Ai = []\n",
    "Ruby = []\n",
    "Akane = []\n",
    "Cana = []\n",
    "Memte = []\n",
    "Aquamarine = []"
   ]
  },
  {
   "cell_type": "code",
   "execution_count": 550,
   "metadata": {},
   "outputs": [],
   "source": [
    "Ai.append(list_of_embedddings_765[92])"
   ]
  },
  {
   "cell_type": "code",
   "execution_count": 424,
   "metadata": {},
   "outputs": [],
   "source": [
    "Ruby.append(list_of_embedddings_765[9])"
   ]
  },
  {
   "cell_type": "code",
   "execution_count": 387,
   "metadata": {},
   "outputs": [],
   "source": [
    "list_of_embedddings_765Akane.append([128])"
   ]
  },
  {
   "cell_type": "code",
   "execution_count": 527,
   "metadata": {},
   "outputs": [],
   "source": [
    "Cana.append(list_of_embedddings_765[76])"
   ]
  },
  {
   "cell_type": "code",
   "execution_count": 392,
   "metadata": {},
   "outputs": [],
   "source": [
    "Memte.append(list_of_embedddings_765[131])"
   ]
  },
  {
   "cell_type": "code",
   "execution_count": 555,
   "metadata": {},
   "outputs": [],
   "source": [
    "Aquamarine.append(list_of_embedddings_765[95])"
   ]
  },
  {
   "cell_type": "code",
   "execution_count": 558,
   "metadata": {},
   "outputs": [
    {
     "data": {
      "text/plain": [
       "23"
      ]
     },
     "execution_count": 558,
     "metadata": {},
     "output_type": "execute_result"
    }
   ],
   "source": [
    "len(Ruby)"
   ]
  },
  {
   "cell_type": "code",
   "execution_count": 563,
   "metadata": {},
   "outputs": [
    {
     "data": {
      "text/plain": [
       "47"
      ]
     },
     "execution_count": 563,
     "metadata": {},
     "output_type": "execute_result"
    }
   ],
   "source": [
    "len(Aquamarine)"
   ]
  },
  {
   "cell_type": "code",
   "execution_count": 564,
   "metadata": {},
   "outputs": [],
   "source": [
    "New_Ai = Ai[:17]\n",
    "New_Ruby = Ruby[:17]\n",
    "New_Akane = Akane[:17]\n",
    "New_Cana = Cana[:17]\n",
    "New_Memte = Memte[:17]\n",
    "New_Aquamarine = Aquamarine[:17]\n"
   ]
  },
  {
   "cell_type": "markdown",
   "metadata": {},
   "source": [
    "---"
   ]
  },
  {
   "cell_type": "code",
   "execution_count": 565,
   "metadata": {},
   "outputs": [],
   "source": [
    "My_new_list = New_Ai + New_Ruby + New_Akane + New_Cana + New_Memte + New_Aquamarine"
   ]
  },
  {
   "cell_type": "code",
   "execution_count": 761,
   "metadata": {},
   "outputs": [
    {
     "data": {
      "text/plain": [
       "102"
      ]
     },
     "execution_count": 761,
     "metadata": {},
     "output_type": "execute_result"
    }
   ],
   "source": [
    "len(My_new_list)"
   ]
  },
  {
   "cell_type": "code",
   "execution_count": 567,
   "metadata": {},
   "outputs": [],
   "source": [
    "slovar = {\"Ai\": Ai, \"Ruby\": Ruby, \"Akane\": Akane, \"Cana\": Cana, \"Memte\": Memte, \"Aquamarine\": Aquamarine}"
   ]
  },
  {
   "cell_type": "markdown",
   "metadata": {},
   "source": [
    "---"
   ]
  },
  {
   "cell_type": "code",
   "execution_count": null,
   "metadata": {},
   "outputs": [],
   "source": [
    "/home/userr/MANGA/detection/data/metrics"
   ]
  },
  {
   "cell_type": "code",
   "execution_count": null,
   "metadata": {},
   "outputs": [],
   "source": [
    "empty_data = {}\n",
    "\n",
    "# Запись пустого словаря в файл JSON\n",
    "with open(file_path_json, 'w') as f:\n",
    "    json.dump(empty_data, f, ensure_ascii=False, indent=4)"
   ]
  },
  {
   "cell_type": "code",
   "execution_count": 771,
   "metadata": {},
   "outputs": [],
   "source": [
    "tensor_cpu = crop_embedddings_all.cpu()\n",
    "\n",
    "# Преобразование тензора в массив NumPy\n",
    "nat = tensor_cpu.numpy()"
   ]
  },
  {
   "cell_type": "code",
   "execution_count": 773,
   "metadata": {},
   "outputs": [
    {
     "data": {
      "text/plain": [
       "(102, 768)"
      ]
     },
     "execution_count": 773,
     "metadata": {},
     "output_type": "execute_result"
    }
   ],
   "source": [
    "nat.shape"
   ]
  },
  {
   "cell_type": "code",
   "execution_count": 772,
   "metadata": {},
   "outputs": [],
   "source": [
    "# Конкретный путь к файлу\n",
    "file_path = 'data/metrics/formetric.json'\n",
    "\n",
    "# Открытие файла для записи по указанному пути\n",
    "with open(file_path, 'w') as file:\n",
    "    # Запись списка в файл в формате JSON\n",
    "    json.dump(nat.tolist(), file)\n"
   ]
  },
  {
   "cell_type": "code",
   "execution_count": 5,
   "metadata": {},
   "outputs": [],
   "source": [
    "# Конкретный путь к файлу\n",
    "file_path = 'data/metrics/formetric.json'"
   ]
  },
  {
   "cell_type": "markdown",
   "metadata": {},
   "source": [
    "### Готовый HDBSCAN"
   ]
  },
  {
   "cell_type": "code",
   "execution_count": 605,
   "metadata": {},
   "outputs": [],
   "source": [
    "from sklearn.cluster import HDBSCAN, AgglomerativeClustering\n",
    "\n",
    "hdb = HDBSCAN(min_cluster_size=12, min_samples=3)"
   ]
  },
  {
   "cell_type": "code",
   "execution_count": 588,
   "metadata": {},
   "outputs": [],
   "source": [
    "crop_embedddings_all = None"
   ]
  },
  {
   "cell_type": "code",
   "execution_count": 589,
   "metadata": {},
   "outputs": [],
   "source": [
    "# Проходим по каждому элементу в подмножестве\n",
    "for i in range(len(numpy_arrays_for)):\n",
    "\n",
    "    torch_tensor_met = torch.from_numpy(numpy_arrays_for[i])\n",
    "    # Извлекаем эмбеддинги из текущего элемента\n",
    "    current_embeddings_agl = torch_tensor_met.unsqueeze(dim=0)\n",
    "    \n",
    "    # Если crop_embeds_bw еще не инициализирована, инициализируем ее текущими эмбеддингами\n",
    "    if crop_embedddings_all is None:\n",
    "        crop_embedddings_all = current_embeddings_agl\n",
    "    else:\n",
    "        # Иначе объединяем текущие эмбеддинги с предыдущими\n",
    "        crop_embedddings_all = torch.cat((crop_embedddings_all, current_embeddings_agl), dim=0)"
   ]
  },
  {
   "cell_type": "code",
   "execution_count": 590,
   "metadata": {},
   "outputs": [
    {
     "data": {
      "text/plain": [
       "torch.Tensor"
      ]
     },
     "execution_count": 590,
     "metadata": {},
     "output_type": "execute_result"
    }
   ],
   "source": [
    "type(crop_embedddings_all)"
   ]
  },
  {
   "cell_type": "code",
   "execution_count": 591,
   "metadata": {},
   "outputs": [
    {
     "data": {
      "text/html": [
       "<style>#sk-container-id-47 {\n",
       "  /* Definition of color scheme common for light and dark mode */\n",
       "  --sklearn-color-text: black;\n",
       "  --sklearn-color-line: gray;\n",
       "  /* Definition of color scheme for unfitted estimators */\n",
       "  --sklearn-color-unfitted-level-0: #fff5e6;\n",
       "  --sklearn-color-unfitted-level-1: #f6e4d2;\n",
       "  --sklearn-color-unfitted-level-2: #ffe0b3;\n",
       "  --sklearn-color-unfitted-level-3: chocolate;\n",
       "  /* Definition of color scheme for fitted estimators */\n",
       "  --sklearn-color-fitted-level-0: #f0f8ff;\n",
       "  --sklearn-color-fitted-level-1: #d4ebff;\n",
       "  --sklearn-color-fitted-level-2: #b3dbfd;\n",
       "  --sklearn-color-fitted-level-3: cornflowerblue;\n",
       "\n",
       "  /* Specific color for light theme */\n",
       "  --sklearn-color-text-on-default-background: var(--sg-text-color, var(--theme-code-foreground, var(--jp-content-font-color1, black)));\n",
       "  --sklearn-color-background: var(--sg-background-color, var(--theme-background, var(--jp-layout-color0, white)));\n",
       "  --sklearn-color-border-box: var(--sg-text-color, var(--theme-code-foreground, var(--jp-content-font-color1, black)));\n",
       "  --sklearn-color-icon: #696969;\n",
       "\n",
       "  @media (prefers-color-scheme: dark) {\n",
       "    /* Redefinition of color scheme for dark theme */\n",
       "    --sklearn-color-text-on-default-background: var(--sg-text-color, var(--theme-code-foreground, var(--jp-content-font-color1, white)));\n",
       "    --sklearn-color-background: var(--sg-background-color, var(--theme-background, var(--jp-layout-color0, #111)));\n",
       "    --sklearn-color-border-box: var(--sg-text-color, var(--theme-code-foreground, var(--jp-content-font-color1, white)));\n",
       "    --sklearn-color-icon: #878787;\n",
       "  }\n",
       "}\n",
       "\n",
       "#sk-container-id-47 {\n",
       "  color: var(--sklearn-color-text);\n",
       "}\n",
       "\n",
       "#sk-container-id-47 pre {\n",
       "  padding: 0;\n",
       "}\n",
       "\n",
       "#sk-container-id-47 input.sk-hidden--visually {\n",
       "  border: 0;\n",
       "  clip: rect(1px 1px 1px 1px);\n",
       "  clip: rect(1px, 1px, 1px, 1px);\n",
       "  height: 1px;\n",
       "  margin: -1px;\n",
       "  overflow: hidden;\n",
       "  padding: 0;\n",
       "  position: absolute;\n",
       "  width: 1px;\n",
       "}\n",
       "\n",
       "#sk-container-id-47 div.sk-dashed-wrapped {\n",
       "  border: 1px dashed var(--sklearn-color-line);\n",
       "  margin: 0 0.4em 0.5em 0.4em;\n",
       "  box-sizing: border-box;\n",
       "  padding-bottom: 0.4em;\n",
       "  background-color: var(--sklearn-color-background);\n",
       "}\n",
       "\n",
       "#sk-container-id-47 div.sk-container {\n",
       "  /* jupyter's `normalize.less` sets `[hidden] { display: none; }`\n",
       "     but bootstrap.min.css set `[hidden] { display: none !important; }`\n",
       "     so we also need the `!important` here to be able to override the\n",
       "     default hidden behavior on the sphinx rendered scikit-learn.org.\n",
       "     See: https://github.com/scikit-learn/scikit-learn/issues/21755 */\n",
       "  display: inline-block !important;\n",
       "  position: relative;\n",
       "}\n",
       "\n",
       "#sk-container-id-47 div.sk-text-repr-fallback {\n",
       "  display: none;\n",
       "}\n",
       "\n",
       "div.sk-parallel-item,\n",
       "div.sk-serial,\n",
       "div.sk-item {\n",
       "  /* draw centered vertical line to link estimators */\n",
       "  background-image: linear-gradient(var(--sklearn-color-text-on-default-background), var(--sklearn-color-text-on-default-background));\n",
       "  background-size: 2px 100%;\n",
       "  background-repeat: no-repeat;\n",
       "  background-position: center center;\n",
       "}\n",
       "\n",
       "/* Parallel-specific style estimator block */\n",
       "\n",
       "#sk-container-id-47 div.sk-parallel-item::after {\n",
       "  content: \"\";\n",
       "  width: 100%;\n",
       "  border-bottom: 2px solid var(--sklearn-color-text-on-default-background);\n",
       "  flex-grow: 1;\n",
       "}\n",
       "\n",
       "#sk-container-id-47 div.sk-parallel {\n",
       "  display: flex;\n",
       "  align-items: stretch;\n",
       "  justify-content: center;\n",
       "  background-color: var(--sklearn-color-background);\n",
       "  position: relative;\n",
       "}\n",
       "\n",
       "#sk-container-id-47 div.sk-parallel-item {\n",
       "  display: flex;\n",
       "  flex-direction: column;\n",
       "}\n",
       "\n",
       "#sk-container-id-47 div.sk-parallel-item:first-child::after {\n",
       "  align-self: flex-end;\n",
       "  width: 50%;\n",
       "}\n",
       "\n",
       "#sk-container-id-47 div.sk-parallel-item:last-child::after {\n",
       "  align-self: flex-start;\n",
       "  width: 50%;\n",
       "}\n",
       "\n",
       "#sk-container-id-47 div.sk-parallel-item:only-child::after {\n",
       "  width: 0;\n",
       "}\n",
       "\n",
       "/* Serial-specific style estimator block */\n",
       "\n",
       "#sk-container-id-47 div.sk-serial {\n",
       "  display: flex;\n",
       "  flex-direction: column;\n",
       "  align-items: center;\n",
       "  background-color: var(--sklearn-color-background);\n",
       "  padding-right: 1em;\n",
       "  padding-left: 1em;\n",
       "}\n",
       "\n",
       "\n",
       "/* Toggleable style: style used for estimator/Pipeline/ColumnTransformer box that is\n",
       "clickable and can be expanded/collapsed.\n",
       "- Pipeline and ColumnTransformer use this feature and define the default style\n",
       "- Estimators will overwrite some part of the style using the `sk-estimator` class\n",
       "*/\n",
       "\n",
       "/* Pipeline and ColumnTransformer style (default) */\n",
       "\n",
       "#sk-container-id-47 div.sk-toggleable {\n",
       "  /* Default theme specific background. It is overwritten whether we have a\n",
       "  specific estimator or a Pipeline/ColumnTransformer */\n",
       "  background-color: var(--sklearn-color-background);\n",
       "}\n",
       "\n",
       "/* Toggleable label */\n",
       "#sk-container-id-47 label.sk-toggleable__label {\n",
       "  cursor: pointer;\n",
       "  display: block;\n",
       "  width: 100%;\n",
       "  margin-bottom: 0;\n",
       "  padding: 0.5em;\n",
       "  box-sizing: border-box;\n",
       "  text-align: center;\n",
       "}\n",
       "\n",
       "#sk-container-id-47 label.sk-toggleable__label-arrow:before {\n",
       "  /* Arrow on the left of the label */\n",
       "  content: \"▸\";\n",
       "  float: left;\n",
       "  margin-right: 0.25em;\n",
       "  color: var(--sklearn-color-icon);\n",
       "}\n",
       "\n",
       "#sk-container-id-47 label.sk-toggleable__label-arrow:hover:before {\n",
       "  color: var(--sklearn-color-text);\n",
       "}\n",
       "\n",
       "/* Toggleable content - dropdown */\n",
       "\n",
       "#sk-container-id-47 div.sk-toggleable__content {\n",
       "  max-height: 0;\n",
       "  max-width: 0;\n",
       "  overflow: hidden;\n",
       "  text-align: left;\n",
       "  /* unfitted */\n",
       "  background-color: var(--sklearn-color-unfitted-level-0);\n",
       "}\n",
       "\n",
       "#sk-container-id-47 div.sk-toggleable__content.fitted {\n",
       "  /* fitted */\n",
       "  background-color: var(--sklearn-color-fitted-level-0);\n",
       "}\n",
       "\n",
       "#sk-container-id-47 div.sk-toggleable__content pre {\n",
       "  margin: 0.2em;\n",
       "  border-radius: 0.25em;\n",
       "  color: var(--sklearn-color-text);\n",
       "  /* unfitted */\n",
       "  background-color: var(--sklearn-color-unfitted-level-0);\n",
       "}\n",
       "\n",
       "#sk-container-id-47 div.sk-toggleable__content.fitted pre {\n",
       "  /* unfitted */\n",
       "  background-color: var(--sklearn-color-fitted-level-0);\n",
       "}\n",
       "\n",
       "#sk-container-id-47 input.sk-toggleable__control:checked~div.sk-toggleable__content {\n",
       "  /* Expand drop-down */\n",
       "  max-height: 200px;\n",
       "  max-width: 100%;\n",
       "  overflow: auto;\n",
       "}\n",
       "\n",
       "#sk-container-id-47 input.sk-toggleable__control:checked~label.sk-toggleable__label-arrow:before {\n",
       "  content: \"▾\";\n",
       "}\n",
       "\n",
       "/* Pipeline/ColumnTransformer-specific style */\n",
       "\n",
       "#sk-container-id-47 div.sk-label input.sk-toggleable__control:checked~label.sk-toggleable__label {\n",
       "  color: var(--sklearn-color-text);\n",
       "  background-color: var(--sklearn-color-unfitted-level-2);\n",
       "}\n",
       "\n",
       "#sk-container-id-47 div.sk-label.fitted input.sk-toggleable__control:checked~label.sk-toggleable__label {\n",
       "  background-color: var(--sklearn-color-fitted-level-2);\n",
       "}\n",
       "\n",
       "/* Estimator-specific style */\n",
       "\n",
       "/* Colorize estimator box */\n",
       "#sk-container-id-47 div.sk-estimator input.sk-toggleable__control:checked~label.sk-toggleable__label {\n",
       "  /* unfitted */\n",
       "  background-color: var(--sklearn-color-unfitted-level-2);\n",
       "}\n",
       "\n",
       "#sk-container-id-47 div.sk-estimator.fitted input.sk-toggleable__control:checked~label.sk-toggleable__label {\n",
       "  /* fitted */\n",
       "  background-color: var(--sklearn-color-fitted-level-2);\n",
       "}\n",
       "\n",
       "#sk-container-id-47 div.sk-label label.sk-toggleable__label,\n",
       "#sk-container-id-47 div.sk-label label {\n",
       "  /* The background is the default theme color */\n",
       "  color: var(--sklearn-color-text-on-default-background);\n",
       "}\n",
       "\n",
       "/* On hover, darken the color of the background */\n",
       "#sk-container-id-47 div.sk-label:hover label.sk-toggleable__label {\n",
       "  color: var(--sklearn-color-text);\n",
       "  background-color: var(--sklearn-color-unfitted-level-2);\n",
       "}\n",
       "\n",
       "/* Label box, darken color on hover, fitted */\n",
       "#sk-container-id-47 div.sk-label.fitted:hover label.sk-toggleable__label.fitted {\n",
       "  color: var(--sklearn-color-text);\n",
       "  background-color: var(--sklearn-color-fitted-level-2);\n",
       "}\n",
       "\n",
       "/* Estimator label */\n",
       "\n",
       "#sk-container-id-47 div.sk-label label {\n",
       "  font-family: monospace;\n",
       "  font-weight: bold;\n",
       "  display: inline-block;\n",
       "  line-height: 1.2em;\n",
       "}\n",
       "\n",
       "#sk-container-id-47 div.sk-label-container {\n",
       "  text-align: center;\n",
       "}\n",
       "\n",
       "/* Estimator-specific */\n",
       "#sk-container-id-47 div.sk-estimator {\n",
       "  font-family: monospace;\n",
       "  border: 1px dotted var(--sklearn-color-border-box);\n",
       "  border-radius: 0.25em;\n",
       "  box-sizing: border-box;\n",
       "  margin-bottom: 0.5em;\n",
       "  /* unfitted */\n",
       "  background-color: var(--sklearn-color-unfitted-level-0);\n",
       "}\n",
       "\n",
       "#sk-container-id-47 div.sk-estimator.fitted {\n",
       "  /* fitted */\n",
       "  background-color: var(--sklearn-color-fitted-level-0);\n",
       "}\n",
       "\n",
       "/* on hover */\n",
       "#sk-container-id-47 div.sk-estimator:hover {\n",
       "  /* unfitted */\n",
       "  background-color: var(--sklearn-color-unfitted-level-2);\n",
       "}\n",
       "\n",
       "#sk-container-id-47 div.sk-estimator.fitted:hover {\n",
       "  /* fitted */\n",
       "  background-color: var(--sklearn-color-fitted-level-2);\n",
       "}\n",
       "\n",
       "/* Specification for estimator info (e.g. \"i\" and \"?\") */\n",
       "\n",
       "/* Common style for \"i\" and \"?\" */\n",
       "\n",
       ".sk-estimator-doc-link,\n",
       "a:link.sk-estimator-doc-link,\n",
       "a:visited.sk-estimator-doc-link {\n",
       "  float: right;\n",
       "  font-size: smaller;\n",
       "  line-height: 1em;\n",
       "  font-family: monospace;\n",
       "  background-color: var(--sklearn-color-background);\n",
       "  border-radius: 1em;\n",
       "  height: 1em;\n",
       "  width: 1em;\n",
       "  text-decoration: none !important;\n",
       "  margin-left: 1ex;\n",
       "  /* unfitted */\n",
       "  border: var(--sklearn-color-unfitted-level-1) 1pt solid;\n",
       "  color: var(--sklearn-color-unfitted-level-1);\n",
       "}\n",
       "\n",
       ".sk-estimator-doc-link.fitted,\n",
       "a:link.sk-estimator-doc-link.fitted,\n",
       "a:visited.sk-estimator-doc-link.fitted {\n",
       "  /* fitted */\n",
       "  border: var(--sklearn-color-fitted-level-1) 1pt solid;\n",
       "  color: var(--sklearn-color-fitted-level-1);\n",
       "}\n",
       "\n",
       "/* On hover */\n",
       "div.sk-estimator:hover .sk-estimator-doc-link:hover,\n",
       ".sk-estimator-doc-link:hover,\n",
       "div.sk-label-container:hover .sk-estimator-doc-link:hover,\n",
       ".sk-estimator-doc-link:hover {\n",
       "  /* unfitted */\n",
       "  background-color: var(--sklearn-color-unfitted-level-3);\n",
       "  color: var(--sklearn-color-background);\n",
       "  text-decoration: none;\n",
       "}\n",
       "\n",
       "div.sk-estimator.fitted:hover .sk-estimator-doc-link.fitted:hover,\n",
       ".sk-estimator-doc-link.fitted:hover,\n",
       "div.sk-label-container:hover .sk-estimator-doc-link.fitted:hover,\n",
       ".sk-estimator-doc-link.fitted:hover {\n",
       "  /* fitted */\n",
       "  background-color: var(--sklearn-color-fitted-level-3);\n",
       "  color: var(--sklearn-color-background);\n",
       "  text-decoration: none;\n",
       "}\n",
       "\n",
       "/* Span, style for the box shown on hovering the info icon */\n",
       ".sk-estimator-doc-link span {\n",
       "  display: none;\n",
       "  z-index: 9999;\n",
       "  position: relative;\n",
       "  font-weight: normal;\n",
       "  right: .2ex;\n",
       "  padding: .5ex;\n",
       "  margin: .5ex;\n",
       "  width: min-content;\n",
       "  min-width: 20ex;\n",
       "  max-width: 50ex;\n",
       "  color: var(--sklearn-color-text);\n",
       "  box-shadow: 2pt 2pt 4pt #999;\n",
       "  /* unfitted */\n",
       "  background: var(--sklearn-color-unfitted-level-0);\n",
       "  border: .5pt solid var(--sklearn-color-unfitted-level-3);\n",
       "}\n",
       "\n",
       ".sk-estimator-doc-link.fitted span {\n",
       "  /* fitted */\n",
       "  background: var(--sklearn-color-fitted-level-0);\n",
       "  border: var(--sklearn-color-fitted-level-3);\n",
       "}\n",
       "\n",
       ".sk-estimator-doc-link:hover span {\n",
       "  display: block;\n",
       "}\n",
       "\n",
       "/* \"?\"-specific style due to the `<a>` HTML tag */\n",
       "\n",
       "#sk-container-id-47 a.estimator_doc_link {\n",
       "  float: right;\n",
       "  font-size: 1rem;\n",
       "  line-height: 1em;\n",
       "  font-family: monospace;\n",
       "  background-color: var(--sklearn-color-background);\n",
       "  border-radius: 1rem;\n",
       "  height: 1rem;\n",
       "  width: 1rem;\n",
       "  text-decoration: none;\n",
       "  /* unfitted */\n",
       "  color: var(--sklearn-color-unfitted-level-1);\n",
       "  border: var(--sklearn-color-unfitted-level-1) 1pt solid;\n",
       "}\n",
       "\n",
       "#sk-container-id-47 a.estimator_doc_link.fitted {\n",
       "  /* fitted */\n",
       "  border: var(--sklearn-color-fitted-level-1) 1pt solid;\n",
       "  color: var(--sklearn-color-fitted-level-1);\n",
       "}\n",
       "\n",
       "/* On hover */\n",
       "#sk-container-id-47 a.estimator_doc_link:hover {\n",
       "  /* unfitted */\n",
       "  background-color: var(--sklearn-color-unfitted-level-3);\n",
       "  color: var(--sklearn-color-background);\n",
       "  text-decoration: none;\n",
       "}\n",
       "\n",
       "#sk-container-id-47 a.estimator_doc_link.fitted:hover {\n",
       "  /* fitted */\n",
       "  background-color: var(--sklearn-color-fitted-level-3);\n",
       "}\n",
       "</style><div id=\"sk-container-id-47\" class=\"sk-top-container\"><div class=\"sk-text-repr-fallback\"><pre>HDBSCAN(min_cluster_size=12, min_samples=4)</pre><b>In a Jupyter environment, please rerun this cell to show the HTML representation or trust the notebook. <br />On GitHub, the HTML representation is unable to render, please try loading this page with nbviewer.org.</b></div><div class=\"sk-container\" hidden><div class=\"sk-item\"><div class=\"sk-estimator fitted sk-toggleable\"><input class=\"sk-toggleable__control sk-hidden--visually\" id=\"sk-estimator-id-47\" type=\"checkbox\" checked><label for=\"sk-estimator-id-47\" class=\"sk-toggleable__label fitted sk-toggleable__label-arrow fitted\">&nbsp;&nbsp;HDBSCAN<a class=\"sk-estimator-doc-link fitted\" rel=\"noreferrer\" target=\"_blank\" href=\"https://scikit-learn.org/1.5/modules/generated/sklearn.cluster.HDBSCAN.html\">?<span>Documentation for HDBSCAN</span></a><span class=\"sk-estimator-doc-link fitted\">i<span>Fitted</span></span></label><div class=\"sk-toggleable__content fitted\"><pre>HDBSCAN(min_cluster_size=12, min_samples=4)</pre></div> </div></div></div></div>"
      ],
      "text/plain": [
       "HDBSCAN(min_cluster_size=12, min_samples=4)"
      ]
     },
     "execution_count": 591,
     "metadata": {},
     "output_type": "execute_result"
    }
   ],
   "source": [
    "hdb.fit(crop_embedddings_all.cpu().numpy())"
   ]
  },
  {
   "cell_type": "code",
   "execution_count": 592,
   "metadata": {},
   "outputs": [
    {
     "data": {
      "text/plain": [
       "array([[  0.        ,   0.        ,   1.        ],\n",
       "       [  1.        ,  -1.        ,   0.        ],\n",
       "       [  2.        ,   0.        ,   1.        ],\n",
       "       [  3.        ,   0.        ,   0.93349901],\n",
       "       [  4.        ,   0.        ,   1.        ],\n",
       "       [  5.        ,   0.        ,   1.        ],\n",
       "       [  6.        ,   0.        ,   1.        ],\n",
       "       [  7.        ,   0.        ,   1.        ],\n",
       "       [  8.        ,  -1.        ,   0.        ],\n",
       "       [  9.        ,   0.        ,   1.        ],\n",
       "       [ 10.        ,   0.        ,   1.        ],\n",
       "       [ 11.        ,  -1.        ,   0.        ],\n",
       "       [ 12.        ,   0.        ,   0.94485988],\n",
       "       [ 13.        ,   0.        ,   1.        ],\n",
       "       [ 14.        ,   0.        ,   1.        ],\n",
       "       [ 15.        ,   0.        ,   1.        ],\n",
       "       [ 16.        ,   0.        ,   1.        ],\n",
       "       [ 17.        ,   2.        ,   1.        ],\n",
       "       [ 18.        ,  -1.        ,   0.        ],\n",
       "       [ 19.        ,   2.        ,   1.        ],\n",
       "       [ 20.        ,   2.        ,   1.        ],\n",
       "       [ 21.        ,   2.        ,   1.        ],\n",
       "       [ 22.        ,  -1.        ,   0.        ],\n",
       "       [ 23.        ,   2.        ,   1.        ],\n",
       "       [ 24.        ,   2.        ,   1.        ],\n",
       "       [ 25.        ,  -1.        ,   0.        ],\n",
       "       [ 26.        ,   2.        ,   0.93364143],\n",
       "       [ 27.        ,  -1.        ,   0.        ],\n",
       "       [ 28.        ,  -1.        ,   0.        ],\n",
       "       [ 29.        ,  -1.        ,   0.        ],\n",
       "       [ 30.        ,   2.        ,   1.        ],\n",
       "       [ 31.        ,  -1.        ,   0.        ],\n",
       "       [ 32.        ,   2.        ,   1.        ],\n",
       "       [ 33.        ,  -1.        ,   0.        ],\n",
       "       [ 34.        ,  -1.        ,   0.        ],\n",
       "       [ 35.        ,  -1.        ,   0.        ],\n",
       "       [ 36.        ,  -1.        ,   0.        ],\n",
       "       [ 37.        ,   2.        ,   0.9287356 ],\n",
       "       [ 38.        ,   2.        ,   1.        ],\n",
       "       [ 39.        ,   2.        ,   1.        ],\n",
       "       [ 40.        ,   2.        ,   1.        ],\n",
       "       [ 41.        ,   2.        ,   1.        ],\n",
       "       [ 42.        ,  -1.        ,   0.        ],\n",
       "       [ 43.        ,  -1.        ,   0.        ],\n",
       "       [ 44.        ,  -1.        ,   0.        ],\n",
       "       [ 45.        ,  -1.        ,   0.        ],\n",
       "       [ 46.        ,  -1.        ,   0.        ],\n",
       "       [ 47.        ,  -1.        ,   0.        ],\n",
       "       [ 48.        ,  -1.        ,   0.        ],\n",
       "       [ 49.        ,   2.        ,   1.        ],\n",
       "       [ 50.        ,   2.        ,   1.        ],\n",
       "       [ 51.        ,   0.        ,   0.91406615],\n",
       "       [ 52.        ,  -1.        ,   0.        ],\n",
       "       [ 53.        ,   0.        ,   0.91406615],\n",
       "       [ 54.        ,  -1.        ,   0.        ],\n",
       "       [ 55.        ,   0.        ,   0.88570356],\n",
       "       [ 56.        ,  -1.        ,   0.        ],\n",
       "       [ 57.        ,   0.        ,   0.88905019],\n",
       "       [ 58.        ,   0.        ,   0.91406615],\n",
       "       [ 59.        ,   0.        ,   0.88570356],\n",
       "       [ 60.        ,   0.        ,   0.88570356],\n",
       "       [ 61.        ,  -1.        ,   0.        ],\n",
       "       [ 62.        ,  -1.        ,   0.        ],\n",
       "       [ 63.        ,   0.        ,   0.90489755],\n",
       "       [ 64.        ,   0.        ,   0.91356884],\n",
       "       [ 65.        ,   0.        ,   0.91356884],\n",
       "       [ 66.        ,   0.        ,   0.91406615],\n",
       "       [ 67.        ,  -1.        ,   0.        ],\n",
       "       [ 68.        ,   3.        ,   1.        ],\n",
       "       [ 69.        ,   3.        ,   0.88075191],\n",
       "       [ 70.        ,   3.        ,   1.        ],\n",
       "       [ 71.        ,   3.        ,   1.        ],\n",
       "       [ 72.        ,   3.        ,   1.        ],\n",
       "       [ 73.        ,   3.        ,   1.        ],\n",
       "       [ 74.        ,   3.        ,   1.        ],\n",
       "       [ 75.        ,   3.        ,   1.        ],\n",
       "       [ 76.        ,   3.        ,   0.95529718],\n",
       "       [ 77.        ,   3.        ,   1.        ],\n",
       "       [ 78.        ,  -1.        ,   0.        ],\n",
       "       [ 79.        ,   3.        ,   1.        ],\n",
       "       [ 80.        ,   3.        ,   1.        ],\n",
       "       [ 81.        ,   3.        ,   0.94546049],\n",
       "       [ 82.        ,   3.        ,   1.        ],\n",
       "       [ 83.        ,   3.        ,   1.        ],\n",
       "       [ 84.        ,   3.        ,   0.99144107],\n",
       "       [ 85.        ,   1.        ,   1.        ],\n",
       "       [ 86.        ,   1.        ,   1.        ],\n",
       "       [ 87.        ,   1.        ,   1.        ],\n",
       "       [ 88.        ,   1.        ,   1.        ],\n",
       "       [ 89.        ,   1.        ,   0.92328807],\n",
       "       [ 90.        ,   1.        ,   1.        ],\n",
       "       [ 91.        ,   1.        ,   1.        ],\n",
       "       [ 92.        ,   1.        ,   0.93752281],\n",
       "       [ 93.        ,  -1.        ,   0.        ],\n",
       "       [ 94.        ,  -1.        ,   0.        ],\n",
       "       [ 95.        ,   1.        ,   1.        ],\n",
       "       [ 96.        ,   1.        ,   1.        ],\n",
       "       [ 97.        ,   1.        ,   1.        ],\n",
       "       [ 98.        ,   1.        ,   1.        ],\n",
       "       [ 99.        ,   1.        ,   1.        ],\n",
       "       [100.        ,   1.        ,   0.87879599],\n",
       "       [101.        ,   1.        ,   1.        ]])"
      ]
     },
     "execution_count": 592,
     "metadata": {},
     "output_type": "execute_result"
    }
   ],
   "source": [
    "np.array(list(zip(range(len(numpy_arrays_for)), hdb.labels_, hdb.probabilities_, strict=False)))"
   ]
  },
  {
   "cell_type": "code",
   "execution_count": 593,
   "metadata": {},
   "outputs": [
    {
     "data": {
      "text/plain": [
       "{np.int64(-1), np.int64(0), np.int64(1), np.int64(2), np.int64(3)}"
      ]
     },
     "execution_count": 593,
     "metadata": {},
     "output_type": "execute_result"
    }
   ],
   "source": [
    "set(hdb.labels_)"
   ]
  },
  {
   "cell_type": "code",
   "execution_count": 594,
   "metadata": {},
   "outputs": [],
   "source": [
    "data_hbd = list(hdb.labels_)"
   ]
  },
  {
   "cell_type": "code",
   "execution_count": 672,
   "metadata": {},
   "outputs": [],
   "source": [
    "first_line_data = data_hbd[:17]\n",
    "second_line_data = data_hbd[17:34]\n",
    "third_line_data = data_hbd[34:51]\n",
    "fourth_line_data = data_hbd[51:68]\n",
    "fifth_line_data = data_hbd[68:85]\n",
    "sixth_line_data = data_hbd[85:102]"
   ]
  },
  {
   "cell_type": "code",
   "execution_count": 673,
   "metadata": {},
   "outputs": [
    {
     "data": {
      "image/png": "[encoded data removed]",
      "text/plain": [
       "<Figure size 1000x600 with 1 Axes>"
      ]
     },
     "metadata": {},
     "output_type": "display_data"
    }
   ],
   "source": [
    "# Ваш код для определения данных остается тем же\n",
    "x_positions = range(len(first_line_data))\n",
    "\n",
    "\n",
    "# Функция для форматирования значений оси Y\n",
    "def format_y(value, tick_number):\n",
    "    labels = [\"Aquamarine\", \"Memte\", \"Cana\", \"Akane\", \"Ruby\", \"Ai\"]  # Перестроенный порядок\n",
    "    return labels[int(value * 0.2)]  # Умножаем на 5, чтобы получить индекс из диапазона от 0 до 5\n",
    "\n",
    "\n",
    "formatter = FuncFormatter(format_y)\n",
    "\n",
    "# Создаем график\n",
    "fig, ax = plt.subplots(figsize=(10, 6))\n",
    "\n",
    "# Добавляем первую строку точек на графике\n",
    "plt.scatter(\n",
    "    x_positions,\n",
    "    [1.0] * len(x_positions),\n",
    "    c=[\n",
    "        \"black\"\n",
    "        if label == -1\n",
    "        else (\"silver\" if label == 0 else \"cyan\" if label == 1 else \"red\" if label == 2 else \"gold\")\n",
    "        for label in first_line_data\n",
    "    ],\n",
    "    marker=\"o\",\n",
    "    s=100,  # Установлен размер кружочка равным 100\n",
    "    edgecolors=\"b\",\n",
    "    label=\"First Line\",\n",
    ")\n",
    "\n",
    "# Добавляем вторую строку точек на графике\n",
    "plt.scatter(\n",
    "    x_positions,\n",
    "    [0.8] * len(x_positions),\n",
    "    c=[\n",
    "        \"black\"\n",
    "        if label == -1\n",
    "        else (\"silver\" if label == 0 else \"cyan\" if label == 1 else \"red\" if label == 2 else \"gold\")\n",
    "        for label in second_line_data\n",
    "    ],\n",
    "    marker=\"o\",\n",
    "    s=100,  # Установлен размер кружочка равным 100\n",
    "    edgecolors=\"b\",\n",
    "    label=\"Second Line\",\n",
    ")\n",
    "\n",
    "# Добавляем третью строку точек на графике\n",
    "plt.scatter(\n",
    "    x_positions,\n",
    "    [0.6] * len(x_positions),\n",
    "    c=[\n",
    "        \"black\"\n",
    "        if label == -1\n",
    "        else (\"silver\" if label == 0 else \"cyan\" if label == 1 else \"red\" if label == 2 else \"gold\")\n",
    "        for label in third_line_data\n",
    "    ],\n",
    "    marker=\"o\",\n",
    "    s=100,  # Установлен размер кружочка равным 100\n",
    "    edgecolors=\"b\",\n",
    "    label=\"Third Line\",\n",
    ")\n",
    "\n",
    "# Добавляем четвертую строку точек на графике\n",
    "plt.scatter(\n",
    "    x_positions,\n",
    "    [0.4] * len(x_positions),\n",
    "    c=[\n",
    "        \"black\"\n",
    "        if label == -1\n",
    "        else (\"silver\" if label == 0 else \"cyan\" if label == 1 else \"red\" if label == 2 else \"gold\")\n",
    "        for label in fourth_line_data\n",
    "    ],\n",
    "    marker=\"o\",\n",
    "    s=100,  # Установлен размер кружочка равным 100\n",
    "    edgecolors=\"b\",\n",
    "    label=\"Fourth Line\",\n",
    ")\n",
    "\n",
    "# Добавляем пятую строку точек на графике\n",
    "plt.scatter(\n",
    "    x_positions,\n",
    "    [0.2] * len(x_positions),\n",
    "    c=[\n",
    "        \"black\"\n",
    "        if label == -1\n",
    "        else (\"silver\" if label == 0 else \"cyan\" if label == 1 else \"red\" if label == 2 else \"gold\")\n",
    "        for label in fifth_line_data\n",
    "    ],\n",
    "    marker=\"o\",\n",
    "    s=100,  # Установлен размер кружочка равным 100\n",
    "    edgecolors=\"b\",\n",
    "    label=\"Fifth Line\",\n",
    ")\n",
    "\n",
    "# Добавляем шестую строку точек на графике\n",
    "plt.scatter(\n",
    "    x_positions,\n",
    "    [0] * len(x_positions),\n",
    "    c=[\n",
    "        \"black\"\n",
    "        if label == -1\n",
    "        else (\"silver\" if label == 0 else \"cyan\" if label == 1 else \"red\" if label == 2 else \"gold\")\n",
    "        for label in sixth_line_data\n",
    "    ],\n",
    "    marker=\"o\",\n",
    "    s=100,  # Установлен размер кружочка равным 100\n",
    "    edgecolors=\"b\",\n",
    "    label=\"Sixth Line\",\n",
    ")\n",
    "\n",
    "\n",
    "# Создаем список для легенды с указанием цветов\n",
    "legend_elements = [\n",
    "    plt.Line2D([0], [0], color=\"black\", lw=4, label=\"Unrecognized data\"),\n",
    "    plt.Line2D([0], [0], color=\"silver\", lw=4, label=\"Cluster 0\"),\n",
    "    plt.Line2D([0], [0], color=\"cyan\", lw=4, label=\"Cluster 1\"),\n",
    "    plt.Line2D([0], [0], color=\"red\", lw=4, label=\"Cluster 2\"),\n",
    "    plt.Line2D([0], [0], color=\"gold\", lw=4, label=\"Cluster 3\"),  # Повторяем зеленый для удобства\n",
    "]\n",
    "\n",
    "# Добавляем легенду для меток кластеров\n",
    "plt.legend(handles=legend_elements, title=\"Clusters\")\n",
    "\n",
    "\n",
    "\n",
    "formatter = FuncFormatter(format_y)\n",
    "ax.yaxis.set_major_formatter(formatter)\n",
    "plt.title(\"Character clustering using HDBSCAN method\")\n",
    "plt.xlabel(\"Object Index\")\n",
    "# plt.ylabel(\"Line Position\")\n",
    "plt.xticks(x_positions)  # Поворачиваем метки оси X на 45 градусов для лучшей читаемости\n",
    "plt.grid(axis=\"y\")\n",
    "plt.show()"
   ]
  },
  {
   "cell_type": "markdown",
   "metadata": {},
   "source": [
    "---"
   ]
  },
  {
   "cell_type": "code",
   "execution_count": 597,
   "metadata": {},
   "outputs": [],
   "source": [
    "import json"
   ]
  },
  {
   "cell_type": "code",
   "execution_count": null,
   "metadata": {},
   "outputs": [],
   "source": []
  },
  {
   "cell_type": "markdown",
   "metadata": {},
   "source": [
    "### AgglomerativeClustering"
   ]
  },
  {
   "cell_type": "code",
   "execution_count": 723,
   "metadata": {},
   "outputs": [],
   "source": [
    "mmm = 'data/metrics/formetric.json'\n",
    "\n",
    "# Чтение данных из файла\n",
    "with open(mmm, 'r') as file:\n",
    "    data_met = json.load(file)\n",
    "\n",
    "# Предполагаем, что данные представляют собой список numpy массивов\n",
    "numpy_arrays_for = [np.array(sublist) for sublist in data_met]"
   ]
  },
  {
   "cell_type": "code",
   "execution_count": 724,
   "metadata": {},
   "outputs": [],
   "source": [
    "crop_embedddings_agl = None"
   ]
  },
  {
   "cell_type": "code",
   "execution_count": 725,
   "metadata": {},
   "outputs": [],
   "source": [
    "# Проходим по каждому элементу в подмножестве\n",
    "for i in range(len(numpy_arrays_for)):\n",
    "\n",
    "    torch_tensor_met = torch.from_numpy(numpy_arrays_for[i])\n",
    "    # Извлекаем эмбеддинги из текущего элемента\n",
    "    current_embeddings_agl = torch_tensor_met.unsqueeze(dim=0)\n",
    "    \n",
    "    # Если crop_embeds_bw еще не инициализирована, инициализируем ее текущими эмбеддингами\n",
    "    if crop_embedddings_agl is None:\n",
    "        crop_embedddings_agl = current_embeddings_agl\n",
    "    else:\n",
    "        # Иначе объединяем текущие эмбеддинги с предыдущими\n",
    "        crop_embedddings_agl = torch.cat((crop_embedddings_agl, current_embeddings_agl), dim=0)"
   ]
  },
  {
   "cell_type": "code",
   "execution_count": 726,
   "metadata": {},
   "outputs": [
    {
     "data": {
      "text/plain": [
       "torch.Size([102, 768])"
      ]
     },
     "execution_count": 726,
     "metadata": {},
     "output_type": "execute_result"
    }
   ],
   "source": [
    "crop_embedddings_agl.shape"
   ]
  },
  {
   "cell_type": "code",
   "execution_count": 727,
   "metadata": {},
   "outputs": [],
   "source": [
    "agg_cl = AgglomerativeClustering(n_clusters=None, distance_threshold=5)"
   ]
  },
  {
   "cell_type": "code",
   "execution_count": 728,
   "metadata": {},
   "outputs": [
    {
     "data": {
      "text/html": [
       "<style>#sk-container-id-51 {\n",
       "  /* Definition of color scheme common for light and dark mode */\n",
       "  --sklearn-color-text: black;\n",
       "  --sklearn-color-line: gray;\n",
       "  /* Definition of color scheme for unfitted estimators */\n",
       "  --sklearn-color-unfitted-level-0: #fff5e6;\n",
       "  --sklearn-color-unfitted-level-1: #f6e4d2;\n",
       "  --sklearn-color-unfitted-level-2: #ffe0b3;\n",
       "  --sklearn-color-unfitted-level-3: chocolate;\n",
       "  /* Definition of color scheme for fitted estimators */\n",
       "  --sklearn-color-fitted-level-0: #f0f8ff;\n",
       "  --sklearn-color-fitted-level-1: #d4ebff;\n",
       "  --sklearn-color-fitted-level-2: #b3dbfd;\n",
       "  --sklearn-color-fitted-level-3: cornflowerblue;\n",
       "\n",
       "  /* Specific color for light theme */\n",
       "  --sklearn-color-text-on-default-background: var(--sg-text-color, var(--theme-code-foreground, var(--jp-content-font-color1, black)));\n",
       "  --sklearn-color-background: var(--sg-background-color, var(--theme-background, var(--jp-layout-color0, white)));\n",
       "  --sklearn-color-border-box: var(--sg-text-color, var(--theme-code-foreground, var(--jp-content-font-color1, black)));\n",
       "  --sklearn-color-icon: #696969;\n",
       "\n",
       "  @media (prefers-color-scheme: dark) {\n",
       "    /* Redefinition of color scheme for dark theme */\n",
       "    --sklearn-color-text-on-default-background: var(--sg-text-color, var(--theme-code-foreground, var(--jp-content-font-color1, white)));\n",
       "    --sklearn-color-background: var(--sg-background-color, var(--theme-background, var(--jp-layout-color0, #111)));\n",
       "    --sklearn-color-border-box: var(--sg-text-color, var(--theme-code-foreground, var(--jp-content-font-color1, white)));\n",
       "    --sklearn-color-icon: #878787;\n",
       "  }\n",
       "}\n",
       "\n",
       "#sk-container-id-51 {\n",
       "  color: var(--sklearn-color-text);\n",
       "}\n",
       "\n",
       "#sk-container-id-51 pre {\n",
       "  padding: 0;\n",
       "}\n",
       "\n",
       "#sk-container-id-51 input.sk-hidden--visually {\n",
       "  border: 0;\n",
       "  clip: rect(1px 1px 1px 1px);\n",
       "  clip: rect(1px, 1px, 1px, 1px);\n",
       "  height: 1px;\n",
       "  margin: -1px;\n",
       "  overflow: hidden;\n",
       "  padding: 0;\n",
       "  position: absolute;\n",
       "  width: 1px;\n",
       "}\n",
       "\n",
       "#sk-container-id-51 div.sk-dashed-wrapped {\n",
       "  border: 1px dashed var(--sklearn-color-line);\n",
       "  margin: 0 0.4em 0.5em 0.4em;\n",
       "  box-sizing: border-box;\n",
       "  padding-bottom: 0.4em;\n",
       "  background-color: var(--sklearn-color-background);\n",
       "}\n",
       "\n",
       "#sk-container-id-51 div.sk-container {\n",
       "  /* jupyter's `normalize.less` sets `[hidden] { display: none; }`\n",
       "     but bootstrap.min.css set `[hidden] { display: none !important; }`\n",
       "     so we also need the `!important` here to be able to override the\n",
       "     default hidden behavior on the sphinx rendered scikit-learn.org.\n",
       "     See: https://github.com/scikit-learn/scikit-learn/issues/21755 */\n",
       "  display: inline-block !important;\n",
       "  position: relative;\n",
       "}\n",
       "\n",
       "#sk-container-id-51 div.sk-text-repr-fallback {\n",
       "  display: none;\n",
       "}\n",
       "\n",
       "div.sk-parallel-item,\n",
       "div.sk-serial,\n",
       "div.sk-item {\n",
       "  /* draw centered vertical line to link estimators */\n",
       "  background-image: linear-gradient(var(--sklearn-color-text-on-default-background), var(--sklearn-color-text-on-default-background));\n",
       "  background-size: 2px 100%;\n",
       "  background-repeat: no-repeat;\n",
       "  background-position: center center;\n",
       "}\n",
       "\n",
       "/* Parallel-specific style estimator block */\n",
       "\n",
       "#sk-container-id-51 div.sk-parallel-item::after {\n",
       "  content: \"\";\n",
       "  width: 100%;\n",
       "  border-bottom: 2px solid var(--sklearn-color-text-on-default-background);\n",
       "  flex-grow: 1;\n",
       "}\n",
       "\n",
       "#sk-container-id-51 div.sk-parallel {\n",
       "  display: flex;\n",
       "  align-items: stretch;\n",
       "  justify-content: center;\n",
       "  background-color: var(--sklearn-color-background);\n",
       "  position: relative;\n",
       "}\n",
       "\n",
       "#sk-container-id-51 div.sk-parallel-item {\n",
       "  display: flex;\n",
       "  flex-direction: column;\n",
       "}\n",
       "\n",
       "#sk-container-id-51 div.sk-parallel-item:first-child::after {\n",
       "  align-self: flex-end;\n",
       "  width: 50%;\n",
       "}\n",
       "\n",
       "#sk-container-id-51 div.sk-parallel-item:last-child::after {\n",
       "  align-self: flex-start;\n",
       "  width: 50%;\n",
       "}\n",
       "\n",
       "#sk-container-id-51 div.sk-parallel-item:only-child::after {\n",
       "  width: 0;\n",
       "}\n",
       "\n",
       "/* Serial-specific style estimator block */\n",
       "\n",
       "#sk-container-id-51 div.sk-serial {\n",
       "  display: flex;\n",
       "  flex-direction: column;\n",
       "  align-items: center;\n",
       "  background-color: var(--sklearn-color-background);\n",
       "  padding-right: 1em;\n",
       "  padding-left: 1em;\n",
       "}\n",
       "\n",
       "\n",
       "/* Toggleable style: style used for estimator/Pipeline/ColumnTransformer box that is\n",
       "clickable and can be expanded/collapsed.\n",
       "- Pipeline and ColumnTransformer use this feature and define the default style\n",
       "- Estimators will overwrite some part of the style using the `sk-estimator` class\n",
       "*/\n",
       "\n",
       "/* Pipeline and ColumnTransformer style (default) */\n",
       "\n",
       "#sk-container-id-51 div.sk-toggleable {\n",
       "  /* Default theme specific background. It is overwritten whether we have a\n",
       "  specific estimator or a Pipeline/ColumnTransformer */\n",
       "  background-color: var(--sklearn-color-background);\n",
       "}\n",
       "\n",
       "/* Toggleable label */\n",
       "#sk-container-id-51 label.sk-toggleable__label {\n",
       "  cursor: pointer;\n",
       "  display: block;\n",
       "  width: 100%;\n",
       "  margin-bottom: 0;\n",
       "  padding: 0.5em;\n",
       "  box-sizing: border-box;\n",
       "  text-align: center;\n",
       "}\n",
       "\n",
       "#sk-container-id-51 label.sk-toggleable__label-arrow:before {\n",
       "  /* Arrow on the left of the label */\n",
       "  content: \"▸\";\n",
       "  float: left;\n",
       "  margin-right: 0.25em;\n",
       "  color: var(--sklearn-color-icon);\n",
       "}\n",
       "\n",
       "#sk-container-id-51 label.sk-toggleable__label-arrow:hover:before {\n",
       "  color: var(--sklearn-color-text);\n",
       "}\n",
       "\n",
       "/* Toggleable content - dropdown */\n",
       "\n",
       "#sk-container-id-51 div.sk-toggleable__content {\n",
       "  max-height: 0;\n",
       "  max-width: 0;\n",
       "  overflow: hidden;\n",
       "  text-align: left;\n",
       "  /* unfitted */\n",
       "  background-color: var(--sklearn-color-unfitted-level-0);\n",
       "}\n",
       "\n",
       "#sk-container-id-51 div.sk-toggleable__content.fitted {\n",
       "  /* fitted */\n",
       "  background-color: var(--sklearn-color-fitted-level-0);\n",
       "}\n",
       "\n",
       "#sk-container-id-51 div.sk-toggleable__content pre {\n",
       "  margin: 0.2em;\n",
       "  border-radius: 0.25em;\n",
       "  color: var(--sklearn-color-text);\n",
       "  /* unfitted */\n",
       "  background-color: var(--sklearn-color-unfitted-level-0);\n",
       "}\n",
       "\n",
       "#sk-container-id-51 div.sk-toggleable__content.fitted pre {\n",
       "  /* unfitted */\n",
       "  background-color: var(--sklearn-color-fitted-level-0);\n",
       "}\n",
       "\n",
       "#sk-container-id-51 input.sk-toggleable__control:checked~div.sk-toggleable__content {\n",
       "  /* Expand drop-down */\n",
       "  max-height: 200px;\n",
       "  max-width: 100%;\n",
       "  overflow: auto;\n",
       "}\n",
       "\n",
       "#sk-container-id-51 input.sk-toggleable__control:checked~label.sk-toggleable__label-arrow:before {\n",
       "  content: \"▾\";\n",
       "}\n",
       "\n",
       "/* Pipeline/ColumnTransformer-specific style */\n",
       "\n",
       "#sk-container-id-51 div.sk-label input.sk-toggleable__control:checked~label.sk-toggleable__label {\n",
       "  color: var(--sklearn-color-text);\n",
       "  background-color: var(--sklearn-color-unfitted-level-2);\n",
       "}\n",
       "\n",
       "#sk-container-id-51 div.sk-label.fitted input.sk-toggleable__control:checked~label.sk-toggleable__label {\n",
       "  background-color: var(--sklearn-color-fitted-level-2);\n",
       "}\n",
       "\n",
       "/* Estimator-specific style */\n",
       "\n",
       "/* Colorize estimator box */\n",
       "#sk-container-id-51 div.sk-estimator input.sk-toggleable__control:checked~label.sk-toggleable__label {\n",
       "  /* unfitted */\n",
       "  background-color: var(--sklearn-color-unfitted-level-2);\n",
       "}\n",
       "\n",
       "#sk-container-id-51 div.sk-estimator.fitted input.sk-toggleable__control:checked~label.sk-toggleable__label {\n",
       "  /* fitted */\n",
       "  background-color: var(--sklearn-color-fitted-level-2);\n",
       "}\n",
       "\n",
       "#sk-container-id-51 div.sk-label label.sk-toggleable__label,\n",
       "#sk-container-id-51 div.sk-label label {\n",
       "  /* The background is the default theme color */\n",
       "  color: var(--sklearn-color-text-on-default-background);\n",
       "}\n",
       "\n",
       "/* On hover, darken the color of the background */\n",
       "#sk-container-id-51 div.sk-label:hover label.sk-toggleable__label {\n",
       "  color: var(--sklearn-color-text);\n",
       "  background-color: var(--sklearn-color-unfitted-level-2);\n",
       "}\n",
       "\n",
       "/* Label box, darken color on hover, fitted */\n",
       "#sk-container-id-51 div.sk-label.fitted:hover label.sk-toggleable__label.fitted {\n",
       "  color: var(--sklearn-color-text);\n",
       "  background-color: var(--sklearn-color-fitted-level-2);\n",
       "}\n",
       "\n",
       "/* Estimator label */\n",
       "\n",
       "#sk-container-id-51 div.sk-label label {\n",
       "  font-family: monospace;\n",
       "  font-weight: bold;\n",
       "  display: inline-block;\n",
       "  line-height: 1.2em;\n",
       "}\n",
       "\n",
       "#sk-container-id-51 div.sk-label-container {\n",
       "  text-align: center;\n",
       "}\n",
       "\n",
       "/* Estimator-specific */\n",
       "#sk-container-id-51 div.sk-estimator {\n",
       "  font-family: monospace;\n",
       "  border: 1px dotted var(--sklearn-color-border-box);\n",
       "  border-radius: 0.25em;\n",
       "  box-sizing: border-box;\n",
       "  margin-bottom: 0.5em;\n",
       "  /* unfitted */\n",
       "  background-color: var(--sklearn-color-unfitted-level-0);\n",
       "}\n",
       "\n",
       "#sk-container-id-51 div.sk-estimator.fitted {\n",
       "  /* fitted */\n",
       "  background-color: var(--sklearn-color-fitted-level-0);\n",
       "}\n",
       "\n",
       "/* on hover */\n",
       "#sk-container-id-51 div.sk-estimator:hover {\n",
       "  /* unfitted */\n",
       "  background-color: var(--sklearn-color-unfitted-level-2);\n",
       "}\n",
       "\n",
       "#sk-container-id-51 div.sk-estimator.fitted:hover {\n",
       "  /* fitted */\n",
       "  background-color: var(--sklearn-color-fitted-level-2);\n",
       "}\n",
       "\n",
       "/* Specification for estimator info (e.g. \"i\" and \"?\") */\n",
       "\n",
       "/* Common style for \"i\" and \"?\" */\n",
       "\n",
       ".sk-estimator-doc-link,\n",
       "a:link.sk-estimator-doc-link,\n",
       "a:visited.sk-estimator-doc-link {\n",
       "  float: right;\n",
       "  font-size: smaller;\n",
       "  line-height: 1em;\n",
       "  font-family: monospace;\n",
       "  background-color: var(--sklearn-color-background);\n",
       "  border-radius: 1em;\n",
       "  height: 1em;\n",
       "  width: 1em;\n",
       "  text-decoration: none !important;\n",
       "  margin-left: 1ex;\n",
       "  /* unfitted */\n",
       "  border: var(--sklearn-color-unfitted-level-1) 1pt solid;\n",
       "  color: var(--sklearn-color-unfitted-level-1);\n",
       "}\n",
       "\n",
       ".sk-estimator-doc-link.fitted,\n",
       "a:link.sk-estimator-doc-link.fitted,\n",
       "a:visited.sk-estimator-doc-link.fitted {\n",
       "  /* fitted */\n",
       "  border: var(--sklearn-color-fitted-level-1) 1pt solid;\n",
       "  color: var(--sklearn-color-fitted-level-1);\n",
       "}\n",
       "\n",
       "/* On hover */\n",
       "div.sk-estimator:hover .sk-estimator-doc-link:hover,\n",
       ".sk-estimator-doc-link:hover,\n",
       "div.sk-label-container:hover .sk-estimator-doc-link:hover,\n",
       ".sk-estimator-doc-link:hover {\n",
       "  /* unfitted */\n",
       "  background-color: var(--sklearn-color-unfitted-level-3);\n",
       "  color: var(--sklearn-color-background);\n",
       "  text-decoration: none;\n",
       "}\n",
       "\n",
       "div.sk-estimator.fitted:hover .sk-estimator-doc-link.fitted:hover,\n",
       ".sk-estimator-doc-link.fitted:hover,\n",
       "div.sk-label-container:hover .sk-estimator-doc-link.fitted:hover,\n",
       ".sk-estimator-doc-link.fitted:hover {\n",
       "  /* fitted */\n",
       "  background-color: var(--sklearn-color-fitted-level-3);\n",
       "  color: var(--sklearn-color-background);\n",
       "  text-decoration: none;\n",
       "}\n",
       "\n",
       "/* Span, style for the box shown on hovering the info icon */\n",
       ".sk-estimator-doc-link span {\n",
       "  display: none;\n",
       "  z-index: 9999;\n",
       "  position: relative;\n",
       "  font-weight: normal;\n",
       "  right: .2ex;\n",
       "  padding: .5ex;\n",
       "  margin: .5ex;\n",
       "  width: min-content;\n",
       "  min-width: 20ex;\n",
       "  max-width: 50ex;\n",
       "  color: var(--sklearn-color-text);\n",
       "  box-shadow: 2pt 2pt 4pt #999;\n",
       "  /* unfitted */\n",
       "  background: var(--sklearn-color-unfitted-level-0);\n",
       "  border: .5pt solid var(--sklearn-color-unfitted-level-3);\n",
       "}\n",
       "\n",
       ".sk-estimator-doc-link.fitted span {\n",
       "  /* fitted */\n",
       "  background: var(--sklearn-color-fitted-level-0);\n",
       "  border: var(--sklearn-color-fitted-level-3);\n",
       "}\n",
       "\n",
       ".sk-estimator-doc-link:hover span {\n",
       "  display: block;\n",
       "}\n",
       "\n",
       "/* \"?\"-specific style due to the `<a>` HTML tag */\n",
       "\n",
       "#sk-container-id-51 a.estimator_doc_link {\n",
       "  float: right;\n",
       "  font-size: 1rem;\n",
       "  line-height: 1em;\n",
       "  font-family: monospace;\n",
       "  background-color: var(--sklearn-color-background);\n",
       "  border-radius: 1rem;\n",
       "  height: 1rem;\n",
       "  width: 1rem;\n",
       "  text-decoration: none;\n",
       "  /* unfitted */\n",
       "  color: var(--sklearn-color-unfitted-level-1);\n",
       "  border: var(--sklearn-color-unfitted-level-1) 1pt solid;\n",
       "}\n",
       "\n",
       "#sk-container-id-51 a.estimator_doc_link.fitted {\n",
       "  /* fitted */\n",
       "  border: var(--sklearn-color-fitted-level-1) 1pt solid;\n",
       "  color: var(--sklearn-color-fitted-level-1);\n",
       "}\n",
       "\n",
       "/* On hover */\n",
       "#sk-container-id-51 a.estimator_doc_link:hover {\n",
       "  /* unfitted */\n",
       "  background-color: var(--sklearn-color-unfitted-level-3);\n",
       "  color: var(--sklearn-color-background);\n",
       "  text-decoration: none;\n",
       "}\n",
       "\n",
       "#sk-container-id-51 a.estimator_doc_link.fitted:hover {\n",
       "  /* fitted */\n",
       "  background-color: var(--sklearn-color-fitted-level-3);\n",
       "}\n",
       "</style><div id=\"sk-container-id-51\" class=\"sk-top-container\"><div class=\"sk-text-repr-fallback\"><pre>AgglomerativeClustering(distance_threshold=5, n_clusters=None)</pre><b>In a Jupyter environment, please rerun this cell to show the HTML representation or trust the notebook. <br />On GitHub, the HTML representation is unable to render, please try loading this page with nbviewer.org.</b></div><div class=\"sk-container\" hidden><div class=\"sk-item\"><div class=\"sk-estimator fitted sk-toggleable\"><input class=\"sk-toggleable__control sk-hidden--visually\" id=\"sk-estimator-id-51\" type=\"checkbox\" checked><label for=\"sk-estimator-id-51\" class=\"sk-toggleable__label fitted sk-toggleable__label-arrow fitted\">&nbsp;&nbsp;AgglomerativeClustering<a class=\"sk-estimator-doc-link fitted\" rel=\"noreferrer\" target=\"_blank\" href=\"https://scikit-learn.org/1.5/modules/generated/sklearn.cluster.AgglomerativeClustering.html\">?<span>Documentation for AgglomerativeClustering</span></a><span class=\"sk-estimator-doc-link fitted\">i<span>Fitted</span></span></label><div class=\"sk-toggleable__content fitted\"><pre>AgglomerativeClustering(distance_threshold=5, n_clusters=None)</pre></div> </div></div></div></div>"
      ],
      "text/plain": [
       "AgglomerativeClustering(distance_threshold=5, n_clusters=None)"
      ]
     },
     "execution_count": 728,
     "metadata": {},
     "output_type": "execute_result"
    }
   ],
   "source": [
    "agg_cl.fit(crop_embedddings_agl.cpu().numpy())"
   ]
  },
  {
   "cell_type": "code",
   "execution_count": 729,
   "metadata": {},
   "outputs": [
    {
     "data": {
      "text/plain": [
       "(12, 1)"
      ]
     },
     "execution_count": 729,
     "metadata": {},
     "output_type": "execute_result"
    }
   ],
   "source": [
    "agg_cl.n_clusters_, agg_cl.n_connected_components_"
   ]
  },
  {
   "cell_type": "code",
   "execution_count": 744,
   "metadata": {},
   "outputs": [
    {
     "data": {
      "text/plain": [
       "{np.int64(0),\n",
       " np.int64(1),\n",
       " np.int64(2),\n",
       " np.int64(3),\n",
       " np.int64(4),\n",
       " np.int64(5),\n",
       " np.int64(6),\n",
       " np.int64(7),\n",
       " np.int64(8),\n",
       " np.int64(9),\n",
       " np.int64(10),\n",
       " np.int64(11)}"
      ]
     },
     "execution_count": 744,
     "metadata": {},
     "output_type": "execute_result"
    }
   ],
   "source": [
    "set(data_agl)"
   ]
  },
  {
   "cell_type": "code",
   "execution_count": 730,
   "metadata": {},
   "outputs": [],
   "source": [
    "data_agl = agg_cl.labels_"
   ]
  },
  {
   "cell_type": "code",
   "execution_count": 731,
   "metadata": {},
   "outputs": [],
   "source": [
    "first_line_data_agl = data_agl[:17]\n",
    "second_line_data_agl = data_agl[17:34]\n",
    "third_line_data_agl = data_agl[34:51]\n",
    "fourth_line_data_agl = data_agl[51:68]\n",
    "fifth_line_data_agl = data_agl[68:85]\n",
    "sixth_line_data_agl = data_agl[85:102]"
   ]
  },
  {
   "cell_type": "code",
   "execution_count": 732,
   "metadata": {},
   "outputs": [
    {
     "data": {
      "text/plain": [
       "array([ 1,  2,  1,  2,  1,  1,  1,  1,  1,  1,  1,  1,  1,  1,  1,  1,  1,\n",
       "        9,  0,  9,  0,  9,  0,  0,  9,  9,  0,  0,  0,  0,  9,  0,  0,  0,\n",
       "        9,  2,  2,  3,  3,  3,  3,  3,  3,  3,  6,  6,  6,  6,  3,  3,  3,\n",
       "        5, 11,  5,  8,  8,  2,  5,  5,  8,  8,  2,  5, 11, 11, 11,  5, 11,\n",
       "        4,  4,  4,  4,  4,  4,  4,  4,  4,  4,  4,  4,  4,  4,  4,  4,  4,\n",
       "        7, 10, 10, 10,  7, 10,  7,  7,  7,  7,  7, 10,  7, 10, 10, 10,  7])"
      ]
     },
     "execution_count": 732,
     "metadata": {},
     "output_type": "execute_result"
    }
   ],
   "source": [
    "data_agl"
   ]
  },
  {
   "cell_type": "code",
   "execution_count": 745,
   "metadata": {},
   "outputs": [
    {
     "data": {
      "image/png": "[encoded data removed]",
      "text/plain": [
       "<Figure size 1000x600 with 1 Axes>"
      ]
     },
     "metadata": {},
     "output_type": "display_data"
    }
   ],
   "source": [
    "# Ваш код для определения данных остается тем же\n",
    "x_positions = range(len(first_line_data_agl))\n",
    "\n",
    "\n",
    "# Функция для форматирования значений оси Y\n",
    "def format_y(value, tick_number):\n",
    "    labels = [\"Aquamarine\", \"Memte\", \"Cana\", \"Akane\", \"Ruby\", \"Ai\"]  # Перестроенный порядок\n",
    "    return labels[int(value * 0.2)]  # Умножаем на 5, чтобы получить индекс из диапазона от 0 до 5\n",
    "\n",
    "\n",
    "formatter = FuncFormatter(format_y)\n",
    "\n",
    "# Создаем график\n",
    "fig, ax = plt.subplots(figsize=(10, 6))\n",
    "\n",
    "# Добавляем первую строку точек на графике\n",
    "plt.scatter(\n",
    "    x_positions,\n",
    "    [1.0] * len(x_positions),\n",
    "    c=[\n",
    "        \"lime\"\n",
    "        if label == 0\n",
    "        else (\n",
    "            \"violet\"\n",
    "            if label == 1\n",
    "            else \"cyan\"\n",
    "            if label == 2\n",
    "            else \"darkviolet\"\n",
    "            if label == 3\n",
    "            else \"hotpink\"\n",
    "            if label == 4\n",
    "            else \"lightcoral\"\n",
    "            if label == 5\n",
    "            else \"peachpuff\"\n",
    "            if label == 6\n",
    "            else \"plum\"\n",
    "            if label == 7\n",
    "            else \"sienna\"\n",
    "            if label == 8\n",
    "            else \"yellowgreen\"\n",
    "            if label == 9\n",
    "            else \"steelblue\"\n",
    "            if label == 10\n",
    "            else \"mediumorchid\"\n",
    "            if label == 11\n",
    "            else \"whitesmoke\"\n",
    "            if label == 12\n",
    "            else \"rosybrown\"\n",
    "            if label == 13\n",
    "            else \"tomato\"\n",
    "            if label == 14\n",
    "            else \"blanchedalmond\"\n",
    "        )\n",
    "        for label in first_line_data_agl\n",
    "    ],\n",
    "    marker=\"o\",\n",
    "    s=100,  # Установлен размер кружочка равным 100\n",
    "    edgecolors=\"b\",\n",
    "    label=\"First Line\",\n",
    ")\n",
    "\n",
    "# Добавляем вторую строку точек на графике\n",
    "plt.scatter(\n",
    "    x_positions,\n",
    "    [0.8] * len(x_positions),\n",
    "    c=[\n",
    "        \"lime\"\n",
    "        if label == 0\n",
    "        else (\n",
    "            \"violet\"\n",
    "            if label == 1\n",
    "            else \"cyan\"\n",
    "            if label == 2\n",
    "            else \"darkviolet\"\n",
    "            if label == 3\n",
    "            else \"hotpink\"\n",
    "            if label == 4\n",
    "            else \"lightcoral\"\n",
    "            if label == 5\n",
    "            else \"peachpuff\"\n",
    "            if label == 6\n",
    "            else \"plum\"\n",
    "            if label == 7\n",
    "            else \"sienna\"\n",
    "            if label == 8\n",
    "            else \"yellowgreen\"\n",
    "            if label == 9\n",
    "            else \"steelblue\"\n",
    "            if label == 10\n",
    "            else \"mediumorchid\"\n",
    "            if label == 11\n",
    "            else \"whitesmoke\"\n",
    "            if label == 12\n",
    "            else \"rosybrown\"\n",
    "            if label == 13\n",
    "            else \"tomato\"\n",
    "            if label == 14\n",
    "            else \"blanchedalmond\"\n",
    "        )\n",
    "        for label in second_line_data_agl\n",
    "    ],\n",
    "    marker=\"o\",\n",
    "    s=100,  # Установлен размер кружочка равным 100\n",
    "    edgecolors=\"b\",\n",
    "    label=\"Second Line\",\n",
    ")\n",
    "\n",
    "# Добавляем третью строку точек на графике\n",
    "plt.scatter(\n",
    "    x_positions,\n",
    "    [0.6] * len(x_positions),\n",
    "    c=[\n",
    "        \"lime\"\n",
    "        if label == 0\n",
    "        else (\n",
    "            \"violet\"\n",
    "            if label == 1\n",
    "            else \"cyan\"\n",
    "            if label == 2\n",
    "            else \"darkviolet\"\n",
    "            if label == 3\n",
    "            else \"hotpink\"\n",
    "            if label == 4\n",
    "            else \"lightcoral\"\n",
    "            if label == 5\n",
    "            else \"peachpuff\"\n",
    "            if label == 6\n",
    "            else \"plum\"\n",
    "            if label == 7\n",
    "            else \"sienna\"\n",
    "            if label == 8\n",
    "            else \"yellowgreen\"\n",
    "            if label == 9\n",
    "            else \"steelblue\"\n",
    "            if label == 10\n",
    "            else \"mediumorchid\"\n",
    "            if label == 11\n",
    "            else \"whitesmoke\"\n",
    "            if label == 12\n",
    "            else \"rosybrown\"\n",
    "            if label == 13\n",
    "            else \"tomato\"\n",
    "            if label == 14\n",
    "            else \"blanchedalmond\"\n",
    "        )\n",
    "        for label in third_line_data_agl\n",
    "    ],\n",
    "    marker=\"o\",\n",
    "    s=100,  # Установлен размер кружочка равным 100\n",
    "    edgecolors=\"b\",\n",
    "    label=\"Third Line\",\n",
    ")\n",
    "\n",
    "# Добавляем четвертую строку точек на графике\n",
    "plt.scatter(\n",
    "    x_positions,\n",
    "    [0.4] * len(x_positions),\n",
    "    c=[\n",
    "        \"lime\"\n",
    "        if label == 0\n",
    "        else (\n",
    "            \"violet\"\n",
    "            if label == 1\n",
    "            else \"cyan\"\n",
    "            if label == 2\n",
    "            else \"darkviolet\"\n",
    "            if label == 3\n",
    "            else \"hotpink\"\n",
    "            if label == 4\n",
    "            else \"lightcoral\"\n",
    "            if label == 5\n",
    "            else \"peachpuff\"\n",
    "            if label == 6\n",
    "            else \"plum\"\n",
    "            if label == 7\n",
    "            else \"sienna\"\n",
    "            if label == 8\n",
    "            else \"yellowgreen\"\n",
    "            if label == 9\n",
    "            else \"steelblue\"\n",
    "            if label == 10\n",
    "            else \"mediumorchid\"\n",
    "            if label == 11\n",
    "            else \"whitesmoke\"\n",
    "            if label == 12\n",
    "            else \"rosybrown\"\n",
    "            if label == 13\n",
    "            else \"tomato\"\n",
    "            if label == 14\n",
    "            else \"blanchedalmond\"\n",
    "        )\n",
    "        for label in fourth_line_data_agl\n",
    "    ],\n",
    "    marker=\"o\",\n",
    "    s=100,  # Установлен размер кружочка равным 100\n",
    "    edgecolors=\"b\",\n",
    "    label=\"Fourth Line\",\n",
    ")\n",
    "\n",
    "# Добавляем пятую строку точек на графике\n",
    "plt.scatter(\n",
    "    x_positions,\n",
    "    [0.2] * len(x_positions),\n",
    "    c=[\n",
    "        \"lime\"\n",
    "        if label == 0\n",
    "        else (\n",
    "            \"violet\"\n",
    "            if label == 1\n",
    "            else \"cyan\"\n",
    "            if label == 2\n",
    "            else \"darkviolet\"\n",
    "            if label == 3\n",
    "            else \"hotpink\"\n",
    "            if label == 4\n",
    "            else \"lightcoral\"\n",
    "            if label == 5\n",
    "            else \"peachpuff\"\n",
    "            if label == 6\n",
    "            else \"plum\"\n",
    "            if label == 7\n",
    "            else \"sienna\"\n",
    "            if label == 8\n",
    "            else \"yellowgreen\"\n",
    "            if label == 9\n",
    "            else \"steelblue\"\n",
    "            if label == 10\n",
    "            else \"mediumorchid\"\n",
    "            if label == 11\n",
    "            else \"whitesmoke\"\n",
    "            if label == 12\n",
    "            else \"rosybrown\"\n",
    "            if label == 13\n",
    "            else \"tomato\"\n",
    "            if label == 14\n",
    "            else \"blanchedalmond\"\n",
    "        )\n",
    "        for label in fifth_line_data_agl\n",
    "    ],\n",
    "    marker=\"o\",\n",
    "    s=100,  # Установлен размер кружочка равным 100\n",
    "    edgecolors=\"b\",\n",
    "    label=\"Fifth Line\",\n",
    ")\n",
    "\n",
    "# Добавляем шестую строку точек на графике\n",
    "plt.scatter(\n",
    "    x_positions,\n",
    "    [0] * len(x_positions),\n",
    "    c=[\n",
    "        \"lime\"\n",
    "        if label == 0\n",
    "        else (\n",
    "            \"violet\"\n",
    "            if label == 1\n",
    "            else \"cyan\"\n",
    "            if label == 2\n",
    "            else \"darkviolet\"\n",
    "            if label == 3\n",
    "            else \"hotpink\"\n",
    "            if label == 4\n",
    "            else \"lightcoral\"\n",
    "            if label == 5\n",
    "            else \"peachpuff\"\n",
    "            if label == 6\n",
    "            else \"plum\"\n",
    "            if label == 7\n",
    "            else \"sienna\"\n",
    "            if label == 8\n",
    "            else \"yellowgreen\"\n",
    "            if label == 9\n",
    "            else \"steelblue\"\n",
    "            if label == 10\n",
    "            else \"mediumorchid\"\n",
    "            if label == 11\n",
    "            else \"whitesmoke\"\n",
    "            if label == 12\n",
    "            else \"rosybrown\"\n",
    "            if label == 13\n",
    "            else \"tomato\"\n",
    "            if label == 14\n",
    "            else \"blanchedalmond\"\n",
    "        )\n",
    "        for label in sixth_line_data_agl\n",
    "    ],\n",
    "    marker=\"o\",\n",
    "    s=100,  # Установлен размер кружочка равным 100\n",
    "    edgecolors=\"b\",\n",
    "    label=\"Sixth Line\",\n",
    ")\n",
    "\n",
    "\n",
    "# Создаем список для легенды с указанием цветов\n",
    "legend_elements = [\n",
    "    plt.Line2D([0], [0], color=\"lime\", lw=4, label=\"Cluster 0\"),\n",
    "    plt.Line2D([0], [0], color=\"violet\", lw=4, label=\"Cluster 1\"),\n",
    "    plt.Line2D([0], [0], color=\"cyan\", lw=4, label=\"Cluster 2\"),\n",
    "    plt.Line2D(\n",
    "        [0], [0], color=\"darkviolet\", lw=4, label=\"Cluster 3\"\n",
    "    ),\n",
    "    plt.Line2D([0], [0], color=\"hotpink\", lw=4, label=\"Cluster 4\"),\n",
    "    plt.Line2D([0], [0], color=\"lightcoral\", lw=4, label=\"Cluster 5\"),\n",
    "    plt.Line2D([0], [0], color=\"peachpuff\", lw=4, label=\"Cluster 6\"),\n",
    "    plt.Line2D(\n",
    "        [0], [0], color=\"plum\", lw=4, label=\"Cluster 7\"\n",
    "    ), \n",
    "    plt.Line2D([0], [0], color=\"sienna\", lw=4, label=\"Cluster 8\"),\n",
    "    plt.Line2D([0], [0], color=\"yellowgreen\", lw=4, label=\"Cluster 9\"),\n",
    "    plt.Line2D([0], [0], color=\"steelblue\", lw=4, label=\"Cluster 10\"),\n",
    "    plt.Line2D(\n",
    "        [0], [0], color=\"mediumorchid\", lw=4, label=\"Cluster 11\"\n",
    "    ),\n",
    "    # plt.Line2D([0], [0], color=\"whitesmoke\", lw=4, label=\"Cluster 12\"),\n",
    "    # plt.Line2D([0], [0], color=\"rosybrown\", lw=4, label=\"Cluster 13\"),\n",
    "    # plt.Line2D([0], [0], color=\"tomato\", lw=4, label=\"Cluster 14\"),\n",
    "\n",
    "]\n",
    "\n",
    "# Добавляем легенду для меток кластеров\n",
    "plt.legend(handles=legend_elements, title=\"Clusters\")\n",
    "\n",
    "\n",
    "formatter = FuncFormatter(format_y)\n",
    "ax.yaxis.set_major_formatter(formatter)\n",
    "plt.title(\"Character clustering using AgglomerativeClustering method\")\n",
    "plt.xlabel(\"Object Index\")\n",
    "# plt.ylabel(\"Line Position\")\n",
    "plt.xticks(x_positions)  # Поворачиваем метки оси X на 45 градусов для лучшей читаемости\n",
    "plt.grid(axis=\"y\")\n",
    "plt.show()"
   ]
  },
  {
   "cell_type": "markdown",
   "metadata": {},
   "source": [
    "---"
   ]
  },
  {
   "cell_type": "markdown",
   "metadata": {},
   "source": [
    "### Cosine"
   ]
  },
  {
   "cell_type": "code",
   "execution_count": 606,
   "metadata": {},
   "outputs": [],
   "source": [
    "mmm = 'data/metrics/formetric.json'\n",
    "\n",
    "# Чтение данных из файла\n",
    "with open(mmm, 'r') as file:\n",
    "    data_met = json.load(file)\n",
    "\n",
    "# Предполагаем, что данные представляют собой список numpy массивов\n",
    "numpy_arrays_for = [np.array(sublist) for sublist in data_met]"
   ]
  },
  {
   "cell_type": "code",
   "execution_count": 607,
   "metadata": {},
   "outputs": [],
   "source": [
    "crop_embedddings_cos = None"
   ]
  },
  {
   "cell_type": "code",
   "execution_count": 608,
   "metadata": {},
   "outputs": [],
   "source": [
    "# Проходим по каждому элементу в подмножестве\n",
    "for i in range(len(numpy_arrays_for)):\n",
    "\n",
    "    torch_tensor_met = torch.from_numpy(numpy_arrays_for[i])\n",
    "    # Извлекаем эмбеддинги из текущего элемента\n",
    "    current_embeddings_agl = torch_tensor_met.unsqueeze(dim=0)\n",
    "    \n",
    "    # Если crop_embeds_bw еще не инициализирована, инициализируем ее текущими эмбеддингами\n",
    "    if crop_embedddings_cos is None:\n",
    "        crop_embedddings_cos = current_embeddings_agl\n",
    "    else:\n",
    "        # Иначе объединяем текущие эмбеддинги с предыдущими\n",
    "        crop_embedddings_cos = torch.cat((crop_embedddings_cos, current_embeddings_agl), dim=0)"
   ]
  },
  {
   "cell_type": "code",
   "execution_count": 21,
   "metadata": {},
   "outputs": [
    {
     "data": {
      "text/plain": [
       "torch.Tensor"
      ]
     },
     "execution_count": 21,
     "metadata": {},
     "output_type": "execute_result"
    }
   ],
   "source": [
    "type(crop_embedddings_cos)"
   ]
  },
  {
   "cell_type": "code",
   "execution_count": 609,
   "metadata": {},
   "outputs": [],
   "source": [
    "small_list = [crop_embedddings_cos]"
   ]
  },
  {
   "cell_type": "code",
   "execution_count": 610,
   "metadata": {},
   "outputs": [],
   "source": [
    "compare_list = []"
   ]
  },
  {
   "cell_type": "code",
   "execution_count": 611,
   "metadata": {},
   "outputs": [],
   "source": [
    "# Перебираем все подмножества в sublists_for_embedddings\n",
    "for one_pack_for_analysis in small_list:\n",
    "\n",
    "    # Матрица с косинусными совпадениями все-на-все\n",
    "    pcs = pairwise_cosine_similarity(one_pack_for_analysis, one_pack_for_analysis)\n",
    "    # Меняем единицы в главной диагонали на нули\n",
    "    pcs = pcs.fill_diagonal_(0.0)\n",
    "    # Получаем индексы всех максимумов - лучшие совпадения\n",
    "    device = torch.device('cuda' if torch.cuda.is_available() else 'cpu')\n",
    "    new_var = torch.argmax(pcs, dim=1)\n",
    "    # Убедитесь, что все тензоры находятся на этом устройстве\n",
    "    new_var = new_var.to(device)\n",
    "    range_tens = torch.arange(len(new_var)).to(device)\n",
    "\n",
    "    # Теперь выполняем операцию объединения\n",
    "    char_to = torch.cat(\n",
    "        (new_var.unsqueeze(1), range_tens.unsqueeze(1)), dim=1\n",
    "    )\n",
    "    # Делаем граф из совпадающих вершин\n",
    "    graphs_chapter_one_max = nx.Graph(char_to.tolist())\n",
    "    # Объединяем все совпавшие вершины друг с другом  \n",
    "    indixes_per_chapter = [\n",
    "        list(c_) for c_ in nx.connected_components(graphs_chapter_one_max)\n",
    "    ]\n",
    "    # Создаём список compare_list и добавляем внутри него тензоры\n",
    "    for c_k in indixes_per_chapter:\n",
    "        for character_index in range(len(c_k)):\n",
    "            num = int(c_k[character_index])\n",
    "            if character_index == 0:\n",
    "                first_compare_batch = one_pack_for_analysis[num].unsqueeze(dim=0)\n",
    "            else:\n",
    "                first_compare_batch = torch.cat(\n",
    "                    (first_compare_batch, one_pack_for_analysis[num].unsqueeze(dim=0)), dim=0\n",
    "                )\n",
    "        compare_list.append(first_compare_batch)\n"
   ]
  },
  {
   "cell_type": "code",
   "execution_count": 612,
   "metadata": {},
   "outputs": [],
   "source": [
    "images_samples = []"
   ]
  },
  {
   "cell_type": "code",
   "execution_count": 613,
   "metadata": {},
   "outputs": [],
   "source": [
    "directory_path_samples = \"data/samples/zv\""
   ]
  },
  {
   "cell_type": "code",
   "execution_count": 620,
   "metadata": {},
   "outputs": [],
   "source": [
    "# Заглушка для чтения файлов из папки с примерами раскраски\n",
    "for filename in os.listdir(directory_path_samples):\n",
    "    full_path = os.path.join(directory_path_samples, filename)\n",
    "    try:\n",
    "        img = np.asarray(Image.open(full_path).convert(\"RGB\"))\n",
    "        images_samples.append(SampleImage(sample_image=img, full_file_name=full_path))\n",
    "    except Exception as e:\n",
    "        print(f\"Ошибка при открытии {full_path}: {e}\")\n"
   ]
  },
  {
   "cell_type": "code",
   "execution_count": 621,
   "metadata": {},
   "outputs": [],
   "source": [
    "id_number = 0"
   ]
  },
  {
   "cell_type": "code",
   "execution_count": 622,
   "metadata": {},
   "outputs": [],
   "source": [
    "images_color_for_analysis = []"
   ]
  },
  {
   "cell_type": "code",
   "execution_count": 623,
   "metadata": {},
   "outputs": [],
   "source": [
    "list_of_compare_embeddings = []"
   ]
  },
  {
   "cell_type": "code",
   "execution_count": 629,
   "metadata": {},
   "outputs": [],
   "source": [
    "for batch in images_samples:\n",
    "    with torch.no_grad():\n",
    "        page_image = [batch.sample_image]\n",
    "        page_name = batch.full_file_name\n",
    "\n",
    "        (\n",
    "            batch_crop_bboxes,\n",
    "            batch_crop_embeddings_for_batch,\n",
    "            batch_image_bboxes,\n",
    "            batch_character_scores,\n",
    "        ) = model.get_crops_and_embeddings(page_image)\n",
    "\n",
    "    num_rows = len(batch_crop_embeddings_for_batch[0])\n",
    "\n",
    "    for i in range(num_rows):\n",
    "        images_color_for_analysis.append(\n",
    "            AnalisysSampleImage(\n",
    "                id_sample_image=i+id_number,\n",
    "                sample_image=batch_image_bboxes[0][i],\n",
    "                embeddings_for_batch=batch_crop_embeddings_for_batch[0][i],\n",
    "                full_file_name=page_name,\n",
    "            )\n",
    "        )\n",
    "        list_of_compare_embeddings.append(batch_crop_embeddings_for_batch[0][i])\n",
    "    \n",
    "    id_number = id_number + num_rows\n"
   ]
  },
  {
   "cell_type": "code",
   "execution_count": 630,
   "metadata": {},
   "outputs": [
    {
     "data": {
      "text/plain": [
       "9"
      ]
     },
     "execution_count": 630,
     "metadata": {},
     "output_type": "execute_result"
    }
   ],
   "source": [
    "len(images_color_for_analysis)"
   ]
  },
  {
   "cell_type": "code",
   "execution_count": 631,
   "metadata": {},
   "outputs": [
    {
     "data": {
      "text/plain": [
       "4"
      ]
     },
     "execution_count": 631,
     "metadata": {},
     "output_type": "execute_result"
    }
   ],
   "source": [
    "images_color_for_analysis[4].id_sample_image"
   ]
  },
  {
   "cell_type": "code",
   "execution_count": 632,
   "metadata": {},
   "outputs": [
    {
     "name": "stdout",
     "output_type": "stream",
     "text": [
      "data/samples/zv/0.png\n",
      "data/samples/zv/0.png\n",
      "data/samples/zv/4.png\n",
      "data/samples/zv/1.png\n",
      "data/samples/zv/3.png\n",
      "data/samples/zv/3.png\n",
      "data/samples/zv/3.png\n",
      "data/samples/zv/2.png\n",
      "data/samples/zv/2.png\n"
     ]
    }
   ],
   "source": [
    "for i in range(len(images_color_for_analysis)):\n",
    "    \n",
    "    print(images_color_for_analysis[i].full_file_name)"
   ]
  },
  {
   "cell_type": "code",
   "execution_count": 46,
   "metadata": {},
   "outputs": [],
   "source": [
    "crop_embedddings_sample = None"
   ]
  },
  {
   "cell_type": "code",
   "execution_count": 47,
   "metadata": {},
   "outputs": [],
   "source": [
    "# Проходим по каждому элементу в подмножестве\n",
    "for i in range(len(list_of_compare_embeddings)):\n",
    "    # Извлекаем эмбеддинги из текущего элемента\n",
    "    current_embeddings = list_of_compare_embeddings[i].unsqueeze(dim=0)\n",
    "    \n",
    "    # Если crop_embeds_bw еще не инициализирована, инициализируем ее текущими эмбеддингами\n",
    "    if crop_embedddings_sample is None:\n",
    "        crop_embedddings_sample = current_embeddings\n",
    "    else:\n",
    "        # Иначе объединяем текущие эмбеддинги с предыдущими\n",
    "        crop_embedddings_sample = torch.cat((crop_embedddings_sample, current_embeddings), dim=0)\n",
    "    "
   ]
  },
  {
   "cell_type": "code",
   "execution_count": 48,
   "metadata": {},
   "outputs": [],
   "source": [
    "result_dict = {}"
   ]
  },
  {
   "cell_type": "code",
   "execution_count": 49,
   "metadata": {},
   "outputs": [],
   "source": [
    "sample_dict = {}"
   ]
  },
  {
   "cell_type": "code",
   "execution_count": 50,
   "metadata": {},
   "outputs": [],
   "source": [
    "for one_tensor in compare_list:\n",
    "    device = torch.device('cuda' if torch.cuda.is_available() else 'cpu')\n",
    "\n",
    "    # Убедитесь, что оба тензора находятся на этом устройстве и имеют одинаковый тип данных\n",
    "    one_tensor = one_tensor.to(device).to(torch.float32)\n",
    "    crop_embedddings_sample = crop_embedddings_sample.to(device).to(torch.float32)\n",
    "    # Составляем матрицу и сравниваем с самплами\n",
    "    pcs_samples = pairwise_cosine_similarity(one_tensor, crop_embedddings_sample)\n",
    "    # Ищем сумму по всем значениям\n",
    "    comp = torch.sum(pcs_samples, dim=0)\n",
    "    # Ищем индекс максимального совпадения\n",
    "    max_coincidence = int(torch.argmax(comp))\n",
    "    if result_dict.get(max_coincidence) is not None:\n",
    "        inter_res = torch.cat(\n",
    "                (result_dict[max_coincidence], one_tensor), dim=0)\n",
    "        result_dict[max_coincidence] = inter_res\n",
    "    else:\n",
    "        result_dict[max_coincidence] = one_tensor\n",
    "        # Запись под аналогичным номером эмбеддинга с примером раскраски\n",
    "        sample_dict[max_coincidence] = crop_embedddings_sample[max_coincidence]\n",
    "    "
   ]
  },
  {
   "cell_type": "code",
   "execution_count": 51,
   "metadata": {},
   "outputs": [
    {
     "data": {
      "text/plain": [
       "torch.Size([102, 768])"
      ]
     },
     "execution_count": 51,
     "metadata": {},
     "output_type": "execute_result"
    }
   ],
   "source": [
    "small_list[0].shape"
   ]
  },
  {
   "cell_type": "code",
   "execution_count": 52,
   "metadata": {},
   "outputs": [],
   "source": [
    "my_tensor = small_list[0]"
   ]
  },
  {
   "cell_type": "code",
   "execution_count": 53,
   "metadata": {},
   "outputs": [
    {
     "data": {
      "text/plain": [
       "768"
      ]
     },
     "execution_count": 53,
     "metadata": {},
     "output_type": "execute_result"
    }
   ],
   "source": [
    "len(small_list[0][0])"
   ]
  },
  {
   "cell_type": "code",
   "execution_count": 347,
   "metadata": {},
   "outputs": [
    {
     "data": {
      "text/html": [
       "<pre style=\"white-space:pre;overflow-x:auto;line-height:normal;font-family:Menlo,'DejaVu Sans Mono',consolas,'Courier New',monospace\"><span style=\"color: #800080; text-decoration-color: #800080; font-weight: bold\">tensor</span><span style=\"font-weight: bold\">([[</span> <span style=\"color: #008080; text-decoration-color: #008080; font-weight: bold\">0.1162</span>, <span style=\"color: #008080; text-decoration-color: #008080; font-weight: bold\">-0.0549</span>, <span style=\"color: #008080; text-decoration-color: #008080; font-weight: bold\">-0.1506</span>,  <span style=\"color: #808000; text-decoration-color: #808000\">...</span>,  <span style=\"color: #008080; text-decoration-color: #008080; font-weight: bold\">0.0559</span>,  <span style=\"color: #008080; text-decoration-color: #008080; font-weight: bold\">0.0313</span>,  <span style=\"color: #008080; text-decoration-color: #008080; font-weight: bold\">0.1015</span><span style=\"font-weight: bold\">]</span>,\n",
       "<span style=\"color: #7fbf7f; text-decoration-color: #7fbf7f\">│   │   </span><span style=\"font-weight: bold\">[</span> <span style=\"color: #008080; text-decoration-color: #008080; font-weight: bold\">0.0654</span>, <span style=\"color: #008080; text-decoration-color: #008080; font-weight: bold\">-0.1277</span>, <span style=\"color: #008080; text-decoration-color: #008080; font-weight: bold\">-0.0974</span>,  <span style=\"color: #808000; text-decoration-color: #808000\">...</span>, <span style=\"color: #008080; text-decoration-color: #008080; font-weight: bold\">-0.0289</span>, <span style=\"color: #008080; text-decoration-color: #008080; font-weight: bold\">-0.1323</span>, <span style=\"color: #008080; text-decoration-color: #008080; font-weight: bold\">-0.0149</span><span style=\"font-weight: bold\">]</span>,\n",
       "<span style=\"color: #7fbf7f; text-decoration-color: #7fbf7f\">│   │   </span><span style=\"font-weight: bold\">[</span><span style=\"color: #008080; text-decoration-color: #008080; font-weight: bold\">-0.0407</span>, <span style=\"color: #008080; text-decoration-color: #008080; font-weight: bold\">-0.0537</span>, <span style=\"color: #008080; text-decoration-color: #008080; font-weight: bold\">-0.1733</span>,  <span style=\"color: #808000; text-decoration-color: #808000\">...</span>,  <span style=\"color: #008080; text-decoration-color: #008080; font-weight: bold\">0.1025</span>, <span style=\"color: #008080; text-decoration-color: #008080; font-weight: bold\">-0.0065</span>,  <span style=\"color: #008080; text-decoration-color: #008080; font-weight: bold\">0.1319</span><span style=\"font-weight: bold\">]</span>,\n",
       "<span style=\"color: #7fbf7f; text-decoration-color: #7fbf7f\">│   │   </span><span style=\"color: #808000; text-decoration-color: #808000\">...</span>,\n",
       "<span style=\"color: #7fbf7f; text-decoration-color: #7fbf7f\">│   │   </span><span style=\"font-weight: bold\">[</span> <span style=\"color: #008080; text-decoration-color: #008080; font-weight: bold\">0.1313</span>, <span style=\"color: #008080; text-decoration-color: #008080; font-weight: bold\">-0.0748</span>, <span style=\"color: #008080; text-decoration-color: #008080; font-weight: bold\">-0.0913</span>,  <span style=\"color: #808000; text-decoration-color: #808000\">...</span>, <span style=\"color: #008080; text-decoration-color: #008080; font-weight: bold\">-0.1011</span>, <span style=\"color: #008080; text-decoration-color: #008080; font-weight: bold\">-0.0181</span>,  <span style=\"color: #008080; text-decoration-color: #008080; font-weight: bold\">0.0370</span><span style=\"font-weight: bold\">]</span>,\n",
       "<span style=\"color: #7fbf7f; text-decoration-color: #7fbf7f\">│   │   </span><span style=\"font-weight: bold\">[</span> <span style=\"color: #008080; text-decoration-color: #008080; font-weight: bold\">0.2894</span>, <span style=\"color: #008080; text-decoration-color: #008080; font-weight: bold\">-0.0334</span>, <span style=\"color: #008080; text-decoration-color: #008080; font-weight: bold\">-0.2146</span>,  <span style=\"color: #808000; text-decoration-color: #808000\">...</span>, <span style=\"color: #008080; text-decoration-color: #008080; font-weight: bold\">-0.0701</span>, <span style=\"color: #008080; text-decoration-color: #008080; font-weight: bold\">-0.1293</span>,  <span style=\"color: #008080; text-decoration-color: #008080; font-weight: bold\">0.0821</span><span style=\"font-weight: bold\">]</span>,\n",
       "<span style=\"color: #7fbf7f; text-decoration-color: #7fbf7f\">│   │   </span><span style=\"font-weight: bold\">[</span> <span style=\"color: #008080; text-decoration-color: #008080; font-weight: bold\">0.2471</span>, <span style=\"color: #008080; text-decoration-color: #008080; font-weight: bold\">-0.0585</span>, <span style=\"color: #008080; text-decoration-color: #008080; font-weight: bold\">-0.0976</span>,  <span style=\"color: #808000; text-decoration-color: #808000\">...</span>,  <span style=\"color: #008080; text-decoration-color: #008080; font-weight: bold\">0.0579</span>, <span style=\"color: #008080; text-decoration-color: #008080; font-weight: bold\">-0.0443</span>,  <span style=\"color: #008080; text-decoration-color: #008080; font-weight: bold\">0.1025</span><span style=\"font-weight: bold\">]]</span>,\n",
       "<span style=\"color: #7fbf7f; text-decoration-color: #7fbf7f\">│      </span><span style=\"color: #808000; text-decoration-color: #808000\">device</span>=<span style=\"color: #008000; text-decoration-color: #008000\">'cuda:0'</span><span style=\"font-weight: bold\">)</span>\n",
       "</pre>\n"
      ],
      "text/plain": [
       "\u001b[1;35mtensor\u001b[0m\u001b[1m(\u001b[0m\u001b[1m[\u001b[0m\u001b[1m[\u001b[0m \u001b[1;36m0.1162\u001b[0m, \u001b[1;36m-0.0549\u001b[0m, \u001b[1;36m-0.1506\u001b[0m,  \u001b[33m...\u001b[0m,  \u001b[1;36m0.0559\u001b[0m,  \u001b[1;36m0.0313\u001b[0m,  \u001b[1;36m0.1015\u001b[0m\u001b[1m]\u001b[0m,\n",
       "\u001b[2;32m│   │   \u001b[0m\u001b[1m[\u001b[0m \u001b[1;36m0.0654\u001b[0m, \u001b[1;36m-0.1277\u001b[0m, \u001b[1;36m-0.0974\u001b[0m,  \u001b[33m...\u001b[0m, \u001b[1;36m-0.0289\u001b[0m, \u001b[1;36m-0.1323\u001b[0m, \u001b[1;36m-0.0149\u001b[0m\u001b[1m]\u001b[0m,\n",
       "\u001b[2;32m│   │   \u001b[0m\u001b[1m[\u001b[0m\u001b[1;36m-0.0407\u001b[0m, \u001b[1;36m-0.0537\u001b[0m, \u001b[1;36m-0.1733\u001b[0m,  \u001b[33m...\u001b[0m,  \u001b[1;36m0.1025\u001b[0m, \u001b[1;36m-0.0065\u001b[0m,  \u001b[1;36m0.1319\u001b[0m\u001b[1m]\u001b[0m,\n",
       "\u001b[2;32m│   │   \u001b[0m\u001b[33m...\u001b[0m,\n",
       "\u001b[2;32m│   │   \u001b[0m\u001b[1m[\u001b[0m \u001b[1;36m0.1313\u001b[0m, \u001b[1;36m-0.0748\u001b[0m, \u001b[1;36m-0.0913\u001b[0m,  \u001b[33m...\u001b[0m, \u001b[1;36m-0.1011\u001b[0m, \u001b[1;36m-0.0181\u001b[0m,  \u001b[1;36m0.0370\u001b[0m\u001b[1m]\u001b[0m,\n",
       "\u001b[2;32m│   │   \u001b[0m\u001b[1m[\u001b[0m \u001b[1;36m0.2894\u001b[0m, \u001b[1;36m-0.0334\u001b[0m, \u001b[1;36m-0.2146\u001b[0m,  \u001b[33m...\u001b[0m, \u001b[1;36m-0.0701\u001b[0m, \u001b[1;36m-0.1293\u001b[0m,  \u001b[1;36m0.0821\u001b[0m\u001b[1m]\u001b[0m,\n",
       "\u001b[2;32m│   │   \u001b[0m\u001b[1m[\u001b[0m \u001b[1;36m0.2471\u001b[0m, \u001b[1;36m-0.0585\u001b[0m, \u001b[1;36m-0.0976\u001b[0m,  \u001b[33m...\u001b[0m,  \u001b[1;36m0.0579\u001b[0m, \u001b[1;36m-0.0443\u001b[0m,  \u001b[1;36m0.1025\u001b[0m\u001b[1m]\u001b[0m\u001b[1m]\u001b[0m,\n",
       "\u001b[2;32m│      \u001b[0m\u001b[33mdevice\u001b[0m=\u001b[32m'cuda:0'\u001b[0m\u001b[1m)\u001b[0m\n"
      ]
     },
     "metadata": {},
     "output_type": "display_data"
    }
   ],
   "source": [
    "pp(result_dict[0])"
   ]
  },
  {
   "cell_type": "code",
   "execution_count": 54,
   "metadata": {},
   "outputs": [
    {
     "name": "stdout",
     "output_type": "stream",
     "text": [
      "2\n",
      "0\n",
      "3\n",
      "6\n",
      "1\n",
      "5\n"
     ]
    }
   ],
   "source": [
    "for key in result_dict.keys():\n",
    "    print(key)"
   ]
  },
  {
   "cell_type": "code",
   "execution_count": 55,
   "metadata": {},
   "outputs": [],
   "source": [
    "my_tensor = my_tensor.to(device)"
   ]
  },
  {
   "cell_type": "code",
   "execution_count": 114,
   "metadata": {},
   "outputs": [],
   "source": [
    "first_tensor = result_dict[6]\n",
    "\n",
    "# Проверка на абсолютное совпадение с каждой строкой в my_tensor\n",
    "matches = []"
   ]
  },
  {
   "cell_type": "code",
   "execution_count": 57,
   "metadata": {},
   "outputs": [
    {
     "data": {
      "text/plain": [
       "25"
      ]
     },
     "execution_count": 57,
     "metadata": {},
     "output_type": "execute_result"
    }
   ],
   "source": [
    "len(first_tensor)"
   ]
  },
  {
   "cell_type": "code",
   "execution_count": 58,
   "metadata": {},
   "outputs": [
    {
     "data": {
      "text/plain": [
       "102"
      ]
     },
     "execution_count": 58,
     "metadata": {},
     "output_type": "execute_result"
    }
   ],
   "source": [
    "len(my_tensor)"
   ]
  },
  {
   "cell_type": "code",
   "execution_count": 115,
   "metadata": {},
   "outputs": [
    {
     "name": "stdout",
     "output_type": "stream",
     "text": [
      "[34, 42, 50, 19, 21, 24, 25, 30, 68, 72, 74, 75, 82, 69, 70, 78, 79, 80, 84, 83, 77, 71, 73, 81, 76]\n"
     ]
    }
   ],
   "source": [
    "# Перемещаем тензоры на одно и то же устройство (например, на GPU, если доступен)\n",
    "device = torch.device('cuda' if torch.cuda.is_available() else 'cpu')\n",
    "first_t = first_tensor.to(device)\n",
    "second_t = my_tensor.to(device)\n",
    "\n",
    "# Инициализируем список для хранения индексов совпадающих строк\n",
    "matching_indices6 = []\n",
    "\n",
    "# Сравниваем каждую строку в first_t со всеми строками во втором тензоре\n",
    "for i in range(first_t.shape[0]):\n",
    "    for j in range(second_t.shape[0]):\n",
    "        if torch.all(torch.eq(first_t[i], second_t[j])):\n",
    "            matching_indices6.append(j)\n",
    "\n",
    "# Выводим индексы совпадающих строк\n",
    "print(matching_indices6)"
   ]
  },
  {
   "cell_type": "code",
   "execution_count": 363,
   "metadata": {},
   "outputs": [
    {
     "data": {
      "text/plain": [
       "[37, 38, 39, 40, 41, 43, 44, 45, 46, 47, 48, 49, 52, 54, 55, 59, 60, 57, 53]"
      ]
     },
     "execution_count": 363,
     "metadata": {},
     "output_type": "execute_result"
    }
   ],
   "source": [
    "matching_indices1"
   ]
  },
  {
   "cell_type": "code",
   "execution_count": 360,
   "metadata": {},
   "outputs": [
    {
     "data": {
      "text/plain": [
       "[34,\n",
       " 42,\n",
       " 50,\n",
       " 19,\n",
       " 21,\n",
       " 24,\n",
       " 25,\n",
       " 30,\n",
       " 68,\n",
       " 72,\n",
       " 74,\n",
       " 75,\n",
       " 82,\n",
       " 69,\n",
       " 70,\n",
       " 78,\n",
       " 79,\n",
       " 80,\n",
       " 84,\n",
       " 83,\n",
       " 77,\n",
       " 71,\n",
       " 73,\n",
       " 81,\n",
       " 76]"
      ]
     },
     "execution_count": 360,
     "metadata": {},
     "output_type": "execute_result"
    }
   ],
   "source": [
    "matching_indices6"
   ]
  },
  {
   "cell_type": "code",
   "execution_count": 95,
   "metadata": {},
   "outputs": [
    {
     "data": {
      "text/plain": [
       "[34,\n",
       " 42,\n",
       " 50,\n",
       " 19,\n",
       " 21,\n",
       " 24,\n",
       " 25,\n",
       " 30,\n",
       " 68,\n",
       " 72,\n",
       " 74,\n",
       " 75,\n",
       " 82,\n",
       " 69,\n",
       " 70,\n",
       " 78,\n",
       " 79,\n",
       " 80,\n",
       " 84,\n",
       " 83,\n",
       " 77,\n",
       " 71,\n",
       " 73,\n",
       " 81,\n",
       " 76]"
      ]
     },
     "execution_count": 95,
     "metadata": {},
     "output_type": "execute_result"
    }
   ],
   "source": [
    "matching_indices3"
   ]
  },
  {
   "cell_type": "code",
   "execution_count": 96,
   "metadata": {},
   "outputs": [
    {
     "data": {
      "text/plain": [
       "[34,\n",
       " 42,\n",
       " 50,\n",
       " 19,\n",
       " 21,\n",
       " 24,\n",
       " 25,\n",
       " 30,\n",
       " 68,\n",
       " 72,\n",
       " 74,\n",
       " 75,\n",
       " 82,\n",
       " 69,\n",
       " 70,\n",
       " 78,\n",
       " 79,\n",
       " 80,\n",
       " 84,\n",
       " 83,\n",
       " 77,\n",
       " 71,\n",
       " 73,\n",
       " 81,\n",
       " 76]"
      ]
     },
     "execution_count": 96,
     "metadata": {},
     "output_type": "execute_result"
    }
   ],
   "source": [
    "matching_indices2"
   ]
  },
  {
   "cell_type": "markdown",
   "metadata": {},
   "source": [
    "---"
   ]
  },
  {
   "cell_type": "code",
   "execution_count": 99,
   "metadata": {},
   "outputs": [],
   "source": [
    "cos_for_metrics = [0] * 102"
   ]
  },
  {
   "cell_type": "code",
   "execution_count": 116,
   "metadata": {},
   "outputs": [],
   "source": [
    "indices_to_replace = matching_indices6"
   ]
  },
  {
   "cell_type": "code",
   "execution_count": 117,
   "metadata": {},
   "outputs": [],
   "source": [
    "for index in indices_to_replace:\n",
    "    cos_for_metrics[index] = 5"
   ]
  },
  {
   "cell_type": "code",
   "execution_count": 92,
   "metadata": {},
   "outputs": [
    {
     "data": {
      "text/plain": [
       "[0,\n",
       " 0,\n",
       " 0,\n",
       " 0,\n",
       " 0,\n",
       " 0,\n",
       " 0,\n",
       " 0,\n",
       " 0,\n",
       " 0,\n",
       " 0,\n",
       " 0,\n",
       " 0,\n",
       " 0,\n",
       " 0,\n",
       " 0,\n",
       " 0,\n",
       " 0,\n",
       " 0,\n",
       " 6,\n",
       " 0,\n",
       " 6,\n",
       " 0,\n",
       " 0,\n",
       " 6,\n",
       " 6,\n",
       " 0,\n",
       " 0,\n",
       " 0,\n",
       " 0,\n",
       " 6,\n",
       " 0,\n",
       " 0,\n",
       " 0,\n",
       " 6,\n",
       " 0,\n",
       " 0,\n",
       " 0,\n",
       " 0,\n",
       " 0,\n",
       " 0,\n",
       " 0,\n",
       " 6,\n",
       " 0,\n",
       " 0,\n",
       " 0,\n",
       " 0,\n",
       " 0,\n",
       " 0,\n",
       " 0,\n",
       " 6,\n",
       " 0,\n",
       " 0,\n",
       " 0,\n",
       " 0,\n",
       " 0,\n",
       " 0,\n",
       " 0,\n",
       " 0,\n",
       " 0,\n",
       " 0,\n",
       " 0,\n",
       " 0,\n",
       " 0,\n",
       " 0,\n",
       " 0,\n",
       " 0,\n",
       " 0,\n",
       " 6,\n",
       " 6,\n",
       " 6,\n",
       " 6,\n",
       " 6,\n",
       " 6,\n",
       " 6,\n",
       " 6,\n",
       " 6,\n",
       " 6,\n",
       " 6,\n",
       " 6,\n",
       " 6,\n",
       " 6,\n",
       " 6,\n",
       " 6,\n",
       " 6,\n",
       " 0,\n",
       " 0,\n",
       " 0,\n",
       " 0,\n",
       " 0,\n",
       " 0,\n",
       " 0,\n",
       " 0,\n",
       " 0,\n",
       " 0,\n",
       " 0,\n",
       " 0,\n",
       " 0,\n",
       " 0,\n",
       " 0,\n",
       " 0,\n",
       " 0]"
      ]
     },
     "execution_count": 92,
     "metadata": {},
     "output_type": "execute_result"
    }
   ],
   "source": [
    "cos_for_metrics"
   ]
  },
  {
   "cell_type": "markdown",
   "metadata": {},
   "source": [
    "---"
   ]
  },
  {
   "cell_type": "code",
   "execution_count": null,
   "metadata": {},
   "outputs": [],
   "source": [
    "pp(cos_for_metrics)"
   ]
  },
  {
   "cell_type": "markdown",
   "metadata": {},
   "source": [
    "### Сам график"
   ]
  },
  {
   "cell_type": "code",
   "execution_count": 654,
   "metadata": {},
   "outputs": [],
   "source": [
    "cos_for_metrics = [2,1,2,2,2,2,2,2,2,2,2,2,2,2,2,2,2,3,3,3,3,5,3,3,3,5,3,3,3,3,5,3,3,3,5,1,2,1,1,1,1,1,5,1,1,1,1,1,1,1,1,0,0,0,0,1,2,1,0,0,0,0,0,0,0,0,0,0,5,5,5,5,5,5,5,5,5,5,5,5,5,5,5,5,5,4,4,4,4,4,4,4,4,4,4,4,4,4,4,4,4,4]"
   ]
  },
  {
   "cell_type": "code",
   "execution_count": 655,
   "metadata": {},
   "outputs": [],
   "source": [
    "first_line_data_cos = cos_for_metrics[:17]\n",
    "second_line_data_cos = cos_for_metrics[17:34]\n",
    "third_line_data_cos = cos_for_metrics[34:51]\n",
    "fourth_line_data_cos = cos_for_metrics[51:68]\n",
    "fifth_line_data_cos = cos_for_metrics[68:85]\n",
    "sixth_line_data_cos = cos_for_metrics[85:102]"
   ]
  },
  {
   "cell_type": "code",
   "execution_count": 656,
   "metadata": {},
   "outputs": [
    {
     "data": {
      "text/html": [
       "<pre style=\"white-space:pre;overflow-x:auto;line-height:normal;font-family:Menlo,'DejaVu Sans Mono',consolas,'Courier New',monospace\"><span style=\"font-weight: bold\">[</span><span style=\"color: #008080; text-decoration-color: #008080; font-weight: bold\">0</span>, <span style=\"color: #008080; text-decoration-color: #008080; font-weight: bold\">0</span>, <span style=\"color: #008080; text-decoration-color: #008080; font-weight: bold\">0</span>, <span style=\"color: #008080; text-decoration-color: #008080; font-weight: bold\">0</span>, <span style=\"color: #008080; text-decoration-color: #008080; font-weight: bold\">1</span>, <span style=\"color: #008080; text-decoration-color: #008080; font-weight: bold\">2</span>, <span style=\"color: #008080; text-decoration-color: #008080; font-weight: bold\">1</span>, <span style=\"color: #008080; text-decoration-color: #008080; font-weight: bold\">0</span>, <span style=\"color: #008080; text-decoration-color: #008080; font-weight: bold\">0</span>, <span style=\"color: #008080; text-decoration-color: #008080; font-weight: bold\">0</span>, <span style=\"color: #008080; text-decoration-color: #008080; font-weight: bold\">0</span>, <span style=\"color: #008080; text-decoration-color: #008080; font-weight: bold\">0</span>, <span style=\"color: #008080; text-decoration-color: #008080; font-weight: bold\">0</span>, <span style=\"color: #008080; text-decoration-color: #008080; font-weight: bold\">0</span>, <span style=\"color: #008080; text-decoration-color: #008080; font-weight: bold\">0</span>, <span style=\"color: #008080; text-decoration-color: #008080; font-weight: bold\">0</span>, <span style=\"color: #008080; text-decoration-color: #008080; font-weight: bold\">0</span><span style=\"font-weight: bold\">]</span>\n",
       "</pre>\n"
      ],
      "text/plain": [
       "\u001b[1m[\u001b[0m\u001b[1;36m0\u001b[0m, \u001b[1;36m0\u001b[0m, \u001b[1;36m0\u001b[0m, \u001b[1;36m0\u001b[0m, \u001b[1;36m1\u001b[0m, \u001b[1;36m2\u001b[0m, \u001b[1;36m1\u001b[0m, \u001b[1;36m0\u001b[0m, \u001b[1;36m0\u001b[0m, \u001b[1;36m0\u001b[0m, \u001b[1;36m0\u001b[0m, \u001b[1;36m0\u001b[0m, \u001b[1;36m0\u001b[0m, \u001b[1;36m0\u001b[0m, \u001b[1;36m0\u001b[0m, \u001b[1;36m0\u001b[0m, \u001b[1;36m0\u001b[0m\u001b[1m]\u001b[0m\n"
      ]
     },
     "metadata": {},
     "output_type": "display_data"
    }
   ],
   "source": [
    "pp(fourth_line_data_cos)"
   ]
  },
  {
   "cell_type": "code",
   "execution_count": 657,
   "metadata": {},
   "outputs": [
    {
     "data": {
      "image/png": "[encoded data removed]",
      "text/plain": [
       "<Figure size 1000x600 with 1 Axes>"
      ]
     },
     "metadata": {},
     "output_type": "display_data"
    }
   ],
   "source": [
    "# Ваш код для определения данных остается тем же\n",
    "x_positions = range(len(fifth_line_data_cos))\n",
    "\n",
    "\n",
    "# Функция для форматирования значений оси Y\n",
    "def format_y(value, tick_number):\n",
    "    #labels = [\"Aquamarine\", \"Memte\", \"Cana\", \"Akane\", \"Ruby\", \"Ai\"]  # Перестроенный порядок\n",
    "    labels = [\"Memte\", \"Memte\", \"Memte\", \"Memte\", \"Memte\", \"Memte\"]  #\n",
    "    return labels[int(value * 0.2)]  # Умножаем на 5, чтобы получить индекс из диапазона от 0 до 5\n",
    "\n",
    "\n",
    "formatter = FuncFormatter(format_y)\n",
    "\n",
    "# Создаем график\n",
    "fig, ax = plt.subplots(figsize=(10, 6))\n",
    "\n",
    "# Добавляем первую строку точек на графике\n",
    "plt.scatter(\n",
    "    x_positions,\n",
    "    [1.0] * len(x_positions),\n",
    "    c=[\n",
    "        \"lime\"\n",
    "        if label == 0\n",
    "        else (\n",
    "            \"silver\"\n",
    "            if label == 1\n",
    "            else \"cyan\"\n",
    "            if label == 2\n",
    "            else \"darkviolet\"\n",
    "            if label == 3\n",
    "            else \"gold\"\n",
    "            if label == 4\n",
    "            else \"red\"\n",
    "        )\n",
    "        for label in first_line_data_cos\n",
    "    ],\n",
    "    marker=\"o\",\n",
    "    s=100,  # Установлен размер кружочка равным 100\n",
    "    edgecolors=\"b\",\n",
    "    label=\"First Line\",\n",
    ")\n",
    "\n",
    "# Добавляем вторую строку точек на графике\n",
    "plt.scatter(\n",
    "    x_positions,\n",
    "    [0.8] * len(x_positions),\n",
    "    c=[\n",
    "        \"lime\"\n",
    "        if label == 0\n",
    "        else (\n",
    "            \"silver\"\n",
    "            if label == 1\n",
    "            else \"cyan\"\n",
    "            if label == 2\n",
    "            else \"darkviolet\"\n",
    "            if label == 3\n",
    "            else \"gold\"\n",
    "            if label == 4\n",
    "            else \"red\"\n",
    "        )\n",
    "        for label in second_line_data_cos\n",
    "    ],\n",
    "    marker=\"o\",\n",
    "    s=100,  # Установлен размер кружочка равным 100\n",
    "    edgecolors=\"b\",\n",
    "    label=\"Second Line\",\n",
    ")\n",
    "\n",
    "# Добавляем третью строку точек на графике\n",
    "plt.scatter(\n",
    "    x_positions,\n",
    "    [0.6] * len(x_positions),\n",
    "    c=[\n",
    "        \"lime\"\n",
    "        if label == 0\n",
    "        else (\n",
    "            \"silver\"\n",
    "            if label == 1\n",
    "            else \"cyan\"\n",
    "            if label == 2\n",
    "            else \"darkviolet\"\n",
    "            if label == 3\n",
    "            else \"gold\"\n",
    "            if label == 4\n",
    "            else \"red\"\n",
    "        )\n",
    "        for label in third_line_data_cos\n",
    "    ],\n",
    "    marker=\"o\",\n",
    "    s=100,  # Установлен размер кружочка равным 100\n",
    "    edgecolors=\"b\",\n",
    "    label=\"Third Line\",\n",
    ")\n",
    "\n",
    "# Добавляем четвертую строку точек на графике\n",
    "plt.scatter(\n",
    "    x_positions,\n",
    "    [0.4] * len(x_positions),\n",
    "    c=[\n",
    "        \"lime\"\n",
    "        if label == 0\n",
    "        else (\n",
    "            \"silver\"\n",
    "            if label == 1\n",
    "            else \"cyan\"\n",
    "            if label == 2\n",
    "            else \"darkviolet\"\n",
    "            if label == 3\n",
    "            else \"gold\"\n",
    "            if label == 4\n",
    "            else \"red\"\n",
    "        )\n",
    "        for label in fourth_line_data_cos\n",
    "    ],\n",
    "    marker=\"o\",\n",
    "    s=100,  # Установлен размер кружочка равным 100\n",
    "    edgecolors=\"b\",\n",
    "    label=\"Fourth Line\",\n",
    ")\n",
    "\n",
    "# Добавляем пятую строку точек на графике\n",
    "plt.scatter(\n",
    "    x_positions,\n",
    "    [0.2] * len(x_positions),\n",
    "    c=[\n",
    "        \"lime\"\n",
    "        if label == 0\n",
    "        else (\n",
    "            \"silver\"\n",
    "            if label == 1\n",
    "            else \"cyan\"\n",
    "            if label == 2\n",
    "            else \"darkviolet\"\n",
    "            if label == 3\n",
    "            else \"gold\"\n",
    "            if label == 4\n",
    "            else \"red\"\n",
    "        )\n",
    "        for label in fifth_line_data_cos\n",
    "    ],\n",
    "    marker=\"o\",\n",
    "    s=100,  # Установлен размер кружочка равным 100\n",
    "    edgecolors=\"b\",\n",
    "    label=\"Fifth Line\",\n",
    ")\n",
    "\n",
    "# Добавляем шестую строку точек на графике\n",
    "plt.scatter(\n",
    "    x_positions,\n",
    "    [0] * len(x_positions),\n",
    "    c=[\n",
    "        \"lime\"\n",
    "        if label == 0\n",
    "        else (\n",
    "            \"silver\"\n",
    "            if label == 1\n",
    "            else \"cyan\"\n",
    "            if label == 2\n",
    "            else \"darkviolet\"\n",
    "            if label == 3\n",
    "            else \"gold\"\n",
    "            if label == 4\n",
    "            else \"red\"\n",
    "        )\n",
    "        for label in sixth_line_data_cos\n",
    "    ],\n",
    "    marker=\"o\",\n",
    "    s=100,  # Установлен размер кружочка равным 100\n",
    "    edgecolors=\"b\",\n",
    "    label=\"Sixth Line\",\n",
    ")\n",
    "\n",
    "\n",
    "# Создаем список для легенды с указанием цветов\n",
    "legend_elements = [\n",
    "    plt.Line2D([0], [0], color=\"lime\", lw=4, label=\"Cluster 0\"),\n",
    "    plt.Line2D([0], [0], color=\"silver\", lw=4, label=\"Cluster 1\"),\n",
    "    plt.Line2D([0], [0], color=\"cyan\", lw=4, label=\"Cluster 2\"),\n",
    "    plt.Line2D(\n",
    "        [0], [0], color=\"darkviolet\", lw=4, label=\"Cluster 3\"\n",
    "    ),\n",
    "    plt.Line2D([0], [0], color=\"gold\", lw=4, label=\"Cluster 4\"),\n",
    "    plt.Line2D([0], [0], color=\"red\", lw=4, label=\"Cluster 5\"),\n",
    "\n",
    "\n",
    "]\n",
    "\n",
    "# Добавляем легенду для меток кластеров\n",
    "plt.legend(handles=legend_elements, title=\"Clusters\")\n",
    "\n",
    "\n",
    "formatter = FuncFormatter(format_y)\n",
    "ax.yaxis.set_major_formatter(formatter)\n",
    "plt.title(\"Character clustering using Cosine similarity method\")\n",
    "plt.xlabel(\"Object Index\")\n",
    "# plt.ylabel(\"Line Position\")\n",
    "plt.xticks(x_positions)  # Поворачиваем метки оси X на 45 градусов для лучшей читаемости\n",
    "plt.grid(axis=\"y\")\n",
    "plt.show()"
   ]
  },
  {
   "cell_type": "code",
   "execution_count": 648,
   "metadata": {},
   "outputs": [],
   "source": []
  },
  {
   "cell_type": "code",
   "execution_count": 646,
   "metadata": {},
   "outputs": [],
   "source": [
    "ml1 = [4,4,4,4,4,4,4,4,4,4,4,4,4,4,4,4,4]"
   ]
  },
  {
   "cell_type": "code",
   "execution_count": 638,
   "metadata": {},
   "outputs": [],
   "source": [
    "ml2 = []"
   ]
  },
  {
   "cell_type": "code",
   "execution_count": 649,
   "metadata": {},
   "outputs": [
    {
     "data": {
      "text/plain": [
       "102"
      ]
     },
     "execution_count": 649,
     "metadata": {},
     "output_type": "execute_result"
    }
   ],
   "source": [
    "len(ml)"
   ]
  },
  {
   "cell_type": "markdown",
   "metadata": {},
   "source": [
    "---"
   ]
  },
  {
   "cell_type": "code",
   "execution_count": 403,
   "metadata": {},
   "outputs": [
    {
     "data": {
      "image/png": "[encoded data removed]",
      "text/plain": [
       "<Figure size 640x480 with 1 Axes>"
      ]
     },
     "metadata": {},
     "output_type": "display_data"
    }
   ],
   "source": [
    "import matplotlib.pyplot as plt\n",
    "from matplotlib.ticker import FuncFormatter\n",
    "\n",
    "# Ваш список имен\n",
    "labels = [\"Aquamarine\", \"Memte\", \"Cana\", \"Akane\", \"Ruby\", \"Ai\"]\n",
    "\n",
    "# Функция для получения имени по значению Y\n",
    "def get_label_by_value(value):\n",
    "    # Индекс для выбора имени из списка labels\n",
    "    index = min(int(value), len(labels) - 1)\n",
    "    return labels[index]\n",
    "\n",
    "# Форматтер для оси Y\n",
    "def format_y(value, tick_number):\n",
    "    return get_label_by_value(value)\n",
    "\n",
    "# Генерируем данные для примера\n",
    "import numpy as np\n",
    "x = np.linspace(0, 10, 100)\n",
    "y = np.sin(x) + np.random.normal(0, 0.1, size=len(x))\n",
    "\n",
    "# Создаем график\n",
    "fig, ax = plt.subplots()\n",
    "\n",
    "# Добавляем данные на график\n",
    "ax.plot(x, y)\n",
    "\n",
    "# Применяем formatter к оси Y\n",
    "ax.yaxis.set_major_formatter(FuncFormatter(format_y))\n",
    "\n",
    "# Настройка остальных параметров графика\n",
    "plt.title(\"График с пользовательскими метками на оси Y\")\n",
    "plt.xlabel(\"Значение X\")\n",
    "plt.ylabel(\"Значение Y\")\n",
    "\n",
    "# Отображаем график\n",
    "plt.show()\n"
   ]
  },
  {
   "cell_type": "markdown",
   "metadata": {},
   "source": [
    "---"
   ]
  },
  {
   "cell_type": "markdown",
   "metadata": {},
   "source": [
    "### 11"
   ]
  },
  {
   "cell_type": "code",
   "execution_count": null,
   "metadata": {},
   "outputs": [],
   "source": [
    "### 111"
   ]
  },
  {
   "cell_type": "code",
   "execution_count": 101,
   "metadata": {},
   "outputs": [],
   "source": [
    "for character_index in range(len(c_k)):\n",
    "        num = int(c_k[character_index])\n",
    "        if character_index == 0:\n",
    "            first_compare_batch = crop_embedddings_cos.unsqueeze(dim=0)\n",
    "        else:\n",
    "            first_compare_batch = torch.cat(\n",
    "                (first_compare_batch, crop_embedddings_cos.unsqueeze(dim=0)), dim=0\n",
    "            )"
   ]
  },
  {
   "cell_type": "code",
   "execution_count": 98,
   "metadata": {},
   "outputs": [],
   "source": [
    "compare_list = []"
   ]
  },
  {
   "cell_type": "code",
   "execution_count": 99,
   "metadata": {},
   "outputs": [],
   "source": [
    "# Создаём список compare_list и добавляем внутри него тензоры\n",
    "for c_k in indixes_per_chapter:\n",
    "    for character_index in range(len(c_k)):\n",
    "        num = int(c_k[character_index])\n",
    "        if character_index == 0:\n",
    "            first_compare_batch = crop_embedddings_cos.unsqueeze(dim=0)\n",
    "        else:\n",
    "            first_compare_batch = torch.cat(\n",
    "                (first_compare_batch, crop_embedddings_cos.unsqueeze(dim=0)), dim=0\n",
    "            )\n",
    "    compare_list.append(first_compare_batch)"
   ]
  },
  {
   "cell_type": "markdown",
   "metadata": {},
   "source": [
    "### На всякий случай оставлю"
   ]
  },
  {
   "cell_type": "code",
   "execution_count": null,
   "metadata": {},
   "outputs": [],
   "source": []
  },
  {
   "cell_type": "code",
   "execution_count": 591,
   "metadata": {},
   "outputs": [],
   "source": [
    "from sklearn.cluster import HDBSCAN, AgglomerativeClustering\n",
    "\n",
    "hdb = HDBSCAN()\n",
    "agg_cl = AgglomerativeClustering(n_clusters=None, distance_threshold=7.)"
   ]
  },
  {
   "cell_type": "code",
   "execution_count": 595,
   "metadata": {},
   "outputs": [],
   "source": [
    "crop_embedddings_all = None"
   ]
  },
  {
   "cell_type": "code",
   "execution_count": 596,
   "metadata": {},
   "outputs": [],
   "source": [
    "# Проходим по каждому элементу в подмножестве\n",
    "for i in range(len(My_new_list)):\n",
    "    # Извлекаем эмбеддинги из текущего элемента\n",
    "    current_embeddings_hgd = My_new_list[i].unsqueeze(dim=0)\n",
    "    \n",
    "    # Если crop_embeds_bw еще не инициализирована, инициализируем ее текущими эмбеддингами\n",
    "    if crop_embedddings_all is None:\n",
    "        crop_embedddings_all = current_embeddings_hgd\n",
    "    else:\n",
    "        # Иначе объединяем текущие эмбеддинги с предыдущими\n",
    "        crop_embedddings_all = torch.cat((crop_embedddings_all, current_embeddings_hgd), dim=0)"
   ]
  },
  {
   "cell_type": "code",
   "execution_count": 597,
   "metadata": {},
   "outputs": [
    {
     "data": {
      "text/html": [
       "<style>#sk-container-id-1 {\n",
       "  /* Definition of color scheme common for light and dark mode */\n",
       "  --sklearn-color-text: black;\n",
       "  --sklearn-color-line: gray;\n",
       "  /* Definition of color scheme for unfitted estimators */\n",
       "  --sklearn-color-unfitted-level-0: #fff5e6;\n",
       "  --sklearn-color-unfitted-level-1: #f6e4d2;\n",
       "  --sklearn-color-unfitted-level-2: #ffe0b3;\n",
       "  --sklearn-color-unfitted-level-3: chocolate;\n",
       "  /* Definition of color scheme for fitted estimators */\n",
       "  --sklearn-color-fitted-level-0: #f0f8ff;\n",
       "  --sklearn-color-fitted-level-1: #d4ebff;\n",
       "  --sklearn-color-fitted-level-2: #b3dbfd;\n",
       "  --sklearn-color-fitted-level-3: cornflowerblue;\n",
       "\n",
       "  /* Specific color for light theme */\n",
       "  --sklearn-color-text-on-default-background: var(--sg-text-color, var(--theme-code-foreground, var(--jp-content-font-color1, black)));\n",
       "  --sklearn-color-background: var(--sg-background-color, var(--theme-background, var(--jp-layout-color0, white)));\n",
       "  --sklearn-color-border-box: var(--sg-text-color, var(--theme-code-foreground, var(--jp-content-font-color1, black)));\n",
       "  --sklearn-color-icon: #696969;\n",
       "\n",
       "  @media (prefers-color-scheme: dark) {\n",
       "    /* Redefinition of color scheme for dark theme */\n",
       "    --sklearn-color-text-on-default-background: var(--sg-text-color, var(--theme-code-foreground, var(--jp-content-font-color1, white)));\n",
       "    --sklearn-color-background: var(--sg-background-color, var(--theme-background, var(--jp-layout-color0, #111)));\n",
       "    --sklearn-color-border-box: var(--sg-text-color, var(--theme-code-foreground, var(--jp-content-font-color1, white)));\n",
       "    --sklearn-color-icon: #878787;\n",
       "  }\n",
       "}\n",
       "\n",
       "#sk-container-id-1 {\n",
       "  color: var(--sklearn-color-text);\n",
       "}\n",
       "\n",
       "#sk-container-id-1 pre {\n",
       "  padding: 0;\n",
       "}\n",
       "\n",
       "#sk-container-id-1 input.sk-hidden--visually {\n",
       "  border: 0;\n",
       "  clip: rect(1px 1px 1px 1px);\n",
       "  clip: rect(1px, 1px, 1px, 1px);\n",
       "  height: 1px;\n",
       "  margin: -1px;\n",
       "  overflow: hidden;\n",
       "  padding: 0;\n",
       "  position: absolute;\n",
       "  width: 1px;\n",
       "}\n",
       "\n",
       "#sk-container-id-1 div.sk-dashed-wrapped {\n",
       "  border: 1px dashed var(--sklearn-color-line);\n",
       "  margin: 0 0.4em 0.5em 0.4em;\n",
       "  box-sizing: border-box;\n",
       "  padding-bottom: 0.4em;\n",
       "  background-color: var(--sklearn-color-background);\n",
       "}\n",
       "\n",
       "#sk-container-id-1 div.sk-container {\n",
       "  /* jupyter's `normalize.less` sets `[hidden] { display: none; }`\n",
       "     but bootstrap.min.css set `[hidden] { display: none !important; }`\n",
       "     so we also need the `!important` here to be able to override the\n",
       "     default hidden behavior on the sphinx rendered scikit-learn.org.\n",
       "     See: https://github.com/scikit-learn/scikit-learn/issues/21755 */\n",
       "  display: inline-block !important;\n",
       "  position: relative;\n",
       "}\n",
       "\n",
       "#sk-container-id-1 div.sk-text-repr-fallback {\n",
       "  display: none;\n",
       "}\n",
       "\n",
       "div.sk-parallel-item,\n",
       "div.sk-serial,\n",
       "div.sk-item {\n",
       "  /* draw centered vertical line to link estimators */\n",
       "  background-image: linear-gradient(var(--sklearn-color-text-on-default-background), var(--sklearn-color-text-on-default-background));\n",
       "  background-size: 2px 100%;\n",
       "  background-repeat: no-repeat;\n",
       "  background-position: center center;\n",
       "}\n",
       "\n",
       "/* Parallel-specific style estimator block */\n",
       "\n",
       "#sk-container-id-1 div.sk-parallel-item::after {\n",
       "  content: \"\";\n",
       "  width: 100%;\n",
       "  border-bottom: 2px solid var(--sklearn-color-text-on-default-background);\n",
       "  flex-grow: 1;\n",
       "}\n",
       "\n",
       "#sk-container-id-1 div.sk-parallel {\n",
       "  display: flex;\n",
       "  align-items: stretch;\n",
       "  justify-content: center;\n",
       "  background-color: var(--sklearn-color-background);\n",
       "  position: relative;\n",
       "}\n",
       "\n",
       "#sk-container-id-1 div.sk-parallel-item {\n",
       "  display: flex;\n",
       "  flex-direction: column;\n",
       "}\n",
       "\n",
       "#sk-container-id-1 div.sk-parallel-item:first-child::after {\n",
       "  align-self: flex-end;\n",
       "  width: 50%;\n",
       "}\n",
       "\n",
       "#sk-container-id-1 div.sk-parallel-item:last-child::after {\n",
       "  align-self: flex-start;\n",
       "  width: 50%;\n",
       "}\n",
       "\n",
       "#sk-container-id-1 div.sk-parallel-item:only-child::after {\n",
       "  width: 0;\n",
       "}\n",
       "\n",
       "/* Serial-specific style estimator block */\n",
       "\n",
       "#sk-container-id-1 div.sk-serial {\n",
       "  display: flex;\n",
       "  flex-direction: column;\n",
       "  align-items: center;\n",
       "  background-color: var(--sklearn-color-background);\n",
       "  padding-right: 1em;\n",
       "  padding-left: 1em;\n",
       "}\n",
       "\n",
       "\n",
       "/* Toggleable style: style used for estimator/Pipeline/ColumnTransformer box that is\n",
       "clickable and can be expanded/collapsed.\n",
       "- Pipeline and ColumnTransformer use this feature and define the default style\n",
       "- Estimators will overwrite some part of the style using the `sk-estimator` class\n",
       "*/\n",
       "\n",
       "/* Pipeline and ColumnTransformer style (default) */\n",
       "\n",
       "#sk-container-id-1 div.sk-toggleable {\n",
       "  /* Default theme specific background. It is overwritten whether we have a\n",
       "  specific estimator or a Pipeline/ColumnTransformer */\n",
       "  background-color: var(--sklearn-color-background);\n",
       "}\n",
       "\n",
       "/* Toggleable label */\n",
       "#sk-container-id-1 label.sk-toggleable__label {\n",
       "  cursor: pointer;\n",
       "  display: block;\n",
       "  width: 100%;\n",
       "  margin-bottom: 0;\n",
       "  padding: 0.5em;\n",
       "  box-sizing: border-box;\n",
       "  text-align: center;\n",
       "}\n",
       "\n",
       "#sk-container-id-1 label.sk-toggleable__label-arrow:before {\n",
       "  /* Arrow on the left of the label */\n",
       "  content: \"▸\";\n",
       "  float: left;\n",
       "  margin-right: 0.25em;\n",
       "  color: var(--sklearn-color-icon);\n",
       "}\n",
       "\n",
       "#sk-container-id-1 label.sk-toggleable__label-arrow:hover:before {\n",
       "  color: var(--sklearn-color-text);\n",
       "}\n",
       "\n",
       "/* Toggleable content - dropdown */\n",
       "\n",
       "#sk-container-id-1 div.sk-toggleable__content {\n",
       "  max-height: 0;\n",
       "  max-width: 0;\n",
       "  overflow: hidden;\n",
       "  text-align: left;\n",
       "  /* unfitted */\n",
       "  background-color: var(--sklearn-color-unfitted-level-0);\n",
       "}\n",
       "\n",
       "#sk-container-id-1 div.sk-toggleable__content.fitted {\n",
       "  /* fitted */\n",
       "  background-color: var(--sklearn-color-fitted-level-0);\n",
       "}\n",
       "\n",
       "#sk-container-id-1 div.sk-toggleable__content pre {\n",
       "  margin: 0.2em;\n",
       "  border-radius: 0.25em;\n",
       "  color: var(--sklearn-color-text);\n",
       "  /* unfitted */\n",
       "  background-color: var(--sklearn-color-unfitted-level-0);\n",
       "}\n",
       "\n",
       "#sk-container-id-1 div.sk-toggleable__content.fitted pre {\n",
       "  /* unfitted */\n",
       "  background-color: var(--sklearn-color-fitted-level-0);\n",
       "}\n",
       "\n",
       "#sk-container-id-1 input.sk-toggleable__control:checked~div.sk-toggleable__content {\n",
       "  /* Expand drop-down */\n",
       "  max-height: 200px;\n",
       "  max-width: 100%;\n",
       "  overflow: auto;\n",
       "}\n",
       "\n",
       "#sk-container-id-1 input.sk-toggleable__control:checked~label.sk-toggleable__label-arrow:before {\n",
       "  content: \"▾\";\n",
       "}\n",
       "\n",
       "/* Pipeline/ColumnTransformer-specific style */\n",
       "\n",
       "#sk-container-id-1 div.sk-label input.sk-toggleable__control:checked~label.sk-toggleable__label {\n",
       "  color: var(--sklearn-color-text);\n",
       "  background-color: var(--sklearn-color-unfitted-level-2);\n",
       "}\n",
       "\n",
       "#sk-container-id-1 div.sk-label.fitted input.sk-toggleable__control:checked~label.sk-toggleable__label {\n",
       "  background-color: var(--sklearn-color-fitted-level-2);\n",
       "}\n",
       "\n",
       "/* Estimator-specific style */\n",
       "\n",
       "/* Colorize estimator box */\n",
       "#sk-container-id-1 div.sk-estimator input.sk-toggleable__control:checked~label.sk-toggleable__label {\n",
       "  /* unfitted */\n",
       "  background-color: var(--sklearn-color-unfitted-level-2);\n",
       "}\n",
       "\n",
       "#sk-container-id-1 div.sk-estimator.fitted input.sk-toggleable__control:checked~label.sk-toggleable__label {\n",
       "  /* fitted */\n",
       "  background-color: var(--sklearn-color-fitted-level-2);\n",
       "}\n",
       "\n",
       "#sk-container-id-1 div.sk-label label.sk-toggleable__label,\n",
       "#sk-container-id-1 div.sk-label label {\n",
       "  /* The background is the default theme color */\n",
       "  color: var(--sklearn-color-text-on-default-background);\n",
       "}\n",
       "\n",
       "/* On hover, darken the color of the background */\n",
       "#sk-container-id-1 div.sk-label:hover label.sk-toggleable__label {\n",
       "  color: var(--sklearn-color-text);\n",
       "  background-color: var(--sklearn-color-unfitted-level-2);\n",
       "}\n",
       "\n",
       "/* Label box, darken color on hover, fitted */\n",
       "#sk-container-id-1 div.sk-label.fitted:hover label.sk-toggleable__label.fitted {\n",
       "  color: var(--sklearn-color-text);\n",
       "  background-color: var(--sklearn-color-fitted-level-2);\n",
       "}\n",
       "\n",
       "/* Estimator label */\n",
       "\n",
       "#sk-container-id-1 div.sk-label label {\n",
       "  font-family: monospace;\n",
       "  font-weight: bold;\n",
       "  display: inline-block;\n",
       "  line-height: 1.2em;\n",
       "}\n",
       "\n",
       "#sk-container-id-1 div.sk-label-container {\n",
       "  text-align: center;\n",
       "}\n",
       "\n",
       "/* Estimator-specific */\n",
       "#sk-container-id-1 div.sk-estimator {\n",
       "  font-family: monospace;\n",
       "  border: 1px dotted var(--sklearn-color-border-box);\n",
       "  border-radius: 0.25em;\n",
       "  box-sizing: border-box;\n",
       "  margin-bottom: 0.5em;\n",
       "  /* unfitted */\n",
       "  background-color: var(--sklearn-color-unfitted-level-0);\n",
       "}\n",
       "\n",
       "#sk-container-id-1 div.sk-estimator.fitted {\n",
       "  /* fitted */\n",
       "  background-color: var(--sklearn-color-fitted-level-0);\n",
       "}\n",
       "\n",
       "/* on hover */\n",
       "#sk-container-id-1 div.sk-estimator:hover {\n",
       "  /* unfitted */\n",
       "  background-color: var(--sklearn-color-unfitted-level-2);\n",
       "}\n",
       "\n",
       "#sk-container-id-1 div.sk-estimator.fitted:hover {\n",
       "  /* fitted */\n",
       "  background-color: var(--sklearn-color-fitted-level-2);\n",
       "}\n",
       "\n",
       "/* Specification for estimator info (e.g. \"i\" and \"?\") */\n",
       "\n",
       "/* Common style for \"i\" and \"?\" */\n",
       "\n",
       ".sk-estimator-doc-link,\n",
       "a:link.sk-estimator-doc-link,\n",
       "a:visited.sk-estimator-doc-link {\n",
       "  float: right;\n",
       "  font-size: smaller;\n",
       "  line-height: 1em;\n",
       "  font-family: monospace;\n",
       "  background-color: var(--sklearn-color-background);\n",
       "  border-radius: 1em;\n",
       "  height: 1em;\n",
       "  width: 1em;\n",
       "  text-decoration: none !important;\n",
       "  margin-left: 1ex;\n",
       "  /* unfitted */\n",
       "  border: var(--sklearn-color-unfitted-level-1) 1pt solid;\n",
       "  color: var(--sklearn-color-unfitted-level-1);\n",
       "}\n",
       "\n",
       ".sk-estimator-doc-link.fitted,\n",
       "a:link.sk-estimator-doc-link.fitted,\n",
       "a:visited.sk-estimator-doc-link.fitted {\n",
       "  /* fitted */\n",
       "  border: var(--sklearn-color-fitted-level-1) 1pt solid;\n",
       "  color: var(--sklearn-color-fitted-level-1);\n",
       "}\n",
       "\n",
       "/* On hover */\n",
       "div.sk-estimator:hover .sk-estimator-doc-link:hover,\n",
       ".sk-estimator-doc-link:hover,\n",
       "div.sk-label-container:hover .sk-estimator-doc-link:hover,\n",
       ".sk-estimator-doc-link:hover {\n",
       "  /* unfitted */\n",
       "  background-color: var(--sklearn-color-unfitted-level-3);\n",
       "  color: var(--sklearn-color-background);\n",
       "  text-decoration: none;\n",
       "}\n",
       "\n",
       "div.sk-estimator.fitted:hover .sk-estimator-doc-link.fitted:hover,\n",
       ".sk-estimator-doc-link.fitted:hover,\n",
       "div.sk-label-container:hover .sk-estimator-doc-link.fitted:hover,\n",
       ".sk-estimator-doc-link.fitted:hover {\n",
       "  /* fitted */\n",
       "  background-color: var(--sklearn-color-fitted-level-3);\n",
       "  color: var(--sklearn-color-background);\n",
       "  text-decoration: none;\n",
       "}\n",
       "\n",
       "/* Span, style for the box shown on hovering the info icon */\n",
       ".sk-estimator-doc-link span {\n",
       "  display: none;\n",
       "  z-index: 9999;\n",
       "  position: relative;\n",
       "  font-weight: normal;\n",
       "  right: .2ex;\n",
       "  padding: .5ex;\n",
       "  margin: .5ex;\n",
       "  width: min-content;\n",
       "  min-width: 20ex;\n",
       "  max-width: 50ex;\n",
       "  color: var(--sklearn-color-text);\n",
       "  box-shadow: 2pt 2pt 4pt #999;\n",
       "  /* unfitted */\n",
       "  background: var(--sklearn-color-unfitted-level-0);\n",
       "  border: .5pt solid var(--sklearn-color-unfitted-level-3);\n",
       "}\n",
       "\n",
       ".sk-estimator-doc-link.fitted span {\n",
       "  /* fitted */\n",
       "  background: var(--sklearn-color-fitted-level-0);\n",
       "  border: var(--sklearn-color-fitted-level-3);\n",
       "}\n",
       "\n",
       ".sk-estimator-doc-link:hover span {\n",
       "  display: block;\n",
       "}\n",
       "\n",
       "/* \"?\"-specific style due to the `<a>` HTML tag */\n",
       "\n",
       "#sk-container-id-1 a.estimator_doc_link {\n",
       "  float: right;\n",
       "  font-size: 1rem;\n",
       "  line-height: 1em;\n",
       "  font-family: monospace;\n",
       "  background-color: var(--sklearn-color-background);\n",
       "  border-radius: 1rem;\n",
       "  height: 1rem;\n",
       "  width: 1rem;\n",
       "  text-decoration: none;\n",
       "  /* unfitted */\n",
       "  color: var(--sklearn-color-unfitted-level-1);\n",
       "  border: var(--sklearn-color-unfitted-level-1) 1pt solid;\n",
       "}\n",
       "\n",
       "#sk-container-id-1 a.estimator_doc_link.fitted {\n",
       "  /* fitted */\n",
       "  border: var(--sklearn-color-fitted-level-1) 1pt solid;\n",
       "  color: var(--sklearn-color-fitted-level-1);\n",
       "}\n",
       "\n",
       "/* On hover */\n",
       "#sk-container-id-1 a.estimator_doc_link:hover {\n",
       "  /* unfitted */\n",
       "  background-color: var(--sklearn-color-unfitted-level-3);\n",
       "  color: var(--sklearn-color-background);\n",
       "  text-decoration: none;\n",
       "}\n",
       "\n",
       "#sk-container-id-1 a.estimator_doc_link.fitted:hover {\n",
       "  /* fitted */\n",
       "  background-color: var(--sklearn-color-fitted-level-3);\n",
       "}\n",
       "</style><div id=\"sk-container-id-1\" class=\"sk-top-container\"><div class=\"sk-text-repr-fallback\"><pre>AgglomerativeClustering(distance_threshold=7.0, n_clusters=None)</pre><b>In a Jupyter environment, please rerun this cell to show the HTML representation or trust the notebook. <br />On GitHub, the HTML representation is unable to render, please try loading this page with nbviewer.org.</b></div><div class=\"sk-container\" hidden><div class=\"sk-item\"><div class=\"sk-estimator fitted sk-toggleable\"><input class=\"sk-toggleable__control sk-hidden--visually\" id=\"sk-estimator-id-1\" type=\"checkbox\" checked><label for=\"sk-estimator-id-1\" class=\"sk-toggleable__label fitted sk-toggleable__label-arrow fitted\">&nbsp;&nbsp;AgglomerativeClustering<a class=\"sk-estimator-doc-link fitted\" rel=\"noreferrer\" target=\"_blank\" href=\"https://scikit-learn.org/1.5/modules/generated/sklearn.cluster.AgglomerativeClustering.html\">?<span>Documentation for AgglomerativeClustering</span></a><span class=\"sk-estimator-doc-link fitted\">i<span>Fitted</span></span></label><div class=\"sk-toggleable__content fitted\"><pre>AgglomerativeClustering(distance_threshold=7.0, n_clusters=None)</pre></div> </div></div></div></div>"
      ],
      "text/plain": [
       "AgglomerativeClustering(distance_threshold=7.0, n_clusters=None)"
      ]
     },
     "execution_count": 597,
     "metadata": {},
     "output_type": "execute_result"
    }
   ],
   "source": [
    "hdb.fit(crop_embedddings_all.cpu().numpy())\n",
    "agg_cl.fit(crop_embedddings_all.cpu().numpy())\n"
   ]
  },
  {
   "cell_type": "code",
   "execution_count": 598,
   "metadata": {},
   "outputs": [
    {
     "data": {
      "text/plain": [
       "array([[  0.        ,   0.        ,   1.        ],\n",
       "       [  1.        ,  -1.        ,   0.        ],\n",
       "       [  2.        ,   0.        ,   1.        ],\n",
       "       [  3.        ,   0.        ,   0.824704  ],\n",
       "       [  4.        ,   0.        ,   0.89752334],\n",
       "       [  5.        ,   0.        ,   0.9913286 ],\n",
       "       [  6.        ,   0.        ,   1.        ],\n",
       "       [  7.        ,   0.        ,   0.9820989 ],\n",
       "       [  8.        ,  -1.        ,   0.        ],\n",
       "       [  9.        ,   0.        ,   1.        ],\n",
       "       [ 10.        ,   0.        ,   1.        ],\n",
       "       [ 11.        ,  -1.        ,   0.        ],\n",
       "       [ 12.        ,   0.        ,   0.81104428],\n",
       "       [ 13.        ,   0.        ,   0.93211387],\n",
       "       [ 14.        ,   0.        ,   0.98649449],\n",
       "       [ 15.        ,   0.        ,   0.88528265],\n",
       "       [ 16.        ,   0.        ,   0.87284055],\n",
       "       [ 17.        ,   2.        ,   0.99024446],\n",
       "       [ 18.        ,  -1.        ,   0.        ],\n",
       "       [ 19.        ,   2.        ,   1.        ],\n",
       "       [ 20.        ,   2.        ,   1.        ],\n",
       "       [ 21.        ,   2.        ,   1.        ],\n",
       "       [ 22.        ,  -1.        ,   0.        ],\n",
       "       [ 23.        ,   2.        ,   0.99230903],\n",
       "       [ 24.        ,   2.        ,   1.        ],\n",
       "       [ 25.        ,  -1.        ,   0.        ],\n",
       "       [ 26.        ,  -1.        ,   0.        ],\n",
       "       [ 27.        ,  -1.        ,   0.        ],\n",
       "       [ 28.        ,  -1.        ,   0.        ],\n",
       "       [ 29.        ,  -1.        ,   0.        ],\n",
       "       [ 30.        ,   2.        ,   0.96297772],\n",
       "       [ 31.        ,  -1.        ,   0.        ],\n",
       "       [ 32.        ,   2.        ,   1.        ],\n",
       "       [ 33.        ,  -1.        ,   0.        ],\n",
       "       [ 34.        ,  -1.        ,   0.        ],\n",
       "       [ 35.        ,  -1.        ,   0.        ],\n",
       "       [ 36.        ,  -1.        ,   0.        ],\n",
       "       [ 37.        ,  -1.        ,   0.        ],\n",
       "       [ 38.        ,   2.        ,   1.        ],\n",
       "       [ 39.        ,   2.        ,   0.97096379],\n",
       "       [ 40.        ,   2.        ,   0.99731443],\n",
       "       [ 41.        ,   2.        ,   1.        ],\n",
       "       [ 42.        ,  -1.        ,   0.        ],\n",
       "       [ 43.        ,  -1.        ,   0.        ],\n",
       "       [ 44.        ,  -1.        ,   0.        ],\n",
       "       [ 45.        ,  -1.        ,   0.        ],\n",
       "       [ 46.        ,  -1.        ,   0.        ],\n",
       "       [ 47.        ,  -1.        ,   0.        ],\n",
       "       [ 48.        ,  -1.        ,   0.        ],\n",
       "       [ 49.        ,   2.        ,   0.97688084],\n",
       "       [ 50.        ,   2.        ,   1.        ],\n",
       "       [ 51.        ,   0.        ,   0.83081634],\n",
       "       [ 52.        ,  -1.        ,   0.        ],\n",
       "       [ 53.        ,   0.        ,   0.83046754],\n",
       "       [ 54.        ,  -1.        ,   0.        ],\n",
       "       [ 55.        ,  -1.        ,   0.        ],\n",
       "       [ 56.        ,  -1.        ,   0.        ],\n",
       "       [ 57.        ,  -1.        ,   0.        ],\n",
       "       [ 58.        ,   0.        ,   0.83081634],\n",
       "       [ 59.        ,  -1.        ,   0.        ],\n",
       "       [ 60.        ,  -1.        ,   0.        ],\n",
       "       [ 61.        ,  -1.        ,   0.        ],\n",
       "       [ 62.        ,  -1.        ,   0.        ],\n",
       "       [ 63.        ,   0.        ,   0.8168577 ],\n",
       "       [ 64.        ,  -1.        ,   0.        ],\n",
       "       [ 65.        ,   0.        ,   0.81112295],\n",
       "       [ 66.        ,   0.        ,   0.83081634],\n",
       "       [ 67.        ,  -1.        ,   0.        ],\n",
       "       [ 68.        ,   3.        ,   1.        ],\n",
       "       [ 69.        ,  -1.        ,   0.        ],\n",
       "       [ 70.        ,   3.        ,   0.93095045],\n",
       "       [ 71.        ,   3.        ,   0.90743362],\n",
       "       [ 72.        ,   3.        ,   1.        ],\n",
       "       [ 73.        ,   3.        ,   1.        ],\n",
       "       [ 74.        ,   3.        ,   1.        ],\n",
       "       [ 75.        ,   3.        ,   0.78078465],\n",
       "       [ 76.        ,   3.        ,   0.80147603],\n",
       "       [ 77.        ,   3.        ,   0.87643041],\n",
       "       [ 78.        ,  -1.        ,   0.        ],\n",
       "       [ 79.        ,   3.        ,   0.86605651],\n",
       "       [ 80.        ,   3.        ,   1.        ],\n",
       "       [ 81.        ,   3.        ,   0.81524637],\n",
       "       [ 82.        ,   3.        ,   0.99228615],\n",
       "       [ 83.        ,   3.        ,   0.96178072],\n",
       "       [ 84.        ,   3.        ,   0.86728301],\n",
       "       [ 85.        ,   1.        ,   0.93752281],\n",
       "       [ 86.        ,   1.        ,   0.9663349 ],\n",
       "       [ 87.        ,   1.        ,   0.92633137],\n",
       "       [ 88.        ,   1.        ,   1.        ],\n",
       "       [ 89.        ,   1.        ,   0.92232237],\n",
       "       [ 90.        ,   1.        ,   1.        ],\n",
       "       [ 91.        ,   1.        ,   1.        ],\n",
       "       [ 92.        ,   1.        ,   0.87879599],\n",
       "       [ 93.        ,  -1.        ,   0.        ],\n",
       "       [ 94.        ,  -1.        ,   0.        ],\n",
       "       [ 95.        ,   1.        ,   1.        ],\n",
       "       [ 96.        ,   1.        ,   1.        ],\n",
       "       [ 97.        ,   1.        ,   1.        ],\n",
       "       [ 98.        ,   1.        ,   1.        ],\n",
       "       [ 99.        ,   1.        ,   0.99560359],\n",
       "       [100.        ,  -1.        ,   0.        ],\n",
       "       [101.        ,   1.        ,   1.        ]])"
      ]
     },
     "execution_count": 598,
     "metadata": {},
     "output_type": "execute_result"
    }
   ],
   "source": [
    "np.array(list(zip(range(len(My_new_list)), hdb.labels_, hdb.probabilities_, strict=False)))"
   ]
  },
  {
   "cell_type": "code",
   "execution_count": null,
   "metadata": {},
   "outputs": [],
   "source": [
    "# Округляем метки кластеров до ближайшего целого числа\n",
    "rounded_labels = np.round(results[:, 1]).astype(int)\n",
    "\n",
    "# Используем округленные метки для определения количества цветов в колесе цветов\n",
    "colors = plt.cm.get_cmap('tab20', max(rounded_labels) + 1)"
   ]
  },
  {
   "cell_type": "code",
   "execution_count": 614,
   "metadata": {},
   "outputs": [
    {
     "data": {
      "text/plain": [
       "array([ 0, -1,  0,  0,  0,  0,  0,  0, -1,  0,  0, -1,  0,  0,  0,  0,  0,\n",
       "        2, -1,  2,  2,  2, -1,  2,  2, -1, -1, -1, -1, -1,  2, -1,  2, -1,\n",
       "       -1, -1, -1, -1,  2,  2,  2,  2, -1, -1, -1, -1, -1, -1, -1,  2,  2,\n",
       "        0, -1,  0, -1, -1, -1, -1,  0, -1, -1, -1, -1,  0, -1,  0,  0, -1,\n",
       "        3, -1,  3,  3,  3,  3,  3,  3,  3,  3, -1,  3,  3,  3,  3,  3,  3,\n",
       "        1,  1,  1,  1,  1,  1,  1,  1, -1, -1,  1,  1,  1,  1,  1, -1,  1])"
      ]
     },
     "execution_count": 614,
     "metadata": {},
     "output_type": "execute_result"
    }
   ],
   "source": [
    "hdb.labels_"
   ]
  },
  {
   "cell_type": "code",
   "execution_count": 688,
   "metadata": {},
   "outputs": [],
   "source": [
    "from matplotlib.ticker import FuncFormatter"
   ]
  },
  {
   "cell_type": "code",
   "execution_count": 646,
   "metadata": {},
   "outputs": [],
   "source": [
    "symbols = list(hdb.labels_)\n",
    "\n",
    "# Разделение списка на части по 17 символов\n",
    "sublists_sym = [symbols[i:i+17] for i in range(0, len(symbols), 17)]"
   ]
  },
  {
   "cell_type": "code",
   "execution_count": 645,
   "metadata": {},
   "outputs": [
    {
     "data": {
      "image/png": "[encoded data removed]",
      "text/plain": [
       "<Figure size 1000x600 with 1 Axes>"
      ]
     },
     "metadata": {},
     "output_type": "display_data"
    }
   ],
   "source": [
    "import matplotlib.pyplot as plt\n",
    "import numpy as np\n",
    "\n",
    "# Предполагаем, что results - это ваш массив с номерами изображений, метками кластеров и вероятностями\n",
    "results = np.array(list(zip(range(len(My_new_list)), hdb.labels_, hdb.probabilities_)))\n",
    "\n",
    "# Группировка точек по кластерам\n",
    "clusters = {}\n",
    "for i, (_, label, _) in enumerate(results):\n",
    "    if label not in clusters:\n",
    "        clusters[label] = []\n",
    "    clusters[label].append(i)\n",
    "\n",
    "# Построение графика\n",
    "fig, ax = plt.subplots(figsize=(10, 6))\n",
    "\n",
    "# Определение ярких и контрастных цветов для 4 кластеров\n",
    "colors = ['#FF0000', '#00FF00', '#0000FF', '#FFFF00', '#000000']  # Красный, Зеленый, Синий, Желтый\n",
    "\n",
    "for label, points in clusters.items():\n",
    "    # Выбираем случайную точку в качестве центра круга\n",
    "    center_index = np.random.choice(points)\n",
    "    center_point = results[center_index][:2]  # Берем только номер изображения и метку кластера\n",
    "    \n",
    "    # Расчет радиуса для круга\n",
    "    radius = 5  # Увеличиваем радиус для лучшего видимости\n",
    "    \n",
    "    # Распределяем точки вокруг центра в форме круга\n",
    "    angles = np.linspace(0, 2 * np.pi, len(points))  # Генерируем равномерно распределенные углы\n",
    "    for angle in angles:\n",
    "        x = center_point[0] + radius * np.cos(angle)\n",
    "        y = center_point[1] + radius * np.sin(angle)\n",
    "        ax.scatter(x, y, color=colors[int(label)], alpha=0.7)\n",
    "\n",
    "# Добавляем легенду\n",
    "handles, labels = [], []\n",
    "for label in sorted(clusters.keys()):\n",
    "    handles.append(plt.Circle((0, 0), 0.5, fill=False, color=colors[int(label)]))  # Примерный размер для легенды\n",
    "    labels.append(f'Cluster {label}')\n",
    "plt.legend(handles, labels, loc='upper right')\n",
    "\n",
    "ax.set_title('Распределение точек по кластерам')\n",
    "plt.show()\n"
   ]
  },
  {
   "cell_type": "markdown",
   "metadata": {},
   "source": [
    "---"
   ]
  },
  {
   "cell_type": "code",
   "execution_count": 571,
   "metadata": {},
   "outputs": [],
   "source": [
    "from sklearn.preprocessing import MinMaxScaler"
   ]
  },
  {
   "cell_type": "code",
   "execution_count": 572,
   "metadata": {},
   "outputs": [],
   "source": [
    "# Предположим, что data - это список тензоров PyTorch\n",
    "scaler = MinMaxScaler()"
   ]
  },
  {
   "cell_type": "code",
   "execution_count": 573,
   "metadata": {},
   "outputs": [],
   "source": [
    "# Инициализация пустого списка для хранения нормализованных тензоров\n",
    "normalized_tensors = []"
   ]
  },
  {
   "cell_type": "code",
   "execution_count": 574,
   "metadata": {},
   "outputs": [],
   "source": [
    "for tensor in My_new_list:\n",
    "    # Перемещаем каждый тензор на CPU и преобразуем в массив NumPy\n",
    "    tensor_np = tensor.cpu().numpy()\n",
    "    \n",
    "    # Нормализуем тензор и добавляем его в список\n",
    "    normalized_tensor = scaler.partial_fit(tensor_np.reshape(-1, 1)).transform(tensor_np.reshape(-1, 1))\n",
    "    normalized_tensors.append(normalized_tensor.ravel())\n",
    "\n",
    "\n"
   ]
  },
  {
   "cell_type": "code",
   "execution_count": 575,
   "metadata": {},
   "outputs": [
    {
     "data": {
      "text/plain": [
       "102"
      ]
     },
     "execution_count": 575,
     "metadata": {},
     "output_type": "execute_result"
    }
   ],
   "source": [
    "len(normalized_tensors)"
   ]
  },
  {
   "cell_type": "code",
   "execution_count": 576,
   "metadata": {},
   "outputs": [],
   "source": [
    "scaler = MinMaxScaler()\n",
    "data_normalized = scaler.fit_transform(normalized_tensors) "
   ]
  },
  {
   "cell_type": "code",
   "execution_count": 582,
   "metadata": {},
   "outputs": [
    {
     "data": {
      "text/plain": [
       "(102, 768)"
      ]
     },
     "execution_count": 582,
     "metadata": {},
     "output_type": "execute_result"
    }
   ],
   "source": [
    "data_normalized.shape"
   ]
  },
  {
   "cell_type": "code",
   "execution_count": 583,
   "metadata": {},
   "outputs": [],
   "source": [
    "# Применение HDBSCAN\n",
    "clustering = HDBSCAN(min_cluster_size=10, min_samples=None).fit(data_normalized)\n"
   ]
  },
  {
   "cell_type": "code",
   "execution_count": 584,
   "metadata": {},
   "outputs": [],
   "source": [
    "# Получение меток кластеров\n",
    "labels = clustering.labels_"
   ]
  },
  {
   "cell_type": "code",
   "execution_count": 588,
   "metadata": {},
   "outputs": [],
   "source": [
    "import matplotlib.pyplot as plt"
   ]
  },
  {
   "cell_type": "code",
   "execution_count": 590,
   "metadata": {},
   "outputs": [
    {
     "ename": "TypeError",
     "evalue": "scatter() got multiple values for argument 'c'",
     "output_type": "error",
     "traceback": [
      "\u001b[0;31m---------------------------------------------------------------------------\u001b[0m",
      "\u001b[0;31mTypeError\u001b[0m                                 Traceback (most recent call last)",
      "Cell \u001b[0;32mIn[590], line 3\u001b[0m\n\u001b[1;32m      1\u001b[0m plt\u001b[38;5;241m.\u001b[39mfigure(figsize\u001b[38;5;241m=\u001b[39m(\u001b[38;5;241m10\u001b[39m, \u001b[38;5;241m6\u001b[39m))\n\u001b[1;32m      2\u001b[0m \u001b[38;5;28;01mfor\u001b[39;00m label \u001b[38;5;129;01min\u001b[39;00m \u001b[38;5;28mset\u001b[39m(labels):\n\u001b[0;32m----> 3\u001b[0m     \u001b[43mplt\u001b[49m\u001b[38;5;241;43m.\u001b[39;49m\u001b[43mscatter\u001b[49m\u001b[43m(\u001b[49m\u001b[38;5;241;43m*\u001b[39;49m\u001b[43mslovar\u001b[49m\u001b[38;5;241;43m.\u001b[39;49m\u001b[43mvalues\u001b[49m\u001b[43m(\u001b[49m\u001b[43m)\u001b[49m\u001b[43m,\u001b[49m\u001b[43m \u001b[49m\u001b[43mc\u001b[49m\u001b[38;5;241;43m=\u001b[39;49m\u001b[43m[\u001b[49m\u001b[43mlabel\u001b[49m\u001b[43m \u001b[49m\u001b[38;5;28;43;01mif\u001b[39;49;00m\u001b[43m \u001b[49m\u001b[43mcluster_label\u001b[49m\u001b[43m \u001b[49m\u001b[38;5;241;43m==\u001b[39;49m\u001b[43m \u001b[49m\u001b[43mlabel\u001b[49m\u001b[43m \u001b[49m\u001b[38;5;28;43;01melse\u001b[39;49;00m\u001b[43m \u001b[49m\u001b[38;5;124;43m'\u001b[39;49m\u001b[38;5;124;43mgray\u001b[39;49m\u001b[38;5;124;43m'\u001b[39;49m\u001b[43m \u001b[49m\u001b[38;5;28;43;01mfor\u001b[39;49;00m\u001b[43m \u001b[49m\u001b[43mcluster_label\u001b[49m\u001b[43m \u001b[49m\u001b[38;5;129;43;01min\u001b[39;49;00m\u001b[43m \u001b[49m\u001b[43mlabels\u001b[49m\u001b[43m]\u001b[49m\u001b[43m)\u001b[49m\n\u001b[1;32m      4\u001b[0m plt\u001b[38;5;241m.\u001b[39mshow()\n",
      "\u001b[0;31mTypeError\u001b[0m: scatter() got multiple values for argument 'c'"
     ]
    },
    {
     "data": {
      "text/plain": [
       "<Figure size 1000x600 with 0 Axes>"
      ]
     },
     "metadata": {},
     "output_type": "display_data"
    }
   ],
   "source": [
    "plt.figure(figsize=(10, 6))\n",
    "for label in set(labels):\n",
    "    plt.scatter(*slovar.values(), c=[label if cluster_label == label else 'gray' for cluster_label in labels])\n",
    "plt.show()"
   ]
  },
  {
   "cell_type": "code",
   "execution_count": 586,
   "metadata": {},
   "outputs": [],
   "source": [
    "hdb = HDBSCAN()"
   ]
  },
  {
   "cell_type": "markdown",
   "metadata": {},
   "source": [
    "---"
   ]
  },
  {
   "cell_type": "code",
   "execution_count": 587,
   "metadata": {},
   "outputs": [
    {
     "ename": "AttributeError",
     "evalue": "'HDBSCAN' object has no attribute 'probabilities_'",
     "output_type": "error",
     "traceback": [
      "\u001b[0;31m---------------------------------------------------------------------------\u001b[0m",
      "\u001b[0;31mAttributeError\u001b[0m                            Traceback (most recent call last)",
      "Cell \u001b[0;32mIn[587], line 1\u001b[0m\n\u001b[0;32m----> 1\u001b[0m np\u001b[38;5;241m.\u001b[39marray(\u001b[38;5;28mlist\u001b[39m(\u001b[38;5;28mzip\u001b[39m(\u001b[38;5;28mrange\u001b[39m(\u001b[38;5;241m102\u001b[39m), labels, \u001b[43mhdb\u001b[49m\u001b[38;5;241;43m.\u001b[39;49m\u001b[43mprobabilities_\u001b[49m, strict\u001b[38;5;241m=\u001b[39m\u001b[38;5;28;01mFalse\u001b[39;00m)))\n",
      "\u001b[0;31mAttributeError\u001b[0m: 'HDBSCAN' object has no attribute 'probabilities_'"
     ]
    }
   ],
   "source": [
    "np.array(list(zip(range(102), labels, hdb.probabilities_, strict=False)))\n"
   ]
  },
  {
   "cell_type": "markdown",
   "metadata": {},
   "source": [
    "---"
   ]
  },
  {
   "cell_type": "code",
   "execution_count": null,
   "metadata": {},
   "outputs": [],
   "source": [
    "# Если вам нужен единый массив NumPy вместо списка массивов, вы можете объединить их\n",
    "normalized_data = np.concatenate(normalized_tensors)"
   ]
  },
  {
   "cell_type": "code",
   "execution_count": 296,
   "metadata": {},
   "outputs": [
    {
     "data": {
      "text/plain": [
       "14"
      ]
     },
     "execution_count": 296,
     "metadata": {},
     "output_type": "execute_result"
    }
   ],
   "source": [
    "len(Others)"
   ]
  },
  {
   "cell_type": "code",
   "execution_count": 241,
   "metadata": {},
   "outputs": [
    {
     "name": "stderr",
     "output_type": "stream",
     "text": [
      "/tmp/ipykernel_49222/186661472.py:1: UserWarning: To copy construct from a tensor, it is recommended to use sourceTensor.clone().detach() or sourceTensor.clone().detach().requires_grad_(True), rather than torch.tensor(sourceTensor).\n",
      "  torch.tensor(torch.cat(list_of_embedddings, dim=-1))\n"
     ]
    },
    {
     "data": {
      "text/plain": [
       "tensor([ 0.0749, -0.0090, -0.0696,  ..., -0.0144,  0.0405,  0.1035],\n",
       "       device='cuda:0')"
      ]
     },
     "execution_count": 241,
     "metadata": {},
     "output_type": "execute_result"
    }
   ],
   "source": [
    "torch.tensor(torch.cat(list_of_embedddings, dim=-1))"
   ]
  },
  {
   "cell_type": "code",
   "execution_count": 243,
   "metadata": {},
   "outputs": [],
   "source": [
    "for i in range(len(list_of_embedddings)):\n",
    "    # Извлекаем эмбеддинги из текущего элемента\n",
    "    cur_embeddings = list_of_embedddings[i].unsqueeze(dim=0)\n",
    "    \n",
    "    # Если crop_embeds_bw еще не инициализирована, инициализируем ее текущими эмбеддингами\n",
    "    crop_b = cur_embeddings"
   ]
  },
  {
   "cell_type": "code",
   "execution_count": 568,
   "metadata": {},
   "outputs": [],
   "source": [
    "from sklearn.cluster import HDBSCAN, AgglomerativeClustering"
   ]
  },
  {
   "cell_type": "code",
   "execution_count": 281,
   "metadata": {},
   "outputs": [],
   "source": [
    "from sklearn.cluster import HDBSCAN, AgglomerativeClustering\n",
    "\n",
    "hdb = HDBSCAN()\n",
    "agg_cl = AgglomerativeClustering(n_clusters=None, distance_threshold=7.)"
   ]
  },
  {
   "cell_type": "code",
   "execution_count": 282,
   "metadata": {},
   "outputs": [
    {
     "data": {
      "text/html": [
       "<style>#sk-container-id-9 {\n",
       "  /* Definition of color scheme common for light and dark mode */\n",
       "  --sklearn-color-text: black;\n",
       "  --sklearn-color-line: gray;\n",
       "  /* Definition of color scheme for unfitted estimators */\n",
       "  --sklearn-color-unfitted-level-0: #fff5e6;\n",
       "  --sklearn-color-unfitted-level-1: #f6e4d2;\n",
       "  --sklearn-color-unfitted-level-2: #ffe0b3;\n",
       "  --sklearn-color-unfitted-level-3: chocolate;\n",
       "  /* Definition of color scheme for fitted estimators */\n",
       "  --sklearn-color-fitted-level-0: #f0f8ff;\n",
       "  --sklearn-color-fitted-level-1: #d4ebff;\n",
       "  --sklearn-color-fitted-level-2: #b3dbfd;\n",
       "  --sklearn-color-fitted-level-3: cornflowerblue;\n",
       "\n",
       "  /* Specific color for light theme */\n",
       "  --sklearn-color-text-on-default-background: var(--sg-text-color, var(--theme-code-foreground, var(--jp-content-font-color1, black)));\n",
       "  --sklearn-color-background: var(--sg-background-color, var(--theme-background, var(--jp-layout-color0, white)));\n",
       "  --sklearn-color-border-box: var(--sg-text-color, var(--theme-code-foreground, var(--jp-content-font-color1, black)));\n",
       "  --sklearn-color-icon: #696969;\n",
       "\n",
       "  @media (prefers-color-scheme: dark) {\n",
       "    /* Redefinition of color scheme for dark theme */\n",
       "    --sklearn-color-text-on-default-background: var(--sg-text-color, var(--theme-code-foreground, var(--jp-content-font-color1, white)));\n",
       "    --sklearn-color-background: var(--sg-background-color, var(--theme-background, var(--jp-layout-color0, #111)));\n",
       "    --sklearn-color-border-box: var(--sg-text-color, var(--theme-code-foreground, var(--jp-content-font-color1, white)));\n",
       "    --sklearn-color-icon: #878787;\n",
       "  }\n",
       "}\n",
       "\n",
       "#sk-container-id-9 {\n",
       "  color: var(--sklearn-color-text);\n",
       "}\n",
       "\n",
       "#sk-container-id-9 pre {\n",
       "  padding: 0;\n",
       "}\n",
       "\n",
       "#sk-container-id-9 input.sk-hidden--visually {\n",
       "  border: 0;\n",
       "  clip: rect(1px 1px 1px 1px);\n",
       "  clip: rect(1px, 1px, 1px, 1px);\n",
       "  height: 1px;\n",
       "  margin: -1px;\n",
       "  overflow: hidden;\n",
       "  padding: 0;\n",
       "  position: absolute;\n",
       "  width: 1px;\n",
       "}\n",
       "\n",
       "#sk-container-id-9 div.sk-dashed-wrapped {\n",
       "  border: 1px dashed var(--sklearn-color-line);\n",
       "  margin: 0 0.4em 0.5em 0.4em;\n",
       "  box-sizing: border-box;\n",
       "  padding-bottom: 0.4em;\n",
       "  background-color: var(--sklearn-color-background);\n",
       "}\n",
       "\n",
       "#sk-container-id-9 div.sk-container {\n",
       "  /* jupyter's `normalize.less` sets `[hidden] { display: none; }`\n",
       "     but bootstrap.min.css set `[hidden] { display: none !important; }`\n",
       "     so we also need the `!important` here to be able to override the\n",
       "     default hidden behavior on the sphinx rendered scikit-learn.org.\n",
       "     See: https://github.com/scikit-learn/scikit-learn/issues/21755 */\n",
       "  display: inline-block !important;\n",
       "  position: relative;\n",
       "}\n",
       "\n",
       "#sk-container-id-9 div.sk-text-repr-fallback {\n",
       "  display: none;\n",
       "}\n",
       "\n",
       "div.sk-parallel-item,\n",
       "div.sk-serial,\n",
       "div.sk-item {\n",
       "  /* draw centered vertical line to link estimators */\n",
       "  background-image: linear-gradient(var(--sklearn-color-text-on-default-background), var(--sklearn-color-text-on-default-background));\n",
       "  background-size: 2px 100%;\n",
       "  background-repeat: no-repeat;\n",
       "  background-position: center center;\n",
       "}\n",
       "\n",
       "/* Parallel-specific style estimator block */\n",
       "\n",
       "#sk-container-id-9 div.sk-parallel-item::after {\n",
       "  content: \"\";\n",
       "  width: 100%;\n",
       "  border-bottom: 2px solid var(--sklearn-color-text-on-default-background);\n",
       "  flex-grow: 1;\n",
       "}\n",
       "\n",
       "#sk-container-id-9 div.sk-parallel {\n",
       "  display: flex;\n",
       "  align-items: stretch;\n",
       "  justify-content: center;\n",
       "  background-color: var(--sklearn-color-background);\n",
       "  position: relative;\n",
       "}\n",
       "\n",
       "#sk-container-id-9 div.sk-parallel-item {\n",
       "  display: flex;\n",
       "  flex-direction: column;\n",
       "}\n",
       "\n",
       "#sk-container-id-9 div.sk-parallel-item:first-child::after {\n",
       "  align-self: flex-end;\n",
       "  width: 50%;\n",
       "}\n",
       "\n",
       "#sk-container-id-9 div.sk-parallel-item:last-child::after {\n",
       "  align-self: flex-start;\n",
       "  width: 50%;\n",
       "}\n",
       "\n",
       "#sk-container-id-9 div.sk-parallel-item:only-child::after {\n",
       "  width: 0;\n",
       "}\n",
       "\n",
       "/* Serial-specific style estimator block */\n",
       "\n",
       "#sk-container-id-9 div.sk-serial {\n",
       "  display: flex;\n",
       "  flex-direction: column;\n",
       "  align-items: center;\n",
       "  background-color: var(--sklearn-color-background);\n",
       "  padding-right: 1em;\n",
       "  padding-left: 1em;\n",
       "}\n",
       "\n",
       "\n",
       "/* Toggleable style: style used for estimator/Pipeline/ColumnTransformer box that is\n",
       "clickable and can be expanded/collapsed.\n",
       "- Pipeline and ColumnTransformer use this feature and define the default style\n",
       "- Estimators will overwrite some part of the style using the `sk-estimator` class\n",
       "*/\n",
       "\n",
       "/* Pipeline and ColumnTransformer style (default) */\n",
       "\n",
       "#sk-container-id-9 div.sk-toggleable {\n",
       "  /* Default theme specific background. It is overwritten whether we have a\n",
       "  specific estimator or a Pipeline/ColumnTransformer */\n",
       "  background-color: var(--sklearn-color-background);\n",
       "}\n",
       "\n",
       "/* Toggleable label */\n",
       "#sk-container-id-9 label.sk-toggleable__label {\n",
       "  cursor: pointer;\n",
       "  display: block;\n",
       "  width: 100%;\n",
       "  margin-bottom: 0;\n",
       "  padding: 0.5em;\n",
       "  box-sizing: border-box;\n",
       "  text-align: center;\n",
       "}\n",
       "\n",
       "#sk-container-id-9 label.sk-toggleable__label-arrow:before {\n",
       "  /* Arrow on the left of the label */\n",
       "  content: \"▸\";\n",
       "  float: left;\n",
       "  margin-right: 0.25em;\n",
       "  color: var(--sklearn-color-icon);\n",
       "}\n",
       "\n",
       "#sk-container-id-9 label.sk-toggleable__label-arrow:hover:before {\n",
       "  color: var(--sklearn-color-text);\n",
       "}\n",
       "\n",
       "/* Toggleable content - dropdown */\n",
       "\n",
       "#sk-container-id-9 div.sk-toggleable__content {\n",
       "  max-height: 0;\n",
       "  max-width: 0;\n",
       "  overflow: hidden;\n",
       "  text-align: left;\n",
       "  /* unfitted */\n",
       "  background-color: var(--sklearn-color-unfitted-level-0);\n",
       "}\n",
       "\n",
       "#sk-container-id-9 div.sk-toggleable__content.fitted {\n",
       "  /* fitted */\n",
       "  background-color: var(--sklearn-color-fitted-level-0);\n",
       "}\n",
       "\n",
       "#sk-container-id-9 div.sk-toggleable__content pre {\n",
       "  margin: 0.2em;\n",
       "  border-radius: 0.25em;\n",
       "  color: var(--sklearn-color-text);\n",
       "  /* unfitted */\n",
       "  background-color: var(--sklearn-color-unfitted-level-0);\n",
       "}\n",
       "\n",
       "#sk-container-id-9 div.sk-toggleable__content.fitted pre {\n",
       "  /* unfitted */\n",
       "  background-color: var(--sklearn-color-fitted-level-0);\n",
       "}\n",
       "\n",
       "#sk-container-id-9 input.sk-toggleable__control:checked~div.sk-toggleable__content {\n",
       "  /* Expand drop-down */\n",
       "  max-height: 200px;\n",
       "  max-width: 100%;\n",
       "  overflow: auto;\n",
       "}\n",
       "\n",
       "#sk-container-id-9 input.sk-toggleable__control:checked~label.sk-toggleable__label-arrow:before {\n",
       "  content: \"▾\";\n",
       "}\n",
       "\n",
       "/* Pipeline/ColumnTransformer-specific style */\n",
       "\n",
       "#sk-container-id-9 div.sk-label input.sk-toggleable__control:checked~label.sk-toggleable__label {\n",
       "  color: var(--sklearn-color-text);\n",
       "  background-color: var(--sklearn-color-unfitted-level-2);\n",
       "}\n",
       "\n",
       "#sk-container-id-9 div.sk-label.fitted input.sk-toggleable__control:checked~label.sk-toggleable__label {\n",
       "  background-color: var(--sklearn-color-fitted-level-2);\n",
       "}\n",
       "\n",
       "/* Estimator-specific style */\n",
       "\n",
       "/* Colorize estimator box */\n",
       "#sk-container-id-9 div.sk-estimator input.sk-toggleable__control:checked~label.sk-toggleable__label {\n",
       "  /* unfitted */\n",
       "  background-color: var(--sklearn-color-unfitted-level-2);\n",
       "}\n",
       "\n",
       "#sk-container-id-9 div.sk-estimator.fitted input.sk-toggleable__control:checked~label.sk-toggleable__label {\n",
       "  /* fitted */\n",
       "  background-color: var(--sklearn-color-fitted-level-2);\n",
       "}\n",
       "\n",
       "#sk-container-id-9 div.sk-label label.sk-toggleable__label,\n",
       "#sk-container-id-9 div.sk-label label {\n",
       "  /* The background is the default theme color */\n",
       "  color: var(--sklearn-color-text-on-default-background);\n",
       "}\n",
       "\n",
       "/* On hover, darken the color of the background */\n",
       "#sk-container-id-9 div.sk-label:hover label.sk-toggleable__label {\n",
       "  color: var(--sklearn-color-text);\n",
       "  background-color: var(--sklearn-color-unfitted-level-2);\n",
       "}\n",
       "\n",
       "/* Label box, darken color on hover, fitted */\n",
       "#sk-container-id-9 div.sk-label.fitted:hover label.sk-toggleable__label.fitted {\n",
       "  color: var(--sklearn-color-text);\n",
       "  background-color: var(--sklearn-color-fitted-level-2);\n",
       "}\n",
       "\n",
       "/* Estimator label */\n",
       "\n",
       "#sk-container-id-9 div.sk-label label {\n",
       "  font-family: monospace;\n",
       "  font-weight: bold;\n",
       "  display: inline-block;\n",
       "  line-height: 1.2em;\n",
       "}\n",
       "\n",
       "#sk-container-id-9 div.sk-label-container {\n",
       "  text-align: center;\n",
       "}\n",
       "\n",
       "/* Estimator-specific */\n",
       "#sk-container-id-9 div.sk-estimator {\n",
       "  font-family: monospace;\n",
       "  border: 1px dotted var(--sklearn-color-border-box);\n",
       "  border-radius: 0.25em;\n",
       "  box-sizing: border-box;\n",
       "  margin-bottom: 0.5em;\n",
       "  /* unfitted */\n",
       "  background-color: var(--sklearn-color-unfitted-level-0);\n",
       "}\n",
       "\n",
       "#sk-container-id-9 div.sk-estimator.fitted {\n",
       "  /* fitted */\n",
       "  background-color: var(--sklearn-color-fitted-level-0);\n",
       "}\n",
       "\n",
       "/* on hover */\n",
       "#sk-container-id-9 div.sk-estimator:hover {\n",
       "  /* unfitted */\n",
       "  background-color: var(--sklearn-color-unfitted-level-2);\n",
       "}\n",
       "\n",
       "#sk-container-id-9 div.sk-estimator.fitted:hover {\n",
       "  /* fitted */\n",
       "  background-color: var(--sklearn-color-fitted-level-2);\n",
       "}\n",
       "\n",
       "/* Specification for estimator info (e.g. \"i\" and \"?\") */\n",
       "\n",
       "/* Common style for \"i\" and \"?\" */\n",
       "\n",
       ".sk-estimator-doc-link,\n",
       "a:link.sk-estimator-doc-link,\n",
       "a:visited.sk-estimator-doc-link {\n",
       "  float: right;\n",
       "  font-size: smaller;\n",
       "  line-height: 1em;\n",
       "  font-family: monospace;\n",
       "  background-color: var(--sklearn-color-background);\n",
       "  border-radius: 1em;\n",
       "  height: 1em;\n",
       "  width: 1em;\n",
       "  text-decoration: none !important;\n",
       "  margin-left: 1ex;\n",
       "  /* unfitted */\n",
       "  border: var(--sklearn-color-unfitted-level-1) 1pt solid;\n",
       "  color: var(--sklearn-color-unfitted-level-1);\n",
       "}\n",
       "\n",
       ".sk-estimator-doc-link.fitted,\n",
       "a:link.sk-estimator-doc-link.fitted,\n",
       "a:visited.sk-estimator-doc-link.fitted {\n",
       "  /* fitted */\n",
       "  border: var(--sklearn-color-fitted-level-1) 1pt solid;\n",
       "  color: var(--sklearn-color-fitted-level-1);\n",
       "}\n",
       "\n",
       "/* On hover */\n",
       "div.sk-estimator:hover .sk-estimator-doc-link:hover,\n",
       ".sk-estimator-doc-link:hover,\n",
       "div.sk-label-container:hover .sk-estimator-doc-link:hover,\n",
       ".sk-estimator-doc-link:hover {\n",
       "  /* unfitted */\n",
       "  background-color: var(--sklearn-color-unfitted-level-3);\n",
       "  color: var(--sklearn-color-background);\n",
       "  text-decoration: none;\n",
       "}\n",
       "\n",
       "div.sk-estimator.fitted:hover .sk-estimator-doc-link.fitted:hover,\n",
       ".sk-estimator-doc-link.fitted:hover,\n",
       "div.sk-label-container:hover .sk-estimator-doc-link.fitted:hover,\n",
       ".sk-estimator-doc-link.fitted:hover {\n",
       "  /* fitted */\n",
       "  background-color: var(--sklearn-color-fitted-level-3);\n",
       "  color: var(--sklearn-color-background);\n",
       "  text-decoration: none;\n",
       "}\n",
       "\n",
       "/* Span, style for the box shown on hovering the info icon */\n",
       ".sk-estimator-doc-link span {\n",
       "  display: none;\n",
       "  z-index: 9999;\n",
       "  position: relative;\n",
       "  font-weight: normal;\n",
       "  right: .2ex;\n",
       "  padding: .5ex;\n",
       "  margin: .5ex;\n",
       "  width: min-content;\n",
       "  min-width: 20ex;\n",
       "  max-width: 50ex;\n",
       "  color: var(--sklearn-color-text);\n",
       "  box-shadow: 2pt 2pt 4pt #999;\n",
       "  /* unfitted */\n",
       "  background: var(--sklearn-color-unfitted-level-0);\n",
       "  border: .5pt solid var(--sklearn-color-unfitted-level-3);\n",
       "}\n",
       "\n",
       ".sk-estimator-doc-link.fitted span {\n",
       "  /* fitted */\n",
       "  background: var(--sklearn-color-fitted-level-0);\n",
       "  border: var(--sklearn-color-fitted-level-3);\n",
       "}\n",
       "\n",
       ".sk-estimator-doc-link:hover span {\n",
       "  display: block;\n",
       "}\n",
       "\n",
       "/* \"?\"-specific style due to the `<a>` HTML tag */\n",
       "\n",
       "#sk-container-id-9 a.estimator_doc_link {\n",
       "  float: right;\n",
       "  font-size: 1rem;\n",
       "  line-height: 1em;\n",
       "  font-family: monospace;\n",
       "  background-color: var(--sklearn-color-background);\n",
       "  border-radius: 1rem;\n",
       "  height: 1rem;\n",
       "  width: 1rem;\n",
       "  text-decoration: none;\n",
       "  /* unfitted */\n",
       "  color: var(--sklearn-color-unfitted-level-1);\n",
       "  border: var(--sklearn-color-unfitted-level-1) 1pt solid;\n",
       "}\n",
       "\n",
       "#sk-container-id-9 a.estimator_doc_link.fitted {\n",
       "  /* fitted */\n",
       "  border: var(--sklearn-color-fitted-level-1) 1pt solid;\n",
       "  color: var(--sklearn-color-fitted-level-1);\n",
       "}\n",
       "\n",
       "/* On hover */\n",
       "#sk-container-id-9 a.estimator_doc_link:hover {\n",
       "  /* unfitted */\n",
       "  background-color: var(--sklearn-color-unfitted-level-3);\n",
       "  color: var(--sklearn-color-background);\n",
       "  text-decoration: none;\n",
       "}\n",
       "\n",
       "#sk-container-id-9 a.estimator_doc_link.fitted:hover {\n",
       "  /* fitted */\n",
       "  background-color: var(--sklearn-color-fitted-level-3);\n",
       "}\n",
       "</style><div id=\"sk-container-id-9\" class=\"sk-top-container\"><div class=\"sk-text-repr-fallback\"><pre>AgglomerativeClustering(distance_threshold=7.0, n_clusters=None)</pre><b>In a Jupyter environment, please rerun this cell to show the HTML representation or trust the notebook. <br />On GitHub, the HTML representation is unable to render, please try loading this page with nbviewer.org.</b></div><div class=\"sk-container\" hidden><div class=\"sk-item\"><div class=\"sk-estimator fitted sk-toggleable\"><input class=\"sk-toggleable__control sk-hidden--visually\" id=\"sk-estimator-id-9\" type=\"checkbox\" checked><label for=\"sk-estimator-id-9\" class=\"sk-toggleable__label fitted sk-toggleable__label-arrow fitted\">&nbsp;&nbsp;AgglomerativeClustering<a class=\"sk-estimator-doc-link fitted\" rel=\"noreferrer\" target=\"_blank\" href=\"https://scikit-learn.org/1.5/modules/generated/sklearn.cluster.AgglomerativeClustering.html\">?<span>Documentation for AgglomerativeClustering</span></a><span class=\"sk-estimator-doc-link fitted\">i<span>Fitted</span></span></label><div class=\"sk-toggleable__content fitted\"><pre>AgglomerativeClustering(distance_threshold=7.0, n_clusters=None)</pre></div> </div></div></div></div>"
      ],
      "text/plain": [
       "AgglomerativeClustering(distance_threshold=7.0, n_clusters=None)"
      ]
     },
     "execution_count": 282,
     "metadata": {},
     "output_type": "execute_result"
    }
   ],
   "source": [
    "hdb.fit(crop_b.cpu().numpy())\n",
    "agg_cl.fit(crop_b.cpu().numpy())\n"
   ]
  },
  {
   "cell_type": "code",
   "execution_count": 283,
   "metadata": {},
   "outputs": [
    {
     "data": {
      "text/plain": [
       "(8, 1)"
      ]
     },
     "execution_count": 283,
     "metadata": {},
     "output_type": "execute_result"
    }
   ],
   "source": [
    "agg_cl.n_clusters_, agg_cl.n_connected_components_"
   ]
  },
  {
   "cell_type": "code",
   "execution_count": 284,
   "metadata": {},
   "outputs": [
    {
     "data": {
      "text/plain": [
       "array([[ 0.        ,  0.        ,  1.        ],\n",
       "       [ 1.        , -1.        ,  0.        ],\n",
       "       [ 2.        , -1.        ,  0.        ],\n",
       "       [ 3.        ,  0.        ,  0.91646257],\n",
       "       [ 4.        , -1.        ,  0.        ],\n",
       "       [ 5.        , -1.        ,  0.        ],\n",
       "       [ 6.        , -1.        ,  0.        ],\n",
       "       [ 7.        ,  2.        ,  0.91397456],\n",
       "       [ 8.        , -1.        ,  0.        ],\n",
       "       [ 9.        ,  2.        ,  0.96389248],\n",
       "       [10.        ,  0.        ,  0.85850842],\n",
       "       [11.        ,  0.        ,  1.        ],\n",
       "       [12.        ,  2.        ,  0.94422217],\n",
       "       [13.        ,  0.        ,  1.        ],\n",
       "       [14.        ,  0.        ,  1.        ],\n",
       "       [15.        ,  0.        ,  1.        ],\n",
       "       [16.        , -1.        ,  0.        ],\n",
       "       [17.        ,  1.        ,  0.82883458],\n",
       "       [18.        ,  1.        ,  1.        ],\n",
       "       [19.        ,  1.        ,  0.75993327],\n",
       "       [20.        , -1.        ,  0.        ],\n",
       "       [21.        , -1.        ,  0.        ],\n",
       "       [22.        , -1.        ,  0.        ],\n",
       "       [23.        ,  0.        ,  0.81027607],\n",
       "       [24.        ,  0.        ,  1.        ],\n",
       "       [25.        ,  1.        ,  0.82838975],\n",
       "       [26.        , -1.        ,  0.        ],\n",
       "       [27.        ,  0.        ,  1.        ],\n",
       "       [28.        ,  0.        ,  0.80997281],\n",
       "       [29.        , -1.        ,  0.        ],\n",
       "       [30.        ,  2.        ,  0.96091057],\n",
       "       [31.        ,  0.        ,  1.        ],\n",
       "       [32.        ,  0.        ,  1.        ],\n",
       "       [33.        ,  1.        ,  0.86750068],\n",
       "       [34.        , -1.        ,  0.        ],\n",
       "       [35.        , -1.        ,  0.        ],\n",
       "       [36.        , -1.        ,  0.        ],\n",
       "       [37.        ,  1.        ,  0.94012922],\n",
       "       [38.        ,  1.        ,  1.        ],\n",
       "       [39.        ,  1.        ,  0.98616981],\n",
       "       [40.        , -1.        ,  0.        ],\n",
       "       [41.        , -1.        ,  0.        ],\n",
       "       [42.        ,  1.        ,  1.        ],\n",
       "       [43.        ,  0.        ,  1.        ],\n",
       "       [44.        ,  1.        ,  0.82358534],\n",
       "       [45.        ,  0.        ,  1.        ],\n",
       "       [46.        , -1.        ,  0.        ],\n",
       "       [47.        ,  0.        ,  1.        ],\n",
       "       [48.        ,  1.        ,  0.82883458],\n",
       "       [49.        ,  2.        ,  0.96091057],\n",
       "       [50.        ,  0.        ,  1.        ],\n",
       "       [51.        , -1.        ,  0.        ],\n",
       "       [52.        ,  1.        ,  0.79781734],\n",
       "       [53.        ,  2.        ,  1.        ],\n",
       "       [54.        ,  2.        ,  1.        ],\n",
       "       [55.        , -1.        ,  0.        ],\n",
       "       [56.        ,  0.        ,  0.902284  ],\n",
       "       [57.        ,  1.        ,  0.86750068],\n",
       "       [58.        ,  2.        ,  0.77075933],\n",
       "       [59.        ,  0.        ,  0.92394742],\n",
       "       [60.        ,  2.        ,  1.        ],\n",
       "       [61.        ,  0.        ,  0.93188337],\n",
       "       [62.        ,  2.        ,  1.        ],\n",
       "       [63.        ,  0.        ,  1.        ],\n",
       "       [64.        ,  2.        ,  0.87040334],\n",
       "       [65.        ,  2.        ,  0.80091638],\n",
       "       [66.        ,  0.        ,  1.        ],\n",
       "       [67.        ,  0.        ,  1.        ],\n",
       "       [68.        ,  0.        ,  0.99254129],\n",
       "       [69.        ,  0.        ,  1.        ],\n",
       "       [70.        , -1.        ,  0.        ],\n",
       "       [71.        ,  1.        ,  0.86750068],\n",
       "       [72.        ,  0.        ,  1.        ],\n",
       "       [73.        ,  1.        ,  1.        ],\n",
       "       [74.        ,  1.        ,  1.        ],\n",
       "       [75.        ,  1.        ,  0.89120368],\n",
       "       [76.        ,  0.        ,  0.94477616],\n",
       "       [77.        ,  0.        ,  1.        ],\n",
       "       [78.        ,  1.        ,  0.86750068],\n",
       "       [79.        ,  1.        ,  0.95004018],\n",
       "       [80.        ,  0.        ,  0.80653378],\n",
       "       [81.        ,  0.        ,  0.89907079],\n",
       "       [82.        , -1.        ,  0.        ],\n",
       "       [83.        ,  0.        ,  1.        ],\n",
       "       [84.        , -1.        ,  0.        ],\n",
       "       [85.        ,  0.        ,  1.        ],\n",
       "       [86.        , -1.        ,  0.        ],\n",
       "       [87.        , -1.        ,  0.        ],\n",
       "       [88.        ,  2.        ,  0.69544592],\n",
       "       [89.        ,  2.        ,  1.        ],\n",
       "       [90.        ,  0.        ,  1.        ],\n",
       "       [91.        , -1.        ,  0.        ],\n",
       "       [92.        ,  0.        ,  1.        ],\n",
       "       [93.        ,  0.        ,  1.        ]])"
      ]
     },
     "execution_count": 284,
     "metadata": {},
     "output_type": "execute_result"
    }
   ],
   "source": [
    "np.array(list(zip(range(len(list_of_embedddings)), hdb.labels_, hdb.probabilities_, strict=False)))\n"
   ]
  },
  {
   "cell_type": "code",
   "execution_count": 285,
   "metadata": {},
   "outputs": [
    {
     "data": {
      "text/plain": [
       "array([[ 0,  1],\n",
       "       [ 1,  0],\n",
       "       [ 2,  0],\n",
       "       [ 3,  1],\n",
       "       [ 4,  0],\n",
       "       [ 5,  0],\n",
       "       [ 6,  1],\n",
       "       [ 7,  3],\n",
       "       [ 8,  0],\n",
       "       [ 9,  3],\n",
       "       [10,  1],\n",
       "       [11,  1],\n",
       "       [12,  3],\n",
       "       [13,  1],\n",
       "       [14,  5],\n",
       "       [15,  1],\n",
       "       [16,  0],\n",
       "       [17,  6],\n",
       "       [18,  2],\n",
       "       [19,  4],\n",
       "       [20,  4],\n",
       "       [21,  4],\n",
       "       [22,  4],\n",
       "       [23,  0],\n",
       "       [24,  7],\n",
       "       [25,  6],\n",
       "       [26,  4],\n",
       "       [27,  5],\n",
       "       [28,  0],\n",
       "       [29,  4],\n",
       "       [30,  3],\n",
       "       [31,  5],\n",
       "       [32,  5],\n",
       "       [33,  6],\n",
       "       [34,  0],\n",
       "       [35,  0],\n",
       "       [36,  4],\n",
       "       [37,  2],\n",
       "       [38,  2],\n",
       "       [39,  2],\n",
       "       [40,  4],\n",
       "       [41,  4],\n",
       "       [42,  2],\n",
       "       [43,  5],\n",
       "       [44,  4],\n",
       "       [45,  5],\n",
       "       [46,  4],\n",
       "       [47,  1],\n",
       "       [48,  6],\n",
       "       [49,  3],\n",
       "       [50,  1],\n",
       "       [51,  4],\n",
       "       [52,  2],\n",
       "       [53,  3],\n",
       "       [54,  3],\n",
       "       [55,  4],\n",
       "       [56,  1],\n",
       "       [57,  6],\n",
       "       [58,  4],\n",
       "       [59,  1],\n",
       "       [60,  3],\n",
       "       [61,  1],\n",
       "       [62,  3],\n",
       "       [63,  1],\n",
       "       [64,  3],\n",
       "       [65,  4],\n",
       "       [66,  1],\n",
       "       [67,  5],\n",
       "       [68,  1],\n",
       "       [69,  7],\n",
       "       [70,  4],\n",
       "       [71,  6],\n",
       "       [72,  1],\n",
       "       [73,  2],\n",
       "       [74,  2],\n",
       "       [75,  2],\n",
       "       [76,  7],\n",
       "       [77,  7],\n",
       "       [78,  6],\n",
       "       [79,  2],\n",
       "       [80,  0],\n",
       "       [81,  7],\n",
       "       [82,  1],\n",
       "       [83,  5],\n",
       "       [84,  4],\n",
       "       [85,  5],\n",
       "       [86,  0],\n",
       "       [87,  4],\n",
       "       [88,  3],\n",
       "       [89,  3],\n",
       "       [90,  7],\n",
       "       [91,  4],\n",
       "       [92,  1],\n",
       "       [93,  7]])"
      ]
     },
     "execution_count": 285,
     "metadata": {},
     "output_type": "execute_result"
    }
   ],
   "source": [
    "np.array(list(zip(range(len(list_of_embedddings)), agg_cl.labels_, strict=False)))\n"
   ]
  },
  {
   "cell_type": "markdown",
   "metadata": {},
   "source": [
    "### Гомогенность"
   ]
  },
  {
   "cell_type": "code",
   "execution_count": 662,
   "metadata": {},
   "outputs": [],
   "source": [
    "from sklearn.metrics.cluster import homogeneity_score, completeness_score\n"
   ]
  },
  {
   "cell_type": "code",
   "execution_count": 663,
   "metadata": {},
   "outputs": [],
   "source": [
    "ideal_list = []"
   ]
  },
  {
   "cell_type": "code",
   "execution_count": 664,
   "metadata": {},
   "outputs": [],
   "source": [
    "for i in range(6):\n",
    "    for j in range(17):\n",
    "        ideal_list.append(i)"
   ]
  },
  {
   "cell_type": "code",
   "execution_count": 665,
   "metadata": {},
   "outputs": [],
   "source": [
    "homogeneity_score_cos = homogeneity_score(ideal_list, cos_for_metrics)"
   ]
  },
  {
   "cell_type": "code",
   "execution_count": 666,
   "metadata": {},
   "outputs": [],
   "source": [
    "completeness_score_cos = completeness_score(ideal_list, cos_for_metrics)"
   ]
  },
  {
   "cell_type": "code",
   "execution_count": 667,
   "metadata": {},
   "outputs": [],
   "source": [
    "beta = 1"
   ]
  },
  {
   "cell_type": "code",
   "execution_count": 668,
   "metadata": {},
   "outputs": [],
   "source": [
    "v_cos = (\n",
    "    (1 + beta)\n",
    "    * homogeneity_score_cos\n",
    "    * completeness_score_cos\n",
    "    / (beta * homogeneity_score_cos + completeness_score_cos)\n",
    ")"
   ]
  },
  {
   "cell_type": "code",
   "execution_count": 669,
   "metadata": {},
   "outputs": [
    {
     "data": {
      "text/plain": [
       "np.float64(0.8213335889145813)"
      ]
     },
     "execution_count": 669,
     "metadata": {},
     "output_type": "execute_result"
    }
   ],
   "source": [
    "homogeneity_score_cos"
   ]
  },
  {
   "cell_type": "code",
   "execution_count": 670,
   "metadata": {},
   "outputs": [
    {
     "data": {
      "text/plain": [
       "np.float64(0.8270569494697767)"
      ]
     },
     "execution_count": 670,
     "metadata": {},
     "output_type": "execute_result"
    }
   ],
   "source": [
    "completeness_score_cos"
   ]
  },
  {
   "cell_type": "code",
   "execution_count": 671,
   "metadata": {},
   "outputs": [
    {
     "data": {
      "text/plain": [
       "np.float64(0.8241853331802687)"
      ]
     },
     "execution_count": 671,
     "metadata": {},
     "output_type": "execute_result"
    }
   ],
   "source": [
    "v_cos"
   ]
  },
  {
   "cell_type": "code",
   "execution_count": null,
   "metadata": {},
   "outputs": [],
   "source": []
  },
  {
   "cell_type": "markdown",
   "metadata": {},
   "source": [
    "### AGJ"
   ]
  },
  {
   "cell_type": "code",
   "execution_count": 734,
   "metadata": {},
   "outputs": [
    {
     "data": {
      "text/plain": [
       "numpy.ndarray"
      ]
     },
     "execution_count": 734,
     "metadata": {},
     "output_type": "execute_result"
    }
   ],
   "source": [
    "type(data_agl)"
   ]
  },
  {
   "cell_type": "code",
   "execution_count": 735,
   "metadata": {},
   "outputs": [],
   "source": [
    "data_agl_ = data_agl.tolist()"
   ]
  },
  {
   "cell_type": "code",
   "execution_count": 736,
   "metadata": {},
   "outputs": [],
   "source": [
    "homogeneity_score_agl = homogeneity_score(ideal_list, data_agl_)"
   ]
  },
  {
   "cell_type": "code",
   "execution_count": 737,
   "metadata": {},
   "outputs": [],
   "source": [
    "completeness_score_agl = completeness_score(ideal_list, data_agl_)"
   ]
  },
  {
   "cell_type": "code",
   "execution_count": 738,
   "metadata": {},
   "outputs": [],
   "source": [
    "v_agl = (\n",
    "    (1 + beta)\n",
    "    * homogeneity_score_agl\n",
    "    * completeness_score_agl\n",
    "    / (beta * homogeneity_score_agl + completeness_score_agl)\n",
    ")"
   ]
  },
  {
   "cell_type": "code",
   "execution_count": 739,
   "metadata": {},
   "outputs": [
    {
     "data": {
      "text/plain": [
       "np.float64(0.8142736022781966)"
      ]
     },
     "execution_count": 739,
     "metadata": {},
     "output_type": "execute_result"
    }
   ],
   "source": [
    "v_agl"
   ]
  },
  {
   "cell_type": "code",
   "execution_count": 740,
   "metadata": {},
   "outputs": [
    {
     "data": {
      "text/plain": [
       "np.float64(0.7134834756078007)"
      ]
     },
     "execution_count": 740,
     "metadata": {},
     "output_type": "execute_result"
    }
   ],
   "source": [
    "completeness_score_agl"
   ]
  },
  {
   "cell_type": "code",
   "execution_count": 741,
   "metadata": {},
   "outputs": [
    {
     "data": {
      "text/plain": [
       "np.float64(0.9482243619205434)"
      ]
     },
     "execution_count": 741,
     "metadata": {},
     "output_type": "execute_result"
    }
   ],
   "source": [
    "homogeneity_score_agl"
   ]
  },
  {
   "cell_type": "markdown",
   "metadata": {},
   "source": [
    "### HBDSCAN"
   ]
  },
  {
   "cell_type": "code",
   "execution_count": 598,
   "metadata": {},
   "outputs": [
    {
     "data": {
      "text/plain": [
       "list"
      ]
     },
     "execution_count": 598,
     "metadata": {},
     "output_type": "execute_result"
    }
   ],
   "source": [
    "type(data_hbd)"
   ]
  },
  {
   "cell_type": "code",
   "execution_count": 599,
   "metadata": {},
   "outputs": [],
   "source": [
    "homogeneity_score_hbd = homogeneity_score(ideal_list, data_hbd)"
   ]
  },
  {
   "cell_type": "code",
   "execution_count": 600,
   "metadata": {},
   "outputs": [],
   "source": [
    "completeness_score_hbd = completeness_score(ideal_list, data_hbd)"
   ]
  },
  {
   "cell_type": "code",
   "execution_count": 601,
   "metadata": {},
   "outputs": [],
   "source": [
    "v_hbd = (\n",
    "    (1 + beta)\n",
    "    * homogeneity_score_hbd\n",
    "    * completeness_score_hbd\n",
    "    / (beta * homogeneity_score_hbd + completeness_score_hbd)\n",
    ")"
   ]
  },
  {
   "cell_type": "code",
   "execution_count": 602,
   "metadata": {},
   "outputs": [
    {
     "data": {
      "text/plain": [
       "np.float64(0.6286454553263773)"
      ]
     },
     "execution_count": 602,
     "metadata": {},
     "output_type": "execute_result"
    }
   ],
   "source": [
    "v_hbd"
   ]
  },
  {
   "cell_type": "code",
   "execution_count": 603,
   "metadata": {},
   "outputs": [
    {
     "data": {
      "text/plain": [
       "np.float64(0.6735907474416724)"
      ]
     },
     "execution_count": 603,
     "metadata": {},
     "output_type": "execute_result"
    }
   ],
   "source": [
    "completeness_score_hbd"
   ]
  },
  {
   "cell_type": "code",
   "execution_count": 604,
   "metadata": {},
   "outputs": [
    {
     "data": {
      "text/plain": [
       "np.float64(0.5893229271981878)"
      ]
     },
     "execution_count": 604,
     "metadata": {},
     "output_type": "execute_result"
    }
   ],
   "source": [
    "homogeneity_score_hbd"
   ]
  }
 ],
 "metadata": {
  "kernelspec": {
   "display_name": "Python 3",
   "language": "python",
   "name": "python3"
  },
  "language_info": {
   "codemirror_mode": {
    "name": "ipython",
    "version": 3
   },
   "file_extension": ".py",
   "mimetype": "text/x-python",
   "name": "python",
   "nbconvert_exporter": "python",
   "pygments_lexer": "ipython3",
   "version": "3.10.12"
  }
 },
 "nbformat": 4,
 "nbformat_minor": 2
}
